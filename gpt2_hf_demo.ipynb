{
 "cells": [
  {
   "cell_type": "code",
   "execution_count": 1,
   "metadata": {},
   "outputs": [],
   "source": [
    "%load_ext autoreload\n",
    "%autoreload 2"
   ]
  },
  {
   "cell_type": "code",
   "execution_count": 2,
   "metadata": {},
   "outputs": [
    {
     "name": "stdout",
     "output_type": "stream",
     "text": [
      "/Users/saumehra/Library/CloudStorage/OneDrive-PayPal/Personal_Docs/Courses/Algorithms_1_Princeton\n",
      "/Users/saumehra/Library/CloudStorage/OneDrive-PayPal/Personal_Docs/Courses/Algorithms_1_Princeton/PrincetonAlgorithms\n"
     ]
    }
   ],
   "source": [
    "!pwd\n",
    "%cd PrincetonAlgorithms/"
   ]
  },
  {
   "cell_type": "code",
   "execution_count": 3,
   "metadata": {},
   "outputs": [
    {
     "name": "stdout",
     "output_type": "stream",
     "text": [
      "env: PYTHONPATH=${PYTHONPATH}:/Users/saumehra/Library/CloudStorage/OneDrive-PayPal/Personal_Docs/Courses/Algorithms_1_Princeton/PrincetonAlgorithms\n"
     ]
    }
   ],
   "source": [
    "%set_env PYTHONPATH=${PYTHONPATH}:/Users/saumehra/Library/CloudStorage/OneDrive-PayPal/Personal_Docs/Courses/Algorithms_1_Princeton/PrincetonAlgorithms"
   ]
  },
  {
   "cell_type": "code",
   "execution_count": 4,
   "metadata": {},
   "outputs": [
    {
     "name": "stdout",
     "output_type": "stream",
     "text": [
      "${PYTHONPATH}:/Users/saumehra/Library/CloudStorage/OneDrive-PayPal/Personal_Docs/Courses/Algorithms_1_Princeton/PrincetonAlgorithms\n"
     ]
    }
   ],
   "source": [
    "!echo $PYTHONPATH"
   ]
  },
  {
   "cell_type": "code",
   "execution_count": 5,
   "metadata": {},
   "outputs": [
    {
     "name": "stdout",
     "output_type": "stream",
     "text": [
      "['/Users/saumehra/Library/CloudStorage/OneDrive-PayPal/Personal_Docs/Courses/Algorithms_1_Princeton', '/Users/saumehra/anaconda3/envs/tf_2.11/lib/python310.zip', '/Users/saumehra/anaconda3/envs/tf_2.11/lib/python3.10', '/Users/saumehra/anaconda3/envs/tf_2.11/lib/python3.10/lib-dynload', '', '/Users/saumehra/anaconda3/envs/tf_2.11/lib/python3.10/site-packages', '/Users/saumehra/anaconda3/envs/tf_2.11/lib/python3.10/site-packages/PyQt5_sip-12.11.0-py3.10-macosx-11.1-arm64.egg', '/Users/saumehra/Library/CloudStorage/OneDrive-PayPal/Personal_Docs/Courses/Algorithms_1_Princeton/PrincetonAlgorithms']\n"
     ]
    }
   ],
   "source": [
    "import sys\n",
    "sys.path.append(\"/Users/saumehra/Library/CloudStorage/OneDrive-PayPal/Personal_Docs/Courses/Algorithms_1_Princeton/PrincetonAlgorithms\")\n",
    "print(sys.path)"
   ]
  },
  {
   "cell_type": "code",
   "execution_count": 6,
   "metadata": {},
   "outputs": [],
   "source": [
    "from AlgsSedgewickWayne.QuickUnionUF import QuickUnionUF\n",
    "from AlgsSedgewickWayne.testcode.utils import chk_arrays\n",
    "from AlgsSedgewickWayne.testcode.utils import run_unions"
   ]
  },
  {
   "cell_type": "code",
   "execution_count": 7,
   "metadata": {},
   "outputs": [
    {
     "name": "stdout",
     "output_type": "stream",
     "text": [
      "\n",
      "wk1_lec quick-union\n",
      "IDX:  0  1  2  3  4  5  6  7  8  9\n",
      "val:  0  1  2  3  4  5  6  7  8  9 Initial values\n",
      "  WROTE: QU_demo_step0.png\n",
      "IDX:  0  1  2  3  4  5  6  7  8  9\n",
      "val:  0  1  2  3  3  5  6  7  8  9 union(4-3) [0] [1] [2] [3, 4] [5] [6] [7] [8] [9]\n",
      "  WROTE: QU_demo_step1.png\n",
      "IDX:  0  1  2  3  4  5  6  7  8  9\n",
      "val:  0  1  2  8  3  5  6  7  8  9 union(3-8) [0] [1] [2] [8, 3, 4] [5] [6] [7] [9]\n",
      "  WROTE: QU_demo_step2.png\n",
      "IDX:  0  1  2  3  4  5  6  7  8  9\n",
      "val:  0  1  2  8  3  5  5  7  8  9 union(6-5) [0] [1] [2] [8, 3, 4] [5, 6] [7] [9]\n",
      "  WROTE: QU_demo_step3.png\n",
      "IDX:  0  1  2  3  4  5  6  7  8  9\n",
      "val:  0  1  2  8  3  5  5  7  8  8 union(9-4) [0] [1] [2] [8, 9, 3, 4] [5, 6] [7]\n",
      "  WROTE: QU_demo_step4.png\n",
      "IDX:  0  1  2  3  4  5  6  7  8  9\n",
      "val:  0  1  1  8  3  5  5  7  8  8 union(2-1) [0] [1, 2] [8, 9, 3, 4] [5, 6] [7]\n",
      "  WROTE: QU_demo_step5.png\n",
      "IDX:  0  1  2  3  4  5  6  7  8  9\n",
      "val:  0  1  1  8  3  5  5  7  8  8 union(8-9) [0] [1, 2] [8, 9, 3, 4] [5, 6] [7]\n",
      "  WROTE: QU_demo_step6.png\n",
      "IDX:  0  1  2  3  4  5  6  7  8  9\n",
      "val:  0  1  1  8  3  0  5  7  8  8 union(5-0) [0, 5, 6] [1, 2] [8, 9, 3, 4] [7]\n",
      "  WROTE: QU_demo_step7.png\n",
      "IDX:  0  1  2  3  4  5  6  7  8  9\n",
      "val:  0  1  1  8  3  0  5  1  8  8 union(7-2) [0, 5, 6] [1, 2, 7] [8, 9, 3, 4]\n",
      "  WROTE: QU_demo_step8.png\n",
      "IDX:  0  1  2  3  4  5  6  7  8  9\n",
      "val:  1  1  1  8  3  0  5  1  8  8 union(6-1) [0, 1, 2, 5, 6, 7] [8, 9, 3, 4]\n",
      "  WROTE: QU_demo_step9.png\n",
      "IDX:  0  1  2  3  4  5  6  7  8  9\n",
      "val:  1  8  1  8  3  0  5  1  8  8 union(7-3) [0, 1, 2, 3, 4, 5, 6, 7, 8, 9]\n",
      "\n",
      "test_week1_exercise_Q2\n",
      "IDX:  0  1  2  3  4  5  6  7  8  9\n",
      "val:  0  1  2  3  4  5  6  7  8  9 Initial values\n",
      "IDX:  0  1  2  3  4  5  6  7  8  9\n",
      "val:  0  2  2  3  4  5  6  7  8  9 union(1-2) [0] [1, 2] [3] [4] [5] [6] [7] [8] [9]\n",
      "IDX:  0  1  2  3  4  5  6  7  8  9\n",
      "val:  0  2  2  3  4  5  6  9  8  9 union(7-9) [0] [1, 2] [3] [4] [5] [6] [9, 7] [8]\n",
      "IDX:  0  1  2  3  4  5  6  7  8  9\n",
      "val:  4  2  2  3  4  5  6  9  8  9 union(0-4) [0, 4] [1, 2] [3] [5] [6] [9, 7] [8]\n",
      "IDX:  0  1  2  3  4  5  6  7  8  9\n",
      "val:  4  2  2  3  4  5  6  9  4  9 union(8-0) [0, 8, 4] [1, 2] [3] [5] [6] [9, 7]\n",
      "IDX:  0  1  2  3  4  5  6  7  8  9\n",
      "val:  4  2  2  3  6  5  6  9  4  9 union(4-6) [0, 8, 4, 6] [1, 2] [3] [5] [9, 7]\n",
      "IDX:  0  1  2  3  4  5  6  7  8  9\n",
      "val:  4  2  9  3  6  5  6  9  4  9 union(1-9) [0, 8, 4, 6] [1, 2, 9, 7] [3] [5]\n",
      "IDX:  0  1  2  3  4  5  6  7  8  9\n",
      "val:  4  2  9  6  6  5  6  9  4  9 union(3-4) [0, 3, 4, 6, 8] [1, 2, 9, 7] [5]\n",
      "IDX:  0  1  2  3  4  5  6  7  8  9\n",
      "val:  4  2  9  6  6  5  6  9  4  6 union(7-0) [0, 1, 2, 3, 4, 6, 7, 8, 9] [5]\n",
      "IDX:  0  1  2  3  4  5  6  7  8  9\n",
      "val:  4  2  9  6  6  5  5  9  4  6 union(0-5) [0, 1, 2, 3, 4, 5, 6, 7, 8, 9]\n"
     ]
    }
   ],
   "source": [
    "!python tests/test_QuickUnionUF.py"
   ]
  },
  {
   "cell_type": "code",
   "execution_count": null,
   "metadata": {},
   "outputs": [],
   "source": []
  }
 ],
 "metadata": {
  "kernelspec": {
   "display_name": "tf_2_11",
   "language": "python",
   "name": "tf_2.11"
  },
  "language_info": {
   "codemirror_mode": {
    "name": "ipython",
    "version": 3
   },
   "file_extension": ".py",
   "mimetype": "text/x-python",
   "name": "python",
   "nbconvert_exporter": "python",
   "pygments_lexer": "ipython3",
   "version": "3.10.9"
  }
 },
 "nbformat": 4,
 "nbformat_minor": 2
}
