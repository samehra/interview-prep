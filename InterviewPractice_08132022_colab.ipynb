{
  "nbformat": 4,
  "nbformat_minor": 0,
  "metadata": {
    "colab": {
      "provenance": [],
      "collapsed_sections": [
        "XHt-y-5BMlZz",
        "Rq_3v30MQgQs",
        "03-kgGTpSIP9",
        "-hKhXMjqKfaa",
        "mreaJYo2LPLM",
        "q6ihJbLYSPW9",
        "mvqUGSBjVpDs",
        "LfT4Ft28haJ5",
        "nXhWSs7jg76H",
        "FDQcQh2QgZMc",
        "lLjLIwqaRoOs",
        "qTyNVINnXPSI",
        "7C67e-CxuShY",
        "rNK8CQrCIjpo",
        "JbBT68h_Iy7r",
        "0ETN-gvLEu84",
        "f0EF0jxzO1tn",
        "iL2HmHouJp4G",
        "nbupi8xKgXpU",
        "K2Oe8ldkg293",
        "i38WVGlGVWC3",
        "8ZG7edkzCkZ9",
        "F8yHN---cI8o",
        "CIdM1TDhcO1J",
        "K2SPcPcD4tZF",
        "TwV-58jXG_rk",
        "UziFtLFvbTef",
        "c-tvVokkz0q4",
        "7rifiDJNEQI2",
        "J4yCBX2DdaoV",
        "ZjfgUU2X1Tl8"
      ],
      "authorship_tag": "ABX9TyPIpj3Cr/BSduYX3tZDJXc5",
      "include_colab_link": true
    },
    "kernelspec": {
      "name": "python3",
      "display_name": "Python 3"
    },
    "language_info": {
      "name": "python"
    }
  },
  "cells": [
    {
      "cell_type": "markdown",
      "metadata": {
        "id": "view-in-github",
        "colab_type": "text"
      },
      "source": [
        "<a href=\"https://colab.research.google.com/github/samehra/interview-prep/blob/main/InterviewPractice_08132022_colab.ipynb\" target=\"_parent\"><img src=\"https://colab.research.google.com/assets/colab-badge.svg\" alt=\"Open In Colab\"/></a>"
      ]
    },
    {
      "cell_type": "markdown",
      "source": [
        "https://www.geeksforgeeks.org/complexity-cheat-sheet-for-python-operations/\n",
        "\n",
        "https://www.bigocheatsheet.com/"
      ],
      "metadata": {
        "id": "HRmppkmIvvgN"
      }
    },
    {
      "cell_type": "code",
      "source": [
        "# 1. sets are mutable but the elements of set must be immutable. So sets cannot be used to store sets/lists/dicts. Tuples can\n",
        "#    can be used to create elements in sets\n",
        "\n",
        "#{[1,2,3],4}\n",
        "#{{1,2,3},4}\n",
        "#set([1,2,3]) # here set converts a list into a set and hence does not throw an error\n",
        "{(1,2),(1,1)}"
      ],
      "metadata": {
        "colab": {
          "base_uri": "https://localhost:8080/"
        },
        "id": "svxh6zIHRllQ",
        "outputId": "e83fd967-e8f5-4713-e449-d48315e894b6"
      },
      "execution_count": null,
      "outputs": [
        {
          "output_type": "execute_result",
          "data": {
            "text/plain": [
              "{(1, 1), (1, 2)}"
            ]
          },
          "metadata": {},
          "execution_count": 42
        }
      ]
    },
    {
      "cell_type": "markdown",
      "source": [
        "## Check duplicate number in integers list ##"
      ],
      "metadata": {
        "id": "XHt-y-5BMlZz"
      }
    },
    {
      "cell_type": "code",
      "source": [
        "l = [1,2,3,4,5,6,7,8,99,9,101,1]\n",
        "duplicate={}\n",
        "for i in l:\n",
        "  if i in duplicate:\n",
        "    duplicate[i] += 1\n",
        "  else:\n",
        "    duplicate[i] = 1\n",
        "\n",
        "[k for k,v in duplicate.items() if v>1]"
      ],
      "metadata": {
        "colab": {
          "base_uri": "https://localhost:8080/"
        },
        "id": "zBFWE2EtPLHz",
        "outputId": "66a268dd-c253-45c8-9ca7-e29ffd540b88"
      },
      "execution_count": null,
      "outputs": [
        {
          "output_type": "execute_result",
          "data": {
            "text/plain": [
              "[1]"
            ]
          },
          "metadata": {},
          "execution_count": 18
        }
      ]
    },
    {
      "cell_type": "markdown",
      "source": [
        "## Check if a list is an anagram ##"
      ],
      "metadata": {
        "id": "Rq_3v30MQgQs"
      }
    },
    {
      "cell_type": "code",
      "source": [
        "l1 = 'my name is ana'; l2 = 'My name is nan'\n",
        "if set(l1.lower()) == set(l2.lower()) and len(l1) == len(l2):\n",
        "  print(\"Is an anagram\")\n",
        "else:\n",
        "  print(\"Is not an anagram\")"
      ],
      "metadata": {
        "id": "8_vQwIrJPSaY"
      },
      "execution_count": null,
      "outputs": []
    },
    {
      "cell_type": "markdown",
      "source": [
        "## Find pair of integers in a list so that their sum is x ##\n"
      ],
      "metadata": {
        "id": "03-kgGTpSIP9"
      }
    },
    {
      "cell_type": "code",
      "source": [
        "l = [1,2,3,4,5,6,7,8]\n",
        "x = 10\n",
        "pairs = [(i1, i2) for i1 in l for i2 in l if i1+i2 == x]\n",
        "print(pairs)"
      ],
      "metadata": {
        "id": "JG1lMJ7pO7Px"
      },
      "execution_count": null,
      "outputs": []
    },
    {
      "cell_type": "markdown",
      "source": [
        "## Check if a string is a palindrome ##"
      ],
      "metadata": {
        "id": "-hKhXMjqKfaa"
      }
    },
    {
      "cell_type": "code",
      "source": [
        "s = 'anna anna'\n",
        "\n",
        "def is_palindrome(s):\n",
        "  if s == s[::-1]:\n",
        "    print(\"Is a palindrome\")\n",
        "  else:\n",
        "    print(\"Is not a palindrome\")\n",
        "\n",
        "is_palindrome(s)"
      ],
      "metadata": {
        "id": "VNmsYA-QOtwa"
      },
      "execution_count": null,
      "outputs": []
    },
    {
      "cell_type": "markdown",
      "source": [
        "## Compute intersection of two lists ##"
      ],
      "metadata": {
        "id": "mreaJYo2LPLM"
      }
    },
    {
      "cell_type": "code",
      "source": [
        "import numpy as np\n",
        "import time\n",
        "\n",
        "l1 = list(np.random.randint(1,100000,5000))\n",
        "l2 = list(np.random.randint(1,100000,5000))\n",
        "\n",
        "t0 = time.clock()\n",
        "intrs = []\n",
        "for i1 in l1:\n",
        "  for i2 in l2:\n",
        "    if i1 == i2:\n",
        "      intrs.append(i1)\n",
        "\n",
        "t1 = time.clock() - t0\n",
        "print(t1)\n",
        "#print(intrs)"
      ],
      "metadata": {
        "colab": {
          "base_uri": "https://localhost:8080/"
        },
        "id": "6FsAE3I8PdCR",
        "outputId": "844c3562-300f-4c57-880b-3538b34196e0"
      },
      "execution_count": null,
      "outputs": [
        {
          "output_type": "stream",
          "name": "stderr",
          "text": [
            "/usr/local/lib/python3.7/dist-packages/ipykernel_launcher.py:7: DeprecationWarning: time.clock has been deprecated in Python 3.3 and will be removed from Python 3.8: use time.perf_counter or time.process_time instead\n",
            "  import sys\n"
          ]
        },
        {
          "output_type": "stream",
          "name": "stdout",
          "text": [
            "2.1222379999999994\n"
          ]
        },
        {
          "output_type": "stream",
          "name": "stderr",
          "text": [
            "/usr/local/lib/python3.7/dist-packages/ipykernel_launcher.py:14: DeprecationWarning: time.clock has been deprecated in Python 3.3 and will be removed from Python 3.8: use time.perf_counter or time.process_time instead\n",
            "  \n"
          ]
        }
      ]
    },
    {
      "cell_type": "code",
      "source": [
        "intrs, l2_dup = [], l2.copy()\n",
        "\n",
        "t0 = time.clock()\n",
        "for i1 in l1:\n",
        "  if i1 in l2_dup:\n",
        "    intrs.append(i1)\n",
        "    l2_dup.remove(i1)\n",
        "\n",
        "t1 = time.clock() - t0\n",
        "print(t1)\n",
        "#print(intrs)    "
      ],
      "metadata": {
        "colab": {
          "base_uri": "https://localhost:8080/"
        },
        "id": "OVL-LC5jMlP9",
        "outputId": "3884e857-3049-4c37-c0a0-c04ff40da027"
      },
      "execution_count": null,
      "outputs": [
        {
          "output_type": "stream",
          "name": "stderr",
          "text": [
            "/usr/local/lib/python3.7/dist-packages/ipykernel_launcher.py:3: DeprecationWarning: time.clock has been deprecated in Python 3.3 and will be removed from Python 3.8: use time.perf_counter or time.process_time instead\n",
            "  This is separate from the ipykernel package so we can avoid doing imports until\n"
          ]
        },
        {
          "output_type": "stream",
          "name": "stdout",
          "text": [
            "0.6255349999999993\n"
          ]
        },
        {
          "output_type": "stream",
          "name": "stderr",
          "text": [
            "/usr/local/lib/python3.7/dist-packages/ipykernel_launcher.py:9: DeprecationWarning: time.clock has been deprecated in Python 3.3 and will be removed from Python 3.8: use time.perf_counter or time.process_time instead\n",
            "  if __name__ == '__main__':\n"
          ]
        }
      ]
    },
    {
      "cell_type": "markdown",
      "source": [
        "## Reverse a string using recursion"
      ],
      "metadata": {
        "id": "q6ihJbLYSPW9"
      }
    },
    {
      "cell_type": "code",
      "source": [
        "s = 'annas'\n",
        "s_rev = []\n",
        "def rev(s):\n",
        "  if len(s)==0: return s_rev\n",
        "  s_rev.append(s[-1])\n",
        "  return rev(s[:-1])\n",
        "\n",
        "rev(s)"
      ],
      "metadata": {
        "colab": {
          "base_uri": "https://localhost:8080/"
        },
        "id": "Rp-O8PwZSXaD",
        "outputId": "6a2b8830-6673-46b1-d822-b40420dd532f"
      },
      "execution_count": null,
      "outputs": [
        {
          "output_type": "execute_result",
          "data": {
            "text/plain": [
              "['s', 'a', 'n', 'n', 'a']"
            ]
          },
          "metadata": {},
          "execution_count": 27
        }
      ]
    },
    {
      "cell_type": "markdown",
      "source": [
        "## Find all permutations of a string"
      ],
      "metadata": {
        "id": "mvqUGSBjVpDs"
      }
    },
    {
      "cell_type": "code",
      "source": [],
      "metadata": {
        "id": "GggeXjR4iYCI"
      },
      "execution_count": null,
      "outputs": []
    },
    {
      "cell_type": "markdown",
      "source": [
        "# Object relationship without inheritance"
      ],
      "metadata": {
        "id": "LfT4Ft28haJ5"
      }
    },
    {
      "cell_type": "code",
      "source": [
        "# Player class\n",
        "class Player:\n",
        "    def __init__(self, ID, name, teamName):\n",
        "        self.ID = ID\n",
        "        self.name = name\n",
        "        self.teamName = teamName\n",
        "    # Complete the implementation\n",
        "\n",
        "\n",
        "# Team class contains a list of Player\n",
        "# Objects\n",
        "class Team:\n",
        "    def __init__(self, name):\n",
        "        self.name = name\n",
        "        self.players = []\n",
        "\n",
        "    def getNumberOfPlayers(self):\n",
        "        return len(self.players)\n",
        "\n",
        "    def addPlayer(self, player):\n",
        "        return self.players.append(player)\n",
        "    # Complete the implementation\n",
        "\n",
        "\n",
        "# School class contains a list of Team\n",
        "# objects.\n",
        "class School:\n",
        "    def __init__(self, name):\n",
        "        self.teams = []\n",
        "        self.name = name\n",
        "\n",
        "    def addTeam(self, team):\n",
        "        return self.teams.append(team)\n",
        "\n",
        "    def getTotalPlayersInSchool(self):\n",
        "        #return(sum([x.getNumberOfPlayers() for x in teams]))\n",
        "        return(sum([x.getNumberOfPlayers() for x in self.teams]))\n",
        "\n",
        "player1 = Player(1, 'Harris', 'Red')\n",
        "player2 = Player(2, 'Jim', 'Green')\n",
        "player3 = Player(3, 'J', 'Blue')\n",
        "red_team = Team('Red Team')\n",
        "red_team.getNumberOfPlayers()\n",
        "red_team.addPlayer(player2)\n",
        "green_team = Team('Green Team')\n",
        "red_team.addPlayer(player3)\n",
        "green_team.addPlayer(player1)\n",
        "del mySchool\n",
        "mySchool = School('hvp')\n",
        "mySchool.getTotalPlayersInSchool()\n",
        "mySchool.addTeam(green_team)\n",
        "mySchool.getTotalPlayersInSchool()"
      ],
      "metadata": {
        "id": "BXm1jn0SXFix"
      },
      "execution_count": null,
      "outputs": []
    },
    {
      "cell_type": "markdown",
      "source": [
        "# Big O rule 2"
      ],
      "metadata": {
        "id": "nXhWSs7jg76H"
      }
    },
    {
      "cell_type": "code",
      "source": [
        "import math\n",
        "def printFirstItemThenFirstHalfThenSayHi100Times(items):\n",
        "\n",
        "  middleIndex = math.floor(len(items)/2)\n",
        "  index = 0\n",
        "\n",
        "  while(index<middleIndex):\n",
        "    print(items[index])\n",
        "    index+=1\n",
        "\n",
        "  for i in range(100):\n",
        "    print('hi')\n",
        "\n",
        "items = list(range(10))\n",
        "printFirstItemThenFirstHalfThenSayHi100Times(items)"
      ],
      "metadata": {
        "id": "exgL5bHfJhC9"
      },
      "execution_count": null,
      "outputs": []
    },
    {
      "cell_type": "markdown",
      "source": [
        "# Print all pairs and unique pairs from a list of numbers"
      ],
      "metadata": {
        "id": "FDQcQh2QgZMc"
      }
    },
    {
      "cell_type": "code",
      "source": [
        "arr = [1,2,3,4,5]\n",
        "\n",
        "def pairs(arr):\n",
        "  count=0\n",
        "  pair = []\n",
        "  for i in range(len(arr)):\n",
        "    for j in range(len(arr)):\n",
        "      pair.append((arr[i],arr[j]))\n",
        "      count+=1\n",
        "  print(count)\n",
        "  print(pair)\n",
        "\n",
        "pairs(arr)"
      ],
      "metadata": {
        "colab": {
          "base_uri": "https://localhost:8080/"
        },
        "id": "7_LKX5lBLCPs",
        "outputId": "82d2551a-86a2-4452-aae9-cff2025f6807"
      },
      "execution_count": null,
      "outputs": [
        {
          "output_type": "stream",
          "name": "stdout",
          "text": [
            "25\n",
            "[(1, 1), (1, 2), (1, 3), (1, 4), (1, 5), (2, 1), (2, 2), (2, 3), (2, 4), (2, 5), (3, 1), (3, 2), (3, 3), (3, 4), (3, 5), (4, 1), (4, 2), (4, 3), (4, 4), (4, 5), (5, 1), (5, 2), (5, 3), (5, 4), (5, 5)]\n"
          ]
        }
      ]
    },
    {
      "cell_type": "code",
      "source": [
        "import numpy as np\n",
        "def uniq_pairs(arr):\n",
        "  count=0\n",
        "  pair = []\n",
        "  for i in range(len(arr)):\n",
        "    for j in range(i,len(arr)):\n",
        "      pair.append((arr[i],arr[j]))\n",
        "      count+=1\n",
        "  print(count)\n",
        "  print(pair)\n",
        "  \n",
        "uniq_pairs(arr)"
      ],
      "metadata": {
        "colab": {
          "base_uri": "https://localhost:8080/"
        },
        "id": "a67dDsa6Ncnh",
        "outputId": "84f9cebd-2582-45b9-9301-6823999e2103"
      },
      "execution_count": null,
      "outputs": [
        {
          "output_type": "stream",
          "name": "stdout",
          "text": [
            "15\n",
            "[(1, 1), (1, 2), (1, 3), (1, 4), (1, 5), (2, 2), (2, 3), (2, 4), (2, 5), (3, 3), (3, 4), (3, 5), (4, 4), (4, 5), (5, 5)]\n"
          ]
        }
      ]
    },
    {
      "cell_type": "markdown",
      "source": [
        "# Common items in 2 arrays"
      ],
      "metadata": {
        "id": "lLjLIwqaRoOs"
      }
    },
    {
      "cell_type": "code",
      "source": [
        "arr1 = [1,2,3,4,5]\n",
        "arr2 = [5,6,7,8]\n",
        "\n",
        "def commonItems(arr1, arr2):\n",
        "  "
      ],
      "metadata": {
        "id": "qEyTIWiKRw74"
      },
      "execution_count": null,
      "outputs": []
    },
    {
      "cell_type": "markdown",
      "source": [
        "# Has pair with Sum"
      ],
      "metadata": {
        "id": "qTyNVINnXPSI"
      }
    },
    {
      "cell_type": "code",
      "source": [
        "arr = [[6,4,3,2,1,7],9]\n",
        "arr1 = [[2,3,5,11],14]\n",
        "\n",
        "def hasPairWithSum(arr):\n",
        "  arr_val, sum_val = arr\n",
        "  pair_count = 0\n",
        "  for i in range(len(arr_val)):\n",
        "    for j in range(len(arr_val)):\n",
        "      if (i!=j) and (arr_val[i]+arr_val[j] == sum_val):\n",
        "        print('There is a pair {},{} with sum {}'.format(arr_val[i],arr_val[j],sum_val))\n",
        "        pair_count+=1\n",
        "  if pair_count == 0:\n",
        "    return False\n",
        "  else:\n",
        "    print(\"Total pairs found: {}\".format(pair_count))\n",
        "    return True\n",
        "\n",
        "#hasPairWithSum(arr)\n",
        "## Time complexity: O(a*a)\n",
        "## Space complexity: O(1)\n",
        "\n",
        "\n",
        "def hasPairWithSum1(arr):\n",
        "  arr_val, sum_val = arr\n",
        "  arr_set = set()\n",
        "  for i in range(len(arr_val)):\n",
        "    if arr_val[i] in arr_set:\n",
        "      return True\n",
        "    arr_set.add(sum_val-arr_val[i])\n",
        "  return False\n",
        "\n",
        "hasPairWithSum1(arr1)\n",
        "## Time complexity: O(a)\n",
        "## Space complexity: O(n)"
      ],
      "metadata": {
        "colab": {
          "base_uri": "https://localhost:8080/"
        },
        "id": "RlhTrGwEXWE8",
        "outputId": "f6128f8a-177d-4096-f65b-8e8076a925bd"
      },
      "execution_count": null,
      "outputs": [
        {
          "output_type": "execute_result",
          "data": {
            "text/plain": [
              "True"
            ]
          },
          "metadata": {},
          "execution_count": 30
        }
      ]
    },
    {
      "cell_type": "code",
      "source": [
        "j=30\n",
        "t = {1:30, 2:30}\n",
        "for i in range(len(t.items())):\n",
        "  if j in list(t.values()):\n",
        "    print(j)"
      ],
      "metadata": {
        "colab": {
          "base_uri": "https://localhost:8080/"
        },
        "id": "UCoGeETE4u-a",
        "outputId": "034f3654-cbac-4568-f800-ee5653b01c44"
      },
      "execution_count": null,
      "outputs": [
        {
          "output_type": "stream",
          "name": "stdout",
          "text": [
            "30\n",
            "30\n"
          ]
        }
      ]
    },
    {
      "cell_type": "markdown",
      "source": [
        "# PSI function"
      ],
      "metadata": {
        "id": "7C67e-CxuShY"
      }
    },
    {
      "cell_type": "code",
      "source": [
        "%matplotlib inline\n",
        "import numpy as np\n",
        "import pandas as pd\n",
        "import seaborn as sns\n",
        "import matplotlib.pyplot as plt\n",
        "sns.set_style(\"white\")\n",
        "rs = np.random.RandomState(5)"
      ],
      "metadata": {
        "id": "RLn8MkuFvljT"
      },
      "execution_count": null,
      "outputs": []
    },
    {
      "cell_type": "code",
      "source": [
        "import numpy as np\n",
        "from collections import Counter\n",
        "# value = (e_perc - a_perc) * np.log(e_perc / a_perc)\n",
        "\n",
        "def psi(prev, new, dtype, buckets=10, max_vocab_size=100):\n",
        "  \"\"\"\n",
        "    Calculate the psi value for a column.\n",
        "    For numerical cols, pecentile is used to create the distribution\n",
        "    For categorical cols, top 25 values are used to create the distribution\n",
        "  \"\"\"\n",
        "  epsilon = 1e-4\n",
        "\n",
        "  # PSI calculation for numeric columns\n",
        "  if dtype == 'float':\n",
        "    breakpoints  = np.percentile(prev, q=np.arange(0,110, 100//buckets))\n",
        "    prev_dist = np.histogram(prev, breakpoints)[0]\n",
        "    new_dist = np.histogram(new, breakpoints)[0]\n",
        "\n",
        "    prev_perc =  prev_dist/len(prev)\n",
        "    new_perc = new_dist/len(new)\n",
        "\n",
        "    psi_val = (prev_perc - new_perc) * np.log((prev_perc+epsilon) / (new_perc+epsilon))\n",
        "\n",
        "    psi_score = pd.DataFrame()\n",
        "    psi_score['psi_val'] = psi_val; psi_score['prev_perc'] = prev_perc; psi_score['new_perc'] = new_perc\n",
        "    psi_score['prev_dist'] = prev_dist; psi_score['new_dist'] = new_dist; psi_score['buckets'] = np.arange(1,buckets+1)*10\n",
        "    psi_score['breakpoints'] = breakpoints[1:]\n",
        "\n",
        "    psi_total = np.sum(psi_val)\n",
        "    return psi_score\n",
        "\n",
        "  # PSI calculation for string columns\n",
        "  if dtype == 'str':\n",
        "    prev_dist = pd.DataFrame(Counter(prev).most_common(max_vocab_size), columns=['buckets','Count_prev'])\n",
        "    new_dist = pd.DataFrame(Counter(new).most_common(max_vocab_size), columns=['buckets','Count_new'])\n",
        "    df = new_dist.merge(prev_dist, 'outer').fillna(0)\n",
        "\n",
        "    df['prev_perc'] =  df['Count_prev']/np.sum(df['Count_prev'])\n",
        "    df['new_perc'] = df['Count_new']/np.sum(df['Count_new'])\n",
        "\n",
        "    df['psi_val'] = (df['prev_perc'] - df['new_perc']) * np.log((df['prev_perc']+epsilon) / (df['new_perc']+epsilon))\n",
        "\n",
        "    psi_total = np.sum(df['psi_val'])\n",
        "    return df, psi_total\n",
        "\n",
        "def psi_plot_data_dist(psi_score):\n",
        "  \"\"\"\n",
        "    Plot the chart for psi distribution\n",
        "  \"\"\"\n",
        "  psi_plot_data = psi_score[['prev_perc', 'new_perc', 'buckets']] \\\n",
        "             .melt(id_vars=['buckets']) \\\n",
        "             .rename(columns={'variable':'Population', 'value':'Percent'})\n",
        "  p = sns.barplot(x=\"buckets\", y=\"Percent\", hue=\"Population\", data=psi_plot_data)\n",
        "  p.set(xlabel='Bucket', ylabel='Population Percent')\n",
        "  sns.despine(left=True)"
      ],
      "metadata": {
        "id": "laWnRSWOuU4f"
      },
      "execution_count": null,
      "outputs": []
    },
    {
      "cell_type": "code",
      "source": [
        "arr = ['pooh', 'rabbit', 'piglet', 'Christopher']\n",
        "initial = list(np.random.choice(arr, 20, p=[0.3, 0.2, 0.2, 0.3]))\n",
        "new = list(np.random.choice(arr, 20, p=[0.1, 0.5, 0.3, 0.1]))\n",
        "\n",
        "psi_score, psi_total= psi(initial, new, dtype='str')\n",
        "psi_plot_data_dist(psi_score)"
      ],
      "metadata": {
        "colab": {
          "base_uri": "https://localhost:8080/",
          "height": 279
        },
        "id": "Fwsf-cAWvxun",
        "outputId": "c7dae025-acd6-4402-895f-895781533e06"
      },
      "execution_count": null,
      "outputs": [
        {
          "output_type": "display_data",
          "data": {
            "text/plain": [
              "<Figure size 432x288 with 1 Axes>"
            ],
            "image/png": "[encoded data removed]"
          },
          "metadata": {}
        }
      ]
    },
    {
      "cell_type": "code",
      "source": [
        "psi_score"
      ],
      "metadata": {
        "colab": {
          "base_uri": "https://localhost:8080/",
          "height": 175
        },
        "id": "aGxzE_5JzX1E",
        "outputId": "efbbd9ce-0542-4e6f-d1c0-3aaec4aa6085"
      },
      "execution_count": null,
      "outputs": [
        {
          "output_type": "execute_result",
          "data": {
            "text/plain": [
              "       buckets  Count_new  Count_prev  prev_perc  new_perc   psi_val\n",
              "0       rabbit        9.0         0.0   0.000000  0.473684  4.008949\n",
              "1       piglet        7.0         4.0   0.222222  0.368421  0.073885\n",
              "2         pooh        3.0         9.0   0.500000  0.157895  0.394190\n",
              "3  Christopher        0.0         5.0   0.277778  0.000000  2.202713"
            ],
            "text/html": [
              "\n",
              "  <div id=\"df-99eaf341-c89e-48f4-83a7-cddc21fce8ee\">\n",
              "    <div class=\"colab-df-container\">\n",
              "      <div>\n",
              "<style scoped>\n",
              "    .dataframe tbody tr th:only-of-type {\n",
              "        vertical-align: middle;\n",
              "    }\n",
              "\n",
              "    .dataframe tbody tr th {\n",
              "        vertical-align: top;\n",
              "    }\n",
              "\n",
              "    .dataframe thead th {\n",
              "        text-align: right;\n",
              "    }\n",
              "</style>\n",
              "<table border=\"1\" class=\"dataframe\">\n",
              "  <thead>\n",
              "    <tr style=\"text-align: right;\">\n",
              "      <th></th>\n",
              "      <th>buckets</th>\n",
              "      <th>Count_new</th>\n",
              "      <th>Count_prev</th>\n",
              "      <th>prev_perc</th>\n",
              "      <th>new_perc</th>\n",
              "      <th>psi_val</th>\n",
              "    </tr>\n",
              "  </thead>\n",
              "  <tbody>\n",
              "    <tr>\n",
              "      <th>0</th>\n",
              "      <td>rabbit</td>\n",
              "      <td>9.0</td>\n",
              "      <td>0.0</td>\n",
              "      <td>0.000000</td>\n",
              "      <td>0.473684</td>\n",
              "      <td>4.008949</td>\n",
              "    </tr>\n",
              "    <tr>\n",
              "      <th>1</th>\n",
              "      <td>piglet</td>\n",
              "      <td>7.0</td>\n",
              "      <td>4.0</td>\n",
              "      <td>0.222222</td>\n",
              "      <td>0.368421</td>\n",
              "      <td>0.073885</td>\n",
              "    </tr>\n",
              "    <tr>\n",
              "      <th>2</th>\n",
              "      <td>pooh</td>\n",
              "      <td>3.0</td>\n",
              "      <td>9.0</td>\n",
              "      <td>0.500000</td>\n",
              "      <td>0.157895</td>\n",
              "      <td>0.394190</td>\n",
              "    </tr>\n",
              "    <tr>\n",
              "      <th>3</th>\n",
              "      <td>Christopher</td>\n",
              "      <td>0.0</td>\n",
              "      <td>5.0</td>\n",
              "      <td>0.277778</td>\n",
              "      <td>0.000000</td>\n",
              "      <td>2.202713</td>\n",
              "    </tr>\n",
              "  </tbody>\n",
              "</table>\n",
              "</div>\n",
              "      <button class=\"colab-df-convert\" onclick=\"convertToInteractive('df-99eaf341-c89e-48f4-83a7-cddc21fce8ee')\"\n",
              "              title=\"Convert this dataframe to an interactive table.\"\n",
              "              style=\"display:none;\">\n",
              "        \n",
              "  <svg xmlns=\"http://www.w3.org/2000/svg\" height=\"24px\"viewBox=\"0 0 24 24\"\n",
              "       width=\"24px\">\n",
              "    <path d=\"M0 0h24v24H0V0z\" fill=\"none\"/>\n",
              "    <path d=\"M18.56 5.44l.94 2.06.94-2.06 2.06-.94-2.06-.94-.94-2.06-.94 2.06-2.06.94zm-11 1L8.5 8.5l.94-2.06 2.06-.94-2.06-.94L8.5 2.5l-.94 2.06-2.06.94zm10 10l.94 2.06.94-2.06 2.06-.94-2.06-.94-.94-2.06-.94 2.06-2.06.94z\"/><path d=\"M17.41 7.96l-1.37-1.37c-.4-.4-.92-.59-1.43-.59-.52 0-1.04.2-1.43.59L10.3 9.45l-7.72 7.72c-.78.78-.78 2.05 0 2.83L4 21.41c.39.39.9.59 1.41.59.51 0 1.02-.2 1.41-.59l7.78-7.78 2.81-2.81c.8-.78.8-2.07 0-2.86zM5.41 20L4 18.59l7.72-7.72 1.47 1.35L5.41 20z\"/>\n",
              "  </svg>\n",
              "      </button>\n",
              "      \n",
              "  <style>\n",
              "    .colab-df-container {\n",
              "      display:flex;\n",
              "      flex-wrap:wrap;\n",
              "      gap: 12px;\n",
              "    }\n",
              "\n",
              "    .colab-df-convert {\n",
              "      background-color: #E8F0FE;\n",
              "      border: none;\n",
              "      border-radius: 50%;\n",
              "      cursor: pointer;\n",
              "      display: none;\n",
              "      fill: #1967D2;\n",
              "      height: 32px;\n",
              "      padding: 0 0 0 0;\n",
              "      width: 32px;\n",
              "    }\n",
              "\n",
              "    .colab-df-convert:hover {\n",
              "      background-color: #E2EBFA;\n",
              "      box-shadow: 0px 1px 2px rgba(60, 64, 67, 0.3), 0px 1px 3px 1px rgba(60, 64, 67, 0.15);\n",
              "      fill: #174EA6;\n",
              "    }\n",
              "\n",
              "    [theme=dark] .colab-df-convert {\n",
              "      background-color: #3B4455;\n",
              "      fill: #D2E3FC;\n",
              "    }\n",
              "\n",
              "    [theme=dark] .colab-df-convert:hover {\n",
              "      background-color: #434B5C;\n",
              "      box-shadow: 0px 1px 3px 1px rgba(0, 0, 0, 0.15);\n",
              "      filter: drop-shadow(0px 1px 2px rgba(0, 0, 0, 0.3));\n",
              "      fill: #FFFFFF;\n",
              "    }\n",
              "  </style>\n",
              "\n",
              "      <script>\n",
              "        const buttonEl =\n",
              "          document.querySelector('#df-99eaf341-c89e-48f4-83a7-cddc21fce8ee button.colab-df-convert');\n",
              "        buttonEl.style.display =\n",
              "          google.colab.kernel.accessAllowed ? 'block' : 'none';\n",
              "\n",
              "        async function convertToInteractive(key) {\n",
              "          const element = document.querySelector('#df-99eaf341-c89e-48f4-83a7-cddc21fce8ee');\n",
              "          const dataTable =\n",
              "            await google.colab.kernel.invokeFunction('convertToInteractive',\n",
              "                                                     [key], {});\n",
              "          if (!dataTable) return;\n",
              "\n",
              "          const docLinkHtml = 'Like what you see? Visit the ' +\n",
              "            '<a target=\"_blank\" href=https://colab.research.google.com/notebooks/data_table.ipynb>data table notebook</a>'\n",
              "            + ' to learn more about interactive tables.';\n",
              "          element.innerHTML = '';\n",
              "          dataTable['output_type'] = 'display_data';\n",
              "          await google.colab.output.renderOutput(dataTable, element);\n",
              "          const docLink = document.createElement('div');\n",
              "          docLink.innerHTML = docLinkHtml;\n",
              "          element.appendChild(docLink);\n",
              "        }\n",
              "      </script>\n",
              "    </div>\n",
              "  </div>\n",
              "  "
            ]
          },
          "metadata": {},
          "execution_count": 29
        }
      ]
    },
    {
      "cell_type": "code",
      "source": [
        "initial = rs.normal(size = 125)\n",
        "new = rs.normal(loc = 0.2, size = 120)\n",
        "\n",
        "psi_score, psi_total= psi(initial, new, dtype='float')\n",
        "psi_plot_data_dist(psi_score)"
      ],
      "metadata": {
        "colab": {
          "base_uri": "https://localhost:8080/",
          "height": 279
        },
        "id": "Xg5XiIZtjdLA",
        "outputId": "a223189f-382c-4121-a4b1-285afbbf7800"
      },
      "execution_count": null,
      "outputs": [
        {
          "output_type": "display_data",
          "data": {
            "text/plain": [
              "<Figure size 432x288 with 1 Axes>"
            ],
            "image/png": "[encoded data removed]"
          },
          "metadata": {}
        }
      ]
    },
    {
      "cell_type": "code",
      "source": [
        "psi_score"
      ],
      "metadata": {
        "colab": {
          "base_uri": "https://localhost:8080/",
          "height": 363
        },
        "id": "ktxdM4ohprTG",
        "outputId": "159457ae-b2fd-4ec3-d3af-8fb7aeedd060"
      },
      "execution_count": null,
      "outputs": [
        {
          "output_type": "execute_result",
          "data": {
            "text/plain": [
              "    psi_val  prev_perc  new_perc  prev_dist  new_dist  buckets  breakpoints\n",
              "0  0.056926      0.104  0.041667         13         5       10    -1.557724\n",
              "1  0.010683      0.096  0.066667         12         8       20    -0.905710\n",
              "2  0.016582      0.104  0.066667         13         8       30    -0.631382\n",
              "3  0.018739      0.096  0.058333         12         7       40    -0.330657\n",
              "4  0.007648      0.096  0.125000         12        15       50    -0.031351\n",
              "5  0.039492      0.104  0.050000         13         6       60     0.210723\n",
              "6  0.076277      0.096  0.200000         12        24       70     0.468808\n",
              "7  0.007282      0.104  0.133333         13        16       80     0.785467\n",
              "8  0.007648      0.096  0.125000         12        15       90     1.204009\n",
              "9  0.003859      0.104  0.125000         13        15      100     2.325210"
            ],
            "text/html": [
              "\n",
              "  <div id=\"df-4184e687-7297-4416-8943-fd99e73db70b\">\n",
              "    <div class=\"colab-df-container\">\n",
              "      <div>\n",
              "<style scoped>\n",
              "    .dataframe tbody tr th:only-of-type {\n",
              "        vertical-align: middle;\n",
              "    }\n",
              "\n",
              "    .dataframe tbody tr th {\n",
              "        vertical-align: top;\n",
              "    }\n",
              "\n",
              "    .dataframe thead th {\n",
              "        text-align: right;\n",
              "    }\n",
              "</style>\n",
              "<table border=\"1\" class=\"dataframe\">\n",
              "  <thead>\n",
              "    <tr style=\"text-align: right;\">\n",
              "      <th></th>\n",
              "      <th>psi_val</th>\n",
              "      <th>prev_perc</th>\n",
              "      <th>new_perc</th>\n",
              "      <th>prev_dist</th>\n",
              "      <th>new_dist</th>\n",
              "      <th>buckets</th>\n",
              "      <th>breakpoints</th>\n",
              "    </tr>\n",
              "  </thead>\n",
              "  <tbody>\n",
              "    <tr>\n",
              "      <th>0</th>\n",
              "      <td>0.056926</td>\n",
              "      <td>0.104</td>\n",
              "      <td>0.041667</td>\n",
              "      <td>13</td>\n",
              "      <td>5</td>\n",
              "      <td>10</td>\n",
              "      <td>-1.557724</td>\n",
              "    </tr>\n",
              "    <tr>\n",
              "      <th>1</th>\n",
              "      <td>0.010683</td>\n",
              "      <td>0.096</td>\n",
              "      <td>0.066667</td>\n",
              "      <td>12</td>\n",
              "      <td>8</td>\n",
              "      <td>20</td>\n",
              "      <td>-0.905710</td>\n",
              "    </tr>\n",
              "    <tr>\n",
              "      <th>2</th>\n",
              "      <td>0.016582</td>\n",
              "      <td>0.104</td>\n",
              "      <td>0.066667</td>\n",
              "      <td>13</td>\n",
              "      <td>8</td>\n",
              "      <td>30</td>\n",
              "      <td>-0.631382</td>\n",
              "    </tr>\n",
              "    <tr>\n",
              "      <th>3</th>\n",
              "      <td>0.018739</td>\n",
              "      <td>0.096</td>\n",
              "      <td>0.058333</td>\n",
              "      <td>12</td>\n",
              "      <td>7</td>\n",
              "      <td>40</td>\n",
              "      <td>-0.330657</td>\n",
              "    </tr>\n",
              "    <tr>\n",
              "      <th>4</th>\n",
              "      <td>0.007648</td>\n",
              "      <td>0.096</td>\n",
              "      <td>0.125000</td>\n",
              "      <td>12</td>\n",
              "      <td>15</td>\n",
              "      <td>50</td>\n",
              "      <td>-0.031351</td>\n",
              "    </tr>\n",
              "    <tr>\n",
              "      <th>5</th>\n",
              "      <td>0.039492</td>\n",
              "      <td>0.104</td>\n",
              "      <td>0.050000</td>\n",
              "      <td>13</td>\n",
              "      <td>6</td>\n",
              "      <td>60</td>\n",
              "      <td>0.210723</td>\n",
              "    </tr>\n",
              "    <tr>\n",
              "      <th>6</th>\n",
              "      <td>0.076277</td>\n",
              "      <td>0.096</td>\n",
              "      <td>0.200000</td>\n",
              "      <td>12</td>\n",
              "      <td>24</td>\n",
              "      <td>70</td>\n",
              "      <td>0.468808</td>\n",
              "    </tr>\n",
              "    <tr>\n",
              "      <th>7</th>\n",
              "      <td>0.007282</td>\n",
              "      <td>0.104</td>\n",
              "      <td>0.133333</td>\n",
              "      <td>13</td>\n",
              "      <td>16</td>\n",
              "      <td>80</td>\n",
              "      <td>0.785467</td>\n",
              "    </tr>\n",
              "    <tr>\n",
              "      <th>8</th>\n",
              "      <td>0.007648</td>\n",
              "      <td>0.096</td>\n",
              "      <td>0.125000</td>\n",
              "      <td>12</td>\n",
              "      <td>15</td>\n",
              "      <td>90</td>\n",
              "      <td>1.204009</td>\n",
              "    </tr>\n",
              "    <tr>\n",
              "      <th>9</th>\n",
              "      <td>0.003859</td>\n",
              "      <td>0.104</td>\n",
              "      <td>0.125000</td>\n",
              "      <td>13</td>\n",
              "      <td>15</td>\n",
              "      <td>100</td>\n",
              "      <td>2.325210</td>\n",
              "    </tr>\n",
              "  </tbody>\n",
              "</table>\n",
              "</div>\n",
              "      <button class=\"colab-df-convert\" onclick=\"convertToInteractive('df-4184e687-7297-4416-8943-fd99e73db70b')\"\n",
              "              title=\"Convert this dataframe to an interactive table.\"\n",
              "              style=\"display:none;\">\n",
              "        \n",
              "  <svg xmlns=\"http://www.w3.org/2000/svg\" height=\"24px\"viewBox=\"0 0 24 24\"\n",
              "       width=\"24px\">\n",
              "    <path d=\"M0 0h24v24H0V0z\" fill=\"none\"/>\n",
              "    <path d=\"M18.56 5.44l.94 2.06.94-2.06 2.06-.94-2.06-.94-.94-2.06-.94 2.06-2.06.94zm-11 1L8.5 8.5l.94-2.06 2.06-.94-2.06-.94L8.5 2.5l-.94 2.06-2.06.94zm10 10l.94 2.06.94-2.06 2.06-.94-2.06-.94-.94-2.06-.94 2.06-2.06.94z\"/><path d=\"M17.41 7.96l-1.37-1.37c-.4-.4-.92-.59-1.43-.59-.52 0-1.04.2-1.43.59L10.3 9.45l-7.72 7.72c-.78.78-.78 2.05 0 2.83L4 21.41c.39.39.9.59 1.41.59.51 0 1.02-.2 1.41-.59l7.78-7.78 2.81-2.81c.8-.78.8-2.07 0-2.86zM5.41 20L4 18.59l7.72-7.72 1.47 1.35L5.41 20z\"/>\n",
              "  </svg>\n",
              "      </button>\n",
              "      \n",
              "  <style>\n",
              "    .colab-df-container {\n",
              "      display:flex;\n",
              "      flex-wrap:wrap;\n",
              "      gap: 12px;\n",
              "    }\n",
              "\n",
              "    .colab-df-convert {\n",
              "      background-color: #E8F0FE;\n",
              "      border: none;\n",
              "      border-radius: 50%;\n",
              "      cursor: pointer;\n",
              "      display: none;\n",
              "      fill: #1967D2;\n",
              "      height: 32px;\n",
              "      padding: 0 0 0 0;\n",
              "      width: 32px;\n",
              "    }\n",
              "\n",
              "    .colab-df-convert:hover {\n",
              "      background-color: #E2EBFA;\n",
              "      box-shadow: 0px 1px 2px rgba(60, 64, 67, 0.3), 0px 1px 3px 1px rgba(60, 64, 67, 0.15);\n",
              "      fill: #174EA6;\n",
              "    }\n",
              "\n",
              "    [theme=dark] .colab-df-convert {\n",
              "      background-color: #3B4455;\n",
              "      fill: #D2E3FC;\n",
              "    }\n",
              "\n",
              "    [theme=dark] .colab-df-convert:hover {\n",
              "      background-color: #434B5C;\n",
              "      box-shadow: 0px 1px 3px 1px rgba(0, 0, 0, 0.15);\n",
              "      filter: drop-shadow(0px 1px 2px rgba(0, 0, 0, 0.3));\n",
              "      fill: #FFFFFF;\n",
              "    }\n",
              "  </style>\n",
              "\n",
              "      <script>\n",
              "        const buttonEl =\n",
              "          document.querySelector('#df-4184e687-7297-4416-8943-fd99e73db70b button.colab-df-convert');\n",
              "        buttonEl.style.display =\n",
              "          google.colab.kernel.accessAllowed ? 'block' : 'none';\n",
              "\n",
              "        async function convertToInteractive(key) {\n",
              "          const element = document.querySelector('#df-4184e687-7297-4416-8943-fd99e73db70b');\n",
              "          const dataTable =\n",
              "            await google.colab.kernel.invokeFunction('convertToInteractive',\n",
              "                                                     [key], {});\n",
              "          if (!dataTable) return;\n",
              "\n",
              "          const docLinkHtml = 'Like what you see? Visit the ' +\n",
              "            '<a target=\"_blank\" href=https://colab.research.google.com/notebooks/data_table.ipynb>data table notebook</a>'\n",
              "            + ' to learn more about interactive tables.';\n",
              "          element.innerHTML = '';\n",
              "          dataTable['output_type'] = 'display_data';\n",
              "          await google.colab.output.renderOutput(dataTable, element);\n",
              "          const docLink = document.createElement('div');\n",
              "          docLink.innerHTML = docLinkHtml;\n",
              "          element.appendChild(docLink);\n",
              "        }\n",
              "      </script>\n",
              "    </div>\n",
              "  </div>\n",
              "  "
            ]
          },
          "metadata": {},
          "execution_count": 35
        }
      ]
    },
    {
      "cell_type": "code",
      "source": [
        "np.sum(psi_score['psi_val'])"
      ],
      "metadata": {
        "colab": {
          "base_uri": "https://localhost:8080/"
        },
        "id": "hSJNO3KwzcVT",
        "outputId": "b9f04fe8-53d6-44a4-c9b9-e0dcf52783cb"
      },
      "execution_count": null,
      "outputs": [
        {
          "output_type": "execute_result",
          "data": {
            "text/plain": [
              "0.2451350628456404"
            ]
          },
          "metadata": {},
          "execution_count": 36
        }
      ]
    },
    {
      "cell_type": "markdown",
      "source": [
        "# Arrays"
      ],
      "metadata": {
        "id": "rNK8CQrCIjpo"
      }
    },
    {
      "cell_type": "markdown",
      "source": [
        "## Optional Class"
      ],
      "metadata": {
        "id": "JbBT68h_Iy7r"
      }
    },
    {
      "cell_type": "code",
      "source": [
        "[] == []"
      ],
      "metadata": {
        "colab": {
          "base_uri": "https://localhost:8080/"
        },
        "id": "fF22tcZDIt8c",
        "outputId": "b75182a5-a695-4098-c148-03ab331fcbee"
      },
      "execution_count": null,
      "outputs": [
        {
          "output_type": "execute_result",
          "data": {
            "text/plain": [
              "True"
            ]
          },
          "metadata": {},
          "execution_count": 1
        }
      ]
    },
    {
      "cell_type": "code",
      "source": [
        "d1 = {'value': 5}\n",
        "d2 = d1\n",
        "d3 = {'value': 10}"
      ],
      "metadata": {
        "id": "iYpBp_wzI-OV"
      },
      "execution_count": null,
      "outputs": []
    },
    {
      "cell_type": "code",
      "source": [
        "[] == []"
      ],
      "metadata": {
        "colab": {
          "base_uri": "https://localhost:8080/"
        },
        "id": "GC2dTNMC3D3b",
        "outputId": "56efdfde-5ce1-4d30-c1ab-a49361485df3"
      },
      "execution_count": null,
      "outputs": [
        {
          "output_type": "execute_result",
          "data": {
            "text/plain": [
              "True"
            ]
          },
          "metadata": {},
          "execution_count": 7
        }
      ]
    },
    {
      "cell_type": "code",
      "source": [
        "d2 == d1"
      ],
      "metadata": {
        "colab": {
          "base_uri": "https://localhost:8080/"
        },
        "id": "vvbVEHwFPvjA",
        "outputId": "63d1e5b3-8b19-430a-fc77-dfef9facc94f"
      },
      "execution_count": null,
      "outputs": [
        {
          "output_type": "execute_result",
          "data": {
            "text/plain": [
              "True"
            ]
          },
          "metadata": {},
          "execution_count": 4
        }
      ]
    },
    {
      "cell_type": "code",
      "source": [
        "d3 == d1"
      ],
      "metadata": {
        "colab": {
          "base_uri": "https://localhost:8080/"
        },
        "id": "tP9EuEY0P4dw",
        "outputId": "02210aec-0da0-4da8-8be1-c23e4b5f058c"
      },
      "execution_count": null,
      "outputs": [
        {
          "output_type": "execute_result",
          "data": {
            "text/plain": [
              "False"
            ]
          },
          "metadata": {},
          "execution_count": 17
        }
      ]
    },
    {
      "cell_type": "code",
      "source": [
        "'''\n",
        "The technique is when you have a python dictionary and a function that you intend to use on it. You insert an extra \n",
        "element into the dict, whose value is the name of the function. When you're ready to call the function you issue the \n",
        "call indirectly by referring to the dict element, not the function by name.\n",
        "'''\n",
        "\n",
        "# make a dictionary of US states and major cities\n",
        "cities = {'San Diego':'CA', 'New York':'NY', 'Detroit':'MI'}\n",
        "\n",
        "# define a function to use on such a dictionary\n",
        "def find_city (map, city):\n",
        "    # does something, returns some value\n",
        "    if city in map:\n",
        "        return map[city]\n",
        "    else:\n",
        "        return \"Not found\"\n",
        "\n",
        "# then add a final dict element that refers to the function\n",
        "cities['_found'] = find_city\n",
        "\n",
        "###################### Another example ########################################\n",
        "def do_ping(self, arg):\n",
        "    return 'Pong, {0}!'.format(arg)\n",
        "\n",
        "def do_ls(self, arg):\n",
        "    return '\\n'.join(os.listdir(arg))\n",
        "\n",
        "dispatch = {\n",
        "    'ping': do_ping,\n",
        "    'ls': do_ls,\n",
        "}\n",
        "\n",
        "def process_network_command(command, arg):\n",
        "    send(dispatch[command](arg))"
      ],
      "metadata": {
        "colab": {
          "base_uri": "https://localhost:8080/"
        },
        "id": "WDBhFRDHP6V-",
        "outputId": "c6932e2a-5684-4d39-d857-d69912e8745e"
      },
      "execution_count": null,
      "outputs": [
        {
          "output_type": "execute_result",
          "data": {
            "text/plain": [
              "{'San Diego': 'CA',\n",
              " 'New York': 'NY',\n",
              " 'Detroit': 'MI',\n",
              " '_found': <function __main__.find_city(map, city)>}"
            ]
          },
          "metadata": {},
          "execution_count": 8
        }
      ]
    },
    {
      "cell_type": "code",
      "source": [
        "cities['_found'](cities, 'New York')"
      ],
      "metadata": {
        "colab": {
          "base_uri": "https://localhost:8080/"
        },
        "id": "y-TX9Lj71LuC",
        "outputId": "cff28b27-eb9a-4e7b-df2b-642613d7bb53"
      },
      "execution_count": null,
      "outputs": [
        {
          "output_type": "execute_result",
          "data": {
            "text/plain": [
              "'NY'"
            ],
            "application/vnd.google.colaboratory.intrinsic+json": {
              "type": "string"
            }
          },
          "metadata": {},
          "execution_count": 10
        }
      ]
    },
    {
      "cell_type": "code",
      "source": [
        "# const object4 = {\n",
        "#     a: function() {\n",
        "#        console.log(this);\n",
        "#     }\n",
        "# }\n",
        "def fn():\n",
        "  print(self)\n",
        "object4 = {'a': fn}\n",
        "object4\n",
        "object4['a']"
      ],
      "metadata": {
        "colab": {
          "base_uri": "https://localhost:8080/"
        },
        "id": "xsLtxBpp3Rpv",
        "outputId": "e0120b4a-30e5-4505-b2e8-860ba5847725"
      },
      "execution_count": null,
      "outputs": [
        {
          "output_type": "execute_result",
          "data": {
            "text/plain": [
              "<function __main__.fn()>"
            ]
          },
          "metadata": {},
          "execution_count": 15
        }
      ]
    },
    {
      "cell_type": "markdown",
      "source": [
        "## Implement an array"
      ],
      "metadata": {
        "id": "0ETN-gvLEu84"
      }
    },
    {
      "cell_type": "code",
      "source": [
        "class Arrays():\n",
        "  def __init__(self):\n",
        "    self.length = 0\n",
        "    self.data = {}\n",
        "  #O(1)\n",
        "  def getIndex(self, index):\n",
        "    return self.data[index]\n",
        "\n",
        "  #O(1)\n",
        "  def push(self, value):\n",
        "    self.data[self.length] = value\n",
        "    self.length+=1\n",
        "    return self.data\n",
        "\n",
        "  #O(1)\n",
        "  def pop(self):\n",
        "    value = self.data[self.length-1]\n",
        "    del self.data[self.length-1]\n",
        "    self.length-=1\n",
        "    return value\n",
        "\n",
        "  #O(N)\n",
        "  def insert(self, index, value):\n",
        "    self.shiftItems(index, 'insert')\n",
        "    self.data[index] = value\n",
        "    return self.data\n",
        "\n",
        "  #O(N)\n",
        "  def delete(self, index):\n",
        "    value = self.data[index]\n",
        "    self.shiftItems(index, 'delete')\n",
        "    return self.data, value\n",
        "  \n",
        "  #O(N)\n",
        "  def shiftItems(self, index, operation):\n",
        "    if operation == 'insert':\n",
        "      for i in range(self.length-1, index-1, -1):\n",
        "        self.data[i+1] = self.data[i]\n",
        "      self.length += 1\n",
        "    if operation == 'delete':\n",
        "      for i in range(index, self.length-1):\n",
        "        self.data[i] = self.data[i+1]\n",
        "      del self.data[self.length-1]\n",
        "      self.length -= 1"
      ],
      "metadata": {
        "id": "nIJCObaXEtw8"
      },
      "execution_count": null,
      "outputs": []
    },
    {
      "cell_type": "code",
      "source": [
        "newArray = Arrays()\n",
        "newArray.push('i')\n",
        "newArray.push('luv')\n",
        "newArray.push('u')\n",
        "newArray.push('!')\n",
        "#print(newArray.getIndex(0))\n",
        "#print(newArray.pop())\n",
        "print(newArray.insert(3,'more'))\n",
        "newArray.insert(1,'hate')\n",
        "newArray.delete(2)\n",
        "newArray.delete(4)"
      ],
      "metadata": {
        "colab": {
          "base_uri": "https://localhost:8080/"
        },
        "id": "wWrb0AzS4F6o",
        "outputId": "db4d8600-ecaf-4b7d-dcd4-28d83c711915"
      },
      "execution_count": null,
      "outputs": [
        {
          "output_type": "stream",
          "name": "stdout",
          "text": [
            "{0: 'i', 1: 'luv', 2: 'u', 3: 'more', 4: '!'}\n"
          ]
        },
        {
          "output_type": "execute_result",
          "data": {
            "text/plain": [
              "({0: 'i', 1: 'hate', 2: 'u', 3: 'more'}, '!')"
            ]
          },
          "metadata": {},
          "execution_count": 53
        }
      ]
    },
    {
      "cell_type": "markdown",
      "source": [
        "## Reverse a String"
      ],
      "metadata": {
        "id": "f0EF0jxzO1tn"
      }
    },
    {
      "cell_type": "code",
      "source": [
        "#O(N)\n",
        "def reverse(string):\n",
        "  return (''.join(reversed(string)))\n",
        "\n",
        "#O(N)\n",
        "def reverse1(string):\n",
        "  # check input\n",
        "  if (not isinstance(string, bool)) and (string is not None):\n",
        "    if (len(string.strip())<2) or (type(string)!= str) or (len(set(string))<2):\n",
        "      return \"Not a string\"\n",
        "\n",
        "    str_len = len(string)\n",
        "    rev_string = []\n",
        "    for i in range(str_len-1, -1, -1):\n",
        "      rev_string.append(string[i])\n",
        "    return ''.join(rev_string)\n",
        "\n",
        "  return \"Not a string\"\n",
        "\n",
        "print(reverse('My name is Saurabh'))\n",
        "reverse1('My name is Saurabh')\n",
        "print(reverse1(''))\n",
        "print(reverse1(None))\n",
        "print(reverse1('  '))\n",
        "print(reverse1('....'))\n",
        "print(reverse1(False))"
      ],
      "metadata": {
        "colab": {
          "base_uri": "https://localhost:8080/"
        },
        "id": "RqVPB0PNIrUS",
        "outputId": "f7a0e0cd-c841-4fe9-c607-66e3cdfb4eaa"
      },
      "execution_count": null,
      "outputs": [
        {
          "output_type": "stream",
          "name": "stdout",
          "text": [
            "hbaruaS si eman yM\n",
            "Not a string\n",
            "Not a string\n",
            "Not a string\n",
            "Not a string\n",
            "Not a string\n"
          ]
        }
      ]
    },
    {
      "cell_type": "markdown",
      "source": [
        "## Merge sorted arrays"
      ],
      "metadata": {
        "id": "iL2HmHouJp4G"
      }
    },
    {
      "cell_type": "code",
      "source": [
        "arr1 = [0,3,4,31]\n",
        "arr2 = [4,6,30]\n",
        "\n",
        "def mergeSortedArrays(arr1, arr2):\n",
        "  if len(arr1)>0 and len(arr2)>0:\n",
        "    return sorted(arr1 + arr2)\n",
        "\n",
        "# O(N*N)\n",
        "def array_sort(arr):\n",
        "  for i in range(len(arr)):\n",
        "    for j in range(i, len(arr)):\n",
        "      if arr[i]>arr[j]:\n",
        "        t = arr[i]\n",
        "        arr[i] = arr[j]\n",
        "        arr[j] = t\n",
        "  return arr\n",
        "\n",
        "# O(N*N) + O(N)\n",
        "def mergeSortedArrays1(arr1, arr2):\n",
        "  if len(arr1)>0 and len(arr2)>0:\n",
        "    return array_sort(arr1+arr2)\n",
        "\n",
        "def mergeSortedArrays2(arr1, arr2):\n",
        "  # check input\n",
        "  if len(arr1)==0: return arr2\n",
        "  if len(arr2)==0: return arr1\n",
        "\n",
        "  arr1Item = arr1[0]; arr2Item = arr2[0]\n",
        "\n",
        "  while(not arr1Item or not arr2Item):\n",
        "    if arr1Item < arr2Item:\n",
        "      mergedArray.append(arr1Item)\n",
        "\n",
        "\n",
        "mergeSortedArrays2(arr1, arr2)"
      ],
      "metadata": {
        "id": "Tb9_j8EuHsJo"
      },
      "execution_count": null,
      "outputs": []
    },
    {
      "cell_type": "code",
      "source": [
        "arr1 = [0,4,3,31]\n",
        "arr2 = [6,4,30]\n",
        "print(mergeSortedArrays(arr1,arr2))\n",
        "mergeSortedArrays1(arr1,arr2)"
      ],
      "metadata": {
        "colab": {
          "base_uri": "https://localhost:8080/"
        },
        "id": "j_CjlFP0KNoC",
        "outputId": "a15eb828-5fb7-460c-a5a8-f924640628ba"
      },
      "execution_count": null,
      "outputs": [
        {
          "output_type": "stream",
          "name": "stdout",
          "text": [
            "[0, 3, 4, 4, 6, 30, 31]\n"
          ]
        },
        {
          "output_type": "execute_result",
          "data": {
            "text/plain": [
              "[0, 3, 4, 4, 6, 30, 31]"
            ]
          },
          "metadata": {},
          "execution_count": 30
        }
      ]
    },
    {
      "cell_type": "code",
      "source": [
        "t = []\n",
        "while(not t): \n",
        "  print(\"h\") \n",
        "  break"
      ],
      "metadata": {
        "colab": {
          "base_uri": "https://localhost:8080/"
        },
        "id": "hcsS_l2lKPBD",
        "outputId": "1296f6f2-8fb0-4d03-9823-d969a1d9c514"
      },
      "execution_count": null,
      "outputs": [
        {
          "output_type": "stream",
          "name": "stdout",
          "text": [
            "h\n"
          ]
        }
      ]
    },
    {
      "cell_type": "markdown",
      "source": [
        "2 <= nums.length <= 104\n",
        "-109 <= nums[i] <= 109\n",
        "-109 <= target <= 109\n",
        "Only one valid answer exists."
      ],
      "metadata": {
        "id": "dUgSx67rRaZ5"
      }
    },
    {
      "cell_type": "markdown",
      "source": [
        "## twoSum Problem\n",
        "\n",
        "> Given an array of integers nums and an integer target, return indices of the two numbers such that they add up to target. You may assume that each input would have exactly one solution, and you may not use the same element twice. You can return the answer in any order."
      ],
      "metadata": {
        "id": "nbupi8xKgXpU"
      }
    },
    {
      "cell_type": "code",
      "source": [
        "def twoSum(nums, target):\n",
        "  #check input\n",
        "  checkSum_dict = {}\n",
        "\n",
        "  #O(N)\n",
        "  for i in range(len(nums)):\n",
        "    checkSum_dict[target - nums[i]] = i\n",
        "    print(checkSum_dict)\n",
        "\n",
        "  #O(N)\n",
        "  for j in range(len(nums)):\n",
        "    if nums[j] in checkSum_dict:\n",
        "      return [j,checkSum_dict[nums[j]]]\n",
        "  return print(\"Sum not found\")\n",
        "\n",
        "twoSum([2,7,11,15],9)\n",
        "twoSum([3,2,4],6)\n",
        "twoSum([3,3],6)"
      ],
      "metadata": {
        "colab": {
          "base_uri": "https://localhost:8080/"
        },
        "id": "HresA8IeG7zF",
        "outputId": "9a04ca56-7b14-43f6-82aa-247cf6de317a"
      },
      "execution_count": null,
      "outputs": [
        {
          "output_type": "stream",
          "name": "stdout",
          "text": [
            "{7: 0}\n",
            "{7: 0, 2: 1}\n",
            "{7: 0, 2: 1, -2: 2}\n",
            "{7: 0, 2: 1, -2: 2, -6: 3}\n",
            "{3: 0}\n",
            "{3: 0, 4: 1}\n",
            "{3: 0, 4: 1, 2: 2}\n",
            "{3: 0}\n",
            "{3: 1}\n"
          ]
        },
        {
          "output_type": "execute_result",
          "data": {
            "text/plain": [
              "[0, 1]"
            ]
          },
          "metadata": {},
          "execution_count": 13
        }
      ]
    },
    {
      "cell_type": "markdown",
      "source": [
        "## 53. Maximum Subarray\n",
        "> Given an integer array nums, find the contiguous subarray (containing at least one number) which has the largest sum and return its sum."
      ],
      "metadata": {
        "id": "K2Oe8ldkg293"
      }
    },
    {
      "cell_type": "code",
      "source": [
        "#Brute Force\n",
        "#O(N*N)\n",
        "def maxSubArray(nums):\n",
        "  max_arr_sum = 0\n",
        "  max_arr = []\n",
        "  for s in range(len(nums)):\n",
        "    sub_arr_sum = 0\n",
        "    sub_arr = []\n",
        "    for e in range(s, len(nums)):\n",
        "      sub_arr.append(nums[e])\n",
        "      sub_arr_sum += nums[e]\n",
        "      #print(sub_arr, sub_arr_sum)\n",
        "      if sub_arr_sum>max_arr_sum: \n",
        "        max_arr_sum = sub_arr_sum\n",
        "        max_arr = sub_arr\n",
        "  return max_arr, max_arr_sum\n",
        "\n",
        "# O(N) Kadane's algorithm\n",
        "# For a new number to not have the potential increase the sum, it must be less than the sum. Then the array gets re-initialized\n",
        "def maxSubArray1(nums):\n",
        "  max_arr_sum = maximum = nums[0]\n",
        "  max_arr = maximum_arr = []\n",
        "  max_arr.append(nums[0])\n",
        "  maximum_arr.append(nums[0])\n",
        "  for s in range(1, len(nums)):\n",
        "    if max_arr_sum + nums[s] < nums[s]:\n",
        "      max_arr_sum = nums[s]\n",
        "      max_arr = []\n",
        "      max_arr.append(nums[s])\n",
        "    else:\n",
        "      max_arr_sum = max_arr_sum+nums[s]\n",
        "      max_arr.append(nums[s])\n",
        "    if max_arr_sum>maximum:\n",
        "      maximum = max_arr_sum\n",
        "      maximum_arr = max_arr.copy()\n",
        "      #print(max_arr, max_arr_sum, maximum, maximum_arr) \n",
        "  return maximum_arr, maximum\n",
        "\n",
        "def maxSubArray2(nums):\n",
        "  max_arr_sum = maximum = nums[0]\n",
        "  for s in range(1, len(nums)):\n",
        "    max_arr_sum = max(nums[s], max_arr_sum+nums[s])\n",
        "    maximum = max(max_arr_sum, maximum)\n",
        "  return maximum\n",
        "\n",
        "\n",
        "maxSubArray1([-2,1,-3,4,-1,2,1,-5,4])"
      ],
      "metadata": {
        "colab": {
          "base_uri": "https://localhost:8080/"
        },
        "id": "VgHGAbRDT654",
        "outputId": "d76064a6-3770-46a7-8921-1b590df8b1fb"
      },
      "execution_count": null,
      "outputs": [
        {
          "output_type": "stream",
          "name": "stdout",
          "text": [
            "[1] 1 1 [1]\n",
            "[4] 4 4 [4]\n",
            "[4, -1, 2] 5 5 [4, -1, 2]\n",
            "[4, -1, 2, 1] 6 6 [4, -1, 2, 1]\n"
          ]
        },
        {
          "output_type": "execute_result",
          "data": {
            "text/plain": [
              "([4, -1, 2, 1], 6)"
            ]
          },
          "metadata": {},
          "execution_count": 46
        }
      ]
    },
    {
      "cell_type": "markdown",
      "source": [
        "# Hash Tables"
      ],
      "metadata": {
        "id": "i38WVGlGVWC3"
      }
    },
    {
      "cell_type": "code",
      "source": [
        "class Hash_tables():\n",
        "  def __init__(self, size):\n",
        "    self.size = size\n",
        "    self.data = [None]*self.size\n",
        "\n",
        "  #def __str__(self): #As in the array implementation, this method is used to print the attributes of the class object in a dictionary format\n",
        "  #      return str(self.__dict__)\n",
        "\n",
        "  def _hash(self, key):\n",
        "    hash = 0\n",
        "    for i in range(len(key)):\n",
        "      hash = (hash + ord(key[i]) * i) % self.size\n",
        "\n",
        "    return hash\n",
        "\n",
        "  def set(self, key, value):\n",
        "    address = self._hash(key)\n",
        "    #print(\"address-\",address)\n",
        "    if (not self.data[address]):\n",
        "      self.data[address] = [[key, value]]\n",
        "    else:\n",
        "      self.data[address].append([key, value])\n",
        "    return self.data\n",
        "\n",
        "  def get(self, key):\n",
        "    address = self._hash(key)\n",
        "    key_values = self.data[address]\n",
        "    if (key_values):\n",
        "      for j in range(len(key_values)):\n",
        "        if key_values[j][0] == key:\n",
        "          return key_values[j][1]\n",
        "    return None\n",
        "  \n",
        "  def keys(self):\n",
        "    keys_arr = []\n",
        "    for i in range(len(self.data)):\n",
        "      if (self.data[i]):\n",
        "      #print(self.data[i])\n",
        "        if len(self.data[i])>1:\n",
        "          for j in range(len(self.data[i])):\n",
        "            keys_arr.append(self.data[i][j][0])\n",
        "        else:\n",
        "          keys_arr.append(self.data[i][0][0])      \n",
        "    return keys_arr\n",
        "\n",
        "  def values(self):\n",
        "    values_arr = []\n",
        "    for i in range(len(self.data)):\n",
        "      if (self.data[i]):\n",
        "      #print(self.data[i])\n",
        "        if len(self.data[i])>1:\n",
        "          for j in range(len(self.data[i])):\n",
        "            values_arr.append(self.data[i][j][1])\n",
        "        else:\n",
        "          values_arr.append(self.data[i][0][1])      \n",
        "    return values_arr\n",
        "\n",
        "my_dict = Hash_tables(5)\n",
        "my_dict.set('grapes', 10000)\n",
        "my_dict.set('apples', 50)\n",
        "my_dict.set('mango', 10)\n",
        "print(my_dict.set('oranges', 5))\n",
        "print(my_dict.get('grapes'))\n",
        "print(my_dict.get('mango'))\n",
        "print(my_dict.get('oranges'))\n",
        "\n",
        "print(my_dict.keys())\n",
        "print(my_dict.values())"
      ],
      "metadata": {
        "colab": {
          "base_uri": "https://localhost:8080/"
        },
        "id": "UV8gDbKnwxiw",
        "outputId": "46ea25b8-203a-46de-e143-05fd13b18438"
      },
      "execution_count": null,
      "outputs": [
        {
          "output_type": "stream",
          "name": "stdout",
          "text": [
            "[[['mango', 10], ['oranges', 5]], None, None, [['grapes', 10000]], [['apples', 50]]]\n",
            "10000\n",
            "10\n",
            "5\n",
            "['mango', 'oranges', 'grapes', 'apples']\n",
            "[10, 5, 10000, 50]\n"
          ]
        }
      ]
    },
    {
      "cell_type": "markdown",
      "source": [
        "## First recurring character"
      ],
      "metadata": {
        "id": "8ZG7edkzCkZ9"
      }
    },
    {
      "cell_type": "code",
      "source": [
        "arr = [2,3,4,6,1,6,1,7,8]\n",
        "arr1 = [2,1,1,1,2,3,5,7,8]\n",
        "\n",
        "def firstRecur(arr):\n",
        "  arr_dict = {}\n",
        "  for i in arr:\n",
        "    if(i not in arr_dict):\n",
        "      arr_dict[i] = True\n",
        "    else:\n",
        "      return i\n",
        "    print(arr_dict)\n",
        "  return None\n",
        "\n",
        "firstRecur(arr)\n",
        "#firstRecur(arr1)"
      ],
      "metadata": {
        "colab": {
          "base_uri": "https://localhost:8080/"
        },
        "id": "J4h9Jl9tCusc",
        "outputId": "0980e6e2-6601-4d4f-d1fb-4dabff338f71"
      },
      "execution_count": null,
      "outputs": [
        {
          "output_type": "stream",
          "name": "stdout",
          "text": [
            "{2: True}\n",
            "{2: True, 3: True}\n",
            "{2: True, 3: True, 4: True}\n",
            "{2: True, 3: True, 4: True, 6: True}\n",
            "{2: True, 3: True, 4: True, 6: True, 1: True}\n"
          ]
        },
        {
          "output_type": "execute_result",
          "data": {
            "text/plain": [
              "6"
            ]
          },
          "metadata": {},
          "execution_count": 13
        }
      ]
    },
    {
      "cell_type": "markdown",
      "source": [
        "# Linked Lists"
      ],
      "metadata": {
        "id": "F8yHN---cI8o"
      }
    },
    {
      "cell_type": "markdown",
      "source": [
        "## Implementation"
      ],
      "metadata": {
        "id": "CIdM1TDhcO1J"
      }
    },
    {
      "cell_type": "code",
      "source": [
        "obj1 = {'a': True}\n",
        "obj2 = obj1\n",
        "obj1['a']='booya'\n",
        "del obj1\n",
        "#print('1',obj1)\n",
        "print('2',obj2)"
      ],
      "metadata": {
        "id": "iQ-D_wnenefX",
        "colab": {
          "base_uri": "https://localhost:8080/"
        },
        "outputId": "6608a5b6-8ddb-4698-a186-ecec90d7c8c1"
      },
      "execution_count": null,
      "outputs": [
        {
          "output_type": "stream",
          "name": "stdout",
          "text": [
            "2 {'a': 'booya'}\n"
          ]
        }
      ]
    },
    {
      "cell_type": "code",
      "source": [
        "# These dictionaries are the nodes and the variables like head, tail, newNode are the pointers to the nodes\n",
        "\n",
        "class Mylinkedlist():\n",
        "  def __init__(self, value):\n",
        "    self.head = {\n",
        "        'value': value,\n",
        "        'next': None\n",
        "    }\n",
        "    self.tail = self.head\n",
        "    self.length = 1\n",
        "\n",
        "  def __str__(self): \n",
        "    return str(self.__dict__)\n",
        "\n",
        "  def append(self, value):\n",
        "    newNode = {\n",
        "          'value': value,\n",
        "          'next': None\n",
        "        }\n",
        "\n",
        "    self.tail['next'] = newNode\n",
        "    self.tail = newNode\n",
        "    self.length+=1\n",
        "\n",
        "  def prepend(self, value):\n",
        "    newNode = {\n",
        "        'value': value,\n",
        "        'next': None\n",
        "    }\n",
        "    newNode['next'] = self.head\n",
        "    self.head = newNode\n",
        "    self.length+=1\n",
        "\n",
        "  def traverseList(self, index):\n",
        "    current_node = self.head\n",
        "    for i in range(index):\n",
        "      current_node = current_node['next']\n",
        "    return current_node\n",
        "\n",
        "  def insert(self, index, value):\n",
        "    newNode = {\n",
        "        'value': value,\n",
        "        'next': None\n",
        "    }\n",
        "\n",
        "    if index==0:\n",
        "      self.prepend(value)\n",
        "    elif index == self.length-1:\n",
        "      self.append(value)\n",
        "    elif index >0 and index < self.length-1:\n",
        "      pre_node = self.traverseList(index-1)\n",
        "      #post_node = self.traverseList(index)\n",
        "      post_node = pre_node['next']\n",
        "      newNode['next'] = post_node\n",
        "      pre_node['next'] = newNode\n",
        "      self.length+=1\n",
        "\n",
        "  def remove(self, index):\n",
        "    if index == 0:\n",
        "      self.head = self.head['next']\n",
        "      self.length-=1\n",
        "    elif index >0 and index <= self.length-1:\n",
        "      pre_node = self.traverseList(index-1)\n",
        "      #post_node = self.traverseList(index)\n",
        "      post_node = pre_node['next']\n",
        "      if index == self.length-1:\n",
        "        self.tail = pre_node\n",
        "        #pre_node['next'] = self.tail\n",
        "        self.tail['next'] = None\n",
        "        self.length-=1\n",
        "      else:\n",
        "        pre_node['next'] = post_node['next']\n",
        "        self.length-=1\n",
        "    \n",
        "\n",
        "# 1-->10-->5-->16\n",
        "linkedList = Mylinkedlist(10)\n",
        "linkedList.append(5)\n",
        "linkedList.append(16)\n",
        "linkedList.prepend(1)\n",
        "print(linkedList)\n",
        "# 0-->1-->10-->9-->11-->5-->16-->7\n",
        "linkedList.insert(2,9)\n",
        "linkedList.insert(3,11)\n",
        "linkedList.insert(0,0)\n",
        "linkedList.insert(6,7)\n",
        "print(linkedList)\n",
        "# 1-->10-->9-->5-->16\n",
        "linkedList.remove(0)\n",
        "linkedList.remove(6)\n",
        "linkedList.remove(3)\n",
        "print(linkedList)\n",
        "# this print statement calls __str__()\n",
        "#print(linkedList)"
      ],
      "metadata": {
        "colab": {
          "base_uri": "https://localhost:8080/"
        },
        "id": "ueKsQN6-ca84",
        "outputId": "6e5381ab-2c90-4a27-e855-de552de1cc83"
      },
      "execution_count": null,
      "outputs": [
        {
          "output_type": "stream",
          "name": "stdout",
          "text": [
            "{'head': {'value': 1, 'next': {'value': 10, 'next': {'value': 5, 'next': {'value': 16, 'next': None}}}}, 'tail': {'value': 16, 'next': None}, 'length': 4}\n",
            "{'head': {'value': 0, 'next': {'value': 1, 'next': {'value': 10, 'next': {'value': 9, 'next': {'value': 11, 'next': {'value': 5, 'next': {'value': 16, 'next': {'value': 7, 'next': None}}}}}}}}, 'tail': {'value': 7, 'next': None}, 'length': 8}\n",
            "{'head': {'value': 1, 'next': {'value': 10, 'next': {'value': 9, 'next': {'value': 5, 'next': {'value': 16, 'next': None}}}}}, 'tail': {'value': 16, 'next': None}, 'length': 5}\n"
          ]
        }
      ]
    },
    {
      "cell_type": "code",
      "source": [
        "# 1.By using the __dict__ attribute on an object of a class and attaining the dictionary. All objects in \n",
        "# Python have an attribute __dict__, which is a dictionary object containing all attributes defined for \n",
        "# that object itself. The mapping of attributes with its values is done to generate a dictionary.\n",
        "# 2. By calling the in-built vars method, which is used to return __dict__ attribute of a module, class, \n",
        "# class instance, or an object.\n",
        "\n",
        "class Node():\n",
        "  def __init__(self, value):\n",
        "    self.value = value\n",
        "    self.next = None\n",
        "  \n",
        "  def __str__(self):\n",
        "    return str(self.__dict__)\n",
        "\n",
        "node = Node(10)\n",
        "print(node.__dict__)\n",
        "print(vars(node))"
      ],
      "metadata": {
        "colab": {
          "base_uri": "https://localhost:8080/"
        },
        "id": "9DAsQZTP7ZEJ",
        "outputId": "1224d583-6369-47d4-a6ce-96bd4cca1db3"
      },
      "execution_count": null,
      "outputs": [
        {
          "output_type": "stream",
          "name": "stdout",
          "text": [
            "{'value': 10, 'next': None}\n",
            "{'value': 10, 'next': None}\n"
          ]
        }
      ]
    },
    {
      "cell_type": "code",
      "source": [
        "# More compact method by converting the task of creating newNode into a seperate class\n",
        "# The object returned by Node class is converted to dictionary by using __dict__\n",
        "\n",
        "class Node():\n",
        "  def __init__(self, value):\n",
        "    self.value = value\n",
        "    self.next = None\n",
        "\n",
        "class Mylinkedlist1():\n",
        "  def __init__(self, value):\n",
        "    self.head = {\n",
        "        'value': value,\n",
        "        'next': None\n",
        "    }\n",
        "    self.tail = self.head\n",
        "    self.length = 1\n",
        "\n",
        "  def __str__(self): \n",
        "    return str(self.__dict__)\n",
        "\n",
        "  def append(self, value):\n",
        "    newNode = Node(value)\n",
        "    self.tail['next'] = newNode.__dict__\n",
        "    self.tail = newNode.__dict__\n",
        "    self.length+=1\n",
        "\n",
        "  def prepend(self, value):\n",
        "    newNode = Node(value)\n",
        "    newNode.__dict__['next'] = self.head\n",
        "    self.head = newNode.__dict__\n",
        "    self.length+=1\n",
        "\n",
        "  def insert(self, index, value):\n",
        "    \n",
        "\n",
        "# 1-->10-->5-->16\n",
        "linkedList = Mylinkedlist1(10)\n",
        "linkedList.append(5)\n",
        "linkedList.append(16)\n",
        "linkedList.prepend(1)\n",
        "# this print statement calls __str__()\n",
        "print(linkedList)"
      ],
      "metadata": {
        "colab": {
          "base_uri": "https://localhost:8080/"
        },
        "id": "TV5i_PjLfmZJ",
        "outputId": "b36b0105-1f2a-4001-e6fe-6c31737fee2f"
      },
      "execution_count": null,
      "outputs": [
        {
          "output_type": "stream",
          "name": "stdout",
          "text": [
            "{'head': {'value': 1, 'next': {'value': 10, 'next': {'value': 5, 'next': {'value': 16, 'next': None}}}}, 'tail': {'value': 16, 'next': None}, 'length': 4}\n"
          ]
        }
      ]
    },
    {
      "cell_type": "code",
      "source": [
        "# These dictionaries are the nodes and the variables like head, tail, newNode are the pointers to the nodes\n",
        "\n",
        "class DoublyLinkedlist():\n",
        "  def __init__(self, value):\n",
        "    self.head = {\n",
        "        'value': value,\n",
        "        'next': None,\n",
        "        'prev':None\n",
        "    }\n",
        "    self.tail = self.head\n",
        "    self.length = 1\n",
        "\n",
        "  def __str__(self): \n",
        "    return str(self.__dict__)\n",
        "\n",
        "  def append(self, value):\n",
        "    newNode = {\n",
        "          'value': value,\n",
        "          'next': None,\n",
        "          'prev':None\n",
        "        }\n",
        "    newNode['prev'] = self.tail\n",
        "    self.tail['next'] = newNode\n",
        "    self.tail = newNode\n",
        "    self.length+=1\n",
        "\n",
        "  def prepend(self, value):\n",
        "    newNode = {\n",
        "        'value': value,\n",
        "        'next': None,\n",
        "        'prev':None\n",
        "    }\n",
        "    newNode['next'] = self.head\n",
        "    self.head['prev'] = newNode\n",
        "    self.head = newNode\n",
        "    self.length+=1\n",
        "\n",
        "  def traverseList(self, index):\n",
        "    current_node = self.head\n",
        "    for i in range(index):\n",
        "      current_node = current_node['next']\n",
        "    return current_node\n",
        "\n",
        "  def insert(self, index, value):\n",
        "    newNode = {\n",
        "        'value': value,\n",
        "        'next': None,\n",
        "        'prev':None\n",
        "    }\n",
        "\n",
        "    if index==0:\n",
        "      self.prepend(value)\n",
        "    elif index == self.length-1:\n",
        "      self.append(value)\n",
        "    elif index >0 and index < self.length-1:\n",
        "      pre_node = self.traverseList(index-1)\n",
        "      #post_node = self.traverseList(index)\n",
        "      post_node = pre_node['next']\n",
        "      newNode['next'] = post_node\n",
        "      post_node['prev'] = newNode\n",
        "      pre_node['next'] = newNode\n",
        "      newNode['prev'] = pre_node\n",
        "      self.length+=1\n",
        "\n",
        "  def remove(self, index):\n",
        "    if index == 0:\n",
        "      self.head = self.head['next']\n",
        "      self.head['prev'] = None\n",
        "      self.length-=1\n",
        "    elif index >0 and index <= self.length-1:\n",
        "      pre_node = self.traverseList(index-1)\n",
        "      #post_node = self.traverseList(index)\n",
        "      post_node = pre_node['next']\n",
        "      if index == self.length-1:\n",
        "        self.tail = pre_node\n",
        "        #pre_node['next'] = self.tail\n",
        "        self.tail['next'] = None\n",
        "        self.length-=1\n",
        "      else:\n",
        "        pre_node['next'] = post_node['next']\n",
        "        post_node['next']['prev'] = pre_node\n",
        "        self.length-=1\n",
        "    \n",
        "\n",
        "# 1-->10-->5-->16\n",
        "linkedList = DoublyLinkedlist(10)\n",
        "linkedList.append(5)\n",
        "linkedList.append(16)\n",
        "linkedList.prepend(1)\n",
        "print(linkedList)\n",
        "# 0-->1-->10-->9-->11-->5-->16-->7\n",
        "linkedList.insert(2,9)\n",
        "linkedList.insert(3,11)\n",
        "linkedList.insert(0,0)\n",
        "linkedList.insert(6,7)\n",
        "print(linkedList)\n",
        "# # 1-->10-->9-->5-->16\n",
        "linkedList.remove(0)\n",
        "linkedList.remove(6)\n",
        "linkedList.remove(3)\n",
        "print(linkedList)\n",
        "# this print statement calls __str__()\n",
        "#print(linkedList)"
      ],
      "metadata": {
        "colab": {
          "base_uri": "https://localhost:8080/"
        },
        "id": "0sr9CPz83Ohq",
        "outputId": "9efb796b-9b39-4ba6-b4e4-293a19c0e8fa"
      },
      "execution_count": null,
      "outputs": [
        {
          "output_type": "stream",
          "name": "stdout",
          "text": [
            "{'head': {'value': 1, 'next': {'value': 10, 'next': {'value': 5, 'next': {'value': 16, 'next': None, 'prev': {...}}, 'prev': {...}}, 'prev': {...}}, 'prev': None}, 'tail': {'value': 16, 'next': None, 'prev': {'value': 5, 'next': {...}, 'prev': {'value': 10, 'next': {...}, 'prev': {'value': 1, 'next': {...}, 'prev': None}}}}, 'length': 4}\n",
            "{'head': {'value': 0, 'next': {'value': 1, 'next': {'value': 10, 'next': {'value': 9, 'next': {'value': 11, 'next': {'value': 5, 'next': {'value': 16, 'next': {'value': 7, 'next': None, 'prev': {...}}, 'prev': {...}}, 'prev': {...}}, 'prev': {...}}, 'prev': {...}}, 'prev': {...}}, 'prev': {...}}, 'prev': None}, 'tail': {'value': 7, 'next': None, 'prev': {'value': 16, 'next': {...}, 'prev': {'value': 5, 'next': {...}, 'prev': {'value': 11, 'next': {...}, 'prev': {'value': 9, 'next': {...}, 'prev': {'value': 10, 'next': {...}, 'prev': {'value': 1, 'next': {...}, 'prev': {'value': 0, 'next': {...}, 'prev': None}}}}}}}}, 'length': 8}\n",
            "{'head': {'value': 1, 'next': {'value': 10, 'next': {'value': 9, 'next': {'value': 5, 'next': {'value': 16, 'next': None, 'prev': {...}}, 'prev': {...}}, 'prev': {...}}, 'prev': {...}}, 'prev': None}, 'tail': {'value': 16, 'next': None, 'prev': {'value': 5, 'next': {...}, 'prev': {'value': 9, 'next': {...}, 'prev': {'value': 10, 'next': {...}, 'prev': {'value': 1, 'next': {...}, 'prev': None}}}}}, 'length': 5}\n"
          ]
        }
      ]
    },
    {
      "cell_type": "markdown",
      "source": [
        "## Reverse Linked List"
      ],
      "metadata": {
        "id": "K2SPcPcD4tZF"
      }
    },
    {
      "cell_type": "code",
      "source": [
        "# These dictionaries are the nodes and the variables like head, tail, newNode are the pointers to the nodes\n",
        "\n",
        "class Mylinkedlist():\n",
        "  def __init__(self, value):\n",
        "    self.head = {\n",
        "        'value': value,\n",
        "        'next': None\n",
        "    }\n",
        "    self.tail = self.head\n",
        "    self.length = 1\n",
        "\n",
        "  def __str__(self): \n",
        "    return str(self.__dict__)\n",
        "\n",
        "  def append(self, value):\n",
        "    newNode = {\n",
        "          'value': value,\n",
        "          'next': None\n",
        "        }\n",
        "\n",
        "    self.tail['next'] = newNode\n",
        "    self.tail = newNode\n",
        "    self.length+=1\n",
        "\n",
        "  def prepend(self, value):\n",
        "    newNode = {\n",
        "        'value': value,\n",
        "        'next': None\n",
        "    }\n",
        "    newNode['next'] = self.head\n",
        "    self.head = newNode\n",
        "    self.length+=1\n",
        "\n",
        "  def traverseList(self, index):\n",
        "    current_node = self.head\n",
        "    for i in range(index):\n",
        "      current_node = current_node['next']\n",
        "    return current_node\n",
        "\n",
        "  def insert(self, index, value):\n",
        "    newNode = {\n",
        "        'value': value,\n",
        "        'next': None\n",
        "    }\n",
        "\n",
        "    if index==0:\n",
        "      self.prepend(value)\n",
        "    elif index == self.length-1:\n",
        "      self.append(value)\n",
        "    elif index >0 and index < self.length-1:\n",
        "      pre_node = self.traverseList(index-1)\n",
        "      #post_node = self.traverseList(index)\n",
        "      post_node = pre_node['next']\n",
        "      newNode['next'] = post_node\n",
        "      pre_node['next'] = newNode\n",
        "      self.length+=1\n",
        "\n",
        "  def remove(self, index):\n",
        "    if index == 0:\n",
        "      self.head = self.head['next']\n",
        "      self.length-=1\n",
        "    elif index >0 and index <= self.length-1:\n",
        "      pre_node = self.traverseList(index-1)\n",
        "      #post_node = self.traverseList(index)\n",
        "      post_node = pre_node['next']\n",
        "      if index == self.length-1:\n",
        "        self.tail = pre_node\n",
        "        #pre_node['next'] = self.tail\n",
        "        self.tail['next'] = None\n",
        "        self.length-=1\n",
        "      else:\n",
        "        pre_node['next'] = post_node['next']\n",
        "        self.length-=1\n",
        "  \n",
        "  def reverse(self):\n",
        "    if self.length == 1:\n",
        "      return self\n",
        "    else:\n",
        "     firstNode = self.head\n",
        "     secondNode = firstNode['next']\n",
        "     i=0\n",
        "     while(secondNode):\n",
        "       tempNode = secondNode['next']\n",
        "       secondNode['next'] = firstNode\n",
        "       firstNode = secondNode\n",
        "       secondNode = tempNode\n",
        "     \n",
        "     self.head['next'] = None\n",
        "     self.tail = self.head\n",
        "     self.head = firstNode\n",
        "\n",
        "\n",
        "# 1-->10-->5-->16\n",
        "linkedList = Mylinkedlist(10)\n",
        "linkedList.append(5)\n",
        "linkedList.append(16)\n",
        "linkedList.prepend(1)\n",
        "print(linkedList)\n",
        "# 0-->1-->10-->9-->11-->5-->16-->7\n",
        "linkedList.insert(2,9)\n",
        "linkedList.insert(3,11)\n",
        "linkedList.insert(0,0)\n",
        "linkedList.insert(6,7)\n",
        "print(linkedList)\n",
        "# 1-->10-->9-->5-->16\n",
        "linkedList.remove(0)\n",
        "linkedList.remove(6)\n",
        "linkedList.remove(3)\n",
        "print(linkedList)\n",
        "linkedList.reverse()\n",
        "print(linkedList)\n",
        "# this print statement calls __str__()\n",
        "#print(linkedList)"
      ],
      "metadata": {
        "id": "c0KB4aBp56Os",
        "colab": {
          "base_uri": "https://localhost:8080/"
        },
        "outputId": "6158b02d-2312-4b26-d978-b1adf2fa7f19"
      },
      "execution_count": null,
      "outputs": [
        {
          "output_type": "stream",
          "name": "stdout",
          "text": [
            "{'head': {'value': 1, 'next': {'value': 10, 'next': {'value': 5, 'next': {'value': 16, 'next': None}}}}, 'tail': {'value': 16, 'next': None}, 'length': 4}\n",
            "{'head': {'value': 0, 'next': {'value': 1, 'next': {'value': 10, 'next': {'value': 9, 'next': {'value': 11, 'next': {'value': 5, 'next': {'value': 16, 'next': {'value': 7, 'next': None}}}}}}}}, 'tail': {'value': 7, 'next': None}, 'length': 8}\n",
            "{'head': {'value': 1, 'next': {'value': 10, 'next': {'value': 9, 'next': {'value': 5, 'next': {'value': 16, 'next': None}}}}}, 'tail': {'value': 16, 'next': None}, 'length': 5}\n",
            "{'head': {'value': 16, 'next': {'value': 5, 'next': {'value': 9, 'next': {'value': 10, 'next': {'value': 1, 'next': None}}}}}, 'tail': {'value': 1, 'next': None}, 'length': 5}\n"
          ]
        }
      ]
    },
    {
      "cell_type": "markdown",
      "source": [
        "# Stacks"
      ],
      "metadata": {
        "id": "TwV-58jXG_rk"
      }
    },
    {
      "cell_type": "code",
      "source": [
        "# Stacks using LinkedLists\n",
        "\n",
        "class Node():\n",
        "  def __init__(self, value):\n",
        "    self.value = value\n",
        "    self.next = None\n",
        "\n",
        "class MyStack():\n",
        "  def __init__(self):\n",
        "    self.top = None\n",
        "    self.bottom = None\n",
        "    self.length = 0\n",
        "\n",
        "  def __str__(self):\n",
        "    return str(self.__dict__)\n",
        "\n",
        "  def peek(self):\n",
        "    return self.top\n",
        "  \n",
        "  def push(self, value):\n",
        "    newNode = Node(value)\n",
        "    if self.length == 0:\n",
        "      self.top = newNode\n",
        "      self.bottom = newNode\n",
        "      self.length+=1\n",
        "    else:\n",
        "      holdingNode = self.top\n",
        "      self.top = newNode\n",
        "      self.top.next = holdingNode\n",
        "      self.length+=1\n",
        "    \n",
        "  def pop(self):\n",
        "      if (not self.top):\n",
        "        return None\n",
        "      if (self.length == 0):\n",
        "        self.bottom = None\n",
        "      else:\n",
        "        holdingNode = self.top\n",
        "        self.top = self.top.next\n",
        "        self.length-=1\n",
        "        return holdingNode\n",
        "\n",
        "  def printStack(self):\n",
        "    if (not self.top):\n",
        "      print(\"Empty Stack\")\n",
        "    else:\n",
        "      currentNode = self.top\n",
        "      while (currentNode):\n",
        "        #print(self)\n",
        "        print(currentNode.value,\"-->\",currentNode.next)\n",
        "        currentNode = currentNode.next\n",
        "\n",
        "\n",
        "#discord-->udemy-->google\n",
        "newStack = MyStack()\n",
        "newStack.peek()\n",
        "newStack.push('google')\n",
        "newStack.push('udemy')\n",
        "newStack.push('discord')\n",
        "newStack.printStack()\n",
        "print(newStack.pop().__dict__)\n",
        "newStack.pop()\n",
        "newStack.pop()\n",
        "newStack.printStack()"
      ],
      "metadata": {
        "id": "pwmOPzyr5uoe",
        "colab": {
          "base_uri": "https://localhost:8080/"
        },
        "outputId": "06953a05-7183-499c-b013-3e562d247c1d"
      },
      "execution_count": null,
      "outputs": [
        {
          "output_type": "stream",
          "name": "stdout",
          "text": [
            "discord --> <__main__.Node object at 0x7fb8b2613b50>\n",
            "udemy --> <__main__.Node object at 0x7fb8b2726550>\n",
            "google --> None\n",
            "{'value': 'discord', 'next': <__main__.Node object at 0x7fb8b2613b50>}\n",
            "Empty Stack\n"
          ]
        }
      ]
    },
    {
      "cell_type": "code",
      "source": [
        "# Stacks using Arrays\n",
        "\n",
        "class MyStack1():\n",
        "  def __init__(self):\n",
        "    self.arr = []\n",
        "\n",
        "  def peek(self):\n",
        "    if len(self.arr)>0:\n",
        "      return self.arr[len(self.arr)-1]\n",
        "    else:\n",
        "      return None\n",
        "\n",
        "  def push(self, value):\n",
        "    if (value):\n",
        "      self.arr.append(value)\n",
        "    return self\n",
        "\n",
        "  def __str__(self):\n",
        "    return str(self.__dict__)\n",
        "\n",
        "  def pop(self):\n",
        "    self.arr.pop()\n",
        "    return self\n",
        "\n",
        "newStack = MyStack1()\n",
        "print(newStack.peek())\n",
        "newStack.push('google')\n",
        "newStack.push('udemy')\n",
        "print(newStack.push('discord'))\n",
        "print(newStack.peek())\n",
        "print(newStack.pop())\n",
        "print(newStack.pop())\n",
        "print(newStack.pop())"
      ],
      "metadata": {
        "id": "Qo6FSvrecyes",
        "colab": {
          "base_uri": "https://localhost:8080/"
        },
        "outputId": "f17af0ba-9861-4b93-cade-126c3f939b14"
      },
      "execution_count": null,
      "outputs": [
        {
          "output_type": "stream",
          "name": "stdout",
          "text": [
            "None\n",
            "{'arr': ['google', 'udemy', 'discord']}\n",
            "discord\n",
            "{'arr': ['google', 'udemy']}\n",
            "{'arr': ['google']}\n",
            "{'arr': []}\n"
          ]
        }
      ]
    },
    {
      "cell_type": "markdown",
      "source": [
        "# Queues"
      ],
      "metadata": {
        "id": "UziFtLFvbTef"
      }
    },
    {
      "cell_type": "code",
      "source": [
        "# Queues using Linked Lists\n",
        "\n",
        "class Node():\n",
        "  def __init__(self, value):\n",
        "    self.value = value\n",
        "    self.next = None\n",
        "  \n",
        "  def __str__(self):\n",
        "    return str(self.__dict__)\n",
        "\n",
        "class Queues():\n",
        "  def __init__(self):\n",
        "    self.first = None\n",
        "    self.last = None\n",
        "    self.length = 0\n",
        "\n",
        "  def __str__(self):\n",
        "    return str(self.__dict__)\n",
        "\n",
        "  def peek(self):\n",
        "    return self.first\n",
        "\n",
        "  def enqueue(self, value):\n",
        "    newNode = Node(value)\n",
        "    if self.length == 0:\n",
        "      self.first = newNode\n",
        "      self.last = newNode\n",
        "    else:\n",
        "      self.last.next = newNode        \n",
        "      self.last = newNode\n",
        "    self.length+=1\n",
        "    ## No need to update first node here since the last node and first node pointer initially both point to same node.\n",
        "    ## Then last node pointer updates the \"next\" value of the node to newNode and hence the \"next\" value of\n",
        "    ## first node automatically gets updated \n",
        "    #if self.length == 2: self.first.next = newNode  \n",
        "    return self\n",
        "  \n",
        "  def dequeue(self):\n",
        "    if (not self.first):\n",
        "      return None\n",
        "    self.first = self.first.next\n",
        "    self.length-=1\n",
        "    if self.length==0: self.last=None\n",
        "    return self\n",
        "\n",
        "  def printQueue(self):\n",
        "    if (not self.first):\n",
        "      print(\"Empty Queue\")\n",
        "    else:\n",
        "      currentNode = self.first\n",
        "      while (currentNode):\n",
        "        print(currentNode.value,\"-->\",currentNode.next)\n",
        "        currentNode = currentNode.next\n",
        "\n",
        "queue = Queues()\n",
        "queue.enqueue('Tony')\n",
        "queue.enqueue('Mira')\n",
        "queue.enqueue('Tara')\n",
        "queue.enqueue('Joy')\n",
        "queue.printQueue()\n",
        "print(queue.peek())\n",
        "queue.dequeue()\n",
        "queue.dequeue()\n",
        "queue.printQueue()\n",
        "queue.dequeue()\n",
        "queue.dequeue()\n",
        "print(queue.first,\"-->\",queue.last)\n",
        "queue.printQueue()"
      ],
      "metadata": {
        "colab": {
          "base_uri": "https://localhost:8080/"
        },
        "id": "DLgaldPNV00r",
        "outputId": "4dec03e7-c4c7-4dba-96e5-768a5125e5c8"
      },
      "execution_count": null,
      "outputs": [
        {
          "output_type": "stream",
          "name": "stdout",
          "text": [
            "Tony --> {'value': 'Mira', 'next': <__main__.Node object at 0x7fb8b25f3d90>}\n",
            "Mira --> {'value': 'Tara', 'next': <__main__.Node object at 0x7fb8b25bbdd0>}\n",
            "Tara --> {'value': 'Joy', 'next': None}\n",
            "Joy --> None\n",
            "{'value': 'Tony', 'next': <__main__.Node object at 0x7fb8b25f33d0>}\n",
            "Tara --> {'value': 'Joy', 'next': None}\n",
            "Joy --> None\n",
            "None --> None\n",
            "Empty Queue\n"
          ]
        }
      ]
    },
    {
      "cell_type": "code",
      "source": [
        "# Queue using Stacks\n",
        "\n",
        "class StackQueue():\n",
        "  def __init__(self):\n",
        "    self.first = []\n",
        "    self.last = []\n",
        "\n",
        "  def enqueue(self, value):\n",
        "    \n"
      ],
      "metadata": {
        "id": "BpxttfAwbaix"
      },
      "execution_count": null,
      "outputs": []
    },
    {
      "cell_type": "code",
      "source": [
        "# Queue using python inbuilt object\n",
        "from queue import Queue\n",
        "\n",
        "q = Queue()\n",
        "\n",
        "q.put(1)\n",
        "q.put(2)\n",
        "q.put(3)\n",
        "print(q.get())\n",
        "print(q.get())"
      ],
      "metadata": {
        "id": "oHYL2qWkL0YO",
        "outputId": "e9edc6cc-d240-4332-dfe0-9a3906bc79a3",
        "colab": {
          "base_uri": "https://localhost:8080/"
        }
      },
      "execution_count": 27,
      "outputs": [
        {
          "output_type": "stream",
          "name": "stdout",
          "text": [
            "1\n",
            "2\n"
          ]
        }
      ]
    },
    {
      "cell_type": "code",
      "source": [
        "# Queue using arrays\n",
        "q1 = [1,2,3,4,5]\n",
        "print(q1.pop(0))\n",
        "print(q1.pop(0))\n",
        "print(q1.pop(0))"
      ],
      "metadata": {
        "id": "9QUHE0AlMF7H",
        "outputId": "bb098321-08ae-4d07-b901-93ac3e33ef49",
        "colab": {
          "base_uri": "https://localhost:8080/"
        }
      },
      "execution_count": 28,
      "outputs": [
        {
          "output_type": "stream",
          "name": "stdout",
          "text": [
            "1\n",
            "2\n",
            "3\n"
          ]
        }
      ]
    },
    {
      "cell_type": "markdown",
      "source": [
        "# Trees"
      ],
      "metadata": {
        "id": "p9J1bG8S_IGd"
      }
    },
    {
      "cell_type": "code",
      "source": [],
      "metadata": {
        "id": "5dG1tHF_ECK9",
        "outputId": "edf42419-5f36-4c5e-b9de-6f26282cefb8",
        "colab": {
          "base_uri": "https://localhost:8080/"
        }
      },
      "execution_count": 24,
      "outputs": [
        {
          "output_type": "execute_result",
          "data": {
            "text/plain": [
              "2"
            ]
          },
          "metadata": {},
          "execution_count": 24
        }
      ]
    },
    {
      "cell_type": "code",
      "source": [
        "# Binary Search Tree\n",
        "\n",
        "class Node():\n",
        "  def __init__(self, value):\n",
        "    self.value = value\n",
        "    self.left = None\n",
        "    self.right = None\n",
        "\n",
        "  def __str__(self):\n",
        "    return str(self.__dict__)\n",
        "\n",
        "class BinarySearchTree():\n",
        "  def __init__(self):\n",
        "    self.root = None\n",
        "  \n",
        "  def __str__(self):\n",
        "    return str(self.__dict__)\n",
        "\n",
        "  def insert(self, value):\n",
        "    if (value):\n",
        "      newNode = Node(value)\n",
        "      if self.root == None:\n",
        "        self.root = newNode\n",
        "      else:\n",
        "        currentNode = self.root\n",
        "        # the while loop should quit when either left or right child is equal to the newNode\n",
        "        # thus not (currentNode.left == newNode or currentNode.right == newNode) is the loop condition\n",
        "        while(currentNode.left != newNode and currentNode.right != newNode):\n",
        "          if value < currentNode.value:\n",
        "            if currentNode.left == None:\n",
        "              currentNode.left = newNode\n",
        "            else:\n",
        "              currentNode = currentNode.left\n",
        "          else:\n",
        "            if currentNode.right == None:\n",
        "              currentNode.right = newNode\n",
        "            else:\n",
        "              currentNode = currentNode.right\n",
        "      return self\n",
        "\n",
        "  def lookup(self, value, verbose=True):\n",
        "    if (not self.root):\n",
        "      return None\n",
        "    else:\n",
        "      currentNode = self.root\n",
        "      while(currentNode):\n",
        "        if verbose: print(currentNode)\n",
        "        if currentNode.value > value:\n",
        "          currentNode = currentNode.left\n",
        "        elif currentNode.value < value:\n",
        "          currentNode = currentNode.right\n",
        "        elif currentNode.value == value:\n",
        "          return currentNode.value\n",
        "\n",
        "    return None\n",
        "\n",
        "  def breadthFirstSearch(self):\n",
        "    ### BFS can be easily implemeted using queue data structure. Once nodes in a tree are correctly\n",
        "    ### ordered, they can be sequentially popped. But maintaining a queue, requires memory\n",
        "      if (not self.root):\n",
        "        return None\n",
        "      \n",
        "      queue = []\n",
        "      op_array = []\n",
        "      currentNode = self.root\n",
        "      queue.append(currentNode)\n",
        "\n",
        "      while(len(queue)>0):\n",
        "        currentNode = queue.pop(0)\n",
        "        op_array.append(currentNode.value)\n",
        "        if currentNode.left:\n",
        "          queue.append(currentNode.left)\n",
        "        if currentNode.right:\n",
        "          queue.append(currentNode.right)\n",
        "      \n",
        "      return op_array\n",
        "\n",
        "#     9\n",
        "#  4    20\n",
        "#1  6 15  170\n",
        "\n",
        "tree = BinarySearchTree()\n",
        "tree.insert(9)\n",
        "tree.insert(4)\n",
        "tree.insert(6)\n",
        "tree.insert(20)\n",
        "tree.insert(170)\n",
        "tree.insert(15)\n",
        "tree.insert(1)\n",
        "print(tree.lookup(170))\n",
        "print(tree.lookup(40, verbose=False))\n",
        "print(tree.breadthFirstSearch())"
      ],
      "metadata": {
        "colab": {
          "base_uri": "https://localhost:8080/"
        },
        "id": "kIgxRFSe_Mbj",
        "outputId": "11582958-785d-4d1a-99cc-03bb5f0e172b"
      },
      "execution_count": 30,
      "outputs": [
        {
          "output_type": "stream",
          "name": "stdout",
          "text": [
            "{'value': 9, 'left': <__main__.Node object at 0x7faa4cd19ac0>, 'right': <__main__.Node object at 0x7faa4cd19e80>}\n",
            "{'value': 20, 'left': <__main__.Node object at 0x7faa4cd19580>, 'right': <__main__.Node object at 0x7faa4cd19c10>}\n",
            "{'value': 170, 'left': None, 'right': None}\n",
            "170\n",
            "None\n",
            "[9, 4, 20, 1, 6, 15, 170]\n"
          ]
        }
      ]
    },
    {
      "cell_type": "markdown",
      "source": [
        "# Heaps"
      ],
      "metadata": {
        "id": "c-tvVokkz0q4"
      }
    },
    {
      "cell_type": "code",
      "source": [
        "# Binary Heaps using arrays\n",
        "import sys\n",
        "\n",
        "class BinaryHeap():\n",
        "  def __init__(self):\n",
        "    self.arr = []\n",
        "    self.size = 0\n",
        "    self.arr.append(None)\n",
        "#   self.arr.append(sys.maxsize)\n",
        "  \n",
        "  def __str__(self):\n",
        "    return str(self.__dict__)\n",
        "\n",
        "  def parent(self, pos):\n",
        "    return pos // 2\n",
        "\n",
        "  def is_leaf(self, pos):\n",
        "    if pos > self.size//2: return True\n",
        "    return False\n",
        "\n",
        "  def left_child(self, pos):\n",
        "    return pos * 2\n",
        "\n",
        "  def right_child(self, pos):\n",
        "    return pos * 2 + 1\n",
        "\n",
        "  def swap(self, lpos, rpos):\n",
        "    self.arr[lpos], self.arr[rpos] = self.arr[rpos], self.arr[lpos]\n",
        "\n",
        "  def insert(self, value):\n",
        "    self.arr.append(value)\n",
        "    self.size+=1\n",
        "    current = self.size\n",
        "    # If just root node then return the array\n",
        "    if self.size == 1: return self\n",
        "    # If parent less than children then swap\n",
        "    while (self.arr[self.parent(current)] < self.arr[current]):\n",
        "      self.swap(current, self.parent(current))\n",
        "      current = self.parent(current)\n",
        "      # There parent to idx=1 is None, so need to return\n",
        "      if current == 1: return self\n",
        "    return self\n",
        "\n",
        "  def print_heap(self):\n",
        "    for i in range(1, self.parent(self.size)+1):\n",
        "      try:\n",
        "        print(\"PARENT NODE:{}, LEFT CHILD:{}, RIGHT CHILD:{}\".format(\n",
        "            self.arr[i], self.arr[self.left_child(i)], self.arr[self.right_child(i)]))\n",
        "      # Only right child can be NULL for a parent, never the left child\n",
        "      except:\n",
        "        print(\"PARENT NODE:{}, LEFT CHILD:{}, RIGHT CHILD:None\".format(\n",
        "            self.arr[i], self.arr[self.left_child(i)]))\n",
        "\n",
        "  def max_heapify(self, pos):\n",
        "    # If it is not a leaf node then check for heap property\n",
        "    if not self.is_leaf(pos):\n",
        "      # compare node with its children\n",
        "      if (self.arr[pos] < self.arr[self.left_child(pos)]) or (self.arr[pos] < self.arr[self.right_child(pos)]):\n",
        "        # Replace with left node\n",
        "        if self.arr[self.left_child(pos)] > self.arr[self.right_child(pos)]:\n",
        "          self.swap(pos, self.left_child(pos))\n",
        "          self.max_heapify(self.left_child(pos))\n",
        "        # Replace with right node\n",
        "        else:\n",
        "          self.swap(pos, self.right_child(pos))\n",
        "          self.max_heapify(self.right_child(pos))\n",
        "\n",
        "  def extract_max(self):\n",
        "    if self.size>=1:\n",
        "      print(\"Extracting the max element\")\n",
        "      max_element = self.arr[1]\n",
        "      # Replace the root node with last element and then remove the last element\n",
        "      self.arr[1] = self.arr[self.size]\n",
        "      self.size-=1\n",
        "      self.max_heapify(1)\n",
        "      return max_element\n",
        "\n",
        "\n",
        "my_heap = BinaryHeap()\n",
        "my_heap.insert(5)\n",
        "my_heap.insert(3)\n",
        "my_heap.insert(17)\n",
        "my_heap.insert(10)\n",
        "my_heap.insert(84)\n",
        "my_heap.insert(19)\n",
        "my_heap.insert(6)\n",
        "my_heap.insert(22)\n",
        "my_heap.insert(9)\n",
        "my_heap.print_heap()\n",
        "\n",
        "print(my_heap.extract_max())\n",
        "my_heap.print_heap()\n"
      ],
      "metadata": {
        "id": "qVqbavudzz3i",
        "colab": {
          "base_uri": "https://localhost:8080/"
        },
        "outputId": "b29f27be-a014-4814-e5a8-49b11e941b9c"
      },
      "execution_count": null,
      "outputs": [
        {
          "output_type": "stream",
          "name": "stdout",
          "text": [
            "PARENT NODE:84, LEFT CHILD:22, RIGHT CHILD:19\n",
            "PARENT NODE:22, LEFT CHILD:17, RIGHT CHILD:10\n",
            "PARENT NODE:19, LEFT CHILD:5, RIGHT CHILD:6\n",
            "PARENT NODE:17, LEFT CHILD:3, RIGHT CHILD:9\n",
            "Extracting the max element\n",
            "84\n",
            "PARENT NODE:22, LEFT CHILD:17, RIGHT CHILD:19\n",
            "PARENT NODE:17, LEFT CHILD:9, RIGHT CHILD:10\n",
            "PARENT NODE:19, LEFT CHILD:5, RIGHT CHILD:6\n",
            "PARENT NODE:9, LEFT CHILD:3, RIGHT CHILD:9\n"
          ]
        }
      ]
    },
    {
      "cell_type": "code",
      "source": [
        "# Implement min heap using arrays\n",
        "\n",
        "class minheap(BinaryHeap):\n",
        "  def __init__(self):\n",
        "    super().__init__()\n",
        "    self.arr = []\n",
        "    self.size = 0\n",
        "    self.arr.append(None)\n",
        "\n",
        "  # The method in this class with the same name \"insert\" would override the method in parent class, like __init__()\n",
        "  def insert(self, value):\n",
        "    self.arr.append(value)\n",
        "    self.size+=1\n",
        "    current = self.size\n",
        "    if self.size>1:\n",
        "      while self.arr[self.parent(current)] > self.arr[current]:\n",
        "        self.swap(self.parent(current), current)\n",
        "        current = self.parent(current)\n",
        "        if current == 1: return self\n",
        "    return self\n",
        "\n",
        "\n",
        "min_heap = minheap()\n",
        "min_heap.insert(60)\n",
        "min_heap.insert(50)\n",
        "min_heap.insert(40)\n",
        "min_heap.insert(30)\n",
        "min_heap.insert(20)\n",
        "min_heap.insert(10)\n",
        "min_heap.print_heap()"
      ],
      "metadata": {
        "colab": {
          "base_uri": "https://localhost:8080/"
        },
        "id": "f86DPlpyiNlI",
        "outputId": "5ae26a17-8971-4b35-ac6d-34fc153bf439"
      },
      "execution_count": null,
      "outputs": [
        {
          "output_type": "stream",
          "name": "stdout",
          "text": [
            "PARENT NODE:10, LEFT CHILD:30, RIGHT CHILD:20\n",
            "PARENT NODE:30, LEFT CHILD:60, RIGHT CHILD:40\n",
            "PARENT NODE:20, LEFT CHILD:50, RIGHT CHILD:None\n"
          ]
        }
      ]
    },
    {
      "cell_type": "code",
      "source": [
        "# Priority Queues, are queues where the elements have different priorities\n",
        "# And it does not always follow the FIFO rule.\n",
        "# They can be implemented in a number of ways, out of which heap is the most commonly used one.\n",
        "#In Python, it is available using “heapq” module. The property of this data structure in Python is that each time the smallest of heap element is popped(min heap).\n",
        "#Whenever elements are pushed or popped, heap structure in maintained. The heap[0] element  returns the smallest element each time.\n",
        "#Operations we can perform on heap using heapq module are:\n",
        "#heapify(iterable) : This function converts the iterable into a heap. i.e. in heap order.\n",
        "#heappush(heap, ele) : This function inserts an element into heap. The order is adjusted, so as heap structure is maintained.\n",
        "#heappop(heap) : This function removes and returns the smallest element from heap. Again, he order is adjusted, so as heap structure is maintained.\n",
        "#heappushpop(heap, ele) : This function combines the functioning of both push and pop operations in one statement, increasing efficiency. Heap order is maintained after this operation.\n",
        "#eapreplace(heap, ele) : This function also inserts and pops element in one statement, but in this, minimum element is first popped, then the new element is pushed.\n",
        "#heapreplace() returns the smallest value originally in heap regardless of the pushed element as opposed to heappushpop().\n",
        "\n",
        "\n",
        "import heapq\n",
        "\n",
        "# initializing list\n",
        "li = [5, 7, 9, 1, 3]\n",
        "\n",
        "#using heapify to convert list into heap\n",
        "heapq.heapify(li)\n",
        "\n",
        "#printing created heap\n",
        "print(\"The created heap is : \", end=\"\")\n",
        "print(list(li))\n",
        "#The created heap is : [1, 3, 9, 7, 5]\n",
        "\n",
        "\n",
        "#using heappush() to push elements into heap\n",
        "heapq.heappush(li, 4)\n",
        "\n",
        "#printing modified heap\n",
        "print(\"The modified heap after push is : \", end=\"\")\n",
        "print(list(li))\n",
        "#The modified heap after push is : [1, 3, 4, 7, 5, 9]\n",
        "\n",
        "\n",
        "#using heappop() to pop smallest element\n",
        "print(\"The popped and smallest element is : \", end=\"\")\n",
        "print(heapq.heappop(li))\n",
        "#The popped and smallest element is : 1\n",
        "\n",
        "\n",
        "#Creating two identical heaps to demonstrate the difference between heappushpop and heapreplace\n",
        "li1 = [5, 7, 9, 4, 3]\n",
        "li2 = [5, 7, 9, 4, 3]\n",
        "heapq.heapify(li1)\n",
        "heapq.heapify(li2)\n",
        "\n",
        "# using heappushpop() to push and pop items simultaneously\n",
        "print(\"The popped item using heappushpop() is : \", end=\"\")\n",
        "print(heapq.heappushpop(li1, 2))\n",
        "#The popped item using heappushpop() is : 2\n",
        "\n",
        "\n",
        "# using heapreplace() to push and pop items simultaneously\n",
        "print(\"The popped item using heapreplace() is : \", end=\"\")\n",
        "print(heapq.heapreplace(li2, 2))\n",
        "#The popped item using heapreplace() is : 3"
      ],
      "metadata": {
        "colab": {
          "base_uri": "https://localhost:8080/"
        },
        "id": "FSe2ySFrkPjl",
        "outputId": "da2e0d9d-6da6-48a0-f9d4-6ba0e4eb8f90"
      },
      "execution_count": null,
      "outputs": [
        {
          "output_type": "stream",
          "name": "stdout",
          "text": [
            "The created heap is : [1, 3, 9, 7, 5]\n",
            "The modified heap after push is : [1, 3, 4, 7, 5, 9]\n",
            "The popped and smallest element is : 1\n",
            "The popped item using heappushpop() is : 2\n",
            "The popped item using heapreplace() is : 3\n"
          ]
        }
      ]
    },
    {
      "cell_type": "code",
      "source": [
        "# Implement Trie using Nodes\n",
        "\n",
        "class TrieNode():\n",
        "  def __init__(self):\n",
        "    self.children = [None]*26\n",
        "    self.end_of_word = False\n",
        "\n",
        "class Trie():\n",
        "  def __init__(self):\n",
        "    self.root = TrieNode()\n",
        "\n",
        "  def __str__(self):\n",
        "    return str(self.__dict__)\n",
        "\n",
        "  def _character_index(self, char):\n",
        "    if char.isupper():\n",
        "      return ord(char) - ord('A')\n",
        "    else:\n",
        "      return ord(char) - ord('a')\n",
        "\n",
        "  def insert(self, word):\n",
        "    pointer = self.root\n",
        "    for char in word:\n",
        "      index = self._character_index(char)\n",
        "      # if index is None, then set the index as the new node\n",
        "      if not pointer.children[index]:\n",
        "        pointer.children[index] = TrieNode()\n",
        "      pointer = pointer.children[index]\n",
        "      pointer.end_of_word = True\n",
        "    return self\n",
        "\n",
        "  def search(self, string):\n",
        "    pointer = self.root\n",
        "    for char in string:\n",
        "      index = self._character_index(char)\n",
        "      if not pointer.children[index]:\n",
        "        return False\n",
        "      pointer = pointer.children[index]\n",
        "    return pointer and pointer.end_of_word\n",
        "\n",
        "my_trie = Trie()\n",
        "my_trie.insert('Data')\n",
        "my_trie.insert(\"Structures\")\n",
        "my_trie.insert(\"and\")\n",
        "my_trie.insert(\"Algorithms\")\n",
        "print(my_trie.search(\"and\"))\n",
        "#True\n",
        "print(my_trie.search(\"Data\"))\n",
        "#True\n",
        "print(my_trie.search(\"woohoo\"))\n",
        "#False\n",
        "print(my_trie.search(\"STructures\"))\n",
        "#True"
      ],
      "metadata": {
        "colab": {
          "base_uri": "https://localhost:8080/"
        },
        "id": "Ku9_x8XZoF6y",
        "outputId": "3da22d89-1e03-4f04-c4d0-5eaca7d6969f"
      },
      "execution_count": null,
      "outputs": [
        {
          "output_type": "stream",
          "name": "stdout",
          "text": [
            "True\n",
            "True\n",
            "False\n",
            "True\n"
          ]
        }
      ]
    },
    {
      "cell_type": "code",
      "source": [
        "#\"Data\" placed in a Trie\n",
        "print(my_trie.root.children[3].children[0].children[19].children[0].__dict__)"
      ],
      "metadata": {
        "colab": {
          "base_uri": "https://localhost:8080/"
        },
        "id": "DroieqETxRBO",
        "outputId": "edfb7ebf-9c9b-4051-8a0c-645b2df842bd"
      },
      "execution_count": null,
      "outputs": [
        {
          "output_type": "stream",
          "name": "stdout",
          "text": [
            "{'children': [None, None, None, None, None, None, None, None, None, None, None, None, None, None, None, None, None, None, None, None, None, None, None, None, None, None], 'end_of_word': True}\n"
          ]
        }
      ]
    },
    {
      "cell_type": "markdown",
      "source": [
        "# Graphs"
      ],
      "metadata": {
        "id": "7rifiDJNEQI2"
      }
    },
    {
      "cell_type": "code",
      "source": [
        "class Graphs():\n",
        "  def __init__(self):\n",
        "    self.numberOfNodes = 0\n",
        "    self.AdjacentList = {}\n",
        "\n",
        "  def addVertex(self, node):\n",
        "    self.numberOfNodes+=1\n",
        "    if node not in self.AdjacentList:\n",
        "      self.AdjacentList[node] = []\n",
        "    return self\n",
        "\n",
        "  def addEdge(self, node1, node2):\n",
        "    if (node2 not in self.AdjacentList[node1]) or (node1 not in self.AdjacentList[node2]):\n",
        "      self.AdjacentList[node1].append(node2)\n",
        "      self.AdjacentList[node2].append(node1)\n",
        "    return self\n",
        "\n",
        "  def showConnections(self):\n",
        "    for node in self.AdjacentList:\n",
        "      print(f'{node} -->> {\" \".join(map(str, self.AdjacentList[node]))}')\n",
        "\n",
        "my_graph = Graphs()\n",
        "my_graph.addVertex(1)\n",
        "my_graph.addVertex(2)\n",
        "my_graph.addVertex(3)\n",
        "my_graph.addEdge(1,2)\n",
        "my_graph.addEdge(1,3)\n",
        "my_graph.addEdge(2,3)\n",
        "my_graph.showConnections()"
      ],
      "metadata": {
        "colab": {
          "base_uri": "https://localhost:8080/"
        },
        "id": "wp8xa9saxnAL",
        "outputId": "f306b037-7e67-4833-c3bb-87e2027085fe"
      },
      "execution_count": null,
      "outputs": [
        {
          "output_type": "stream",
          "name": "stdout",
          "text": [
            "1 -->> 2 3\n",
            "2 -->> 1 3\n",
            "3 -->> 1 2\n"
          ]
        }
      ]
    },
    {
      "cell_type": "markdown",
      "source": [
        "# Recursion"
      ],
      "metadata": {
        "id": "J4yCBX2DdaoV"
      }
    },
    {
      "cell_type": "code",
      "source": [
        "# Example of recursion\n",
        "\n",
        "# def myfunc(counter):\n",
        "#   if counter > 3:\n",
        "#     return \"Done!\"\n",
        "#   counter+=1\n",
        "#   myfunc(counter)\n",
        "\n",
        "# myfunc(0)\n",
        "\n",
        "def myfunc1(counter):\n",
        "  print(counter)\n",
        "  if counter > 3:\n",
        "    return \"Done!\"\n",
        "  counter+=1\n",
        "  return myfunc1(counter)\n",
        "\n",
        "myfunc1(0)"
      ],
      "metadata": {
        "colab": {
          "base_uri": "https://localhost:8080/",
          "height": 126
        },
        "id": "_rrA6P9gdaP4",
        "outputId": "465dae49-4543-4c0f-ffaa-37415c6c9db0"
      },
      "execution_count": null,
      "outputs": [
        {
          "output_type": "stream",
          "name": "stdout",
          "text": [
            "0\n",
            "1\n",
            "2\n",
            "3\n",
            "4\n"
          ]
        },
        {
          "output_type": "execute_result",
          "data": {
            "text/plain": [
              "'Done!'"
            ],
            "application/vnd.google.colaboratory.intrinsic+json": {
              "type": "string"
            }
          },
          "metadata": {},
          "execution_count": 12
        }
      ]
    },
    {
      "cell_type": "code",
      "source": [
        "# Factorial with and without recursion\n",
        "\n",
        "def findFactorialRecursive(n):\n",
        "  print(n)\n",
        "  if n<=1: return 1\n",
        "  return n * findFactorialRecursive(n-1)\n",
        "  \n",
        "\n",
        "def findFactorialIterative(n):\n",
        "  factorial = 1\n",
        "  for i in range(1, n+1):\n",
        "    factorial = i*factorial\n",
        "  return factorial\n",
        "\n",
        "#findFactorialIterative(4)\n",
        "findFactorialRecursive(5)"
      ],
      "metadata": {
        "colab": {
          "base_uri": "https://localhost:8080/"
        },
        "id": "9CfYk4l-M2L_",
        "outputId": "7d5b30f3-7353-4027-c6cf-391e536d182f"
      },
      "execution_count": null,
      "outputs": [
        {
          "output_type": "stream",
          "name": "stdout",
          "text": [
            "5\n",
            "4\n",
            "3\n",
            "2\n",
            "1\n"
          ]
        },
        {
          "output_type": "execute_result",
          "data": {
            "text/plain": [
              "120"
            ]
          },
          "metadata": {},
          "execution_count": 21
        }
      ]
    },
    {
      "cell_type": "code",
      "source": [
        "# Fibonacci with and without recursion\n",
        "\n",
        "def fibonacciIterative(n):\n",
        "  f1 = 0\n",
        "  f2 = 1\n",
        "  for i in range(2, n+1):\n",
        "    f = f1 + f2\n",
        "    f1 = f2\n",
        "    f2 = f\n",
        "  return f\n",
        "\n",
        "# O(2^N)\n",
        "def fibonacciRecursive(n):\n",
        "  #print(n)\n",
        "  if n < 2: return n\n",
        "  return fibonacciRecursive(n-1) + fibonacciRecursive(n-2)\n",
        "\n",
        "#fibonacciIterative(8)\n",
        "fibonacciRecursive(10)"
      ],
      "metadata": {
        "colab": {
          "base_uri": "https://localhost:8080/"
        },
        "id": "A4fdjOi2jHHI",
        "outputId": "07e13bf4-fedf-40bf-9ccc-649cdd233b8a"
      },
      "execution_count": null,
      "outputs": [
        {
          "output_type": "execute_result",
          "data": {
            "text/plain": [
              "55"
            ]
          },
          "metadata": {},
          "execution_count": 31
        }
      ]
    },
    {
      "cell_type": "code",
      "source": [
        "def reverseStringRecursive(string):\n",
        "  print(len(string))\n",
        "  if len(string) == 1: return string\n",
        "  return reverseStringRecursive(string[1:]) + string[0]\n",
        "\n",
        "def reverseStringIterative(string):\n",
        "  print(''.join(reversed(string)))\n",
        "\n",
        "def reverseStringIterative1(string):\n",
        "  reverse_str = ''\n",
        "  for i in range(len(string)-1, -1, -1):\n",
        "    reverse_str = reverse_str + string[i]\n",
        "  return reverse_str\n",
        "\n",
        "#reverseStringRecursive('yoyo mastery')\n",
        "reverseStringIterative1('yoyo mastery')\n",
        "\n",
        "#should return: 'yretsam oyoy'"
      ],
      "metadata": {
        "colab": {
          "base_uri": "https://localhost:8080/",
          "height": 37
        },
        "id": "pk59QcbXnRuG",
        "outputId": "cdb8121c-c095-4024-ac8c-c13a5f72d40c"
      },
      "execution_count": null,
      "outputs": [
        {
          "output_type": "execute_result",
          "data": {
            "text/plain": [
              "'yretsam oyoy'"
            ],
            "application/vnd.google.colaboratory.intrinsic+json": {
              "type": "string"
            }
          },
          "metadata": {},
          "execution_count": 22
        }
      ]
    },
    {
      "cell_type": "markdown",
      "source": [
        "# Sorting"
      ],
      "metadata": {
        "id": "ZjfgUU2X1Tl8"
      }
    },
    {
      "cell_type": "code",
      "source": [
        "# Bubble Sort\n",
        "# Time Complexity: O(N^N), Space Complexity: O(1)\n",
        "\n",
        "def bubble_sort(arr):\n",
        "  for i in range(len(arr)):\n",
        "    for j in range(len(arr)-1):\n",
        "      k=j+1\n",
        "      if arr[j] > arr[k]:\n",
        "        #Swap i with j if arr[j]>arr[k]. Thus the largest element \"bubbles\" upto last\n",
        "        arr[j], arr[k] = arr[k], arr[j]\n",
        "\n",
        "  return arr\n",
        "\n",
        "arr = [99, 44, 6, 2, 1, 5, 63, 87, 283, 4, 0]\n",
        "bubble_sort(arr)"
      ],
      "metadata": {
        "colab": {
          "base_uri": "https://localhost:8080/"
        },
        "id": "6n09d8gSyuSr",
        "outputId": "5cb8d185-c57a-4193-c1cd-73e127268c4b"
      },
      "execution_count": null,
      "outputs": [
        {
          "output_type": "execute_result",
          "data": {
            "text/plain": [
              "[0, 1, 2, 4, 5, 6, 44, 63, 87, 99, 283]"
            ]
          },
          "metadata": {},
          "execution_count": 13
        }
      ]
    },
    {
      "cell_type": "code",
      "source": [
        "# Selection Sort\n",
        "# Time Complexity: O(N^N), Space Complexity: O(1)\n",
        "\n",
        "def selection_sort(arr):\n",
        "  for i in range(len(arr)):\n",
        "    min_val = arr[i]\n",
        "    min_idx = i\n",
        "    for j in range(i, len(arr)):\n",
        "      # \"Select\" the min element in the array and push it to the front of the array to create a sorted array in asc order\n",
        "      if min_val>arr[j]: \n",
        "        min_val, min_idx = arr[j], j\n",
        "    arr[min_idx], arr[i] = arr[i], min_val\n",
        "  \n",
        "  return arr\n",
        "\n",
        "arr = [99, 44, 6, 2, 1, 5, 63, 87, 283, 4, 0]\n",
        "selection_sort(arr)\n"
      ],
      "metadata": {
        "colab": {
          "base_uri": "https://localhost:8080/"
        },
        "id": "rcIhZ6fl21yl",
        "outputId": "bad4ef1f-1d8d-4623-bd08-d3ff3a0edebf"
      },
      "execution_count": null,
      "outputs": [
        {
          "output_type": "execute_result",
          "data": {
            "text/plain": [
              "[0, 1, 2, 4, 5, 6, 44, 63, 87, 99, 283]"
            ]
          },
          "metadata": {},
          "execution_count": 24
        }
      ]
    },
    {
      "cell_type": "code",
      "source": [
        "# Insertion Sort\n",
        "# Time Complexity: O(N^N), Space Complexity: O(1), Best case: O(N). Works really fast if the array is nearly sorted\n",
        "\n",
        "def insertion_sort(arr):\n",
        "  for i in range(1, len(arr)):\n",
        "    j = i-1\n",
        "    while(j>=0 and arr[j]>arr[j+1]):\n",
        "      # Compare the each element stating with 2nd element and compare it with all the elemnts to the left of it\n",
        "      # If is it smaller, then swap/\"insert\" the smaller element with/before larger element\n",
        "      temp = arr[j]\n",
        "      arr[j], arr[j+1] = arr[j+1], temp\n",
        "      #print(\"i,j\",i,j)\n",
        "      #print(arr)\n",
        "      j = j-1\n",
        "\n",
        "  return arr\n",
        "\n",
        "arr = [99, 44, 6, 2, 1, 5, 63, 87, 283, 4, 0, 6]\n",
        "insertion_sort(arr)"
      ],
      "metadata": {
        "colab": {
          "base_uri": "https://localhost:8080/"
        },
        "id": "6xJhIsQ__Yp0",
        "outputId": "254d8a03-138d-44cf-d9a7-ea51ffca6b7d"
      },
      "execution_count": null,
      "outputs": [
        {
          "output_type": "execute_result",
          "data": {
            "text/plain": [
              "[0, 1, 2, 4, 5, 6, 6, 44, 63, 87, 99, 283]"
            ]
          },
          "metadata": {},
          "execution_count": 9
        }
      ]
    },
    {
      "cell_type": "code",
      "source": [
        "# Merge Sort\n",
        "# Time Complexity: O(NLog(N)), Space Complexity: O(N)\n",
        "\n",
        "def merge_sort(arr):\n",
        "  if len(arr) == 1:\n",
        "    return arr\n",
        "  \n",
        "  mid = len(arr) // 2\n",
        "  left = arr[:mid]\n",
        "  right = arr[mid:]\n",
        "  print(f'Left : {left}')\n",
        "  print(f'Right : {right}')\n",
        "  return merge(merge_sort(left), merge_sort(right))\n",
        "\n",
        "def merge(left, right):\n",
        "  l = len(left)\n",
        "  r = len(right)\n",
        "  sorted_array = []\n",
        "  left_index = 0\n",
        "  right_index = 0\n",
        "\n",
        "  #Append the smaller value to sorted array till on of the left/ right is finished. Then the remainder of \n",
        "  #left or right array can be directly appended to the sorted array\n",
        "  while (left_index<l and right_index<r):\n",
        "    if left[left_index]<right[right_index]:\n",
        "      sorted_array.append(left[left_index])\n",
        "      left_index+=1\n",
        "    else:\n",
        "      sorted_array.append(right[right_index])\n",
        "      right_index+=1\n",
        "\n",
        "  print(sorted_array + left[left_index:] + right[right_index:])\n",
        "  return sorted_array + left[left_index:] + right[right_index:]\n",
        "\n",
        "\n",
        "arr = [99, 44, 6, 2, 1, 5, 63, 87, 283, 4, 0, 6]\n",
        "merge_sort(arr)"
      ],
      "metadata": {
        "colab": {
          "base_uri": "https://localhost:8080/"
        },
        "id": "yLJVzoBmKjsc",
        "outputId": "e0b63630-4bd0-4e07-927a-2d85df1433a2"
      },
      "execution_count": null,
      "outputs": [
        {
          "output_type": "stream",
          "name": "stdout",
          "text": [
            "Left : [99, 44, 6, 2, 1, 5]\n",
            "Right : [63, 87, 283, 4, 0, 6]\n",
            "Left : [99, 44, 6]\n",
            "Right : [2, 1, 5]\n",
            "Left : [99]\n",
            "Right : [44, 6]\n",
            "Left : [44]\n",
            "Right : [6]\n",
            "[6, 44]\n",
            "[6, 44, 99]\n",
            "Left : [2]\n",
            "Right : [1, 5]\n",
            "Left : [1]\n",
            "Right : [5]\n",
            "[1, 5]\n",
            "[1, 2, 5]\n",
            "[1, 2, 5, 6, 44, 99]\n",
            "Left : [63, 87, 283]\n",
            "Right : [4, 0, 6]\n",
            "Left : [63]\n",
            "Right : [87, 283]\n",
            "Left : [87]\n",
            "Right : [283]\n",
            "[87, 283]\n",
            "[63, 87, 283]\n",
            "Left : [4]\n",
            "Right : [0, 6]\n",
            "Left : [0]\n",
            "Right : [6]\n",
            "[0, 6]\n",
            "[0, 4, 6]\n",
            "[0, 4, 6, 63, 87, 283]\n",
            "[0, 1, 2, 4, 5, 6, 6, 44, 63, 87, 99, 283]\n"
          ]
        },
        {
          "output_type": "execute_result",
          "data": {
            "text/plain": [
              "[0, 1, 2, 4, 5, 6, 6, 44, 63, 87, 99, 283]"
            ]
          },
          "metadata": {},
          "execution_count": 3
        }
      ]
    },
    {
      "cell_type": "code",
      "source": [
        "# Quick Sort\n",
        "# Time Complexity: O(NLog(N)), Space Complexity: O(Log(N))\n",
        "\n",
        "def quick_sort(arr, low, high):\n",
        "  print(f'Left:{low}, Right:{high}')\n",
        "  if low< high:\n",
        "    partition_index = partition(arr, low, high)\n",
        "    print(\"partition_index:\", partition_index)\n",
        "    quick_sort(arr, low, partition_index-1)\n",
        "    quick_sort(arr, partition_index+1, high)\n",
        "\n",
        "def partition(arr, left, right):\n",
        "  pivot = arr[right]\n",
        "  print(\"Pivot:\", pivot)\n",
        "  # While items to the left of the pivot are greater, move pivot to adjacent left, adjacent left to current item\n",
        "  # and current item to the vacant spot on the right of the pivot\n",
        "  while left < right:\n",
        "    print(f'Comparing {arr[left]} with {pivot}')\n",
        "    if arr[left]>pivot:\n",
        "      if (right-left)==1:\n",
        "        #this direct swap works using a stack - https://stackoverflow.com/questions/21047524/how-does-swapping-of-members-in-tuples-a-b-b-a-work-internally\n",
        "        arr[left], arr[right] = arr[right], arr[left]\n",
        "      else:\n",
        "        # this works only when right-left>1\n",
        "        temp, arr[right-1] = arr[right-1], arr[right]\n",
        "        arr[right], arr[left] = arr[left], temp\n",
        "      right -= 1\n",
        "    else: left += 1\n",
        "    print(arr)\n",
        "  return right\n",
        "\n",
        "arr = [99, 44, 6, 2, 1, 5, 63, 87, 283, 4, 0]\n",
        "#arr = [99, 44, 6, 2, 1, 5, 63, 87, 283, 4, 11]\n",
        "size = len(arr)\n",
        "quick_sort(arr, 0, size-1)"
      ],
      "metadata": {
        "colab": {
          "base_uri": "https://localhost:8080/"
        },
        "id": "G14pOHRBRF-J",
        "outputId": "83a0236d-2f45-4f05-83d8-e93143ea4c31"
      },
      "execution_count": null,
      "outputs": [
        {
          "output_type": "stream",
          "name": "stdout",
          "text": [
            "Left:0, Right:10\n",
            "Pivot: 0\n",
            "Comparing 99 with 0\n",
            "[4, 44, 6, 2, 1, 5, 63, 87, 283, 0, 99]\n",
            "Comparing 4 with 0\n",
            "[283, 44, 6, 2, 1, 5, 63, 87, 0, 4, 99]\n",
            "Comparing 283 with 0\n",
            "[87, 44, 6, 2, 1, 5, 63, 0, 283, 4, 99]\n",
            "Comparing 87 with 0\n",
            "[63, 44, 6, 2, 1, 5, 0, 87, 283, 4, 99]\n",
            "Comparing 63 with 0\n",
            "[5, 44, 6, 2, 1, 0, 63, 87, 283, 4, 99]\n",
            "Comparing 5 with 0\n",
            "[1, 44, 6, 2, 0, 5, 63, 87, 283, 4, 99]\n",
            "Comparing 1 with 0\n",
            "[2, 44, 6, 0, 1, 5, 63, 87, 283, 4, 99]\n",
            "Comparing 2 with 0\n",
            "[6, 44, 0, 2, 1, 5, 63, 87, 283, 4, 99]\n",
            "Comparing 6 with 0\n",
            "[44, 0, 6, 2, 1, 5, 63, 87, 283, 4, 99]\n",
            "Comparing 44 with 0\n",
            "[0, 44, 6, 2, 1, 5, 63, 87, 283, 4, 99]\n",
            "partition_index: 0\n",
            "Left:0, Right:-1\n",
            "Left:1, Right:10\n",
            "Pivot: 99\n",
            "Comparing 44 with 99\n",
            "[0, 44, 6, 2, 1, 5, 63, 87, 283, 4, 99]\n",
            "Comparing 6 with 99\n",
            "[0, 44, 6, 2, 1, 5, 63, 87, 283, 4, 99]\n",
            "Comparing 2 with 99\n",
            "[0, 44, 6, 2, 1, 5, 63, 87, 283, 4, 99]\n",
            "Comparing 1 with 99\n",
            "[0, 44, 6, 2, 1, 5, 63, 87, 283, 4, 99]\n",
            "Comparing 5 with 99\n",
            "[0, 44, 6, 2, 1, 5, 63, 87, 283, 4, 99]\n",
            "Comparing 63 with 99\n",
            "[0, 44, 6, 2, 1, 5, 63, 87, 283, 4, 99]\n",
            "Comparing 87 with 99\n",
            "[0, 44, 6, 2, 1, 5, 63, 87, 283, 4, 99]\n",
            "Comparing 283 with 99\n",
            "[0, 44, 6, 2, 1, 5, 63, 87, 4, 99, 283]\n",
            "Comparing 4 with 99\n",
            "[0, 44, 6, 2, 1, 5, 63, 87, 4, 99, 283]\n",
            "partition_index: 9\n",
            "Left:1, Right:8\n",
            "Pivot: 4\n",
            "Comparing 44 with 4\n",
            "[0, 87, 6, 2, 1, 5, 63, 4, 44, 99, 283]\n",
            "Comparing 87 with 4\n",
            "[0, 63, 6, 2, 1, 5, 4, 87, 44, 99, 283]\n",
            "Comparing 63 with 4\n",
            "[0, 5, 6, 2, 1, 4, 63, 87, 44, 99, 283]\n",
            "Comparing 5 with 4\n",
            "[0, 1, 6, 2, 4, 5, 63, 87, 44, 99, 283]\n",
            "Comparing 1 with 4\n",
            "[0, 1, 6, 2, 4, 5, 63, 87, 44, 99, 283]\n",
            "Comparing 6 with 4\n",
            "[0, 1, 2, 4, 6, 5, 63, 87, 44, 99, 283]\n",
            "Comparing 2 with 4\n",
            "[0, 1, 2, 4, 6, 5, 63, 87, 44, 99, 283]\n",
            "partition_index: 3\n",
            "Left:1, Right:2\n",
            "Pivot: 2\n",
            "Comparing 1 with 2\n",
            "[0, 1, 2, 4, 6, 5, 63, 87, 44, 99, 283]\n",
            "partition_index: 2\n",
            "Left:1, Right:1\n",
            "Left:3, Right:2\n",
            "Left:4, Right:8\n",
            "Pivot: 44\n",
            "Comparing 6 with 44\n",
            "[0, 1, 2, 4, 6, 5, 63, 87, 44, 99, 283]\n",
            "Comparing 5 with 44\n",
            "[0, 1, 2, 4, 6, 5, 63, 87, 44, 99, 283]\n",
            "Comparing 63 with 44\n",
            "[0, 1, 2, 4, 6, 5, 87, 44, 63, 99, 283]\n",
            "Comparing 87 with 44\n",
            "[0, 1, 2, 4, 6, 5, 44, 87, 63, 99, 283]\n",
            "partition_index: 6\n",
            "Left:4, Right:5\n",
            "Pivot: 5\n",
            "Comparing 6 with 5\n",
            "[0, 1, 2, 4, 5, 6, 44, 87, 63, 99, 283]\n",
            "partition_index: 4\n",
            "Left:4, Right:3\n",
            "Left:5, Right:5\n",
            "Left:7, Right:8\n",
            "Pivot: 63\n",
            "Comparing 87 with 63\n",
            "[0, 1, 2, 4, 5, 6, 44, 63, 87, 99, 283]\n",
            "partition_index: 7\n",
            "Left:7, Right:6\n",
            "Left:8, Right:8\n",
            "Left:10, Right:10\n"
          ]
        }
      ]
    },
    {
      "cell_type": "code",
      "source": [],
      "metadata": {
        "id": "7Ecq0DY9a8-b"
      },
      "execution_count": null,
      "outputs": []
    }
  ]
}