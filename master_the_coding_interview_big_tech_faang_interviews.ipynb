{
  "nbformat": 4,
  "nbformat_minor": 0,
  "metadata": {
    "colab": {
      "provenance": [],
      "authorship_tag": "ABX9TyNcAt9uCqJQa7T+r/vhsbDu",
      "include_colab_link": true
    },
    "kernelspec": {
      "name": "python3",
      "display_name": "Python 3"
    },
    "language_info": {
      "name": "python"
    }
  },
  "cells": [
    {
      "cell_type": "markdown",
      "metadata": {
        "id": "view-in-github",
        "colab_type": "text"
      },
      "source": [
        "<a href=\"https://colab.research.google.com/github/samehra/interview-prep/blob/main/master_the_coding_interview_big_tech_faang_interviews.ipynb\" target=\"_parent\"><img src=\"https://colab.research.google.com/assets/colab-badge.svg\" alt=\"Open In Colab\"/></a>"
      ]
    },
    {
      "cell_type": "markdown",
      "source": [
        "## FAANG Interview questions course"
      ],
      "metadata": {
        "id": "bqJC8fi9HXOu"
      }
    },
    {
      "cell_type": "markdown",
      "source": [
        "Some tips:\n",
        "\n",
        "Ex: given an array of integers, indices of a pair of numbers that sum up to a given target\n",
        "\n",
        "1. Verify the constraints - are all positive or negative, are there duplicates, will there always be solution, what to return when empty array, more than one solution (can there be multiple pairs),\n",
        "2. Write some test cases\n",
        "3. Figure out a solution without a code - brute force,\n",
        "4. Space and time complexity"
      ],
      "metadata": {
        "id": "XYJJt2HfH370"
      }
    },
    {
      "cell_type": "markdown",
      "source": [
        "### Given an array of integers, indices of a pair of numbers that sum up to a given target (Easy)"
      ],
      "metadata": {
        "id": "Pg-itCigHT82"
      }
    },
    {
      "cell_type": "code",
      "source": [
        "import numpy as np\n",
        "\n",
        "def get_indices_sum_target(target, array):\n",
        "\n",
        "  if len(array)>0:\n",
        "    for i in range(len(array)):\n",
        "      for j in range(i+1, len(array)):\n",
        "        if array[j] == target - array[i]:\n",
        "          return (i,j)\n",
        "\n",
        "    return None\n",
        "\n",
        "array = [1,3,3,7,9,2]\n",
        "print(get_indices_sum_target(11, array))\n",
        "\n",
        "def get_indices_sum_target_noNestedLoops(target, array):\n",
        "    if len(array)>0:\n",
        "      dict_p2 = {}\n",
        "      for i in range(len(array)):\n",
        "        if (target - array[i]) not in dict_p2: dict_p2[target - array[i]] = i\n",
        "\n",
        "      # pointer for p1, also p1  = target - p2\n",
        "      for i in range(len(array)):\n",
        "          if array[i] in dict_p2:\n",
        "              return (i, dict_p2[array[i]])\n",
        "\n",
        "      return None\n",
        "\n",
        "array = [1,3,3,7,9,2]\n",
        "print(get_indices_sum_target_noNestedLoops(11, array))"
      ],
      "metadata": {
        "colab": {
          "base_uri": "https://localhost:8080/"
        },
        "id": "JeDtP2-1Gqgw",
        "outputId": "6bdd13a4-8df9-44c1-f8e8-05570af2f174"
      },
      "execution_count": null,
      "outputs": [
        {
          "output_type": "stream",
          "name": "stdout",
          "text": [
            "(4, 5)\n",
            "(4, 5)\n"
          ]
        }
      ]
    },
    {
      "cell_type": "markdown",
      "source": [
        "### Container with most water (Medium)"
      ],
      "metadata": {
        "id": "i0z7ogwOs6qY"
      }
    },
    {
      "cell_type": "code",
      "source": [
        "# Find the max area\n",
        "# O(n2), O(1)\n",
        "def get_max_water_container(array):\n",
        "  max_area = 0\n",
        "  hw_coords = (0,0)\n",
        "  for i in range(len(array)):\n",
        "    for j in range(i+1, len(array)):\n",
        "      height = min(array[i],array[j])\n",
        "      width = (j - i)\n",
        "      area =  height * width\n",
        "      #max_area = max(area, max_area)\n",
        "      if area > max_area:\n",
        "        max_area = area\n",
        "        hw_coords = (i,j)\n",
        "  return max_area, hw_coords\n",
        "\n",
        "# O(n), O(1)\n",
        "def get_max_water_container_optimal(array):\n",
        "  max_area = 0; hw_coords = (0,0); i = 0; j = len(array) - 1\n",
        "\n",
        "  while i<j:\n",
        "    # Since we are calculating min of left and right pointer, we can just keep moving the pointer\n",
        "    # that is smaller.\n",
        "    height = min(array[i],array[j])\n",
        "    width = (j - i)\n",
        "    area =  height * width\n",
        "    #max_area = max(area, max_area)\n",
        "    if area > max_area:\n",
        "      max_area = area\n",
        "      hw_coords = (i,j)\n",
        "\n",
        "    # two shifting pointers technique\n",
        "    if array[i] <= array[j]:\n",
        "      i += 1\n",
        "    else:\n",
        "      j -= 1\n",
        "  return max_area, hw_coords\n",
        "\n",
        "max_area, hw_coords = get_max_water_container([10,  8,  8,  4,  2,  9])\n",
        "\n",
        "max_area, hw_coords = get_max_water_container_optimal([4,8,1,2,3,9])\n",
        "print(max_area, hw_coords)"
      ],
      "metadata": {
        "id": "Va-f9sXFH6qG",
        "outputId": "965dc75c-3d47-4811-abd6-02cb36efcad2",
        "colab": {
          "base_uri": "https://localhost:8080/"
        }
      },
      "execution_count": null,
      "outputs": [
        {
          "output_type": "stream",
          "name": "stdout",
          "text": [
            "32 (1, 5)\n"
          ]
        }
      ]
    },
    {
      "cell_type": "markdown",
      "source": [
        "### Trapping rainwater (Hard)"
      ],
      "metadata": {
        "id": "0Qs_J_DaslR4"
      }
    },
    {
      "cell_type": "code",
      "source": [
        "# O(n2), O(1)\n",
        "def get_trapping_rainwater(array):\n",
        "  water_total = 0\n",
        "  for p1 in range(1,len(array)-1):\n",
        "    maxL = 0; maxR = 0;\n",
        "    for p2 in range(0,p1): maxL = max(maxL, array[p2])\n",
        "    for p3 in range(p1+1,len(array)): maxR = max(maxR, array[p3])\n",
        "\n",
        "  # Calculate water holding capacity for each point and then sum it up.\n",
        "    water_total += max(0, min(maxL, maxR) - array[p1])\n",
        "  return water_total\n",
        "\n",
        "water_total = get_trapping_rainwater([0,1,0,2,1,0,3,1,0,1,2])\n",
        "water_total = get_trapping_rainwater([5,0,3,0,0,0,2,3,4,2,1])\n",
        "print(water_total)\n",
        "\n",
        "# O(n), O(1)\n",
        "def get_trapping_rainwater_optimal(array):\n",
        "  water_total = 0; maxL = 0; maxR = 0; p1 = 0; p3 = len(array)-1\n",
        "\n",
        "  while p1<p3:\n",
        "    if array[p1] <= array[p3]:\n",
        "      maxL = max(maxL, array[p1])\n",
        "      water_total += max(0, maxL - array[p1])\n",
        "      p1 += 1\n",
        "    else:\n",
        "      # Else statement ensures there definitely a value on the left greater than current value\n",
        "      # maxR tells whether there is a wall to the right which determines the maximum water that can be trapped\n",
        "      maxR = max(maxR, array[p3])\n",
        "      water_total += max(0, maxR - array[p3])\n",
        "      p3 -= 1\n",
        "    print(array[p1], array[p3], water_total,maxL,maxR)\n",
        "  return water_total\n",
        "\n",
        "water_total = get_trapping_rainwater_optimal([5,0,3,0,0,0,2,3,4,2,1])\n",
        "print(water_total)"
      ],
      "metadata": {
        "id": "7mXVsI0jzGVr",
        "colab": {
          "base_uri": "https://localhost:8080/"
        },
        "outputId": "fac7b10d-3614-4286-efc4-46f4962abe0a"
      },
      "execution_count": null,
      "outputs": [
        {
          "output_type": "stream",
          "name": "stdout",
          "text": [
            "20\n",
            "5 2 0 0 1\n",
            "5 4 0 0 2\n",
            "5 3 0 0 4\n",
            "5 2 1 0 4\n",
            "5 0 3 0 4\n",
            "5 0 7 0 4\n",
            "5 0 11 0 4\n",
            "5 3 15 0 4\n",
            "5 0 16 0 4\n",
            "5 5 20 0 4\n",
            "20\n"
          ]
        }
      ]
    },
    {
      "cell_type": "markdown",
      "source": [
        "### Typed out String (Easy)"
      ],
      "metadata": {
        "id": "efELGDQxshMZ"
      }
    },
    {
      "cell_type": "code",
      "source": [
        "# O(m+n), O(m+n)\n",
        "def remove_hash(string):\n",
        "  str3 = []\n",
        "  for s in string[0]:\n",
        "    if s == '#':\n",
        "      if len(str3)>0:\n",
        "        _ = str3.pop(-1)\n",
        "\n",
        "    else: str3.append(s)\n",
        "\n",
        "  return str3\n",
        "\n",
        "def typed_out_string(string1, string2):\n",
        "  string1 = remove_hash(string1)\n",
        "  string2 = remove_hash(string2)\n",
        "  print(string1, string2)\n",
        "  return string1 == string2\n",
        "\n",
        "# test case 1\n",
        "string1 = ['ab#c']; string2 = ['azz##c']\n",
        "# test case 2\n",
        "# string1 = ['ab##c']; string2 = ['c']\n",
        "# test case 3\n",
        "# string1 = ['ab#c']; string2 = ['Ab#c']\n",
        "# test case 4\n",
        "# string1 = ['c##']; string2 = ['']\n",
        "\n",
        "result = typed_out_string(string1, string2)\n",
        "result"
      ],
      "metadata": {
        "colab": {
          "base_uri": "https://localhost:8080/"
        },
        "id": "jxd8yzp-udWA",
        "outputId": "c8021370-437e-418d-fd5c-1c5868caaa8f"
      },
      "execution_count": null,
      "outputs": [
        {
          "output_type": "stream",
          "name": "stdout",
          "text": [
            "['a', 'c'] ['a', 'c']\n"
          ]
        },
        {
          "output_type": "execute_result",
          "data": {
            "text/plain": [
              "True"
            ]
          },
          "metadata": {},
          "execution_count": 4
        }
      ]
    },
    {
      "cell_type": "code",
      "source": [
        "# Improve the space complexity\n",
        "# O(m+n), O(1)\n",
        "# two pointer technique with special logic for backcount\n",
        "def typed_out_string_optimal(string1, string2):\n",
        "  p1 = len(string1)-1; p2 = len(string2)-1;\n",
        "\n",
        "  while (p1>=0) | (p2>=0):\n",
        "    print(string1[0][p1],string2[0][p2])\n",
        "    if (string1[0][p1] != '#') & (string2[0][p2] != '#'):\n",
        "      if string1[0][p1] == string2[0][p2]:\n",
        "        p1 -= 1\n",
        "        p2 -= 1\n",
        "      else:\n",
        "        return False\n",
        "    else:\n",
        "      if string1[0][p1] == '#':\n",
        "        backcount = 2\n",
        "        while backcount>0:\n",
        "          p1 -= 1\n",
        "          backcount -= 1\n",
        "          if string1[0][p1]: backcount +=2\n",
        "\n",
        "      if string2[0][p2] == '#':\n",
        "        backcount = 2\n",
        "        while backcount>0:\n",
        "          p2 -= 1\n",
        "          backcount -= 1\n",
        "          if string2[0][p2]: backcount +=2\n",
        "\n",
        "  return True\n",
        "\n",
        "# test case 1\n",
        "# string1 = ['ab#c']; string2 = ['azz##c']\n",
        "# test case 2\n",
        "string1 = ['ab##c']; string2 = ['c']\n",
        "# test case 3\n",
        "# string1 = ['ab#c']; string2 = ['Ab#c']\n",
        "# test case 4\n",
        "# string1 = ['c##']; string2 = ['']\n",
        "\n",
        "result = typed_out_string_optimal(string1, string2)\n",
        "result"
      ],
      "metadata": {
        "id": "Mn8irpnuv75_",
        "outputId": "72f32414-b103-401f-a63a-bcaa0dd3223f",
        "colab": {
          "base_uri": "https://localhost:8080/"
        }
      },
      "execution_count": null,
      "outputs": [
        {
          "output_type": "stream",
          "name": "stdout",
          "text": [
            "a c\n"
          ]
        },
        {
          "output_type": "execute_result",
          "data": {
            "text/plain": [
              "False"
            ]
          },
          "metadata": {},
          "execution_count": 4
        }
      ]
    },
    {
      "cell_type": "markdown",
      "source": [
        "## Sliding Window Technique"
      ],
      "metadata": {
        "id": "yP8pna-A3yTb"
      }
    },
    {
      "cell_type": "markdown",
      "source": [
        "### Longest substring (Easy)"
      ],
      "metadata": {
        "id": "c4GAn3-Rs42X"
      }
    },
    {
      "cell_type": "code",
      "source": [
        "# O(N), O(N)\n",
        "def longest_unique_substring(array):\n",
        "  sub_strings = []; substr = []; lsubstr = 0; max_len = 0; dict_substr = {}; i=0\n",
        "\n",
        "  while i<len(array):\n",
        "    if (array[i] in substr):  ## this take O(N) time. To reduce time complexity, use dict\n",
        "    if (array[i] in dict_substr):\n",
        "      sub_strings.append(substr)\n",
        "      substr = []\n",
        "      substr.append(array[i])\n",
        "      lsubstr = 1\n",
        "      dict_substr = {}\n",
        "      dict_substr[array[i]] = i\n",
        "      i+=1\n",
        "    else:\n",
        "      dict_substr[array[i]] = i\n",
        "      substr.append(array[i])\n",
        "      lsubstr+=1\n",
        "      i+=1\n",
        "\n",
        "    max_len = max(lsubstr, max_len)\n",
        "\n",
        "  sub_strings.append(substr)\n",
        "\n",
        "  return sub_strings, max_len\n",
        "\n",
        "# Sliding window technique\n",
        "# O(N), O(N)\n",
        "\n",
        "def longest_unique_substring_sw(array):\n",
        "  \"\"\"\n",
        "  Using left and right pointers, we can create a window. The right pointer goes through\n",
        "  the array once and the size of the window is changed by altering the left pointer\n",
        "  based on certain condition and the max length is updated accordingly.\n",
        "  This helps prevent the nested loops\n",
        "  \"\"\"\n",
        "  left = 0; right = 0; seen_chars = {}; substr = []; substrs = []; max_len = 0\n",
        "\n",
        "  for right in range(len(array)):\n",
        "    curr_char = array[right]\n",
        "    if seen_chars.get(curr_char, -1)>=left:\n",
        "      seen_chars[curr_char] = right\n",
        "      left = seen_chars[curr_char]\n",
        "      substrs.append(substr)\n",
        "      substr = []\n",
        "      substr.append(curr_char)\n",
        "    else:\n",
        "      seen_chars[curr_char] = right\n",
        "      substr.append(curr_char)\n",
        "\n",
        "    max_len = max(max_len, right-left+1)\n",
        "  substrs.append(substr)\n",
        "  return substrs, max_len\n",
        "\n",
        "# string = 'abccab'\n",
        "# string = 'cccccc'\n",
        "string = 'abccbdeaac'\n",
        "# string = ''\n",
        "\n",
        "substrs, max_len = longest_unique_substring_sw(string)\n",
        "print(substrs, max_len)"
      ],
      "metadata": {
        "id": "3p4jrnLXtysd",
        "outputId": "f3e1196b-f7dd-46b4-e956-afbf57dd6b88",
        "colab": {
          "base_uri": "https://localhost:8080/"
        }
      },
      "execution_count": null,
      "outputs": [
        {
          "output_type": "stream",
          "name": "stdout",
          "text": [
            "[['a', 'b', 'c'], ['c', 'b', 'd', 'e', 'a'], ['a', 'c']] 5\n"
          ]
        }
      ]
    },
    {
      "cell_type": "markdown",
      "source": [
        "### Consider an array of size n. Find the maximum sum of any subarray of size k (Easy)"
      ],
      "metadata": {
        "id": "jiahsWtT62Np"
      }
    },
    {
      "cell_type": "code",
      "source": [
        "# Using nested loops\n",
        "# O(N^2), O(1)\n",
        "def subarray_maxsum(array, k):\n",
        "  n = len(array)\n",
        "  max_sum = 0\n",
        "  for i in range(n-k+1):\n",
        "    sum = 0\n",
        "    for j in range(i, i+k):\n",
        "      sum+=array[j]\n",
        "    max_sum = max(max_sum, sum)\n",
        "\n",
        "  return max_sum\n",
        "\n",
        "# Using sliding window\n",
        "# O(N), O(1)\n",
        "def subarray_maxsum_sw(array, k):\n",
        "  n = len(array)\n",
        "  sum=0; s=0; e=0\n",
        "  for i in range(k):\n",
        "    sum+=array[i]\n",
        "\n",
        "  max_sum = sum\n",
        "  ## Similar loop can be set up for s\n",
        "  # e = k\n",
        "  # for s in range(0,n-k):\n",
        "  #   sum = sum - array[s] + array[e]\n",
        "  #   e+=1\n",
        "  #   max_sum = max(max_sum,sum)\n",
        "  for e in range(k,n):\n",
        "    sum = sum - array[s] + array[e]\n",
        "    s+=1\n",
        "    max_sum = max(max_sum,sum)\n",
        "\n",
        "  return max_sum\n",
        "\n",
        "array = [1,2,5,6,8,9,3,4]\n",
        "max_sum = subarray_maxsum_sw(array, 3)\n",
        "print(max_sum)"
      ],
      "metadata": {
        "id": "ig17N1A8F8iN",
        "colab": {
          "base_uri": "https://localhost:8080/"
        },
        "outputId": "fb354bd8-410a-4cb2-c203-4b8a2b52429f"
      },
      "execution_count": null,
      "outputs": [
        {
          "output_type": "stream",
          "name": "stdout",
          "text": [
            "23\n"
          ]
        }
      ]
    },
    {
      "cell_type": "markdown",
      "source": [
        "### Find the count of occurences of anagrams of a word in a text (Easy)"
      ],
      "metadata": {
        "id": "QarldhkLsT7_"
      }
    },
    {
      "cell_type": "code",
      "source": [
        "def count_chars(word):\n",
        "  char_dict = {}\n",
        "  for w in word:\n",
        "    if char_dict.get(w, 0):\n",
        "      char_dict[w] += 1\n",
        "    else:\n",
        "      char_dict[w] = 1\n",
        "\n",
        "  return char_dict\n",
        "\n",
        "def count_anagrams(word, text):\n",
        "  n = len(word); t = len(text); s = 0; e = n; anagrams_count = 0\n",
        "  word_dict = count_chars(word)\n",
        "  curr_word_dict = count_chars(text[s:e])\n",
        "\n",
        "  if len(word_dict)>0:\n",
        "    for e in range(n,t):\n",
        "\n",
        "      if curr_word_dict == word_dict:\n",
        "        anagrams_count+=1\n",
        "      s+=1\n",
        "      curr_word_dict[text[s]] -= 1\n",
        "      curr_word_dict[text[e]] += 1\n",
        "\n",
        "    return anagrams_count\n",
        "  else:\n",
        "    return 0\n",
        "\n",
        "word = 'aaba'\n",
        "text = 'aabaabaa'\n",
        "\n",
        "anagrams_count = count_anagrams(word, text)\n",
        "print(anagrams_count)"
      ],
      "metadata": {
        "id": "-cZZqE5nsTZ4",
        "outputId": "cdef7aea-2569-41bc-abb1-4f2badc4ab3b",
        "colab": {
          "base_uri": "https://localhost:8080/"
        }
      },
      "execution_count": null,
      "outputs": [
        {
          "output_type": "stream",
          "name": "stdout",
          "text": [
            "4\n"
          ]
        }
      ]
    },
    {
      "cell_type": "markdown",
      "source": [
        "## Two Pointer Technique"
      ],
      "metadata": {
        "id": "HmWm2b_O2q0K"
      }
    },
    {
      "cell_type": "markdown",
      "source": [
        "### Given a sorted array, find the pair of numbers that sum upto a given number x. (Easy)"
      ],
      "metadata": {
        "id": "YHWF6Mik2wWb"
      }
    },
    {
      "cell_type": "code",
      "source": [
        "def pairs_with_sum(array, x):\n",
        "  left = 0; right = len(array)-1;\n",
        "  while left < right:\n",
        "    sum = array[left]+array[right]\n",
        "    if sum < x:\n",
        "      left+=1\n",
        "    elif sum > x:\n",
        "      right-=1\n",
        "    elif sum == x:\n",
        "      return (left, right)\n",
        "\n",
        "  return None\n",
        "\n",
        "array = [3,5,6,7,12,12,23,56]\n",
        "x = 24\n",
        "pair = pairs_with_sum(array, x)\n",
        "print(pair)"
      ],
      "metadata": {
        "colab": {
          "base_uri": "https://localhost:8080/"
        },
        "id": "n7e8VF8Z2p71",
        "outputId": "7e0c2d3d-2b9d-4c77-c9e0-a625f3776a62"
      },
      "execution_count": null,
      "outputs": [
        {
          "output_type": "stream",
          "name": "stdout",
          "text": [
            "(4, 5)\n"
          ]
        }
      ]
    },
    {
      "cell_type": "markdown",
      "source": [
        "### Given a sorted array, find the pair of numbers whose sum is closest to a given number x.(Easy)"
      ],
      "metadata": {
        "id": "SFyDGZmQ2xfp"
      }
    },
    {
      "cell_type": "code",
      "source": [
        "def pairs_with_closest_sum(array, x):\n",
        "  INT_MAX = 10000\n",
        "  left = 0; right = len(array)-1; min_diff = INT_MAX; l = 0; r = 0\n",
        "  while left < right:\n",
        "    sum = array[left]+array[right]\n",
        "    # If you keep the if statement below, after the next if statement, it fails for x=24 since\n",
        "    # l and r gets wrongly updated\n",
        "    if min_diff>abs(x - sum):\n",
        "      min_diff = abs(x - sum); l = left; r = right\n",
        "\n",
        "    if sum <= x:\n",
        "      left+=1\n",
        "    elif sum > x:\n",
        "      right-=1\n",
        "\n",
        "  return (l,r), min_diff\n",
        "\n",
        "array = [3,5,6,7,12,12,23,56]\n",
        "x = 24\n",
        "(l,r), min_diff = pairs_with_closest_sum(array, x)\n",
        "print((l,r),min_diff)"
      ],
      "metadata": {
        "id": "MBtVAbfyjg4y",
        "colab": {
          "base_uri": "https://localhost:8080/"
        },
        "outputId": "1966e699-8244-4e2f-9dd3-0faf6df59873"
      },
      "execution_count": null,
      "outputs": [
        {
          "output_type": "stream",
          "name": "stdout",
          "text": [
            "(4, 5) 0\n"
          ]
        }
      ]
    },
    {
      "cell_type": "markdown",
      "source": [
        "## Greedy algorithm"
      ],
      "metadata": {
        "id": "uY-0qYfakT8G"
      }
    },
    {
      "cell_type": "markdown",
      "source": [
        "### Fractional knapsack"
      ],
      "metadata": {
        "id": "sgSPa8hJkXR8"
      }
    },
    {
      "cell_type": "code",
      "source": [
        "def frac_knapsack(weight, value, capacity):\n",
        "  i = 0; weight_added = []; total_val = 0\n",
        "\n",
        "  w_val = list(zip(weight, value))\n",
        "  w_val = sorted(w_val, key=lambda x: x[1]/x[0], reverse=True)\n",
        "\n",
        "  while (capacity>0) & (i<len(weight)):\n",
        "    if capacity > w_val[i][0]:\n",
        "      capacity = capacity - w_val[i][0]\n",
        "      weight_added.append(w_val[i])\n",
        "      total_val += w_val[i][1]\n",
        "      i+=1\n",
        "    else:\n",
        "      val_w_ratio = w_val[i][1]/w_val[i][0]\n",
        "      total_val += capacity * val_w_ratio\n",
        "      weight_added.append((capacity, w_val[i][1]))\n",
        "      capacity = 0\n",
        "\n",
        "  return total_val, weight_added\n",
        "\n",
        "weight = [3,6,9,12,4,2]\n",
        "value = [12,4,6,8,10,5]\n",
        "capacity = 20\n",
        "total_val, weight_added = frac_knapsack(weight, value, capacity)\n",
        "total_val, weight_added"
      ],
      "metadata": {
        "id": "B6mXSwrx7mdk",
        "outputId": "1e639843-9dc9-43dc-cba1-ce3b281b64fb",
        "colab": {
          "base_uri": "https://localhost:8080/"
        }
      },
      "execution_count": null,
      "outputs": [
        {
          "output_type": "execute_result",
          "data": {
            "text/plain": [
              "(34.333333333333336, [(3, 12), (4, 10), (2, 5), (6, 4), (5, 6)])"
            ]
          },
          "metadata": {},
          "execution_count": 56
        }
      ]
    },
    {
      "cell_type": "markdown",
      "source": [
        "## String Algorithms"
      ],
      "metadata": {
        "id": "YyGMN_-iLoMv"
      }
    },
    {
      "cell_type": "markdown",
      "source": [
        "### KMP Algorithm"
      ],
      "metadata": {
        "id": "87mmMHC7LuHA"
      }
    },
    {
      "cell_type": "code",
      "source": [
        "# Generate longest prefix same as suffix (lps) array\n",
        "import numpy as np\n",
        "\n",
        "def gen_lps(string):\n",
        "  n = len(string)\n",
        "  i = 0; j = 1; lps = np.zeros(n).astype(int)\n",
        "  while j<n:\n",
        "    if string[i] == string[j]:\n",
        "      lps[j] = i+1\n",
        "      j+=1\n",
        "      i+=1\n",
        "    else:\n",
        "      j +=1\n",
        "      i = lps[j-1]\n",
        "    #print(i,j)\n",
        "  return lps\n",
        "\n",
        "string = 'abcabyabc'\n",
        "lps = gen_lps(string)\n",
        "print(lps)\n"
      ],
      "metadata": {
        "id": "8RE5Y4nCLsvD",
        "outputId": "2c9cfb00-8eab-4bc1-bbb9-3c5436c5f261",
        "colab": {
          "base_uri": "https://localhost:8080/"
        }
      },
      "execution_count": null,
      "outputs": [
        {
          "output_type": "stream",
          "name": "stdout",
          "text": [
            "[0 0 0 1 2 0 1 2 3]\n"
          ]
        }
      ]
    },
    {
      "cell_type": "markdown",
      "source": [
        "### String Hashing - Generate hash functions"
      ],
      "metadata": {
        "id": "ko98CIZoGXvl"
      }
    },
    {
      "cell_type": "markdown",
      "source": [
        "$(a + b) \\% c = ((a \\% c) + (b \\% c)) \\% c \\\\\n",
        "(a * b) \\% c = ((a \\% c) * (b \\% c)) \\% c \\\\\n",
        "(a – b) \\% c = ((a \\% c) – (b \\% c)) \\% c $\n",
        "\n",
        "$ Hash(s) = [∑_{i=0}^{N-1} s[i]*p^i] \\% \\ m = [∑_{i=0}^{N-1}(s[i] * p^i) \\% \\ m] \\% \\ m = [\\sum\\{((s[i] \\% \\ m) * (p^i \\% \\ m ))\\%  \\ m\\}\\%  \\ m]\\%  \\ m \\\\\n",
        "p = 31/ 53 \\\\\n",
        "m = 10E9+9 $"
      ],
      "metadata": {
        "id": "Zb12WACYHXpU"
      }
    },
    {
      "cell_type": "code",
      "source": [
        "string = 'umang'\n",
        "string[0]"
      ],
      "metadata": {
        "id": "NcoXTwGsH5gj"
      },
      "execution_count": null,
      "outputs": []
    },
    {
      "cell_type": "code",
      "source": [
        "def generate_hash(string):\n",
        "  hash = 0\n",
        "  m = 10E9 + 9\n",
        "  p = 31\n",
        "  x = 1\n",
        "  for i in range(len(string)):\n",
        "    hash = hash + ((ord(string[i]) - ord('a')+1) * x) % m\n",
        "    x = (x*p) %m  # Doing this to ensure that p^i fits in the memory\n",
        "\n",
        "  return int(hash % m)\n",
        "\n",
        "## The probability that this hash function generates same has function for two strings is 10^-9\n",
        "h1 = generate_hash('umang')\n",
        "h2 = generate_hash('codechef')\n",
        "h3 = generate_hash('cac')\n",
        "print(h1, h2, h3)"
      ],
      "metadata": {
        "id": "hXS_F524Pj7p",
        "colab": {
          "base_uri": "https://localhost:8080/"
        },
        "outputId": "3aa6d51d-ae5f-4ec8-993d-c44f9c0e7127"
      },
      "execution_count": null,
      "outputs": [
        {
          "output_type": "stream",
          "name": "stdout",
          "text": [
            "6883106 9745159965 2917\n"
          ]
        }
      ]
    },
    {
      "cell_type": "code",
      "source": [
        "import numpy as np\n",
        "\n",
        "def compare_str(text, pat):\n",
        "  m = 10E9 + 9;   p = 31\n",
        "\n",
        "  l = len(pat); n = len(text)\n",
        "  text_hash = np.ones(n).astype(int)\n",
        "  p_pow = np.ones(n).astype(int)\n",
        "  occurences = []\n",
        "\n",
        "  pat_hash = generate_hash(pat)\n",
        "  print(\"Pattern hash to search:\",pat_hash)\n",
        "  text_hash[0] = generate_hash(text[0])\n",
        "\n",
        "  for i in range(1,n):\n",
        "    p_pow[i] = (p * p_pow[i-1]) % m\n",
        "\n",
        "  for i in range(1,n):\n",
        "    text_hash[i] = text_hash[i-1]+ ((ord(text[i]) - ord('a')+1) * p_pow[i]) % m\n",
        "\n",
        "  ## i should at max be: i+l-1 = n => i = n-l+1\n",
        "  for i in range(0,n-l+1):\n",
        "\n",
        "    if i-1<0: substract_h = 0\n",
        "    else: substract_h = text_hash[i-1]\n",
        "\n",
        "    cur_h = (text_hash[i+l-1] - substract_h) % m\n",
        "    print(\"Current text pattern hash:\", cur_h)\n",
        "    if cur_h == (pat_hash * p_pow[i]) % m:\n",
        "      occurences.append(1)\n",
        "    else:\n",
        "      occurences.append(0)\n",
        "\n",
        "  return text_hash, occurences\n",
        "\n",
        "text = 'ccaccaaedba' #'abcxabcabcaby'\n",
        "pat = 'cca' #'abcaby'\n",
        "\n",
        "text_hash, occurences = compare_str(text, pat)\n",
        "print(text_hash)\n",
        "print(occurences)"
      ],
      "metadata": {
        "colab": {
          "base_uri": "https://localhost:8080/"
        },
        "id": "aLtQ0M3URwMA",
        "outputId": "94b3599e-eb4f-4725-9953-3423dadbbf2e"
      },
      "execution_count": null,
      "outputs": [
        {
          "output_type": "stream",
          "name": "stdout",
          "text": [
            "Pattern hash to search: 1057\n",
            "Current text pattern hash: 1057.0\n",
            "Current text pattern hash: 90427.0\n",
            "Current text pattern hash: 2860897.0\n",
            "Current text pattern hash: 31489087.0\n",
            "Current text pattern hash: 918903395.0\n",
            "Current text pattern hash: 8479203270.0\n",
            "Current text pattern hash: 14720805.0\n",
            "Current text pattern hash: 8371490883.0\n",
            "Current text pattern hash: 9094663588.0\n",
            "[          3          96        1057       90430     2860993    31490144\n",
            "   918993825  8482064263 10046210958 19290484717 27576727860]\n",
            "[1, 0, 0, 1, 0, 0, 0, 0, 0]\n"
          ]
        }
      ]
    },
    {
      "cell_type": "markdown",
      "source": [
        "## Searching and Sorting"
      ],
      "metadata": {
        "id": "aBysl8jNMWPt"
      }
    },
    {
      "cell_type": "markdown",
      "source": [
        "### Insertion Sort"
      ],
      "metadata": {
        "id": "y7spwIldMbFt"
      }
    },
    {
      "cell_type": "code",
      "source": [
        "def swap(array, p1, p2):\n",
        "  t = array[p1]\n",
        "  array[p1] = array[p2]\n",
        "  array[p2] = t\n",
        "  return array\n",
        "\n",
        "# O(N^2), O(1), Best Case: O(N)\n",
        "def insertion_sort(array):\n",
        "  for i in range(1,len(array)):\n",
        "    key = array[i]\n",
        "    j = i-1\n",
        "    while j>=0 and array[j] > key :\n",
        "      array[j+1] = array[j]\n",
        "      array[j] = key\n",
        "      j-=1\n",
        "\n",
        "  return array\n",
        "\n",
        "array = [5,8,12,3,1,14,4,1,3]\n",
        "sorted_array = insertion_sort(array)\n",
        "print(sorted_array)"
      ],
      "metadata": {
        "colab": {
          "base_uri": "https://localhost:8080/"
        },
        "id": "QdgCoh3DMVfD",
        "outputId": "c5f53e6d-4c38-4cb1-ede9-29f27ecf6e47"
      },
      "execution_count": null,
      "outputs": [
        {
          "output_type": "stream",
          "name": "stdout",
          "text": [
            "[1, 1, 3, 3, 4, 5, 8, 12, 14]\n"
          ]
        }
      ]
    },
    {
      "cell_type": "markdown",
      "source": [
        "### Merge Sort"
      ],
      "metadata": {
        "id": "TluXY8CpDM2V"
      }
    },
    {
      "cell_type": "markdown",
      "source": [
        "### Binary Search"
      ],
      "metadata": {
        "id": "4qbcWbR3DJSN"
      }
    },
    {
      "cell_type": "markdown",
      "source": [
        "### Dynamic Programming and Backtracking"
      ],
      "metadata": {
        "id": "Ozpyp7s0DR3P"
      }
    },
    {
      "cell_type": "markdown",
      "source": [
        "### Decorators in Python"
      ],
      "metadata": {
        "id": "a7eW3N3rJYD4"
      }
    },
    {
      "cell_type": "code",
      "source": [
        "def super_sum(func):\n",
        "  def sub_sum(x):\n",
        "    sub_sum.y += 1\n",
        "    z = x+y\n",
        "    return z\n",
        "  return sub_sum\n",
        "\n",
        "sum_n = super_sum()"
      ],
      "metadata": {
        "id": "whrzpR5xMDlL"
      },
      "execution_count": null,
      "outputs": []
    },
    {
      "cell_type": "code",
      "source": [
        "# https://www.datacamp.com/tutorial/decorators-python\n",
        "\n",
        "# https://www.programiz.com/python-programming/decorator\n",
        "'''\n",
        "@ Symbol With Decorator\n",
        "Instead of assigning the function call to a variable, Python provides a much more elegant way to achieve this functionality using the @ symbol. For example,\n",
        "'''\n",
        "\n",
        "def count_calls(func):\n",
        "    def wrapper(*args, **kwargs):\n",
        "        wrapper.num_fn_calls += 1\n",
        "        return func(*args, **kwargs)\n",
        "    wrapper.num_fn_calls = 0\n",
        "    return wrapper\n",
        "\n",
        "@count_calls\n",
        "def my_function():\n",
        "    pass\n",
        "\n",
        "my_function()\n",
        "my_function()\n",
        "my_function()\n",
        "\n",
        "print(my_function.__dict__)\n",
        "\n",
        "import inspect\n",
        "\n",
        "inspect.getmembers(my_function)"
      ],
      "metadata": {
        "colab": {
          "base_uri": "https://localhost:8080/"
        },
        "id": "7hvLqdhjJVCW",
        "outputId": "858693b1-b02b-4a17-8203-a94b7b5f0d24"
      },
      "execution_count": 31,
      "outputs": [
        {
          "output_type": "stream",
          "name": "stdout",
          "text": [
            "{'num_fn_calls': 3}\n"
          ]
        },
        {
          "output_type": "execute_result",
          "data": {
            "text/plain": [
              "[('__annotations__', {}),\n",
              " ('__builtins__',\n",
              "  {'__name__': 'builtins',\n",
              "   '__doc__': \"Built-in functions, exceptions, and other objects.\\n\\nNoteworthy: None is the `nil' object; Ellipsis represents `...' in slices.\",\n",
              "   '__package__': '',\n",
              "   '__loader__': _frozen_importlib.BuiltinImporter,\n",
              "   '__spec__': ModuleSpec(name='builtins', loader=<class '_frozen_importlib.BuiltinImporter'>, origin='built-in'),\n",
              "   '__build_class__': <function __build_class__>,\n",
              "   '__import__': <function __import__>,\n",
              "   'abs': <function abs(x, /)>,\n",
              "   'all': <function all(iterable, /)>,\n",
              "   'any': <function any(iterable, /)>,\n",
              "   'ascii': <function ascii(obj, /)>,\n",
              "   'bin': <function bin(number, /)>,\n",
              "   'breakpoint': <function breakpoint>,\n",
              "   'callable': <function callable(obj, /)>,\n",
              "   'chr': <function chr(i, /)>,\n",
              "   'compile': <function compile(source, filename, mode, flags=0, dont_inherit=False, optimize=-1, *, _feature_version=-1)>,\n",
              "   'delattr': <function delattr(obj, name, /)>,\n",
              "   'dir': <function dir>,\n",
              "   'divmod': <function divmod(x, y, /)>,\n",
              "   'eval': <function eval(source, globals=None, locals=None, /)>,\n",
              "   'exec': <function exec(source, globals=None, locals=None, /)>,\n",
              "   'format': <function format(value, format_spec='', /)>,\n",
              "   'getattr': <function getattr>,\n",
              "   'globals': <function globals()>,\n",
              "   'hasattr': <function hasattr(obj, name, /)>,\n",
              "   'hash': <function hash(obj, /)>,\n",
              "   'hex': <function hex(number, /)>,\n",
              "   'id': <function id(obj, /)>,\n",
              "   'input': <bound method Kernel.raw_input of <google.colab._kernel.Kernel object at 0x7d71fcebb9a0>>,\n",
              "   'isinstance': <function isinstance(obj, class_or_tuple, /)>,\n",
              "   'issubclass': <function issubclass(cls, class_or_tuple, /)>,\n",
              "   'iter': <function iter>,\n",
              "   'aiter': <function aiter(async_iterable, /)>,\n",
              "   'len': <function len(obj, /)>,\n",
              "   'locals': <function locals()>,\n",
              "   'max': <function max>,\n",
              "   'min': <function min>,\n",
              "   'next': <function next>,\n",
              "   'anext': <function anext>,\n",
              "   'oct': <function oct(number, /)>,\n",
              "   'ord': <function ord(c, /)>,\n",
              "   'pow': <function pow(base, exp, mod=None)>,\n",
              "   'print': <function print>,\n",
              "   'repr': <function repr(obj, /)>,\n",
              "   'round': <function round(number, ndigits=None)>,\n",
              "   'setattr': <function setattr(obj, name, value, /)>,\n",
              "   'sorted': <function sorted(iterable, /, *, key=None, reverse=False)>,\n",
              "   'sum': <function sum(iterable, /, start=0)>,\n",
              "   'vars': <function vars>,\n",
              "   'None': None,\n",
              "   'Ellipsis': Ellipsis,\n",
              "   'NotImplemented': NotImplemented,\n",
              "   'False': False,\n",
              "   'True': True,\n",
              "   'bool': bool,\n",
              "   'memoryview': memoryview,\n",
              "   'bytearray': bytearray,\n",
              "   'bytes': bytes,\n",
              "   'classmethod': classmethod,\n",
              "   'complex': complex,\n",
              "   'dict': dict,\n",
              "   'enumerate': enumerate,\n",
              "   'filter': filter,\n",
              "   'float': float,\n",
              "   'frozenset': frozenset,\n",
              "   'property': property,\n",
              "   'int': int,\n",
              "   'list': list,\n",
              "   'map': map,\n",
              "   'object': object,\n",
              "   'range': range,\n",
              "   'reversed': reversed,\n",
              "   'set': set,\n",
              "   'slice': slice,\n",
              "   'staticmethod': staticmethod,\n",
              "   'str': str,\n",
              "   'super': super,\n",
              "   'tuple': tuple,\n",
              "   'type': type,\n",
              "   'zip': zip,\n",
              "   '__debug__': True,\n",
              "   'BaseException': BaseException,\n",
              "   'Exception': Exception,\n",
              "   'TypeError': TypeError,\n",
              "   'StopAsyncIteration': StopAsyncIteration,\n",
              "   'StopIteration': StopIteration,\n",
              "   'GeneratorExit': GeneratorExit,\n",
              "   'SystemExit': SystemExit,\n",
              "   'KeyboardInterrupt': KeyboardInterrupt,\n",
              "   'ImportError': ImportError,\n",
              "   'ModuleNotFoundError': ModuleNotFoundError,\n",
              "   'OSError': OSError,\n",
              "   'EnvironmentError': OSError,\n",
              "   'IOError': OSError,\n",
              "   'EOFError': EOFError,\n",
              "   'RuntimeError': RuntimeError,\n",
              "   'RecursionError': RecursionError,\n",
              "   'NotImplementedError': NotImplementedError,\n",
              "   'NameError': NameError,\n",
              "   'UnboundLocalError': UnboundLocalError,\n",
              "   'AttributeError': AttributeError,\n",
              "   'SyntaxError': SyntaxError,\n",
              "   'IndentationError': IndentationError,\n",
              "   'TabError': TabError,\n",
              "   'LookupError': LookupError,\n",
              "   'IndexError': IndexError,\n",
              "   'KeyError': KeyError,\n",
              "   'ValueError': ValueError,\n",
              "   'UnicodeError': UnicodeError,\n",
              "   'UnicodeEncodeError': UnicodeEncodeError,\n",
              "   'UnicodeDecodeError': UnicodeDecodeError,\n",
              "   'UnicodeTranslateError': UnicodeTranslateError,\n",
              "   'AssertionError': AssertionError,\n",
              "   'ArithmeticError': ArithmeticError,\n",
              "   'FloatingPointError': FloatingPointError,\n",
              "   'OverflowError': OverflowError,\n",
              "   'ZeroDivisionError': ZeroDivisionError,\n",
              "   'SystemError': SystemError,\n",
              "   'ReferenceError': ReferenceError,\n",
              "   'MemoryError': MemoryError,\n",
              "   'BufferError': BufferError,\n",
              "   'Warning': Warning,\n",
              "   'UserWarning': UserWarning,\n",
              "   'EncodingWarning': EncodingWarning,\n",
              "   'DeprecationWarning': DeprecationWarning,\n",
              "   'PendingDeprecationWarning': PendingDeprecationWarning,\n",
              "   'SyntaxWarning': SyntaxWarning,\n",
              "   'RuntimeWarning': RuntimeWarning,\n",
              "   'FutureWarning': FutureWarning,\n",
              "   'ImportWarning': ImportWarning,\n",
              "   'UnicodeWarning': UnicodeWarning,\n",
              "   'BytesWarning': BytesWarning,\n",
              "   'ResourceWarning': ResourceWarning,\n",
              "   'ConnectionError': ConnectionError,\n",
              "   'BlockingIOError': BlockingIOError,\n",
              "   'BrokenPipeError': BrokenPipeError,\n",
              "   'ChildProcessError': ChildProcessError,\n",
              "   'ConnectionAbortedError': ConnectionAbortedError,\n",
              "   'ConnectionRefusedError': ConnectionRefusedError,\n",
              "   'ConnectionResetError': ConnectionResetError,\n",
              "   'FileExistsError': FileExistsError,\n",
              "   'FileNotFoundError': FileNotFoundError,\n",
              "   'IsADirectoryError': IsADirectoryError,\n",
              "   'NotADirectoryError': NotADirectoryError,\n",
              "   'InterruptedError': InterruptedError,\n",
              "   'PermissionError': PermissionError,\n",
              "   'ProcessLookupError': ProcessLookupError,\n",
              "   'TimeoutError': TimeoutError,\n",
              "   'open': <function io.open(file, mode='r', buffering=-1, encoding=None, errors=None, newline=None, closefd=True, opener=None)>,\n",
              "   'copyright': Copyright (c) 2001-2023 Python Software Foundation.\n",
              "   All Rights Reserved.\n",
              "   \n",
              "   Copyright (c) 2000 BeOpen.com.\n",
              "   All Rights Reserved.\n",
              "   \n",
              "   Copyright (c) 1995-2001 Corporation for National Research Initiatives.\n",
              "   All Rights Reserved.\n",
              "   \n",
              "   Copyright (c) 1991-1995 Stichting Mathematisch Centrum, Amsterdam.\n",
              "   All Rights Reserved.,\n",
              "   'credits':     Thanks to CWI, CNRI, BeOpen.com, Zope Corporation and a cast of thousands\n",
              "       for supporting Python development.  See www.python.org for more information.,\n",
              "   'license': Type license() to see the full license text,\n",
              "   'help': Type help() for interactive help, or help(object) for help about object.,\n",
              "   '__IPYTHON__': True,\n",
              "   'display': <function IPython.core.display.display(*objs, include=None, exclude=None, metadata=None, transient=None, display_id=None, **kwargs)>,\n",
              "   'execfile': <function _pydev_bundle._pydev_execfile.execfile(file, glob=None, loc=None)>,\n",
              "   'runfile': <function _pydev_bundle.pydev_umd.runfile(filename, args=None, wdir=None, namespace=None)>,\n",
              "   'get_ipython': <bound method InteractiveShell.get_ipython of <google.colab._shell.Shell object at 0x7d71fcebba30>>}),\n",
              " ('__call__',\n",
              "  <method-wrapper '__call__' of function object at 0x7d71b9843c70>),\n",
              " ('__class__', function),\n",
              " ('__closure__',\n",
              "  (<cell at 0x7d71b9afeb00: function object at 0x7d7204c236d0>,\n",
              "   <cell at 0x7d71b9afe140: function object at 0x7d71b9843c70>)),\n",
              " ('__code__',\n",
              "  <code object wrapper at 0x7d71e3b939f0, file \"<ipython-input-31-44c2be318d67>\", line 10>),\n",
              " ('__defaults__', None),\n",
              " ('__delattr__',\n",
              "  <method-wrapper '__delattr__' of function object at 0x7d71b9843c70>),\n",
              " ('__dict__', {'num_fn_calls': 3}),\n",
              " ('__dir__', <function function.__dir__()>),\n",
              " ('__doc__', None),\n",
              " ('__eq__', <method-wrapper '__eq__' of function object at 0x7d71b9843c70>),\n",
              " ('__format__', <function function.__format__(format_spec, /)>),\n",
              " ('__ge__', <method-wrapper '__ge__' of function object at 0x7d71b9843c70>),\n",
              " ('__get__', <method-wrapper '__get__' of function object at 0x7d71b9843c70>),\n",
              " ('__getattribute__',\n",
              "  <method-wrapper '__getattribute__' of function object at 0x7d71b9843c70>),\n",
              " ('__globals__',\n",
              "  {'__name__': '__main__',\n",
              "   '__doc__': '\\n@ Symbol With Decorator\\nInstead of assigning the function call to a variable, Python provides a much more elegant way to achieve this functionality using the @ symbol. For example,\\n',\n",
              "   '__package__': None,\n",
              "   '__loader__': None,\n",
              "   '__spec__': None,\n",
              "   '__builtin__': <module 'builtins' (built-in)>,\n",
              "   '__builtins__': <module 'builtins' (built-in)>,\n",
              "   '_ih': ['',\n",
              "    '# Count the number of times a function was called using a list as a mutable variable\\n\\ndef fibonacci_R(n):\\n  count_R[0] += 1\\n  if n<2: return n\\n  else:\\n    temp = fibonacci_R(n-1) + fibonacci_R(n-2)\\n    return temp\\n\\ncount_R = [0]\\nval = fibonacci_R(20)\\nprint(val, count_R)',\n",
              "    '# Count the number of times a function was called using a list as a mutable variable\\n\\ndef fibonacci_R(n):\\n  count_R[0] += 1\\n  if n<2: return n\\n  else:\\n    temp = fibonacci_R(n-1) + fibonacci_R(n-2)\\n    return temp\\n\\ncount_R = [0]\\nval = fibonacci_R(20)\\nprint(val, count_R[0])',\n",
              "    'def func_timer(func):\\n    \"\"\"Times how long the function took.\"\"\"\\n\\n    def f(*args, **kwargs):\\n        import time\\n        start = time.time()\\n        results = func(*args, **kwargs)\\n        print \"Elapsed: %.2fs\" % (time.time() - start)\\n        return results\\n\\n    return f',\n",
              "    '# Get runtime of a function using the decorator function\\n\\ndef func_timer(func):\\n    \"\"\"Times how long the function took.\"\"\"\\n\\n    def f(*args, **kwargs):\\n        import time\\n        start = time.time()\\n        results = func(*args, **kwargs)\\n        print \"Elapsed: %.2fs\" % (time.time() - start)\\n        return results\\n\\n    return f\\n\\n@func_timer\\ndef sleepy(msg, sleep=1.0):\\n    \"\"\"Delays a while before answering.\"\"\"\\n    import time\\n    time.sleep(sleep)\\n    print msg\\n\\nsleepy(\"Hello\", 1.5)',\n",
              "    '# Get runtime of a function using the decorator function\\n\\ndef func_timer(func):\\n    \"\"\"Times how long the function took.\"\"\"\\n\\n    def f(*args, **kwargs):\\n        import time\\n        start = time.time()\\n        results = func(*args, **kwargs)\\n        print (\"Elapsed: %.2fs\" % (time.time() - start))\\n        return results\\n\\n    return f\\n\\n@func_timer\\ndef sleepy(msg, sleep=1.0):\\n    \"\"\"Delays a while before answering.\"\"\"\\n    import time\\n    time.sleep(sleep)\\n    print msg\\n\\nsleepy(\"Hello\", 1.5)',\n",
              "    '# Get runtime of a function using the decorator function\\n\\ndef func_timer(func):\\n    \"\"\"Times how long the function took.\"\"\"\\n\\n    def f(*args, **kwargs):\\n        import time\\n        start = time.time()\\n        results = func(*args, **kwargs)\\n        print(\"Elapsed: %.2fs\" % (time.time() - start))\\n        return results\\n\\n    return f\\n\\n@func_timer\\ndef sleepy(msg, sleep=1.0):\\n    \"\"\"Delays a while before answering.\"\"\"\\n    import time\\n    time.sleep(sleep)\\n    print(msg)\\n\\nsleepy(\"Hello\", 1.5)',\n",
              "    '# Get runtime of a function using the decorator function\\n\\ndef func_timer(func):\\n    \"\"\"Times how long the function took.\"\"\"\\n\\n    def f(*args, **kwargs):\\n        import time\\n        start = time.time()\\n        results = func(*args, **kwargs)\\n        print(\"Elapsed: %.2fs\" % (time.time() - start))\\n        return results\\n\\n    return f\\n\\n@func_timer\\ndef sleepy(msg, sleep=1.0):\\n    \"\"\"Delays a while before answering.\"\"\"\\n    import time\\n    time.sleep(sleep)\\n    print(msg)\\n\\nrun_time = sleepy(\"Hello\", 1.5)\\nprint(run_time)',\n",
              "    '# Get runtime of a function using the decorator function\\n\\ndef func_timer(func):\\n    \"\"\"Times how long the function took.\"\"\"\\n\\n    def f(*args, **kwargs):\\n        import time\\n        start = time.time()\\n        func(*args, **kwargs)\\n        print(\"Elapsed: %.2fs\" % (time.time() - start))\\n\\n    return f\\n\\n@func_timer\\ndef sleepy(msg, sleep=1.0):\\n    \"\"\"Delays a while before answering.\"\"\"\\n    import time\\n    time.sleep(sleep)\\n    print(msg)\\n\\nrun_time = sleepy(\"Hello\", 1.5)\\nprint(run_time)',\n",
              "    '# Get runtime of a function using the decorator function\\n\\ndef func_timer(func):\\n    \"\"\"Times how long the function took.\"\"\"\\n\\n    def f(*args, **kwargs):\\n        import time\\n        start = time.time()\\n        results = func(*args, **kwargs)\\n        print(\"Elapsed: %.2fs\" % (time.time() - start))\\n        return results\\n\\n    return f\\n\\n@func_timer\\ndef sleepy(msg, sleep=1.0):\\n    \"\"\"Delays a while before answering.\"\"\"\\n    import time\\n    time.sleep(sleep)\\n    return msg\\n\\nrun_time_msg = sleepy(\"Hello\", 1.5)\\nprint(run_time_msg)',\n",
              "    'class MyClass:\\n    num_calls = 0\\n\\n    def my_function(self):\\n        MyClass.num_calls += 1\\n\\nmy_object = MyClass()\\nmy_object.my_function()\\nmy_object.my_function()\\nmy_object.my_function()\\n\\nprint(MyClass.num_calls)',\n",
              "    '@count_calls\\ndef fibonacci_R(n):\\n  if n<2: return n\\n  else:\\n    temp = fibonacci_R(n-1) + fibonacci_R(n-2)\\n    return temp\\n\\nval = fibonacci_R(20)\\nprint(val, fibonacci_R.num_fn_calls)',\n",
              "    \"# https://www.datacamp.com/tutorial/decorators-python\\n\\n# https://www.programiz.com/python-programming/decorator\\n'''\\n@ Symbol With Decorator\\nInstead of assigning the function call to a variable, Python provides a much more elegant way to achieve this functionality using the @ symbol. For example,\\n'''\\n\\ndef count_calls(func):\\n    def wrapper(*args, **kwargs):\\n        wrapper.num_fn_calls += 1\\n        return func(*args, **kwargs)\\n    wrapper.num_fn_calls = 0\\n    return wrapper\\n\\n@count_calls\\ndef my_function():\\n    pass\\n\\nmy_function()\\nmy_function()\\nmy_function()\\n\\nprint(my_function.num_fn_calls)\",\n",
              "    '@count_calls\\ndef fibonacci_R(n):\\n  if n<2: return n\\n  else:\\n    temp = fibonacci_R(n-1) + fibonacci_R(n-2)\\n    return temp\\n\\nval = fibonacci_R(20)\\nprint(val, fibonacci_R.num_fn_calls)',\n",
              "    '# use a class variable to count the number of times a function is called\\n\\nclass MyClass:\\n    num_calls = 0\\n\\n    def my_function(self):\\n        MyClass.num_calls += 1\\n\\nmy_object = MyClass()\\nmy_object.my_function()\\nmy_object.my_function()\\nmy_object.my_function()\\n\\nprint(MyClass.num_calls)\\n\\nclass FnCalls():\\n  num_fn_calls = 0\\n\\n  def fibonacci_R(self,n):\\n    self.num_fn_calls +=1\\n    if n<2: return n\\n    else:\\n      return fibonacci_R(n-1)+fibonacci_R(n-2)\\n\\ncalls_fn = FnCalls()\\nval = calls_fn.fibonacci_R(20)\\nprint(val, calls_fn.num_fn_calls)',\n",
              "    '# use a class variable to count the number of times a function is called\\n\\nclass MyClass:\\n    num_calls = 0\\n\\n    def my_function(self):\\n        MyClass.num_calls += 1\\n\\nmy_object = MyClass()\\nmy_object.my_function()\\nmy_object.my_function()\\nmy_object.my_function()\\n\\nprint(MyClass.num_calls)\\n\\nclass FnCalls():\\n  num_fn_calls = 0\\n\\n  def fibonacci_R(self,n):\\n    self.num_fn_calls +=1\\n    if n<2: return n\\n    else:\\n      return self.fibonacci_R(n-1)+self.fibonacci_R(n-2)\\n\\ncalls_fn = FnCalls()\\nval = calls_fn.fibonacci_R(20)\\nprint(val, calls_fn.num_fn_calls)',\n",
              "    \"# https://www.datacamp.com/tutorial/decorators-python\\n\\n# https://www.programiz.com/python-programming/decorator\\n'''\\n@ Symbol With Decorator\\nInstead of assigning the function call to a variable, Python provides a much more elegant way to achieve this functionality using the @ symbol. For example,\\n'''\\n\\ndef count_calls(func):\\n    def wrapper(*args, **kwargs):\\n        func.num_fn_calls += 1\\n        return func(*args, **kwargs)\\n    func.num_fn_calls = 0\\n    return wrapper\\n\\n@count_calls\\ndef my_function():\\n    pass\\n\\nmy_function()\\nmy_function()\\nmy_function()\\n\\nprint(my_function.num_fn_calls)\",\n",
              "    \"# https://www.datacamp.com/tutorial/decorators-python\\n\\n# https://www.programiz.com/python-programming/decorator\\n'''\\n@ Symbol With Decorator\\nInstead of assigning the function call to a variable, Python provides a much more elegant way to achieve this functionality using the @ symbol. For example,\\n'''\\n\\ndef count_calls(func):\\n    def wrapper(*args, **kwargs):\\n        func.num_fn_calls += 1\\n        return func(*args, **kwargs)\\n    func.num_fn_calls = 0\\n    return wrapper\\n\\n@count_calls\\ndef my_function():\\n    pass\\n\\nmy_function()\\nmy_function()\\nmy_function()\\n\\nprint(my_function['num_fn_calls'])\",\n",
              "    \"# https://www.datacamp.com/tutorial/decorators-python\\n\\n# https://www.programiz.com/python-programming/decorator\\n'''\\n@ Symbol With Decorator\\nInstead of assigning the function call to a variable, Python provides a much more elegant way to achieve this functionality using the @ symbol. For example,\\n'''\\n\\ndef count_calls(func):\\n    def wrapper(*args, **kwargs):\\n        func.num_fn_calls += 1\\n        return func(*args, **kwargs)\\n    func.num_fn_calls = 0\\n    return wrapper\\n\\n@count_calls\\ndef my_function():\\n    pass\\n\\nmy_function()\\nmy_function()\\nmy_function()\\n\\nprint(my_function.__dict__['num_fn_calls'])\",\n",
              "    \"# https://www.datacamp.com/tutorial/decorators-python\\n\\n# https://www.programiz.com/python-programming/decorator\\n'''\\n@ Symbol With Decorator\\nInstead of assigning the function call to a variable, Python provides a much more elegant way to achieve this functionality using the @ symbol. For example,\\n'''\\n\\ndef count_calls(func):\\n    def wrapper(*args, **kwargs):\\n        func.num_fn_calls += 1\\n        return func(*args, **kwargs)\\n    func.num_fn_calls = 0\\n    return wrapper\\n\\n@count_calls\\ndef my_function():\\n    pass\\n\\nmy_function()\\nmy_function()\\nmy_function()\\n\\nprint(my_function.__dict__)\",\n",
              "    \"# https://www.datacamp.com/tutorial/decorators-python\\n\\n# https://www.programiz.com/python-programming/decorator\\n'''\\n@ Symbol With Decorator\\nInstead of assigning the function call to a variable, Python provides a much more elegant way to achieve this functionality using the @ symbol. For example,\\n'''\\n\\ndef count_calls(func):\\n    def wrapper(*args, **kwargs):\\n        func.num_fn_calls += 1\\n        return func(*args, **kwargs)\\n    func.num_fn_calls = 0\\n    return wrapper\\n\\n@count_calls\\ndef my_function():\\n    pass\\n\\nmy_function()\\nmy_function()\\nmy_function()\\n\\nprint(my_function.__dict__['num_fn_calls'])\",\n",
              "    \"# https://www.datacamp.com/tutorial/decorators-python\\n\\n# https://www.programiz.com/python-programming/decorator\\n'''\\n@ Symbol With Decorator\\nInstead of assigning the function call to a variable, Python provides a much more elegant way to achieve this functionality using the @ symbol. For example,\\n'''\\n\\ndef count_calls(func):\\n    def wrapper(*args, **kwargs):\\n        func.num_fn_calls += 1\\n        return func(*args, **kwargs)\\n    func.num_fn_calls = 0\\n    return wrapper\\n\\n@count_calls\\ndef my_function():\\n    pass\\n\\nmy_function()\\nmy_function()\\nmy_function()\\n\\nprint(my_function.__dict__['num_fn_calls'])\",\n",
              "    \"# https://www.datacamp.com/tutorial/decorators-python\\n\\n# https://www.programiz.com/python-programming/decorator\\n'''\\n@ Symbol With Decorator\\nInstead of assigning the function call to a variable, Python provides a much more elegant way to achieve this functionality using the @ symbol. For example,\\n'''\\n\\ndef count_calls(func):\\n    def wrapper(*args, **kwargs):\\n        func.num_fn_calls += 1\\n        return func(*args, **kwargs)\\n    func.num_fn_calls = 0\\n    return wrapper\\n\\n@count_calls\\ndef my_function():\\n    pass\\n\\nmy_function()\\nmy_function()\\nmy_function()\\n\\nprint(my_function.__dict__['num_fn_calls'])\",\n",
              "    \"# https://www.datacamp.com/tutorial/decorators-python\\n\\n# https://www.programiz.com/python-programming/decorator\\n'''\\n@ Symbol With Decorator\\nInstead of assigning the function call to a variable, Python provides a much more elegant way to achieve this functionality using the @ symbol. For example,\\n'''\\n\\ndef count_calls(func):\\n    def wrapper(*args, **kwargs):\\n        func.num_fn_calls += 1\\n        return func(*args, **kwargs)\\n    func.num_fn_calls = 0\\n    return wrapper\\n\\n@count_calls()\\ndef my_function():\\n    pass\\n\\nmy_function()\\nmy_function()\\nmy_function()\\n\\nprint(my_function.__dict__['num_fn_calls'])\",\n",
              "    \"# https://www.datacamp.com/tutorial/decorators-python\\n\\n# https://www.programiz.com/python-programming/decorator\\n'''\\n@ Symbol With Decorator\\nInstead of assigning the function call to a variable, Python provides a much more elegant way to achieve this functionality using the @ symbol. For example,\\n'''\\n\\ndef count_calls(func):\\n    def wrapper(*args, **kwargs):\\n        func.num_fn_calls += 1\\n        return func(*args, **kwargs)\\n    func.num_fn_calls = 0\\n    return wrapper\\n\\n@count_calls\\ndef my_function():\\n    pass\\n\\nmy_function()\\nmy_function()\\nmy_function()\\n\\nprint(my_function.__dict__['num_fn_calls'])\",\n",
              "    \"# https://www.datacamp.com/tutorial/decorators-python\\n\\n# https://www.programiz.com/python-programming/decorator\\n'''\\n@ Symbol With Decorator\\nInstead of assigning the function call to a variable, Python provides a much more elegant way to achieve this functionality using the @ symbol. For example,\\n'''\\n\\ndef count_calls(func):\\n    def wrapper(*args, **kwargs):\\n        func.num_fn_calls += 1\\n        return func(*args, **kwargs)\\n    func.num_fn_calls = 0\\n    return wrapper\\n\\n@count_calls\\ndef my_function():\\n    pass\\n\\nmy_function()\\nmy_function()\\nmy_function()\\n\\nprint(my_function.__dict__)\",\n",
              "    \"# https://www.datacamp.com/tutorial/decorators-python\\n\\n# https://www.programiz.com/python-programming/decorator\\n'''\\n@ Symbol With Decorator\\nInstead of assigning the function call to a variable, Python provides a much more elegant way to achieve this functionality using the @ symbol. For example,\\n'''\\n\\ndef count_calls(func):\\n    def wrapper(*args, **kwargs):\\n        wrapper.num_fn_calls += 1\\n        return func(*args, **kwargs)\\n    wrapper.num_fn_calls = 0\\n    return wrapper\\n\\n@count_calls\\ndef my_function():\\n    pass\\n\\nmy_function()\\nmy_function()\\nmy_function()\\n\\nprint(my_function.__dict__)\",\n",
              "    \"# https://www.datacamp.com/tutorial/decorators-python\\n\\n# https://www.programiz.com/python-programming/decorator\\n'''\\n@ Symbol With Decorator\\nInstead of assigning the function call to a variable, Python provides a much more elegant way to achieve this functionality using the @ symbol. For example,\\n'''\\n\\ndef count_calls(func):\\n    def wrapper(*args, **kwargs):\\n        wrapper.num_fn_calls += 1\\n        return func(*args, **kwargs)\\n    wrapper.num_fn_calls = 0\\n    return wrapper\\n\\n@count_calls\\ndef my_function():\\n    pass\\n\\nmy_function()\\nmy_function()\\nmy_function()\\n\\nprint(my_function.__dict__)\\n\\nimport inspect\\n\\ninspect.getmembers(my_function())\",\n",
              "    \"# https://www.datacamp.com/tutorial/decorators-python\\n\\n# https://www.programiz.com/python-programming/decorator\\n'''\\n@ Symbol With Decorator\\nInstead of assigning the function call to a variable, Python provides a much more elegant way to achieve this functionality using the @ symbol. For example,\\n'''\\n\\ndef count_calls(func):\\n    def wrapper(*args, **kwargs):\\n        wrapper['num_fn_calls'] += 1\\n        return func(*args, **kwargs)\\n    wrapper['num_fn_calls'] = 0\\n    return wrapper\\n\\n@count_calls\\ndef my_function():\\n    pass\\n\\nmy_function()\\nmy_function()\\nmy_function()\\n\\nprint(my_function.)\\n\\nimport inspect\\n\\ninspect.getmembers(my_function())\",\n",
              "    \"# https://www.datacamp.com/tutorial/decorators-python\\n\\n# https://www.programiz.com/python-programming/decorator\\n'''\\n@ Symbol With Decorator\\nInstead of assigning the function call to a variable, Python provides a much more elegant way to achieve this functionality using the @ symbol. For example,\\n'''\\n\\ndef count_calls(func):\\n    def wrapper(*args, **kwargs):\\n        wrapper['num_fn_calls'] += 1\\n        return func(*args, **kwargs)\\n    wrapper['num_fn_calls'] = 0\\n    return wrapper\\n\\n@count_calls\\ndef my_function():\\n    pass\\n\\nmy_function()\\nmy_function()\\nmy_function()\\n\\nprint(my_function.__dict__)\\n\\nimport inspect\\n\\ninspect.getmembers(my_function())\",\n",
              "    \"# https://www.datacamp.com/tutorial/decorators-python\\n\\n# https://www.programiz.com/python-programming/decorator\\n'''\\n@ Symbol With Decorator\\nInstead of assigning the function call to a variable, Python provides a much more elegant way to achieve this functionality using the @ symbol. For example,\\n'''\\n\\ndef count_calls(func):\\n    def wrapper(*args, **kwargs):\\n        wrapper.num_fn_calls += 1\\n        return func(*args, **kwargs)\\n    wrapper.num_fn_calls = 0\\n    return wrapper\\n\\n@count_calls\\ndef my_function():\\n    pass\\n\\nmy_function()\\nmy_function()\\nmy_function()\\n\\nprint(my_function.__dict__)\\n\\nimport inspect\\n\\ninspect.getmembers(my_function())\",\n",
              "    \"# https://www.datacamp.com/tutorial/decorators-python\\n\\n# https://www.programiz.com/python-programming/decorator\\n'''\\n@ Symbol With Decorator\\nInstead of assigning the function call to a variable, Python provides a much more elegant way to achieve this functionality using the @ symbol. For example,\\n'''\\n\\ndef count_calls(func):\\n    def wrapper(*args, **kwargs):\\n        wrapper.num_fn_calls += 1\\n        return func(*args, **kwargs)\\n    wrapper.num_fn_calls = 0\\n    return wrapper\\n\\n@count_calls\\ndef my_function():\\n    pass\\n\\nmy_function()\\nmy_function()\\nmy_function()\\n\\nprint(my_function.__dict__)\\n\\nimport inspect\\n\\ninspect.getmembers(my_function)\"],\n",
              "   '_oh': {27: [('__bool__',\n",
              "      <method-wrapper '__bool__' of NoneType object at 0x5951972343e0>),\n",
              "     ('__class__', NoneType),\n",
              "     ('__delattr__',\n",
              "      <method-wrapper '__delattr__' of NoneType object at 0x5951972343e0>),\n",
              "     ('__dir__', <function NoneType.__dir__(self, /)>),\n",
              "     ('__doc__', None),\n",
              "     ('__eq__',\n",
              "      <method-wrapper '__eq__' of NoneType object at 0x5951972343e0>),\n",
              "     ('__format__', <function NoneType.__format__(self, format_spec, /)>),\n",
              "     ('__ge__',\n",
              "      <method-wrapper '__ge__' of NoneType object at 0x5951972343e0>),\n",
              "     ('__getattribute__',\n",
              "      <method-wrapper '__getattribute__' of NoneType object at 0x5951972343e0>),\n",
              "     ('__gt__',\n",
              "      <method-wrapper '__gt__' of NoneType object at 0x5951972343e0>),\n",
              "     ('__hash__',\n",
              "      <method-wrapper '__hash__' of NoneType object at 0x5951972343e0>),\n",
              "     ('__init__',\n",
              "      <method-wrapper '__init__' of NoneType object at 0x5951972343e0>),\n",
              "     ('__init_subclass__', <function NoneType.__init_subclass__>),\n",
              "     ('__le__',\n",
              "      <method-wrapper '__le__' of NoneType object at 0x5951972343e0>),\n",
              "     ('__lt__',\n",
              "      <method-wrapper '__lt__' of NoneType object at 0x5951972343e0>),\n",
              "     ('__ne__',\n",
              "      <method-wrapper '__ne__' of NoneType object at 0x5951972343e0>),\n",
              "     ('__new__', <function NoneType.__new__(*args, **kwargs)>),\n",
              "     ('__reduce__', <function NoneType.__reduce__(self, /)>),\n",
              "     ('__reduce_ex__', <function NoneType.__reduce_ex__(self, protocol, /)>),\n",
              "     ('__repr__',\n",
              "      <method-wrapper '__repr__' of NoneType object at 0x5951972343e0>),\n",
              "     ('__setattr__',\n",
              "      <method-wrapper '__setattr__' of NoneType object at 0x5951972343e0>),\n",
              "     ('__sizeof__', <function NoneType.__sizeof__(self, /)>),\n",
              "     ('__str__',\n",
              "      <method-wrapper '__str__' of NoneType object at 0x5951972343e0>),\n",
              "     ('__subclasshook__', <function NoneType.__subclasshook__>)],\n",
              "    30: [('__bool__',\n",
              "      <method-wrapper '__bool__' of NoneType object at 0x5951972343e0>),\n",
              "     ('__class__', NoneType),\n",
              "     ('__delattr__',\n",
              "      <method-wrapper '__delattr__' of NoneType object at 0x5951972343e0>),\n",
              "     ('__dir__', <function NoneType.__dir__(self, /)>),\n",
              "     ('__doc__', None),\n",
              "     ('__eq__',\n",
              "      <method-wrapper '__eq__' of NoneType object at 0x5951972343e0>),\n",
              "     ('__format__', <function NoneType.__format__(self, format_spec, /)>),\n",
              "     ('__ge__',\n",
              "      <method-wrapper '__ge__' of NoneType object at 0x5951972343e0>),\n",
              "     ('__getattribute__',\n",
              "      <method-wrapper '__getattribute__' of NoneType object at 0x5951972343e0>),\n",
              "     ('__gt__',\n",
              "      <method-wrapper '__gt__' of NoneType object at 0x5951972343e0>),\n",
              "     ('__hash__',\n",
              "      <method-wrapper '__hash__' of NoneType object at 0x5951972343e0>),\n",
              "     ('__init__',\n",
              "      <method-wrapper '__init__' of NoneType object at 0x5951972343e0>),\n",
              "     ('__init_subclass__', <function NoneType.__init_subclass__>),\n",
              "     ('__le__',\n",
              "      <method-wrapper '__le__' of NoneType object at 0x5951972343e0>),\n",
              "     ('__lt__',\n",
              "      <method-wrapper '__lt__' of NoneType object at 0x5951972343e0>),\n",
              "     ('__ne__',\n",
              "      <method-wrapper '__ne__' of NoneType object at 0x5951972343e0>),\n",
              "     ('__new__', <function NoneType.__new__(*args, **kwargs)>),\n",
              "     ('__reduce__', <function NoneType.__reduce__(self, /)>),\n",
              "     ('__reduce_ex__', <function NoneType.__reduce_ex__(self, protocol, /)>),\n",
              "     ('__repr__',\n",
              "      <method-wrapper '__repr__' of NoneType object at 0x5951972343e0>),\n",
              "     ('__setattr__',\n",
              "      <method-wrapper '__setattr__' of NoneType object at 0x5951972343e0>),\n",
              "     ('__sizeof__', <function NoneType.__sizeof__(self, /)>),\n",
              "     ('__str__',\n",
              "      <method-wrapper '__str__' of NoneType object at 0x5951972343e0>),\n",
              "     ('__subclasshook__', <function NoneType.__subclasshook__>)]},\n",
              "   '_dh': ['/content'],\n",
              "   'In': ['',\n",
              "    '# Count the number of times a function was called using a list as a mutable variable\\n\\ndef fibonacci_R(n):\\n  count_R[0] += 1\\n  if n<2: return n\\n  else:\\n    temp = fibonacci_R(n-1) + fibonacci_R(n-2)\\n    return temp\\n\\ncount_R = [0]\\nval = fibonacci_R(20)\\nprint(val, count_R)',\n",
              "    '# Count the number of times a function was called using a list as a mutable variable\\n\\ndef fibonacci_R(n):\\n  count_R[0] += 1\\n  if n<2: return n\\n  else:\\n    temp = fibonacci_R(n-1) + fibonacci_R(n-2)\\n    return temp\\n\\ncount_R = [0]\\nval = fibonacci_R(20)\\nprint(val, count_R[0])',\n",
              "    'def func_timer(func):\\n    \"\"\"Times how long the function took.\"\"\"\\n\\n    def f(*args, **kwargs):\\n        import time\\n        start = time.time()\\n        results = func(*args, **kwargs)\\n        print \"Elapsed: %.2fs\" % (time.time() - start)\\n        return results\\n\\n    return f',\n",
              "    '# Get runtime of a function using the decorator function\\n\\ndef func_timer(func):\\n    \"\"\"Times how long the function took.\"\"\"\\n\\n    def f(*args, **kwargs):\\n        import time\\n        start = time.time()\\n        results = func(*args, **kwargs)\\n        print \"Elapsed: %.2fs\" % (time.time() - start)\\n        return results\\n\\n    return f\\n\\n@func_timer\\ndef sleepy(msg, sleep=1.0):\\n    \"\"\"Delays a while before answering.\"\"\"\\n    import time\\n    time.sleep(sleep)\\n    print msg\\n\\nsleepy(\"Hello\", 1.5)',\n",
              "    '# Get runtime of a function using the decorator function\\n\\ndef func_timer(func):\\n    \"\"\"Times how long the function took.\"\"\"\\n\\n    def f(*args, **kwargs):\\n        import time\\n        start = time.time()\\n        results = func(*args, **kwargs)\\n        print (\"Elapsed: %.2fs\" % (time.time() - start))\\n        return results\\n\\n    return f\\n\\n@func_timer\\ndef sleepy(msg, sleep=1.0):\\n    \"\"\"Delays a while before answering.\"\"\"\\n    import time\\n    time.sleep(sleep)\\n    print msg\\n\\nsleepy(\"Hello\", 1.5)',\n",
              "    '# Get runtime of a function using the decorator function\\n\\ndef func_timer(func):\\n    \"\"\"Times how long the function took.\"\"\"\\n\\n    def f(*args, **kwargs):\\n        import time\\n        start = time.time()\\n        results = func(*args, **kwargs)\\n        print(\"Elapsed: %.2fs\" % (time.time() - start))\\n        return results\\n\\n    return f\\n\\n@func_timer\\ndef sleepy(msg, sleep=1.0):\\n    \"\"\"Delays a while before answering.\"\"\"\\n    import time\\n    time.sleep(sleep)\\n    print(msg)\\n\\nsleepy(\"Hello\", 1.5)',\n",
              "    '# Get runtime of a function using the decorator function\\n\\ndef func_timer(func):\\n    \"\"\"Times how long the function took.\"\"\"\\n\\n    def f(*args, **kwargs):\\n        import time\\n        start = time.time()\\n        results = func(*args, **kwargs)\\n        print(\"Elapsed: %.2fs\" % (time.time() - start))\\n        return results\\n\\n    return f\\n\\n@func_timer\\ndef sleepy(msg, sleep=1.0):\\n    \"\"\"Delays a while before answering.\"\"\"\\n    import time\\n    time.sleep(sleep)\\n    print(msg)\\n\\nrun_time = sleepy(\"Hello\", 1.5)\\nprint(run_time)',\n",
              "    '# Get runtime of a function using the decorator function\\n\\ndef func_timer(func):\\n    \"\"\"Times how long the function took.\"\"\"\\n\\n    def f(*args, **kwargs):\\n        import time\\n        start = time.time()\\n        func(*args, **kwargs)\\n        print(\"Elapsed: %.2fs\" % (time.time() - start))\\n\\n    return f\\n\\n@func_timer\\ndef sleepy(msg, sleep=1.0):\\n    \"\"\"Delays a while before answering.\"\"\"\\n    import time\\n    time.sleep(sleep)\\n    print(msg)\\n\\nrun_time = sleepy(\"Hello\", 1.5)\\nprint(run_time)',\n",
              "    '# Get runtime of a function using the decorator function\\n\\ndef func_timer(func):\\n    \"\"\"Times how long the function took.\"\"\"\\n\\n    def f(*args, **kwargs):\\n        import time\\n        start = time.time()\\n        results = func(*args, **kwargs)\\n        print(\"Elapsed: %.2fs\" % (time.time() - start))\\n        return results\\n\\n    return f\\n\\n@func_timer\\ndef sleepy(msg, sleep=1.0):\\n    \"\"\"Delays a while before answering.\"\"\"\\n    import time\\n    time.sleep(sleep)\\n    return msg\\n\\nrun_time_msg = sleepy(\"Hello\", 1.5)\\nprint(run_time_msg)',\n",
              "    'class MyClass:\\n    num_calls = 0\\n\\n    def my_function(self):\\n        MyClass.num_calls += 1\\n\\nmy_object = MyClass()\\nmy_object.my_function()\\nmy_object.my_function()\\nmy_object.my_function()\\n\\nprint(MyClass.num_calls)',\n",
              "    '@count_calls\\ndef fibonacci_R(n):\\n  if n<2: return n\\n  else:\\n    temp = fibonacci_R(n-1) + fibonacci_R(n-2)\\n    return temp\\n\\nval = fibonacci_R(20)\\nprint(val, fibonacci_R.num_fn_calls)',\n",
              "    \"# https://www.datacamp.com/tutorial/decorators-python\\n\\n# https://www.programiz.com/python-programming/decorator\\n'''\\n@ Symbol With Decorator\\nInstead of assigning the function call to a variable, Python provides a much more elegant way to achieve this functionality using the @ symbol. For example,\\n'''\\n\\ndef count_calls(func):\\n    def wrapper(*args, **kwargs):\\n        wrapper.num_fn_calls += 1\\n        return func(*args, **kwargs)\\n    wrapper.num_fn_calls = 0\\n    return wrapper\\n\\n@count_calls\\ndef my_function():\\n    pass\\n\\nmy_function()\\nmy_function()\\nmy_function()\\n\\nprint(my_function.num_fn_calls)\",\n",
              "    '@count_calls\\ndef fibonacci_R(n):\\n  if n<2: return n\\n  else:\\n    temp = fibonacci_R(n-1) + fibonacci_R(n-2)\\n    return temp\\n\\nval = fibonacci_R(20)\\nprint(val, fibonacci_R.num_fn_calls)',\n",
              "    '# use a class variable to count the number of times a function is called\\n\\nclass MyClass:\\n    num_calls = 0\\n\\n    def my_function(self):\\n        MyClass.num_calls += 1\\n\\nmy_object = MyClass()\\nmy_object.my_function()\\nmy_object.my_function()\\nmy_object.my_function()\\n\\nprint(MyClass.num_calls)\\n\\nclass FnCalls():\\n  num_fn_calls = 0\\n\\n  def fibonacci_R(self,n):\\n    self.num_fn_calls +=1\\n    if n<2: return n\\n    else:\\n      return fibonacci_R(n-1)+fibonacci_R(n-2)\\n\\ncalls_fn = FnCalls()\\nval = calls_fn.fibonacci_R(20)\\nprint(val, calls_fn.num_fn_calls)',\n",
              "    '# use a class variable to count the number of times a function is called\\n\\nclass MyClass:\\n    num_calls = 0\\n\\n    def my_function(self):\\n        MyClass.num_calls += 1\\n\\nmy_object = MyClass()\\nmy_object.my_function()\\nmy_object.my_function()\\nmy_object.my_function()\\n\\nprint(MyClass.num_calls)\\n\\nclass FnCalls():\\n  num_fn_calls = 0\\n\\n  def fibonacci_R(self,n):\\n    self.num_fn_calls +=1\\n    if n<2: return n\\n    else:\\n      return self.fibonacci_R(n-1)+self.fibonacci_R(n-2)\\n\\ncalls_fn = FnCalls()\\nval = calls_fn.fibonacci_R(20)\\nprint(val, calls_fn.num_fn_calls)',\n",
              "    \"# https://www.datacamp.com/tutorial/decorators-python\\n\\n# https://www.programiz.com/python-programming/decorator\\n'''\\n@ Symbol With Decorator\\nInstead of assigning the function call to a variable, Python provides a much more elegant way to achieve this functionality using the @ symbol. For example,\\n'''\\n\\ndef count_calls(func):\\n    def wrapper(*args, **kwargs):\\n        func.num_fn_calls += 1\\n        return func(*args, **kwargs)\\n    func.num_fn_calls = 0\\n    return wrapper\\n\\n@count_calls\\ndef my_function():\\n    pass\\n\\nmy_function()\\nmy_function()\\nmy_function()\\n\\nprint(my_function.num_fn_calls)\",\n",
              "    \"# https://www.datacamp.com/tutorial/decorators-python\\n\\n# https://www.programiz.com/python-programming/decorator\\n'''\\n@ Symbol With Decorator\\nInstead of assigning the function call to a variable, Python provides a much more elegant way to achieve this functionality using the @ symbol. For example,\\n'''\\n\\ndef count_calls(func):\\n    def wrapper(*args, **kwargs):\\n        func.num_fn_calls += 1\\n        return func(*args, **kwargs)\\n    func.num_fn_calls = 0\\n    return wrapper\\n\\n@count_calls\\ndef my_function():\\n    pass\\n\\nmy_function()\\nmy_function()\\nmy_function()\\n\\nprint(my_function['num_fn_calls'])\",\n",
              "    \"# https://www.datacamp.com/tutorial/decorators-python\\n\\n# https://www.programiz.com/python-programming/decorator\\n'''\\n@ Symbol With Decorator\\nInstead of assigning the function call to a variable, Python provides a much more elegant way to achieve this functionality using the @ symbol. For example,\\n'''\\n\\ndef count_calls(func):\\n    def wrapper(*args, **kwargs):\\n        func.num_fn_calls += 1\\n        return func(*args, **kwargs)\\n    func.num_fn_calls = 0\\n    return wrapper\\n\\n@count_calls\\ndef my_function():\\n    pass\\n\\nmy_function()\\nmy_function()\\nmy_function()\\n\\nprint(my_function.__dict__['num_fn_calls'])\",\n",
              "    \"# https://www.datacamp.com/tutorial/decorators-python\\n\\n# https://www.programiz.com/python-programming/decorator\\n'''\\n@ Symbol With Decorator\\nInstead of assigning the function call to a variable, Python provides a much more elegant way to achieve this functionality using the @ symbol. For example,\\n'''\\n\\ndef count_calls(func):\\n    def wrapper(*args, **kwargs):\\n        func.num_fn_calls += 1\\n        return func(*args, **kwargs)\\n    func.num_fn_calls = 0\\n    return wrapper\\n\\n@count_calls\\ndef my_function():\\n    pass\\n\\nmy_function()\\nmy_function()\\nmy_function()\\n\\nprint(my_function.__dict__)\",\n",
              "    \"# https://www.datacamp.com/tutorial/decorators-python\\n\\n# https://www.programiz.com/python-programming/decorator\\n'''\\n@ Symbol With Decorator\\nInstead of assigning the function call to a variable, Python provides a much more elegant way to achieve this functionality using the @ symbol. For example,\\n'''\\n\\ndef count_calls(func):\\n    def wrapper(*args, **kwargs):\\n        func.num_fn_calls += 1\\n        return func(*args, **kwargs)\\n    func.num_fn_calls = 0\\n    return wrapper\\n\\n@count_calls\\ndef my_function():\\n    pass\\n\\nmy_function()\\nmy_function()\\nmy_function()\\n\\nprint(my_function.__dict__['num_fn_calls'])\",\n",
              "    \"# https://www.datacamp.com/tutorial/decorators-python\\n\\n# https://www.programiz.com/python-programming/decorator\\n'''\\n@ Symbol With Decorator\\nInstead of assigning the function call to a variable, Python provides a much more elegant way to achieve this functionality using the @ symbol. For example,\\n'''\\n\\ndef count_calls(func):\\n    def wrapper(*args, **kwargs):\\n        func.num_fn_calls += 1\\n        return func(*args, **kwargs)\\n    func.num_fn_calls = 0\\n    return wrapper\\n\\n@count_calls\\ndef my_function():\\n    pass\\n\\nmy_function()\\nmy_function()\\nmy_function()\\n\\nprint(my_function.__dict__['num_fn_calls'])\",\n",
              "    \"# https://www.datacamp.com/tutorial/decorators-python\\n\\n# https://www.programiz.com/python-programming/decorator\\n'''\\n@ Symbol With Decorator\\nInstead of assigning the function call to a variable, Python provides a much more elegant way to achieve this functionality using the @ symbol. For example,\\n'''\\n\\ndef count_calls(func):\\n    def wrapper(*args, **kwargs):\\n        func.num_fn_calls += 1\\n        return func(*args, **kwargs)\\n    func.num_fn_calls = 0\\n    return wrapper\\n\\n@count_calls\\ndef my_function():\\n    pass\\n\\nmy_function()\\nmy_function()\\nmy_function()\\n\\nprint(my_function.__dict__['num_fn_calls'])\",\n",
              "    \"# https://www.datacamp.com/tutorial/decorators-python\\n\\n# https://www.programiz.com/python-programming/decorator\\n'''\\n@ Symbol With Decorator\\nInstead of assigning the function call to a variable, Python provides a much more elegant way to achieve this functionality using the @ symbol. For example,\\n'''\\n\\ndef count_calls(func):\\n    def wrapper(*args, **kwargs):\\n        func.num_fn_calls += 1\\n        return func(*args, **kwargs)\\n    func.num_fn_calls = 0\\n    return wrapper\\n\\n@count_calls()\\ndef my_function():\\n    pass\\n\\nmy_function()\\nmy_function()\\nmy_function()\\n\\nprint(my_function.__dict__['num_fn_calls'])\",\n",
              "    \"# https://www.datacamp.com/tutorial/decorators-python\\n\\n# https://www.programiz.com/python-programming/decorator\\n'''\\n@ Symbol With Decorator\\nInstead of assigning the function call to a variable, Python provides a much more elegant way to achieve this functionality using the @ symbol. For example,\\n'''\\n\\ndef count_calls(func):\\n    def wrapper(*args, **kwargs):\\n        func.num_fn_calls += 1\\n        return func(*args, **kwargs)\\n    func.num_fn_calls = 0\\n    return wrapper\\n\\n@count_calls\\ndef my_function():\\n    pass\\n\\nmy_function()\\nmy_function()\\nmy_function()\\n\\nprint(my_function.__dict__['num_fn_calls'])\",\n",
              "    \"# https://www.datacamp.com/tutorial/decorators-python\\n\\n# https://www.programiz.com/python-programming/decorator\\n'''\\n@ Symbol With Decorator\\nInstead of assigning the function call to a variable, Python provides a much more elegant way to achieve this functionality using the @ symbol. For example,\\n'''\\n\\ndef count_calls(func):\\n    def wrapper(*args, **kwargs):\\n        func.num_fn_calls += 1\\n        return func(*args, **kwargs)\\n    func.num_fn_calls = 0\\n    return wrapper\\n\\n@count_calls\\ndef my_function():\\n    pass\\n\\nmy_function()\\nmy_function()\\nmy_function()\\n\\nprint(my_function.__dict__)\",\n",
              "    \"# https://www.datacamp.com/tutorial/decorators-python\\n\\n# https://www.programiz.com/python-programming/decorator\\n'''\\n@ Symbol With Decorator\\nInstead of assigning the function call to a variable, Python provides a much more elegant way to achieve this functionality using the @ symbol. For example,\\n'''\\n\\ndef count_calls(func):\\n    def wrapper(*args, **kwargs):\\n        wrapper.num_fn_calls += 1\\n        return func(*args, **kwargs)\\n    wrapper.num_fn_calls = 0\\n    return wrapper\\n\\n@count_calls\\ndef my_function():\\n    pass\\n\\nmy_function()\\nmy_function()\\nmy_function()\\n\\nprint(my_function.__dict__)\",\n",
              "    \"# https://www.datacamp.com/tutorial/decorators-python\\n\\n# https://www.programiz.com/python-programming/decorator\\n'''\\n@ Symbol With Decorator\\nInstead of assigning the function call to a variable, Python provides a much more elegant way to achieve this functionality using the @ symbol. For example,\\n'''\\n\\ndef count_calls(func):\\n    def wrapper(*args, **kwargs):\\n        wrapper.num_fn_calls += 1\\n        return func(*args, **kwargs)\\n    wrapper.num_fn_calls = 0\\n    return wrapper\\n\\n@count_calls\\ndef my_function():\\n    pass\\n\\nmy_function()\\nmy_function()\\nmy_function()\\n\\nprint(my_function.__dict__)\\n\\nimport inspect\\n\\ninspect.getmembers(my_function())\",\n",
              "    \"# https://www.datacamp.com/tutorial/decorators-python\\n\\n# https://www.programiz.com/python-programming/decorator\\n'''\\n@ Symbol With Decorator\\nInstead of assigning the function call to a variable, Python provides a much more elegant way to achieve this functionality using the @ symbol. For example,\\n'''\\n\\ndef count_calls(func):\\n    def wrapper(*args, **kwargs):\\n        wrapper['num_fn_calls'] += 1\\n        return func(*args, **kwargs)\\n    wrapper['num_fn_calls'] = 0\\n    return wrapper\\n\\n@count_calls\\ndef my_function():\\n    pass\\n\\nmy_function()\\nmy_function()\\nmy_function()\\n\\nprint(my_function.)\\n\\nimport inspect\\n\\ninspect.getmembers(my_function())\",\n",
              "    \"# https://www.datacamp.com/tutorial/decorators-python\\n\\n# https://www.programiz.com/python-programming/decorator\\n'''\\n@ Symbol With Decorator\\nInstead of assigning the function call to a variable, Python provides a much more elegant way to achieve this functionality using the @ symbol. For example,\\n'''\\n\\ndef count_calls(func):\\n    def wrapper(*args, **kwargs):\\n        wrapper['num_fn_calls'] += 1\\n        return func(*args, **kwargs)\\n    wrapper['num_fn_calls'] = 0\\n    return wrapper\\n\\n@count_calls\\ndef my_function():\\n    pass\\n\\nmy_function()\\nmy_function()\\nmy_function()\\n\\nprint(my_function.__dict__)\\n\\nimport inspect\\n\\ninspect.getmembers(my_function())\",\n",
              "    \"# https://www.datacamp.com/tutorial/decorators-python\\n\\n# https://www.programiz.com/python-programming/decorator\\n'''\\n@ Symbol With Decorator\\nInstead of assigning the function call to a variable, Python provides a much more elegant way to achieve this functionality using the @ symbol. For example,\\n'''\\n\\ndef count_calls(func):\\n    def wrapper(*args, **kwargs):\\n        wrapper.num_fn_calls += 1\\n        return func(*args, **kwargs)\\n    wrapper.num_fn_calls = 0\\n    return wrapper\\n\\n@count_calls\\ndef my_function():\\n    pass\\n\\nmy_function()\\nmy_function()\\nmy_function()\\n\\nprint(my_function.__dict__)\\n\\nimport inspect\\n\\ninspect.getmembers(my_function())\",\n",
              "    \"# https://www.datacamp.com/tutorial/decorators-python\\n\\n# https://www.programiz.com/python-programming/decorator\\n'''\\n@ Symbol With Decorator\\nInstead of assigning the function call to a variable, Python provides a much more elegant way to achieve this functionality using the @ symbol. For example,\\n'''\\n\\ndef count_calls(func):\\n    def wrapper(*args, **kwargs):\\n        wrapper.num_fn_calls += 1\\n        return func(*args, **kwargs)\\n    wrapper.num_fn_calls = 0\\n    return wrapper\\n\\n@count_calls\\ndef my_function():\\n    pass\\n\\nmy_function()\\nmy_function()\\nmy_function()\\n\\nprint(my_function.__dict__)\\n\\nimport inspect\\n\\ninspect.getmembers(my_function)\"],\n",
              "   'Out': {27: [('__bool__',\n",
              "      <method-wrapper '__bool__' of NoneType object at 0x5951972343e0>),\n",
              "     ('__class__', NoneType),\n",
              "     ('__delattr__',\n",
              "      <method-wrapper '__delattr__' of NoneType object at 0x5951972343e0>),\n",
              "     ('__dir__', <function NoneType.__dir__(self, /)>),\n",
              "     ('__doc__', None),\n",
              "     ('__eq__',\n",
              "      <method-wrapper '__eq__' of NoneType object at 0x5951972343e0>),\n",
              "     ('__format__', <function NoneType.__format__(self, format_spec, /)>),\n",
              "     ('__ge__',\n",
              "      <method-wrapper '__ge__' of NoneType object at 0x5951972343e0>),\n",
              "     ('__getattribute__',\n",
              "      <method-wrapper '__getattribute__' of NoneType object at 0x5951972343e0>),\n",
              "     ('__gt__',\n",
              "      <method-wrapper '__gt__' of NoneType object at 0x5951972343e0>),\n",
              "     ('__hash__',\n",
              "      <method-wrapper '__hash__' of NoneType object at 0x5951972343e0>),\n",
              "     ('__init__',\n",
              "      <method-wrapper '__init__' of NoneType object at 0x5951972343e0>),\n",
              "     ('__init_subclass__', <function NoneType.__init_subclass__>),\n",
              "     ('__le__',\n",
              "      <method-wrapper '__le__' of NoneType object at 0x5951972343e0>),\n",
              "     ('__lt__',\n",
              "      <method-wrapper '__lt__' of NoneType object at 0x5951972343e0>),\n",
              "     ('__ne__',\n",
              "      <method-wrapper '__ne__' of NoneType object at 0x5951972343e0>),\n",
              "     ('__new__', <function NoneType.__new__(*args, **kwargs)>),\n",
              "     ('__reduce__', <function NoneType.__reduce__(self, /)>),\n",
              "     ('__reduce_ex__', <function NoneType.__reduce_ex__(self, protocol, /)>),\n",
              "     ('__repr__',\n",
              "      <method-wrapper '__repr__' of NoneType object at 0x5951972343e0>),\n",
              "     ('__setattr__',\n",
              "      <method-wrapper '__setattr__' of NoneType object at 0x5951972343e0>),\n",
              "     ('__sizeof__', <function NoneType.__sizeof__(self, /)>),\n",
              "     ('__str__',\n",
              "      <method-wrapper '__str__' of NoneType object at 0x5951972343e0>),\n",
              "     ('__subclasshook__', <function NoneType.__subclasshook__>)],\n",
              "    30: [('__bool__',\n",
              "      <method-wrapper '__bool__' of NoneType object at 0x5951972343e0>),\n",
              "     ('__class__', NoneType),\n",
              "     ('__delattr__',\n",
              "      <method-wrapper '__delattr__' of NoneType object at 0x5951972343e0>),\n",
              "     ('__dir__', <function NoneType.__dir__(self, /)>),\n",
              "     ('__doc__', None),\n",
              "     ('__eq__',\n",
              "      <method-wrapper '__eq__' of NoneType object at 0x5951972343e0>),\n",
              "     ('__format__', <function NoneType.__format__(self, format_spec, /)>),\n",
              "     ('__ge__',\n",
              "      <method-wrapper '__ge__' of NoneType object at 0x5951972343e0>),\n",
              "     ('__getattribute__',\n",
              "      <method-wrapper '__getattribute__' of NoneType object at 0x5951972343e0>),\n",
              "     ('__gt__',\n",
              "      <method-wrapper '__gt__' of NoneType object at 0x5951972343e0>),\n",
              "     ('__hash__',\n",
              "      <method-wrapper '__hash__' of NoneType object at 0x5951972343e0>),\n",
              "     ('__init__',\n",
              "      <method-wrapper '__init__' of NoneType object at 0x5951972343e0>),\n",
              "     ('__init_subclass__', <function NoneType.__init_subclass__>),\n",
              "     ('__le__',\n",
              "      <method-wrapper '__le__' of NoneType object at 0x5951972343e0>),\n",
              "     ('__lt__',\n",
              "      <method-wrapper '__lt__' of NoneType object at 0x5951972343e0>),\n",
              "     ('__ne__',\n",
              "      <method-wrapper '__ne__' of NoneType object at 0x5951972343e0>),\n",
              "     ('__new__', <function NoneType.__new__(*args, **kwargs)>),\n",
              "     ('__reduce__', <function NoneType.__reduce__(self, /)>),\n",
              "     ('__reduce_ex__', <function NoneType.__reduce_ex__(self, protocol, /)>),\n",
              "     ('__repr__',\n",
              "      <method-wrapper '__repr__' of NoneType object at 0x5951972343e0>),\n",
              "     ('__setattr__',\n",
              "      <method-wrapper '__setattr__' of NoneType object at 0x5951972343e0>),\n",
              "     ('__sizeof__', <function NoneType.__sizeof__(self, /)>),\n",
              "     ('__str__',\n",
              "      <method-wrapper '__str__' of NoneType object at 0x5951972343e0>),\n",
              "     ('__subclasshook__', <function NoneType.__subclasshook__>)]},\n",
              "   'get_ipython': <bound method InteractiveShell.get_ipython of <google.colab._shell.Shell object at 0x7d71fcebba30>>,\n",
              "   'exit': <IPython.core.autocall.ZMQExitAutocall at 0x7d71fcebbfd0>,\n",
              "   'quit': <IPython.core.autocall.ZMQExitAutocall at 0x7d71fcebbfd0>,\n",
              "   '_': [('__bool__',\n",
              "     <method-wrapper '__bool__' of NoneType object at 0x5951972343e0>),\n",
              "    ('__class__', NoneType),\n",
              "    ('__delattr__',\n",
              "     <method-wrapper '__delattr__' of NoneType object at 0x5951972343e0>),\n",
              "    ('__dir__', <function NoneType.__dir__(self, /)>),\n",
              "    ('__doc__', None),\n",
              "    ('__eq__', <method-wrapper '__eq__' of NoneType object at 0x5951972343e0>),\n",
              "    ('__format__', <function NoneType.__format__(self, format_spec, /)>),\n",
              "    ('__ge__', <method-wrapper '__ge__' of NoneType object at 0x5951972343e0>),\n",
              "    ('__getattribute__',\n",
              "     <method-wrapper '__getattribute__' of NoneType object at 0x5951972343e0>),\n",
              "    ('__gt__', <method-wrapper '__gt__' of NoneType object at 0x5951972343e0>),\n",
              "    ('__hash__',\n",
              "     <method-wrapper '__hash__' of NoneType object at 0x5951972343e0>),\n",
              "    ('__init__',\n",
              "     <method-wrapper '__init__' of NoneType object at 0x5951972343e0>),\n",
              "    ('__init_subclass__', <function NoneType.__init_subclass__>),\n",
              "    ('__le__', <method-wrapper '__le__' of NoneType object at 0x5951972343e0>),\n",
              "    ('__lt__', <method-wrapper '__lt__' of NoneType object at 0x5951972343e0>),\n",
              "    ('__ne__', <method-wrapper '__ne__' of NoneType object at 0x5951972343e0>),\n",
              "    ('__new__', <function NoneType.__new__(*args, **kwargs)>),\n",
              "    ('__reduce__', <function NoneType.__reduce__(self, /)>),\n",
              "    ('__reduce_ex__', <function NoneType.__reduce_ex__(self, protocol, /)>),\n",
              "    ('__repr__',\n",
              "     <method-wrapper '__repr__' of NoneType object at 0x5951972343e0>),\n",
              "    ('__setattr__',\n",
              "     <method-wrapper '__setattr__' of NoneType object at 0x5951972343e0>),\n",
              "    ('__sizeof__', <function NoneType.__sizeof__(self, /)>),\n",
              "    ('__str__',\n",
              "     <method-wrapper '__str__' of NoneType object at 0x5951972343e0>),\n",
              "    ('__subclasshook__', <function NoneType.__subclasshook__>)],\n",
              "   '__': [('__bool__',\n",
              "     <method-wrapper '__bool__' of NoneType object at 0x5951972343e0>),\n",
              "    ('__class__', NoneType),\n",
              "    ('__delattr__',\n",
              "     <method-wrapper '__delattr__' of NoneType object at 0x5951972343e0>),\n",
              "    ('__dir__', <function NoneType.__dir__(self, /)>),\n",
              "    ('__doc__', None),\n",
              "    ('__eq__', <method-wrapper '__eq__' of NoneType object at 0x5951972343e0>),\n",
              "    ('__format__', <function NoneType.__format__(self, format_spec, /)>),\n",
              "    ('__ge__', <method-wrapper '__ge__' of NoneType object at 0x5951972343e0>),\n",
              "    ('__getattribute__',\n",
              "     <method-wrapper '__getattribute__' of NoneType object at 0x5951972343e0>),\n",
              "    ('__gt__', <method-wrapper '__gt__' of NoneType object at 0x5951972343e0>),\n",
              "    ('__hash__',\n",
              "     <method-wrapper '__hash__' of NoneType object at 0x5951972343e0>),\n",
              "    ('__init__',\n",
              "     <method-wrapper '__init__' of NoneType object at 0x5951972343e0>),\n",
              "    ('__init_subclass__', <function NoneType.__init_subclass__>),\n",
              "    ('__le__', <method-wrapper '__le__' of NoneType object at 0x5951972343e0>),\n",
              "    ('__lt__', <method-wrapper '__lt__' of NoneType object at 0x5951972343e0>),\n",
              "    ('__ne__', <method-wrapper '__ne__' of NoneType object at 0x5951972343e0>),\n",
              "    ('__new__', <function NoneType.__new__(*args, **kwargs)>),\n",
              "    ('__reduce__', <function NoneType.__reduce__(self, /)>),\n",
              "    ('__reduce_ex__', <function NoneType.__reduce_ex__(self, protocol, /)>),\n",
              "    ('__repr__',\n",
              "     <method-wrapper '__repr__' of NoneType object at 0x5951972343e0>),\n",
              "    ('__setattr__',\n",
              "     <method-wrapper '__setattr__' of NoneType object at 0x5951972343e0>),\n",
              "    ('__sizeof__', <function NoneType.__sizeof__(self, /)>),\n",
              "    ('__str__',\n",
              "     <method-wrapper '__str__' of NoneType object at 0x5951972343e0>),\n",
              "    ('__subclasshook__', <function NoneType.__subclasshook__>)],\n",
              "   '___': '',\n",
              "   '_i': \"# https://www.datacamp.com/tutorial/decorators-python\\n\\n# https://www.programiz.com/python-programming/decorator\\n'''\\n@ Symbol With Decorator\\nInstead of assigning the function call to a variable, Python provides a much more elegant way to achieve this functionality using the @ symbol. For example,\\n'''\\n\\ndef count_calls(func):\\n    def wrapper(*args, **kwargs):\\n        wrapper.num_fn_calls += 1\\n        return func(*args, **kwargs)\\n    wrapper.num_fn_calls = 0\\n    return wrapper\\n\\n@count_calls\\ndef my_function():\\n    pass\\n\\nmy_function()\\nmy_function()\\nmy_function()\\n\\nprint(my_function.__dict__)\\n\\nimport inspect\\n\\ninspect.getmembers(my_function())\",\n",
              "   '_ii': \"# https://www.datacamp.com/tutorial/decorators-python\\n\\n# https://www.programiz.com/python-programming/decorator\\n'''\\n@ Symbol With Decorator\\nInstead of assigning the function call to a variable, Python provides a much more elegant way to achieve this functionality using the @ symbol. For example,\\n'''\\n\\ndef count_calls(func):\\n    def wrapper(*args, **kwargs):\\n        wrapper['num_fn_calls'] += 1\\n        return func(*args, **kwargs)\\n    wrapper['num_fn_calls'] = 0\\n    return wrapper\\n\\n@count_calls\\ndef my_function():\\n    pass\\n\\nmy_function()\\nmy_function()\\nmy_function()\\n\\nprint(my_function.__dict__)\\n\\nimport inspect\\n\\ninspect.getmembers(my_function())\",\n",
              "   '_iii': \"# https://www.datacamp.com/tutorial/decorators-python\\n\\n# https://www.programiz.com/python-programming/decorator\\n'''\\n@ Symbol With Decorator\\nInstead of assigning the function call to a variable, Python provides a much more elegant way to achieve this functionality using the @ symbol. For example,\\n'''\\n\\ndef count_calls(func):\\n    def wrapper(*args, **kwargs):\\n        wrapper['num_fn_calls'] += 1\\n        return func(*args, **kwargs)\\n    wrapper['num_fn_calls'] = 0\\n    return wrapper\\n\\n@count_calls\\ndef my_function():\\n    pass\\n\\nmy_function()\\nmy_function()\\nmy_function()\\n\\nprint(my_function.)\\n\\nimport inspect\\n\\ninspect.getmembers(my_function())\",\n",
              "   '_i1': '# Count the number of times a function was called using a list as a mutable variable\\n\\ndef fibonacci_R(n):\\n  count_R[0] += 1\\n  if n<2: return n\\n  else:\\n    temp = fibonacci_R(n-1) + fibonacci_R(n-2)\\n    return temp\\n\\ncount_R = [0]\\nval = fibonacci_R(20)\\nprint(val, count_R)',\n",
              "   'fibonacci_R': <function __main__.count_calls.<locals>.wrapper(*args, **kwargs)>,\n",
              "   'count_R': [21891],\n",
              "   'val': 6765,\n",
              "   '_i2': '# Count the number of times a function was called using a list as a mutable variable\\n\\ndef fibonacci_R(n):\\n  count_R[0] += 1\\n  if n<2: return n\\n  else:\\n    temp = fibonacci_R(n-1) + fibonacci_R(n-2)\\n    return temp\\n\\ncount_R = [0]\\nval = fibonacci_R(20)\\nprint(val, count_R[0])',\n",
              "   '_i3': 'def func_timer(func):\\n    \"\"\"Times how long the function took.\"\"\"\\n\\n    def f(*args, **kwargs):\\n        import time\\n        start = time.time()\\n        results = func(*args, **kwargs)\\n        print \"Elapsed: %.2fs\" % (time.time() - start)\\n        return results\\n\\n    return f',\n",
              "   '_i4': '# Get runtime of a function using the decorator function\\n\\ndef func_timer(func):\\n    \"\"\"Times how long the function took.\"\"\"\\n\\n    def f(*args, **kwargs):\\n        import time\\n        start = time.time()\\n        results = func(*args, **kwargs)\\n        print \"Elapsed: %.2fs\" % (time.time() - start)\\n        return results\\n\\n    return f\\n\\n@func_timer\\ndef sleepy(msg, sleep=1.0):\\n    \"\"\"Delays a while before answering.\"\"\"\\n    import time\\n    time.sleep(sleep)\\n    print msg\\n\\nsleepy(\"Hello\", 1.5)',\n",
              "   '_i5': '# Get runtime of a function using the decorator function\\n\\ndef func_timer(func):\\n    \"\"\"Times how long the function took.\"\"\"\\n\\n    def f(*args, **kwargs):\\n        import time\\n        start = time.time()\\n        results = func(*args, **kwargs)\\n        print (\"Elapsed: %.2fs\" % (time.time() - start))\\n        return results\\n\\n    return f\\n\\n@func_timer\\ndef sleepy(msg, sleep=1.0):\\n    \"\"\"Delays a while before answering.\"\"\"\\n    import time\\n    time.sleep(sleep)\\n    print msg\\n\\nsleepy(\"Hello\", 1.5)',\n",
              "   '_i6': '# Get runtime of a function using the decorator function\\n\\ndef func_timer(func):\\n    \"\"\"Times how long the function took.\"\"\"\\n\\n    def f(*args, **kwargs):\\n        import time\\n        start = time.time()\\n        results = func(*args, **kwargs)\\n        print(\"Elapsed: %.2fs\" % (time.time() - start))\\n        return results\\n\\n    return f\\n\\n@func_timer\\ndef sleepy(msg, sleep=1.0):\\n    \"\"\"Delays a while before answering.\"\"\"\\n    import time\\n    time.sleep(sleep)\\n    print(msg)\\n\\nsleepy(\"Hello\", 1.5)',\n",
              "   'func_timer': <function __main__.func_timer(func)>,\n",
              "   'sleepy': <function __main__.func_timer.<locals>.f(*args, **kwargs)>,\n",
              "   '_i7': '# Get runtime of a function using the decorator function\\n\\ndef func_timer(func):\\n    \"\"\"Times how long the function took.\"\"\"\\n\\n    def f(*args, **kwargs):\\n        import time\\n        start = time.time()\\n        results = func(*args, **kwargs)\\n        print(\"Elapsed: %.2fs\" % (time.time() - start))\\n        return results\\n\\n    return f\\n\\n@func_timer\\ndef sleepy(msg, sleep=1.0):\\n    \"\"\"Delays a while before answering.\"\"\"\\n    import time\\n    time.sleep(sleep)\\n    print(msg)\\n\\nrun_time = sleepy(\"Hello\", 1.5)\\nprint(run_time)',\n",
              "   'run_time': None,\n",
              "   '_i8': '# Get runtime of a function using the decorator function\\n\\ndef func_timer(func):\\n    \"\"\"Times how long the function took.\"\"\"\\n\\n    def f(*args, **kwargs):\\n        import time\\n        start = time.time()\\n        func(*args, **kwargs)\\n        print(\"Elapsed: %.2fs\" % (time.time() - start))\\n\\n    return f\\n\\n@func_timer\\ndef sleepy(msg, sleep=1.0):\\n    \"\"\"Delays a while before answering.\"\"\"\\n    import time\\n    time.sleep(sleep)\\n    print(msg)\\n\\nrun_time = sleepy(\"Hello\", 1.5)\\nprint(run_time)',\n",
              "   '_i9': '# Get runtime of a function using the decorator function\\n\\ndef func_timer(func):\\n    \"\"\"Times how long the function took.\"\"\"\\n\\n    def f(*args, **kwargs):\\n        import time\\n        start = time.time()\\n        results = func(*args, **kwargs)\\n        print(\"Elapsed: %.2fs\" % (time.time() - start))\\n        return results\\n\\n    return f\\n\\n@func_timer\\ndef sleepy(msg, sleep=1.0):\\n    \"\"\"Delays a while before answering.\"\"\"\\n    import time\\n    time.sleep(sleep)\\n    return msg\\n\\nrun_time_msg = sleepy(\"Hello\", 1.5)\\nprint(run_time_msg)',\n",
              "   'run_time_msg': 'Hello',\n",
              "   '_i10': 'class MyClass:\\n    num_calls = 0\\n\\n    def my_function(self):\\n        MyClass.num_calls += 1\\n\\nmy_object = MyClass()\\nmy_object.my_function()\\nmy_object.my_function()\\nmy_object.my_function()\\n\\nprint(MyClass.num_calls)',\n",
              "   'MyClass': __main__.MyClass,\n",
              "   'my_object': <__main__.MyClass at 0x7d71b99833d0>,\n",
              "   '_i11': '@count_calls\\ndef fibonacci_R(n):\\n  if n<2: return n\\n  else:\\n    temp = fibonacci_R(n-1) + fibonacci_R(n-2)\\n    return temp\\n\\nval = fibonacci_R(20)\\nprint(val, fibonacci_R.num_fn_calls)',\n",
              "   '_i12': \"# https://www.datacamp.com/tutorial/decorators-python\\n\\n# https://www.programiz.com/python-programming/decorator\\n'''\\n@ Symbol With Decorator\\nInstead of assigning the function call to a variable, Python provides a much more elegant way to achieve this functionality using the @ symbol. For example,\\n'''\\n\\ndef count_calls(func):\\n    def wrapper(*args, **kwargs):\\n        wrapper.num_fn_calls += 1\\n        return func(*args, **kwargs)\\n    wrapper.num_fn_calls = 0\\n    return wrapper\\n\\n@count_calls\\ndef my_function():\\n    pass\\n\\nmy_function()\\nmy_function()\\nmy_function()\\n\\nprint(my_function.num_fn_calls)\",\n",
              "   'count_calls': <function __main__.count_calls(func)>,\n",
              "   'my_function': <function __main__.count_calls.<locals>.wrapper(*args, **kwargs)>,\n",
              "   '_i13': '@count_calls\\ndef fibonacci_R(n):\\n  if n<2: return n\\n  else:\\n    temp = fibonacci_R(n-1) + fibonacci_R(n-2)\\n    return temp\\n\\nval = fibonacci_R(20)\\nprint(val, fibonacci_R.num_fn_calls)',\n",
              "   '_i14': '# use a class variable to count the number of times a function is called\\n\\nclass MyClass:\\n    num_calls = 0\\n\\n    def my_function(self):\\n        MyClass.num_calls += 1\\n\\nmy_object = MyClass()\\nmy_object.my_function()\\nmy_object.my_function()\\nmy_object.my_function()\\n\\nprint(MyClass.num_calls)\\n\\nclass FnCalls():\\n  num_fn_calls = 0\\n\\n  def fibonacci_R(self,n):\\n    self.num_fn_calls +=1\\n    if n<2: return n\\n    else:\\n      return fibonacci_R(n-1)+fibonacci_R(n-2)\\n\\ncalls_fn = FnCalls()\\nval = calls_fn.fibonacci_R(20)\\nprint(val, calls_fn.num_fn_calls)',\n",
              "   'FnCalls': __main__.FnCalls,\n",
              "   'calls_fn': <__main__.FnCalls at 0x7d71e3b78b50>,\n",
              "   '_i15': '# use a class variable to count the number of times a function is called\\n\\nclass MyClass:\\n    num_calls = 0\\n\\n    def my_function(self):\\n        MyClass.num_calls += 1\\n\\nmy_object = MyClass()\\nmy_object.my_function()\\nmy_object.my_function()\\nmy_object.my_function()\\n\\nprint(MyClass.num_calls)\\n\\nclass FnCalls():\\n  num_fn_calls = 0\\n\\n  def fibonacci_R(self,n):\\n    self.num_fn_calls +=1\\n    if n<2: return n\\n    else:\\n      return self.fibonacci_R(n-1)+self.fibonacci_R(n-2)\\n\\ncalls_fn = FnCalls()\\nval = calls_fn.fibonacci_R(20)\\nprint(val, calls_fn.num_fn_calls)',\n",
              "   '_i16': \"# https://www.datacamp.com/tutorial/decorators-python\\n\\n# https://www.programiz.com/python-programming/decorator\\n'''\\n@ Symbol With Decorator\\nInstead of assigning the function call to a variable, Python provides a much more elegant way to achieve this functionality using the @ symbol. For example,\\n'''\\n\\ndef count_calls(func):\\n    def wrapper(*args, **kwargs):\\n        func.num_fn_calls += 1\\n        return func(*args, **kwargs)\\n    func.num_fn_calls = 0\\n    return wrapper\\n\\n@count_calls\\ndef my_function():\\n    pass\\n\\nmy_function()\\nmy_function()\\nmy_function()\\n\\nprint(my_function.num_fn_calls)\",\n",
              "   '_i17': \"# https://www.datacamp.com/tutorial/decorators-python\\n\\n# https://www.programiz.com/python-programming/decorator\\n'''\\n@ Symbol With Decorator\\nInstead of assigning the function call to a variable, Python provides a much more elegant way to achieve this functionality using the @ symbol. For example,\\n'''\\n\\ndef count_calls(func):\\n    def wrapper(*args, **kwargs):\\n        func.num_fn_calls += 1\\n        return func(*args, **kwargs)\\n    func.num_fn_calls = 0\\n    return wrapper\\n\\n@count_calls\\ndef my_function():\\n    pass\\n\\nmy_function()\\nmy_function()\\nmy_function()\\n\\nprint(my_function['num_fn_calls'])\",\n",
              "   '_i18': \"# https://www.datacamp.com/tutorial/decorators-python\\n\\n# https://www.programiz.com/python-programming/decorator\\n'''\\n@ Symbol With Decorator\\nInstead of assigning the function call to a variable, Python provides a much more elegant way to achieve this functionality using the @ symbol. For example,\\n'''\\n\\ndef count_calls(func):\\n    def wrapper(*args, **kwargs):\\n        func.num_fn_calls += 1\\n        return func(*args, **kwargs)\\n    func.num_fn_calls = 0\\n    return wrapper\\n\\n@count_calls\\ndef my_function():\\n    pass\\n\\nmy_function()\\nmy_function()\\nmy_function()\\n\\nprint(my_function.__dict__['num_fn_calls'])\",\n",
              "   '_i19': \"# https://www.datacamp.com/tutorial/decorators-python\\n\\n# https://www.programiz.com/python-programming/decorator\\n'''\\n@ Symbol With Decorator\\nInstead of assigning the function call to a variable, Python provides a much more elegant way to achieve this functionality using the @ symbol. For example,\\n'''\\n\\ndef count_calls(func):\\n    def wrapper(*args, **kwargs):\\n        func.num_fn_calls += 1\\n        return func(*args, **kwargs)\\n    func.num_fn_calls = 0\\n    return wrapper\\n\\n@count_calls\\ndef my_function():\\n    pass\\n\\nmy_function()\\nmy_function()\\nmy_function()\\n\\nprint(my_function.__dict__)\",\n",
              "   '_i20': \"# https://www.datacamp.com/tutorial/decorators-python\\n\\n# https://www.programiz.com/python-programming/decorator\\n'''\\n@ Symbol With Decorator\\nInstead of assigning the function call to a variable, Python provides a much more elegant way to achieve this functionality using the @ symbol. For example,\\n'''\\n\\ndef count_calls(func):\\n    def wrapper(*args, **kwargs):\\n        func.num_fn_calls += 1\\n        return func(*args, **kwargs)\\n    func.num_fn_calls = 0\\n    return wrapper\\n\\n@count_calls\\ndef my_function():\\n    pass\\n\\nmy_function()\\nmy_function()\\nmy_function()\\n\\nprint(my_function.__dict__['num_fn_calls'])\",\n",
              "   '_i21': \"# https://www.datacamp.com/tutorial/decorators-python\\n\\n# https://www.programiz.com/python-programming/decorator\\n'''\\n@ Symbol With Decorator\\nInstead of assigning the function call to a variable, Python provides a much more elegant way to achieve this functionality using the @ symbol. For example,\\n'''\\n\\ndef count_calls(func):\\n    def wrapper(*args, **kwargs):\\n        func.num_fn_calls += 1\\n        return func(*args, **kwargs)\\n    func.num_fn_calls = 0\\n    return wrapper\\n\\n@count_calls\\ndef my_function():\\n    pass\\n\\nmy_function()\\nmy_function()\\nmy_function()\\n\\nprint(my_function.__dict__['num_fn_calls'])\",\n",
              "   '_i22': \"# https://www.datacamp.com/tutorial/decorators-python\\n\\n# https://www.programiz.com/python-programming/decorator\\n'''\\n@ Symbol With Decorator\\nInstead of assigning the function call to a variable, Python provides a much more elegant way to achieve this functionality using the @ symbol. For example,\\n'''\\n\\ndef count_calls(func):\\n    def wrapper(*args, **kwargs):\\n        func.num_fn_calls += 1\\n        return func(*args, **kwargs)\\n    func.num_fn_calls = 0\\n    return wrapper\\n\\n@count_calls\\ndef my_function():\\n    pass\\n\\nmy_function()\\nmy_function()\\nmy_function()\\n\\nprint(my_function.__dict__['num_fn_calls'])\",\n",
              "   '_i23': \"# https://www.datacamp.com/tutorial/decorators-python\\n\\n# https://www.programiz.com/python-programming/decorator\\n'''\\n@ Symbol With Decorator\\nInstead of assigning the function call to a variable, Python provides a much more elegant way to achieve this functionality using the @ symbol. For example,\\n'''\\n\\ndef count_calls(func):\\n    def wrapper(*args, **kwargs):\\n        func.num_fn_calls += 1\\n        return func(*args, **kwargs)\\n    func.num_fn_calls = 0\\n    return wrapper\\n\\n@count_calls()\\ndef my_function():\\n    pass\\n\\nmy_function()\\nmy_function()\\nmy_function()\\n\\nprint(my_function.__dict__['num_fn_calls'])\",\n",
              "   '_i24': \"# https://www.datacamp.com/tutorial/decorators-python\\n\\n# https://www.programiz.com/python-programming/decorator\\n'''\\n@ Symbol With Decorator\\nInstead of assigning the function call to a variable, Python provides a much more elegant way to achieve this functionality using the @ symbol. For example,\\n'''\\n\\ndef count_calls(func):\\n    def wrapper(*args, **kwargs):\\n        func.num_fn_calls += 1\\n        return func(*args, **kwargs)\\n    func.num_fn_calls = 0\\n    return wrapper\\n\\n@count_calls\\ndef my_function():\\n    pass\\n\\nmy_function()\\nmy_function()\\nmy_function()\\n\\nprint(my_function.__dict__['num_fn_calls'])\",\n",
              "   '_i25': \"# https://www.datacamp.com/tutorial/decorators-python\\n\\n# https://www.programiz.com/python-programming/decorator\\n'''\\n@ Symbol With Decorator\\nInstead of assigning the function call to a variable, Python provides a much more elegant way to achieve this functionality using the @ symbol. For example,\\n'''\\n\\ndef count_calls(func):\\n    def wrapper(*args, **kwargs):\\n        func.num_fn_calls += 1\\n        return func(*args, **kwargs)\\n    func.num_fn_calls = 0\\n    return wrapper\\n\\n@count_calls\\ndef my_function():\\n    pass\\n\\nmy_function()\\nmy_function()\\nmy_function()\\n\\nprint(my_function.__dict__)\",\n",
              "   '_i26': \"# https://www.datacamp.com/tutorial/decorators-python\\n\\n# https://www.programiz.com/python-programming/decorator\\n'''\\n@ Symbol With Decorator\\nInstead of assigning the function call to a variable, Python provides a much more elegant way to achieve this functionality using the @ symbol. For example,\\n'''\\n\\ndef count_calls(func):\\n    def wrapper(*args, **kwargs):\\n        wrapper.num_fn_calls += 1\\n        return func(*args, **kwargs)\\n    wrapper.num_fn_calls = 0\\n    return wrapper\\n\\n@count_calls\\ndef my_function():\\n    pass\\n\\nmy_function()\\nmy_function()\\nmy_function()\\n\\nprint(my_function.__dict__)\",\n",
              "   '_i27': \"# https://www.datacamp.com/tutorial/decorators-python\\n\\n# https://www.programiz.com/python-programming/decorator\\n'''\\n@ Symbol With Decorator\\nInstead of assigning the function call to a variable, Python provides a much more elegant way to achieve this functionality using the @ symbol. For example,\\n'''\\n\\ndef count_calls(func):\\n    def wrapper(*args, **kwargs):\\n        wrapper.num_fn_calls += 1\\n        return func(*args, **kwargs)\\n    wrapper.num_fn_calls = 0\\n    return wrapper\\n\\n@count_calls\\ndef my_function():\\n    pass\\n\\nmy_function()\\nmy_function()\\nmy_function()\\n\\nprint(my_function.__dict__)\\n\\nimport inspect\\n\\ninspect.getmembers(my_function())\",\n",
              "   'inspect': <module 'inspect' from '/usr/lib/python3.10/inspect.py'>,\n",
              "   '_27': [('__bool__',\n",
              "     <method-wrapper '__bool__' of NoneType object at 0x5951972343e0>),\n",
              "    ('__class__', NoneType),\n",
              "    ('__delattr__',\n",
              "     <method-wrapper '__delattr__' of NoneType object at 0x5951972343e0>),\n",
              "    ('__dir__', <function NoneType.__dir__(self, /)>),\n",
              "    ('__doc__', None),\n",
              "    ('__eq__', <method-wrapper '__eq__' of NoneType object at 0x5951972343e0>),\n",
              "    ('__format__', <function NoneType.__format__(self, format_spec, /)>),\n",
              "    ('__ge__', <method-wrapper '__ge__' of NoneType object at 0x5951972343e0>),\n",
              "    ('__getattribute__',\n",
              "     <method-wrapper '__getattribute__' of NoneType object at 0x5951972343e0>),\n",
              "    ('__gt__', <method-wrapper '__gt__' of NoneType object at 0x5951972343e0>),\n",
              "    ('__hash__',\n",
              "     <method-wrapper '__hash__' of NoneType object at 0x5951972343e0>),\n",
              "    ('__init__',\n",
              "     <method-wrapper '__init__' of NoneType object at 0x5951972343e0>),\n",
              "    ('__init_subclass__', <function NoneType.__init_subclass__>),\n",
              "    ('__le__', <method-wrapper '__le__' of NoneType object at 0x5951972343e0>),\n",
              "    ('__lt__', <method-wrapper '__lt__' of NoneType object at 0x5951972343e0>),\n",
              "    ('__ne__', <method-wrapper '__ne__' of NoneType object at 0x5951972343e0>),\n",
              "    ('__new__', <function NoneType.__new__(*args, **kwargs)>),\n",
              "    ('__reduce__', <function NoneType.__reduce__(self, /)>),\n",
              "    ('__reduce_ex__', <function NoneType.__reduce_ex__(self, protocol, /)>),\n",
              "    ('__repr__',\n",
              "     <method-wrapper '__repr__' of NoneType object at 0x5951972343e0>),\n",
              "    ('__setattr__',\n",
              "     <method-wrapper '__setattr__' of NoneType object at 0x5951972343e0>),\n",
              "    ('__sizeof__', <function NoneType.__sizeof__(self, /)>),\n",
              "    ('__str__',\n",
              "     <method-wrapper '__str__' of NoneType object at 0x5951972343e0>),\n",
              "    ('__subclasshook__', <function NoneType.__subclasshook__>)],\n",
              "   '_i28': \"# https://www.datacamp.com/tutorial/decorators-python\\n\\n# https://www.programiz.com/python-programming/decorator\\n'''\\n@ Symbol With Decorator\\nInstead of assigning the function call to a variable, Python provides a much more elegant way to achieve this functionality using the @ symbol. For example,\\n'''\\n\\ndef count_calls(func):\\n    def wrapper(*args, **kwargs):\\n        wrapper['num_fn_calls'] += 1\\n        return func(*args, **kwargs)\\n    wrapper['num_fn_calls'] = 0\\n    return wrapper\\n\\n@count_calls\\ndef my_function():\\n    pass\\n\\nmy_function()\\nmy_function()\\nmy_function()\\n\\nprint(my_function.)\\n\\nimport inspect\\n\\ninspect.getmembers(my_function())\",\n",
              "   '_i29': \"# https://www.datacamp.com/tutorial/decorators-python\\n\\n# https://www.programiz.com/python-programming/decorator\\n'''\\n@ Symbol With Decorator\\nInstead of assigning the function call to a variable, Python provides a much more elegant way to achieve this functionality using the @ symbol. For example,\\n'''\\n\\ndef count_calls(func):\\n    def wrapper(*args, **kwargs):\\n        wrapper['num_fn_calls'] += 1\\n        return func(*args, **kwargs)\\n    wrapper['num_fn_calls'] = 0\\n    return wrapper\\n\\n@count_calls\\ndef my_function():\\n    pass\\n\\nmy_function()\\nmy_function()\\nmy_function()\\n\\nprint(my_function.__dict__)\\n\\nimport inspect\\n\\ninspect.getmembers(my_function())\",\n",
              "   '_i30': \"# https://www.datacamp.com/tutorial/decorators-python\\n\\n# https://www.programiz.com/python-programming/decorator\\n'''\\n@ Symbol With Decorator\\nInstead of assigning the function call to a variable, Python provides a much more elegant way to achieve this functionality using the @ symbol. For example,\\n'''\\n\\ndef count_calls(func):\\n    def wrapper(*args, **kwargs):\\n        wrapper.num_fn_calls += 1\\n        return func(*args, **kwargs)\\n    wrapper.num_fn_calls = 0\\n    return wrapper\\n\\n@count_calls\\ndef my_function():\\n    pass\\n\\nmy_function()\\nmy_function()\\nmy_function()\\n\\nprint(my_function.__dict__)\\n\\nimport inspect\\n\\ninspect.getmembers(my_function())\",\n",
              "   '_30': [('__bool__',\n",
              "     <method-wrapper '__bool__' of NoneType object at 0x5951972343e0>),\n",
              "    ('__class__', NoneType),\n",
              "    ('__delattr__',\n",
              "     <method-wrapper '__delattr__' of NoneType object at 0x5951972343e0>),\n",
              "    ('__dir__', <function NoneType.__dir__(self, /)>),\n",
              "    ('__doc__', None),\n",
              "    ('__eq__', <method-wrapper '__eq__' of NoneType object at 0x5951972343e0>),\n",
              "    ('__format__', <function NoneType.__format__(self, format_spec, /)>),\n",
              "    ('__ge__', <method-wrapper '__ge__' of NoneType object at 0x5951972343e0>),\n",
              "    ('__getattribute__',\n",
              "     <method-wrapper '__getattribute__' of NoneType object at 0x5951972343e0>),\n",
              "    ('__gt__', <method-wrapper '__gt__' of NoneType object at 0x5951972343e0>),\n",
              "    ('__hash__',\n",
              "     <method-wrapper '__hash__' of NoneType object at 0x5951972343e0>),\n",
              "    ('__init__',\n",
              "     <method-wrapper '__init__' of NoneType object at 0x5951972343e0>),\n",
              "    ('__init_subclass__', <function NoneType.__init_subclass__>),\n",
              "    ('__le__', <method-wrapper '__le__' of NoneType object at 0x5951972343e0>),\n",
              "    ('__lt__', <method-wrapper '__lt__' of NoneType object at 0x5951972343e0>),\n",
              "    ('__ne__', <method-wrapper '__ne__' of NoneType object at 0x5951972343e0>),\n",
              "    ('__new__', <function NoneType.__new__(*args, **kwargs)>),\n",
              "    ('__reduce__', <function NoneType.__reduce__(self, /)>),\n",
              "    ('__reduce_ex__', <function NoneType.__reduce_ex__(self, protocol, /)>),\n",
              "    ('__repr__',\n",
              "     <method-wrapper '__repr__' of NoneType object at 0x5951972343e0>),\n",
              "    ('__setattr__',\n",
              "     <method-wrapper '__setattr__' of NoneType object at 0x5951972343e0>),\n",
              "    ('__sizeof__', <function NoneType.__sizeof__(self, /)>),\n",
              "    ('__str__',\n",
              "     <method-wrapper '__str__' of NoneType object at 0x5951972343e0>),\n",
              "    ('__subclasshook__', <function NoneType.__subclasshook__>)],\n",
              "   '_i31': \"# https://www.datacamp.com/tutorial/decorators-python\\n\\n# https://www.programiz.com/python-programming/decorator\\n'''\\n@ Symbol With Decorator\\nInstead of assigning the function call to a variable, Python provides a much more elegant way to achieve this functionality using the @ symbol. For example,\\n'''\\n\\ndef count_calls(func):\\n    def wrapper(*args, **kwargs):\\n        wrapper.num_fn_calls += 1\\n        return func(*args, **kwargs)\\n    wrapper.num_fn_calls = 0\\n    return wrapper\\n\\n@count_calls\\ndef my_function():\\n    pass\\n\\nmy_function()\\nmy_function()\\nmy_function()\\n\\nprint(my_function.__dict__)\\n\\nimport inspect\\n\\ninspect.getmembers(my_function)\"}),\n",
              " ('__gt__', <method-wrapper '__gt__' of function object at 0x7d71b9843c70>),\n",
              " ('__hash__',\n",
              "  <method-wrapper '__hash__' of function object at 0x7d71b9843c70>),\n",
              " ('__init__',\n",
              "  <method-wrapper '__init__' of function object at 0x7d71b9843c70>),\n",
              " ('__init_subclass__', <function function.__init_subclass__>),\n",
              " ('__kwdefaults__', None),\n",
              " ('__le__', <method-wrapper '__le__' of function object at 0x7d71b9843c70>),\n",
              " ('__lt__', <method-wrapper '__lt__' of function object at 0x7d71b9843c70>),\n",
              " ('__module__', '__main__'),\n",
              " ('__name__', 'wrapper'),\n",
              " ('__ne__', <method-wrapper '__ne__' of function object at 0x7d71b9843c70>),\n",
              " ('__new__', <function function.__new__(*args, **kwargs)>),\n",
              " ('__qualname__', 'count_calls.<locals>.wrapper'),\n",
              " ('__reduce__', <function function.__reduce__()>),\n",
              " ('__reduce_ex__', <function function.__reduce_ex__(protocol, /)>),\n",
              " ('__repr__',\n",
              "  <method-wrapper '__repr__' of function object at 0x7d71b9843c70>),\n",
              " ('__setattr__',\n",
              "  <method-wrapper '__setattr__' of function object at 0x7d71b9843c70>),\n",
              " ('__sizeof__', <function function.__sizeof__()>),\n",
              " ('__str__', <method-wrapper '__str__' of function object at 0x7d71b9843c70>),\n",
              " ('__subclasshook__', <function function.__subclasshook__>),\n",
              " ('num_fn_calls', 3)]"
            ]
          },
          "metadata": {},
          "execution_count": 31
        }
      ]
    },
    {
      "cell_type": "code",
      "source": [
        "## Closures in Python\n",
        "def make_multiplier_of(n):\n",
        "    def multiplier(x):\n",
        "        return x * n\n",
        "    return multiplier\n",
        "\n",
        "times3 = make_multiplier_of(3)\n",
        "print(times3)\n",
        "print(times3(9))\n",
        "print(make_multiplier_of(3)(9))"
      ],
      "metadata": {
        "id": "8leamPdzI5i1",
        "colab": {
          "base_uri": "https://localhost:8080/"
        },
        "outputId": "7cd3dd3e-4024-4e77-de9d-de500fa89f0c"
      },
      "execution_count": 1,
      "outputs": [
        {
          "output_type": "stream",
          "name": "stdout",
          "text": [
            "<function make_multiplier_of.<locals>.multiplier at 0x7b7779bda5f0>\n",
            "27\n",
            "27\n"
          ]
        }
      ]
    },
    {
      "cell_type": "code",
      "source": [
        "# Count the number of times a function was called using a global variable\n",
        "\n",
        "calculations_dp = 0\n",
        "def fibonacci_DP():  ## Time Complexity: O(N), Space Complexity: O(N) for the dictionary\n",
        "  cache = {}         ## Cache variable can now be declared inside the function this way and\n",
        "                     ## is not reset by recursive fucntion calls\n",
        "  def fib(n):\n",
        "    global calculations_dp\n",
        "    calculations_dp+=1\n",
        "    if n in cache:\n",
        "      return cache[n]\n",
        "    else:\n",
        "      if n<2: return n\n",
        "      else:\n",
        "        cache[n] = fib(n-1) + fib(n-2)\n",
        "        return cache[n]\n",
        "\n",
        "  return fib\n",
        "\n",
        "calculations_R = 0\n",
        "def fibonacci_R(n):\n",
        "  global calculations_R\n",
        "  calculations_R += 1\n",
        "  if n<2: return n\n",
        "  else:\n",
        "    temp = fibonacci_R(n-1) + fibonacci_R(n-2)\n",
        "    return temp\n",
        "\n",
        "val_R = fibonacci_R(20)\n",
        "print(val_R, calculations_R)\n",
        "val_DP = fibonacci_DP()(20)\n",
        "print(val_DP, calculations_dp)"
      ],
      "metadata": {
        "colab": {
          "base_uri": "https://localhost:8080/"
        },
        "id": "AAK7puVNFG8I",
        "outputId": "6e443478-4d69-4908-c6d1-34dd6deab69a"
      },
      "execution_count": 8,
      "outputs": [
        {
          "output_type": "stream",
          "name": "stdout",
          "text": [
            "6765 21891\n",
            "6765 39\n"
          ]
        }
      ]
    },
    {
      "cell_type": "code",
      "source": [
        "@count_calls\n",
        "def fibonacci_R(n):\n",
        "  if n<2: return n\n",
        "  else:\n",
        "    temp = fibonacci_R(n-1) + fibonacci_R(n-2)\n",
        "    return temp\n",
        "\n",
        "val = fibonacci_R(20)\n",
        "print(val, fibonacci_R.num_fn_calls)"
      ],
      "metadata": {
        "colab": {
          "base_uri": "https://localhost:8080/"
        },
        "id": "zkSwWuDOTfvh",
        "outputId": "c78e6e64-f800-4b73-ada6-52b798deb381"
      },
      "execution_count": 13,
      "outputs": [
        {
          "output_type": "stream",
          "name": "stdout",
          "text": [
            "6765 21891\n"
          ]
        }
      ]
    },
    {
      "cell_type": "code",
      "source": [
        "# Count the number of times a function was called using a list as a mutable variable\n",
        "\n",
        "def fibonacci_R(n):\n",
        "  count_R[0] += 1\n",
        "  if n<2: return n\n",
        "  else:\n",
        "    temp = fibonacci_R(n-1) + fibonacci_R(n-2)\n",
        "    return temp\n",
        "\n",
        "count_R = [0]\n",
        "val = fibonacci_R(20)\n",
        "print(val, count_R[0])"
      ],
      "metadata": {
        "colab": {
          "base_uri": "https://localhost:8080/"
        },
        "id": "ukFKkgsAHE8r",
        "outputId": "629aea7e-7552-4c72-f6b1-cc22d8415165"
      },
      "execution_count": 2,
      "outputs": [
        {
          "output_type": "stream",
          "name": "stdout",
          "text": [
            "6765 21891\n"
          ]
        }
      ]
    },
    {
      "cell_type": "code",
      "source": [
        "# Get runtime of a function using the decorator function\n",
        "\n",
        "def func_timer(func):\n",
        "    \"\"\"Times how long the function took.\"\"\"\n",
        "\n",
        "    def f(*args, **kwargs):\n",
        "        import time\n",
        "        start = time.time()\n",
        "        results = func(*args, **kwargs)\n",
        "        print(\"Elapsed: %.2fs\" % (time.time() - start))\n",
        "        return results\n",
        "\n",
        "    return f\n",
        "\n",
        "@func_timer\n",
        "def sleepy(msg, sleep=1.0):\n",
        "    \"\"\"Delays a while before answering.\"\"\"\n",
        "    import time\n",
        "    time.sleep(sleep)\n",
        "    return msg\n",
        "\n",
        "run_time_msg = sleepy(\"Hello\", 1.5)\n",
        "print(run_time_msg)"
      ],
      "metadata": {
        "colab": {
          "base_uri": "https://localhost:8080/"
        },
        "id": "5PR1Mz6gOGOC",
        "outputId": "514bbadb-e4fb-4252-c33a-6b6ed04a89ce"
      },
      "execution_count": 9,
      "outputs": [
        {
          "output_type": "stream",
          "name": "stdout",
          "text": [
            "Elapsed: 1.51s\n",
            "Hello\n"
          ]
        }
      ]
    },
    {
      "cell_type": "code",
      "source": [
        "# use a class variable to count the number of times a function is called\n",
        "\n",
        "class MyClass:\n",
        "    num_calls = 0\n",
        "\n",
        "    def my_function(self):\n",
        "        MyClass.num_calls += 1\n",
        "\n",
        "my_object = MyClass()\n",
        "my_object.my_function()\n",
        "my_object.my_function()\n",
        "my_object.my_function()\n",
        "\n",
        "print(MyClass.num_calls)\n",
        "\n",
        "class FnCalls():\n",
        "  num_fn_calls = 0\n",
        "\n",
        "  def fibonacci_R(self,n):\n",
        "    self.num_fn_calls +=1\n",
        "    if n<2: return n\n",
        "    else:\n",
        "      return self.fibonacci_R(n-1)+self.fibonacci_R(n-2)\n",
        "\n",
        "calls_fn = FnCalls()\n",
        "val = calls_fn.fibonacci_R(20)\n",
        "print(val, calls_fn.num_fn_calls)"
      ],
      "metadata": {
        "colab": {
          "base_uri": "https://localhost:8080/"
        },
        "id": "U3BebW_zQRfy",
        "outputId": "86724517-db52-44c2-c385-0262274e5764"
      },
      "execution_count": 15,
      "outputs": [
        {
          "output_type": "stream",
          "name": "stdout",
          "text": [
            "3\n",
            "6765 21891\n"
          ]
        }
      ]
    },
    {
      "cell_type": "code",
      "source": [],
      "metadata": {
        "id": "VPjc1GkjSndG"
      },
      "execution_count": null,
      "outputs": []
    }
  ]
}