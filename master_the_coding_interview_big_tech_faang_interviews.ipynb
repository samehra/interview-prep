{
  "nbformat": 4,
  "nbformat_minor": 0,
  "metadata": {
    "colab": {
      "provenance": [],
      "authorship_tag": "ABX9TyPeeZjguE7dQ7UENQwfMYnc",
      "include_colab_link": true
    },
    "kernelspec": {
      "name": "python3",
      "display_name": "Python 3"
    },
    "language_info": {
      "name": "python"
    }
  },
  "cells": [
    {
      "cell_type": "markdown",
      "metadata": {
        "id": "view-in-github",
        "colab_type": "text"
      },
      "source": [
        "<a href=\"https://colab.research.google.com/github/samehra/interview-prep/blob/main/master_the_coding_interview_big_tech_faang_interviews.ipynb\" target=\"_parent\"><img src=\"https://colab.research.google.com/assets/colab-badge.svg\" alt=\"Open In Colab\"/></a>"
      ]
    },
    {
      "cell_type": "markdown",
      "source": [
        "## FAANG Interview questions course"
      ],
      "metadata": {
        "id": "bqJC8fi9HXOu"
      }
    },
    {
      "cell_type": "markdown",
      "source": [
        "Some tips:\n",
        "\n",
        "Ex: given an array of integers, indices of a pair of numbers that sum up to a given target\n",
        "\n",
        "1. Verify the constraints - are all positive or negative, are there duplicates, will there always be solution, what to return when empty array, more than one solution (can there be multiple pairs),\n",
        "2. Write some test cases\n",
        "3. Figure out a solution without a code - brute force,\n",
        "4. Space and time complexity"
      ],
      "metadata": {
        "id": "XYJJt2HfH370"
      }
    },
    {
      "cell_type": "markdown",
      "source": [
        "#### 1. given an array of integers, indices of a pair of numbers that sum up to a given target"
      ],
      "metadata": {
        "id": "Pg-itCigHT82"
      }
    },
    {
      "cell_type": "code",
      "source": [
        "import numpy as np\n",
        "\n",
        "def get_indices_sum_target(target, array):\n",
        "\n",
        "  if len(array)>0:\n",
        "    for i in range(len(array)):\n",
        "      for j in range(i+1, len(array)):\n",
        "        if array[j] == target - array[i]:\n",
        "          return (i,j)\n",
        "\n",
        "    return None\n",
        "\n",
        "array = [1,3,3,7,9,2]\n",
        "print(get_indices_sum_target(11, array))\n",
        "\n",
        "def get_indices_sum_target_noNestedLoops(target, array):\n",
        "    if len(array)>0:\n",
        "      dict_p2 = {}\n",
        "      for i in range(len(array)):\n",
        "        if (target - array[i]) not in dict_p2: dict_p2[target - array[i]] = i\n",
        "\n",
        "      # pointer for p1, also p1  = target - p2\n",
        "      for i in range(len(array)):\n",
        "          if array[i] in dict_p2:\n",
        "              return (i, dict_p2[array[i]])\n",
        "\n",
        "      return None\n",
        "\n",
        "array = [1,3,3,7,9,2]\n",
        "print(get_indices_sum_target_noNestedLoops(11, array))"
      ],
      "metadata": {
        "colab": {
          "base_uri": "https://localhost:8080/"
        },
        "id": "JeDtP2-1Gqgw",
        "outputId": "6bdd13a4-8df9-44c1-f8e8-05570af2f174"
      },
      "execution_count": null,
      "outputs": [
        {
          "output_type": "stream",
          "name": "stdout",
          "text": [
            "(4, 5)\n",
            "(4, 5)\n"
          ]
        }
      ]
    },
    {
      "cell_type": "code",
      "source": [
        "# Find the max area\n",
        "# O(n2), O(1)\n",
        "def get_max_water_container(array):\n",
        "  max_area = 0\n",
        "  hw_coords = (0,0)\n",
        "  for i in range(len(array)):\n",
        "    for j in range(i+1, len(array)):\n",
        "      height = min(array[i],array[j])\n",
        "      width = (j - i)\n",
        "      area =  height * width\n",
        "      #max_area = max(area, max_area)\n",
        "      if area > max_area:\n",
        "        max_area = area\n",
        "        hw_coords = (i,j)\n",
        "  return max_area, hw_coords\n",
        "\n",
        "# O(n), O(1)\n",
        "def get_max_water_container_optimal(array):\n",
        "  max_area = 0; hw_coords = (0,0); i = 0; j = len(array) - 1\n",
        "\n",
        "  while i<j:\n",
        "    # Since we are calculating min of left and right pointer, we can just keep moving the pointer\n",
        "    # that is smaller.\n",
        "    height = min(array[i],array[j])\n",
        "    width = (j - i)\n",
        "    area =  height * width\n",
        "    #max_area = max(area, max_area)\n",
        "    if area > max_area:\n",
        "      max_area = area\n",
        "      hw_coords = (i,j)\n",
        "\n",
        "    # two shifting pointers technique\n",
        "    if array[i] <= array[j]:\n",
        "      i += 1\n",
        "    else:\n",
        "      j -= 1\n",
        "  return max_area, hw_coords\n",
        "\n",
        "max_area, hw_coords = get_max_water_container([10,  8,  8,  4,  2,  9])\n",
        "\n",
        "max_area, hw_coords = get_max_water_container_optimal([4,8,1,2,3,9])\n",
        "print(max_area, hw_coords)"
      ],
      "metadata": {
        "id": "Va-f9sXFH6qG",
        "outputId": "965dc75c-3d47-4811-abd6-02cb36efcad2",
        "colab": {
          "base_uri": "https://localhost:8080/"
        }
      },
      "execution_count": null,
      "outputs": [
        {
          "output_type": "stream",
          "name": "stdout",
          "text": [
            "32 (1, 5)\n"
          ]
        }
      ]
    },
    {
      "cell_type": "code",
      "source": [
        "# O(n2), O(1)\n",
        "def get_trapping_rainwater(array):\n",
        "  water_total = 0\n",
        "  for p1 in range(1,len(array)-1):\n",
        "    maxL = 0; maxR = 0;\n",
        "    for p2 in range(0,p1): maxL = max(maxL, array[p2])\n",
        "    for p3 in range(p1+1,len(array)): maxR = max(maxR, array[p3])\n",
        "\n",
        "  # Calculate water holding capacity for each point and then sum it up.\n",
        "    water_total += max(0, min(maxL, maxR) - array[p1])\n",
        "  return water_total\n",
        "\n",
        "water_total = get_trapping_rainwater([0,1,0,2,1,0,3,1,0,1,2])\n",
        "water_total = get_trapping_rainwater([5,0,3,0,0,0,2,3,4,2,1])\n",
        "print(water_total)\n",
        "\n",
        "# O(n), O(1)\n",
        "def get_trapping_rainwater_optimal(array):\n",
        "  water_total = 0; maxL = 0; maxR = 0; p1 = 0; p3 = len(array)-1\n",
        "\n",
        "  while p1<p3:\n",
        "    if array[p1] <= array[p3]:\n",
        "      maxL = max(maxL, array[p1])\n",
        "      water_total += max(0, maxL - array[p1])\n",
        "      p1 += 1\n",
        "    else:\n",
        "      # Else statement ensures there definitely a value on the left greater than current value\n",
        "      # maxR tells whether there is a wall to the right which determines the maximum water that can be trapped\n",
        "      maxR = max(maxR, array[p3])\n",
        "      water_total += max(0, maxR - array[p3])\n",
        "      p3 -= 1\n",
        "    print(array[p1], array[p3], water_total,maxL,maxR)\n",
        "  return water_total\n",
        "\n",
        "water_total = get_trapping_rainwater_optimal([5,0,3,0,0,0,2,3,4,2,1])\n",
        "print(water_total)"
      ],
      "metadata": {
        "id": "7mXVsI0jzGVr",
        "colab": {
          "base_uri": "https://localhost:8080/"
        },
        "outputId": "fac7b10d-3614-4286-efc4-46f4962abe0a"
      },
      "execution_count": null,
      "outputs": [
        {
          "output_type": "stream",
          "name": "stdout",
          "text": [
            "20\n",
            "5 2 0 0 1\n",
            "5 4 0 0 2\n",
            "5 3 0 0 4\n",
            "5 2 1 0 4\n",
            "5 0 3 0 4\n",
            "5 0 7 0 4\n",
            "5 0 11 0 4\n",
            "5 3 15 0 4\n",
            "5 0 16 0 4\n",
            "5 5 20 0 4\n",
            "20\n"
          ]
        }
      ]
    },
    {
      "cell_type": "code",
      "source": [
        "list(range(10-1,-1,-1))"
      ],
      "metadata": {
        "colab": {
          "base_uri": "https://localhost:8080/"
        },
        "id": "jxd8yzp-udWA",
        "outputId": "cafdd719-7de2-4c0c-e4cb-47f7db3c4d9f"
      },
      "execution_count": null,
      "outputs": [
        {
          "output_type": "execute_result",
          "data": {
            "text/plain": [
              "[9, 8, 7, 6, 5, 4, 3, 2, 1, 0]"
            ]
          },
          "metadata": {},
          "execution_count": 4
        }
      ]
    },
    {
      "cell_type": "code",
      "source": [],
      "metadata": {
        "id": "Mn8irpnuv75_"
      },
      "execution_count": null,
      "outputs": []
    }
  ]
}