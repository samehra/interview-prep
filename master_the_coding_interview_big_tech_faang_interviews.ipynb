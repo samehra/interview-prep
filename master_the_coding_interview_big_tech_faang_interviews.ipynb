{
  "nbformat": 4,
  "nbformat_minor": 0,
  "metadata": {
    "colab": {
      "provenance": [],
      "authorship_tag": "ABX9TyNEqfqX1WtuVNE9kH7ykuR1",
      "include_colab_link": true
    },
    "kernelspec": {
      "name": "python3",
      "display_name": "Python 3"
    },
    "language_info": {
      "name": "python"
    }
  },
  "cells": [
    {
      "cell_type": "markdown",
      "metadata": {
        "id": "view-in-github",
        "colab_type": "text"
      },
      "source": [
        "<a href=\"https://colab.research.google.com/github/samehra/interview-prep/blob/main/master_the_coding_interview_big_tech_faang_interviews.ipynb\" target=\"_parent\"><img src=\"https://colab.research.google.com/assets/colab-badge.svg\" alt=\"Open In Colab\"/></a>"
      ]
    },
    {
      "cell_type": "markdown",
      "source": [
        "## FAANG Interview questions course"
      ],
      "metadata": {
        "id": "bqJC8fi9HXOu"
      }
    },
    {
      "cell_type": "markdown",
      "source": [
        "Some tips:\n",
        "\n",
        "Ex: given an array of integers, indices of a pair of numbers that sum up to a given target\n",
        "\n",
        "1. Verify the constraints - are all positive or negative, are there duplicates, will there always be solution, what to return when empty array, more than one solution (can there be multiple pairs),\n",
        "2. Write some test cases\n",
        "3. Figure out a solution without a code - brute force,\n",
        "4. Space and time complexity"
      ],
      "metadata": {
        "id": "XYJJt2HfH370"
      }
    },
    {
      "cell_type": "markdown",
      "source": [
        "#### 1. given an array of integers, indices of a pair of numbers that sum up to a given target"
      ],
      "metadata": {
        "id": "Pg-itCigHT82"
      }
    },
    {
      "cell_type": "code",
      "source": [
        "def get_indices_sum_target(target, array):\n",
        "\n",
        "  if len(array)>0:\n",
        "    for i in range(len(array)):\n",
        "      for j in range(i+1, len(array)):\n",
        "        if array[j] == target - array[i]:\n",
        "          return (i,j)\n",
        "\n",
        "    return None\n",
        "\n",
        "array = [1,3,3,7,9,2]\n",
        "print(get_indices_sum_target(11, array))\n",
        "def get_indices_sum_target_noNestedLoops(target, array):\n",
        "    if len(array)>0:\n",
        "        dict_p2 = {i: target - v for i,v in enumerate(array)}\n",
        "        for j in range(len(array)):\n",
        "            if array[j] in dict_p2.values():\n",
        "                return j\n",
        "\n",
        "        return None\n",
        "\n",
        "array = [1,3,3,7,9,2]\n",
        "print(get_indices_sum_target_noNestedLoops(11, array))"
      ],
      "metadata": {
        "colab": {
          "base_uri": "https://localhost:8080/"
        },
        "id": "JeDtP2-1Gqgw",
        "outputId": "bff0900b-038f-4980-9556-73462cd2701d"
      },
      "execution_count": 3,
      "outputs": [
        {
          "output_type": "stream",
          "name": "stdout",
          "text": [
            "(4, 5)\n",
            "4\n"
          ]
        }
      ]
    },
    {
      "cell_type": "code",
      "source": [],
      "metadata": {
        "id": "Va-f9sXFH6qG"
      },
      "execution_count": null,
      "outputs": []
    }
  ]
}