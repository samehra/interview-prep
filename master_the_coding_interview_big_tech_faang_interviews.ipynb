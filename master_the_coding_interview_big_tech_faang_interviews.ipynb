{
  "nbformat": 4,
  "nbformat_minor": 0,
  "metadata": {
    "colab": {
      "provenance": [],
      "authorship_tag": "ABX9TyPkQA3bY/l+okuciheRH+9Y",
      "include_colab_link": true
    },
    "kernelspec": {
      "name": "python3",
      "display_name": "Python 3"
    },
    "language_info": {
      "name": "python"
    }
  },
  "cells": [
    {
      "cell_type": "markdown",
      "metadata": {
        "id": "view-in-github",
        "colab_type": "text"
      },
      "source": [
        "<a href=\"https://colab.research.google.com/github/samehra/interview-prep/blob/main/master_the_coding_interview_big_tech_faang_interviews.ipynb\" target=\"_parent\"><img src=\"https://colab.research.google.com/assets/colab-badge.svg\" alt=\"Open In Colab\"/></a>"
      ]
    },
    {
      "cell_type": "markdown",
      "source": [
        "## FAANG Interview questions course"
      ],
      "metadata": {
        "id": "bqJC8fi9HXOu"
      }
    },
    {
      "cell_type": "markdown",
      "source": [
        "Some tips:\n",
        "\n",
        "Ex: given an array of integers, indices of a pair of numbers that sum up to a given target\n",
        "\n",
        "1. Verify the constraints - are all positive or negative, are there duplicates, will there always be solution, what to return when empty array, more than one solution (can there be multiple pairs),\n",
        "2. Write some test cases\n",
        "3. Figure out a solution without a code - brute force,\n",
        "4. Space and time complexity"
      ],
      "metadata": {
        "id": "XYJJt2HfH370"
      }
    },
    {
      "cell_type": "markdown",
      "source": [
        "### Given an array of integers, indices of a pair of numbers that sum up to a given target (Easy)"
      ],
      "metadata": {
        "id": "Pg-itCigHT82"
      }
    },
    {
      "cell_type": "code",
      "source": [
        "import numpy as np\n",
        "\n",
        "def get_indices_sum_target(target, array):\n",
        "\n",
        "  if len(array)>0:\n",
        "    for i in range(len(array)):\n",
        "      for j in range(i+1, len(array)):\n",
        "        if array[j] == target - array[i]:\n",
        "          return (i,j)\n",
        "\n",
        "    return None\n",
        "\n",
        "array = [1,3,3,7,9,2]\n",
        "print(get_indices_sum_target(11, array))\n",
        "\n",
        "def get_indices_sum_target_noNestedLoops(target, array):\n",
        "    if len(array)>0:\n",
        "      dict_p2 = {}\n",
        "      for i in range(len(array)):\n",
        "        if (target - array[i]) not in dict_p2: dict_p2[target - array[i]] = i\n",
        "\n",
        "      # pointer for p1, also p1  = target - p2\n",
        "      for i in range(len(array)):\n",
        "          if array[i] in dict_p2:\n",
        "              return (i, dict_p2[array[i]])\n",
        "\n",
        "      return None\n",
        "\n",
        "array = [1,3,3,7,9,2]\n",
        "print(get_indices_sum_target_noNestedLoops(11, array))"
      ],
      "metadata": {
        "colab": {
          "base_uri": "https://localhost:8080/"
        },
        "id": "JeDtP2-1Gqgw",
        "outputId": "6bdd13a4-8df9-44c1-f8e8-05570af2f174"
      },
      "execution_count": null,
      "outputs": [
        {
          "output_type": "stream",
          "name": "stdout",
          "text": [
            "(4, 5)\n",
            "(4, 5)\n"
          ]
        }
      ]
    },
    {
      "cell_type": "markdown",
      "source": [
        "### Container with most water (Medium)"
      ],
      "metadata": {
        "id": "i0z7ogwOs6qY"
      }
    },
    {
      "cell_type": "code",
      "source": [
        "# Find the max area\n",
        "# O(n2), O(1)\n",
        "def get_max_water_container(array):\n",
        "  max_area = 0\n",
        "  hw_coords = (0,0)\n",
        "  for i in range(len(array)):\n",
        "    for j in range(i+1, len(array)):\n",
        "      height = min(array[i],array[j])\n",
        "      width = (j - i)\n",
        "      area =  height * width\n",
        "      #max_area = max(area, max_area)\n",
        "      if area > max_area:\n",
        "        max_area = area\n",
        "        hw_coords = (i,j)\n",
        "  return max_area, hw_coords\n",
        "\n",
        "# O(n), O(1)\n",
        "def get_max_water_container_optimal(array):\n",
        "  max_area = 0; hw_coords = (0,0); i = 0; j = len(array) - 1\n",
        "\n",
        "  while i<j:\n",
        "    # Since we are calculating min of left and right pointer, we can just keep moving the pointer\n",
        "    # that is smaller.\n",
        "    height = min(array[i],array[j])\n",
        "    width = (j - i)\n",
        "    area =  height * width\n",
        "    #max_area = max(area, max_area)\n",
        "    if area > max_area:\n",
        "      max_area = area\n",
        "      hw_coords = (i,j)\n",
        "\n",
        "    # two shifting pointers technique\n",
        "    if array[i] <= array[j]:\n",
        "      i += 1\n",
        "    else:\n",
        "      j -= 1\n",
        "  return max_area, hw_coords\n",
        "\n",
        "max_area, hw_coords = get_max_water_container([10,  8,  8,  4,  2,  9])\n",
        "\n",
        "max_area, hw_coords = get_max_water_container_optimal([4,8,1,2,3,9])\n",
        "print(max_area, hw_coords)"
      ],
      "metadata": {
        "id": "Va-f9sXFH6qG",
        "outputId": "965dc75c-3d47-4811-abd6-02cb36efcad2",
        "colab": {
          "base_uri": "https://localhost:8080/"
        }
      },
      "execution_count": null,
      "outputs": [
        {
          "output_type": "stream",
          "name": "stdout",
          "text": [
            "32 (1, 5)\n"
          ]
        }
      ]
    },
    {
      "cell_type": "markdown",
      "source": [
        "### Trapping rainwater (Hard)"
      ],
      "metadata": {
        "id": "0Qs_J_DaslR4"
      }
    },
    {
      "cell_type": "code",
      "source": [
        "# O(n2), O(1)\n",
        "def get_trapping_rainwater(array):\n",
        "  water_total = 0\n",
        "  for p1 in range(1,len(array)-1):\n",
        "    maxL = 0; maxR = 0;\n",
        "    for p2 in range(0,p1): maxL = max(maxL, array[p2])\n",
        "    for p3 in range(p1+1,len(array)): maxR = max(maxR, array[p3])\n",
        "\n",
        "  # Calculate water holding capacity for each point and then sum it up.\n",
        "    water_total += max(0, min(maxL, maxR) - array[p1])\n",
        "  return water_total\n",
        "\n",
        "water_total = get_trapping_rainwater([0,1,0,2,1,0,3,1,0,1,2])\n",
        "water_total = get_trapping_rainwater([5,0,3,0,0,0,2,3,4,2,1])\n",
        "print(water_total)\n",
        "\n",
        "# O(n), O(1)\n",
        "def get_trapping_rainwater_optimal(array):\n",
        "  water_total = 0; maxL = 0; maxR = 0; p1 = 0; p3 = len(array)-1\n",
        "\n",
        "  while p1<p3:\n",
        "    if array[p1] <= array[p3]:\n",
        "      maxL = max(maxL, array[p1])\n",
        "      water_total += max(0, maxL - array[p1])\n",
        "      p1 += 1\n",
        "    else:\n",
        "      # Else statement ensures there definitely a value on the left greater than current value\n",
        "      # maxR tells whether there is a wall to the right which determines the maximum water that can be trapped\n",
        "      maxR = max(maxR, array[p3])\n",
        "      water_total += max(0, maxR - array[p3])\n",
        "      p3 -= 1\n",
        "    print(array[p1], array[p3], water_total,maxL,maxR)\n",
        "  return water_total\n",
        "\n",
        "water_total = get_trapping_rainwater_optimal([5,0,3,0,0,0,2,3,4,2,1])\n",
        "print(water_total)"
      ],
      "metadata": {
        "id": "7mXVsI0jzGVr",
        "colab": {
          "base_uri": "https://localhost:8080/"
        },
        "outputId": "fac7b10d-3614-4286-efc4-46f4962abe0a"
      },
      "execution_count": null,
      "outputs": [
        {
          "output_type": "stream",
          "name": "stdout",
          "text": [
            "20\n",
            "5 2 0 0 1\n",
            "5 4 0 0 2\n",
            "5 3 0 0 4\n",
            "5 2 1 0 4\n",
            "5 0 3 0 4\n",
            "5 0 7 0 4\n",
            "5 0 11 0 4\n",
            "5 3 15 0 4\n",
            "5 0 16 0 4\n",
            "5 5 20 0 4\n",
            "20\n"
          ]
        }
      ]
    },
    {
      "cell_type": "markdown",
      "source": [
        "### Typed out String (Easy)"
      ],
      "metadata": {
        "id": "efELGDQxshMZ"
      }
    },
    {
      "cell_type": "code",
      "source": [
        "# O(m+n), O(m+n)\n",
        "def remove_hash(string):\n",
        "  str3 = []\n",
        "  for s in string[0]:\n",
        "    if s == '#':\n",
        "      if len(str3)>0:\n",
        "        _ = str3.pop(-1)\n",
        "\n",
        "    else: str3.append(s)\n",
        "\n",
        "  return str3\n",
        "\n",
        "def typed_out_string(string1, string2):\n",
        "  string1 = remove_hash(string1)\n",
        "  string2 = remove_hash(string2)\n",
        "  print(string1, string2)\n",
        "  return string1 == string2\n",
        "\n",
        "# test case 1\n",
        "string1 = ['ab#c']; string2 = ['azz##c']\n",
        "# test case 2\n",
        "# string1 = ['ab##c']; string2 = ['c']\n",
        "# test case 3\n",
        "# string1 = ['ab#c']; string2 = ['Ab#c']\n",
        "# test case 4\n",
        "# string1 = ['c##']; string2 = ['']\n",
        "\n",
        "result = typed_out_string(string1, string2)\n",
        "result"
      ],
      "metadata": {
        "colab": {
          "base_uri": "https://localhost:8080/"
        },
        "id": "jxd8yzp-udWA",
        "outputId": "c8021370-437e-418d-fd5c-1c5868caaa8f"
      },
      "execution_count": null,
      "outputs": [
        {
          "output_type": "stream",
          "name": "stdout",
          "text": [
            "['a', 'c'] ['a', 'c']\n"
          ]
        },
        {
          "output_type": "execute_result",
          "data": {
            "text/plain": [
              "True"
            ]
          },
          "metadata": {},
          "execution_count": 4
        }
      ]
    },
    {
      "cell_type": "code",
      "source": [
        "# Improve the space complexity\n",
        "# O(m+n), O(1)\n",
        "# two pointer technique with special logic for backcount\n",
        "def typed_out_string_optimal(string1, string2):\n",
        "  p1 = len(string1)-1; p2 = len(string2)-1;\n",
        "\n",
        "  while (p1>=0) | (p2>=0):\n",
        "    print(string1[0][p1],string2[0][p2])\n",
        "    if (string1[0][p1] != '#') & (string2[0][p2] != '#'):\n",
        "      if string1[0][p1] == string2[0][p2]:\n",
        "        p1 -= 1\n",
        "        p2 -= 1\n",
        "      else:\n",
        "        return False\n",
        "    else:\n",
        "      if string1[0][p1] == '#':\n",
        "        backcount = 2\n",
        "        while backcount>0:\n",
        "          p1 -= 1\n",
        "          backcount -= 1\n",
        "          if string1[0][p1]: backcount +=2\n",
        "\n",
        "      if string2[0][p2] == '#':\n",
        "        backcount = 2\n",
        "        while backcount>0:\n",
        "          p2 -= 1\n",
        "          backcount -= 1\n",
        "          if string2[0][p2]: backcount +=2\n",
        "\n",
        "  return True\n",
        "\n",
        "# test case 1\n",
        "# string1 = ['ab#c']; string2 = ['azz##c']\n",
        "# test case 2\n",
        "string1 = ['ab##c']; string2 = ['c']\n",
        "# test case 3\n",
        "# string1 = ['ab#c']; string2 = ['Ab#c']\n",
        "# test case 4\n",
        "# string1 = ['c##']; string2 = ['']\n",
        "\n",
        "result = typed_out_string_optimal(string1, string2)\n",
        "result"
      ],
      "metadata": {
        "id": "Mn8irpnuv75_",
        "outputId": "72f32414-b103-401f-a63a-bcaa0dd3223f",
        "colab": {
          "base_uri": "https://localhost:8080/"
        }
      },
      "execution_count": null,
      "outputs": [
        {
          "output_type": "stream",
          "name": "stdout",
          "text": [
            "a c\n"
          ]
        },
        {
          "output_type": "execute_result",
          "data": {
            "text/plain": [
              "False"
            ]
          },
          "metadata": {},
          "execution_count": 4
        }
      ]
    },
    {
      "cell_type": "markdown",
      "source": [
        "## Sliding Window Technique"
      ],
      "metadata": {
        "id": "yP8pna-A3yTb"
      }
    },
    {
      "cell_type": "markdown",
      "source": [
        "### Longest substring (Easy)"
      ],
      "metadata": {
        "id": "c4GAn3-Rs42X"
      }
    },
    {
      "cell_type": "code",
      "source": [
        "# O(N), O(N)\n",
        "def longest_unique_substring(array):\n",
        "  sub_strings = []; substr = []; lsubstr = 0; max_len = 0; dict_substr = {}; i=0\n",
        "\n",
        "  while i<len(array):\n",
        "    if (array[i] in substr):  ## this take O(N) time. To reduce time complexity, use dict\n",
        "    if (array[i] in dict_substr):\n",
        "      sub_strings.append(substr)\n",
        "      substr = []\n",
        "      substr.append(array[i])\n",
        "      lsubstr = 1\n",
        "      dict_substr = {}\n",
        "      dict_substr[array[i]] = i\n",
        "      i+=1\n",
        "    else:\n",
        "      dict_substr[array[i]] = i\n",
        "      substr.append(array[i])\n",
        "      lsubstr+=1\n",
        "      i+=1\n",
        "\n",
        "    max_len = max(lsubstr, max_len)\n",
        "\n",
        "  sub_strings.append(substr)\n",
        "\n",
        "  return sub_strings, max_len\n",
        "\n",
        "# Sliding window technique\n",
        "# O(N), O(N)\n",
        "\n",
        "def longest_unique_substring_sw(array):\n",
        "  \"\"\"\n",
        "  Using left and right pointers, we can create a window. The right pointer goes through\n",
        "  the array once and the size of the window is changed by altering the left pointer\n",
        "  based on certain condition and the max length is updated accordingly.\n",
        "  This helps prevent the nested loops\n",
        "  \"\"\"\n",
        "  left = 0; right = 0; seen_chars = {}; substr = []; substrs = []; max_len = 0\n",
        "\n",
        "  for right in range(len(array)):\n",
        "    curr_char = array[right]\n",
        "    if seen_chars.get(curr_char, -1)>=left:\n",
        "      seen_chars[curr_char] = right\n",
        "      left = seen_chars[curr_char]\n",
        "      substrs.append(substr)\n",
        "      substr = []\n",
        "      substr.append(curr_char)\n",
        "    else:\n",
        "      seen_chars[curr_char] = right\n",
        "      substr.append(curr_char)\n",
        "\n",
        "    max_len = max(max_len, right-left+1)\n",
        "  substrs.append(substr)\n",
        "  return substrs, max_len\n",
        "\n",
        "# string = 'abccab'\n",
        "# string = 'cccccc'\n",
        "string = 'abccbdeaac'\n",
        "# string = ''\n",
        "\n",
        "substrs, max_len = longest_unique_substring_sw(string)\n",
        "print(substrs, max_len)"
      ],
      "metadata": {
        "id": "3p4jrnLXtysd",
        "outputId": "f3e1196b-f7dd-46b4-e956-afbf57dd6b88",
        "colab": {
          "base_uri": "https://localhost:8080/"
        }
      },
      "execution_count": null,
      "outputs": [
        {
          "output_type": "stream",
          "name": "stdout",
          "text": [
            "[['a', 'b', 'c'], ['c', 'b', 'd', 'e', 'a'], ['a', 'c']] 5\n"
          ]
        }
      ]
    },
    {
      "cell_type": "markdown",
      "source": [
        "### Consider an array of size n. Find the maximum sum of any subarray of size k (Easy)"
      ],
      "metadata": {
        "id": "jiahsWtT62Np"
      }
    },
    {
      "cell_type": "code",
      "source": [
        "# Using nested loops\n",
        "# O(N^2), O(1)\n",
        "def subarray_maxsum(array, k):\n",
        "  n = len(array)\n",
        "  max_sum = 0\n",
        "  for i in range(n-k+1):\n",
        "    sum = 0\n",
        "    for j in range(i, i+k):\n",
        "      sum+=array[j]\n",
        "    max_sum = max(max_sum, sum)\n",
        "\n",
        "  return max_sum\n",
        "\n",
        "# Using sliding window\n",
        "# O(N), O(1)\n",
        "def subarray_maxsum_sw(array, k):\n",
        "  n = len(array)\n",
        "  sum=0; s=0; e=0\n",
        "  for i in range(k):\n",
        "    sum+=array[i]\n",
        "\n",
        "  max_sum = sum\n",
        "  ## Similar loop can be set up for s\n",
        "  # e = k\n",
        "  # for s in range(0,n-k):\n",
        "  #   sum = sum - array[s] + array[e]\n",
        "  #   e+=1\n",
        "  #   max_sum = max(max_sum,sum)\n",
        "  for e in range(k,n):\n",
        "    sum = sum - array[s] + array[e]\n",
        "    s+=1\n",
        "    max_sum = max(max_sum,sum)\n",
        "\n",
        "  return max_sum\n",
        "\n",
        "array = [1,2,5,6,8,9,3,4]\n",
        "max_sum = subarray_maxsum_sw(array, 3)\n",
        "print(max_sum)"
      ],
      "metadata": {
        "id": "ig17N1A8F8iN",
        "colab": {
          "base_uri": "https://localhost:8080/"
        },
        "outputId": "fb354bd8-410a-4cb2-c203-4b8a2b52429f"
      },
      "execution_count": null,
      "outputs": [
        {
          "output_type": "stream",
          "name": "stdout",
          "text": [
            "23\n"
          ]
        }
      ]
    },
    {
      "cell_type": "markdown",
      "source": [
        "### Find the count of occurences of anagrams of a word in a text (Easy)"
      ],
      "metadata": {
        "id": "QarldhkLsT7_"
      }
    },
    {
      "cell_type": "code",
      "source": [
        "def count_chars(word):\n",
        "  char_dict = {}\n",
        "  for w in word:\n",
        "    if char_dict.get(w, 0):\n",
        "      char_dict[w] += 1\n",
        "    else:\n",
        "      char_dict[w] = 1\n",
        "\n",
        "  return char_dict\n",
        "\n",
        "def count_anagrams(word, text):\n",
        "  n = len(word); t = len(text); s = 0; e = n; anagrams_count = 0\n",
        "  word_dict = count_chars(word)\n",
        "  curr_word_dict = count_chars(text[s:e])\n",
        "\n",
        "  if len(word_dict)>0:\n",
        "    for e in range(n,t):\n",
        "\n",
        "      if curr_word_dict == word_dict:\n",
        "        anagrams_count+=1\n",
        "      s+=1\n",
        "      curr_word_dict[text[s]] -= 1\n",
        "      curr_word_dict[text[e]] += 1\n",
        "\n",
        "    return anagrams_count\n",
        "  else:\n",
        "    return 0\n",
        "\n",
        "word = 'aaba'\n",
        "text = 'aabaabaa'\n",
        "\n",
        "anagrams_count = count_anagrams(word, text)\n",
        "print(anagrams_count)"
      ],
      "metadata": {
        "id": "-cZZqE5nsTZ4",
        "outputId": "cdef7aea-2569-41bc-abb1-4f2badc4ab3b",
        "colab": {
          "base_uri": "https://localhost:8080/"
        }
      },
      "execution_count": null,
      "outputs": [
        {
          "output_type": "stream",
          "name": "stdout",
          "text": [
            "4\n"
          ]
        }
      ]
    },
    {
      "cell_type": "markdown",
      "source": [
        "## Two Pointer Technique"
      ],
      "metadata": {
        "id": "HmWm2b_O2q0K"
      }
    },
    {
      "cell_type": "markdown",
      "source": [
        "### Given a sorted array, find the pair of numbers that sum upto a given number x. (Easy)"
      ],
      "metadata": {
        "id": "YHWF6Mik2wWb"
      }
    },
    {
      "cell_type": "code",
      "source": [
        "def pairs_with_sum(array, x):\n",
        "  left = 0; right = len(array)-1;\n",
        "  while left < right:\n",
        "    sum = array[left]+array[right]\n",
        "    if sum < x:\n",
        "      left+=1\n",
        "    elif sum > x:\n",
        "      right-=1\n",
        "    elif sum == x:\n",
        "      return (left, right)\n",
        "\n",
        "  return None\n",
        "\n",
        "array = [3,5,6,7,12,12,23,56]\n",
        "x = 24\n",
        "pair = pairs_with_sum(array, x)\n",
        "print(pair)"
      ],
      "metadata": {
        "colab": {
          "base_uri": "https://localhost:8080/"
        },
        "id": "n7e8VF8Z2p71",
        "outputId": "7e0c2d3d-2b9d-4c77-c9e0-a625f3776a62"
      },
      "execution_count": null,
      "outputs": [
        {
          "output_type": "stream",
          "name": "stdout",
          "text": [
            "(4, 5)\n"
          ]
        }
      ]
    },
    {
      "cell_type": "markdown",
      "source": [
        "### Given a sorted array, find the pair of numbers whose sum is closest to a given number x.(Easy)"
      ],
      "metadata": {
        "id": "SFyDGZmQ2xfp"
      }
    },
    {
      "cell_type": "code",
      "source": [
        "def pairs_with_closest_sum(array, x):\n",
        "  INT_MAX = 10000\n",
        "  left = 0; right = len(array)-1; min_diff = INT_MAX; l = 0; r = 0\n",
        "  while left < right:\n",
        "    sum = array[left]+array[right]\n",
        "    # If you keep the if statement below, after the next if statement, it fails for x=24 since\n",
        "    # l and r gets wrongly updated\n",
        "    if min_diff>abs(x - sum):\n",
        "      min_diff = abs(x - sum); l = left; r = right\n",
        "\n",
        "    if sum <= x:\n",
        "      left+=1\n",
        "    elif sum > x:\n",
        "      right-=1\n",
        "\n",
        "  return (l,r), min_diff\n",
        "\n",
        "array = [3,5,6,7,12,12,23,56]\n",
        "x = 24\n",
        "(l,r), min_diff = pairs_with_closest_sum(array, x)\n",
        "print((l,r),min_diff)"
      ],
      "metadata": {
        "id": "MBtVAbfyjg4y",
        "colab": {
          "base_uri": "https://localhost:8080/"
        },
        "outputId": "1966e699-8244-4e2f-9dd3-0faf6df59873"
      },
      "execution_count": null,
      "outputs": [
        {
          "output_type": "stream",
          "name": "stdout",
          "text": [
            "(4, 5) 0\n"
          ]
        }
      ]
    },
    {
      "cell_type": "markdown",
      "source": [
        "## Greedy algorithm"
      ],
      "metadata": {
        "id": "uY-0qYfakT8G"
      }
    },
    {
      "cell_type": "markdown",
      "source": [
        "### Fractional knapsack"
      ],
      "metadata": {
        "id": "sgSPa8hJkXR8"
      }
    },
    {
      "cell_type": "code",
      "source": [
        "def frac_knapsack(weight, value, capacity):\n",
        "  i = 0; weight_added = []; total_val = 0\n",
        "\n",
        "  w_val = list(zip(weight, value))\n",
        "  w_val = sorted(w_val, key=lambda x: x[1]/x[0], reverse=True)\n",
        "\n",
        "  while (capacity>0) & (i<len(weight)):\n",
        "    if capacity > w_val[i][0]:\n",
        "      capacity = capacity - w_val[i][0]\n",
        "      weight_added.append(w_val[i])\n",
        "      total_val += w_val[i][1]\n",
        "      i+=1\n",
        "    else:\n",
        "      val_w_ratio = w_val[i][1]/w_val[i][0]\n",
        "      total_val += capacity * val_w_ratio\n",
        "      weight_added.append((capacity, w_val[i][1]))\n",
        "      capacity = 0\n",
        "\n",
        "  return total_val, weight_added\n",
        "\n",
        "weight = [3,6,9,12,4,2]\n",
        "value = [12,4,6,8,10,5]\n",
        "capacity = 20\n",
        "total_val, weight_added = frac_knapsack(weight, value, capacity)\n",
        "total_val, weight_added"
      ],
      "metadata": {
        "id": "B6mXSwrx7mdk",
        "outputId": "1e639843-9dc9-43dc-cba1-ce3b281b64fb",
        "colab": {
          "base_uri": "https://localhost:8080/"
        }
      },
      "execution_count": null,
      "outputs": [
        {
          "output_type": "execute_result",
          "data": {
            "text/plain": [
              "(34.333333333333336, [(3, 12), (4, 10), (2, 5), (6, 4), (5, 6)])"
            ]
          },
          "metadata": {},
          "execution_count": 56
        }
      ]
    },
    {
      "cell_type": "markdown",
      "source": [
        "## String Algorithms"
      ],
      "metadata": {
        "id": "YyGMN_-iLoMv"
      }
    },
    {
      "cell_type": "markdown",
      "source": [
        "### KMP Algorithm"
      ],
      "metadata": {
        "id": "87mmMHC7LuHA"
      }
    },
    {
      "cell_type": "code",
      "source": [
        "# Generate longest prefix same as suffix (lps) array\n",
        "import numpy as np\n",
        "\n",
        "def gen_lps(string):\n",
        "  n = len(string)\n",
        "  i = 0; j = 1; lps = np.zeros(n).astype(int)\n",
        "  while j<n:\n",
        "    if string[i] == string[j]:\n",
        "      lps[j] = i+1\n",
        "      j+=1\n",
        "      i+=1\n",
        "    else:\n",
        "      j +=1\n",
        "      i = lps[j-1]\n",
        "    #print(i,j)\n",
        "  return lps\n",
        "\n",
        "string = 'abcabyabc'\n",
        "lps = gen_lps(string)\n",
        "print(lps)\n"
      ],
      "metadata": {
        "id": "8RE5Y4nCLsvD",
        "outputId": "2c9cfb00-8eab-4bc1-bbb9-3c5436c5f261",
        "colab": {
          "base_uri": "https://localhost:8080/"
        }
      },
      "execution_count": 26,
      "outputs": [
        {
          "output_type": "stream",
          "name": "stdout",
          "text": [
            "[0 0 0 1 2 0 1 2 3]\n"
          ]
        }
      ]
    },
    {
      "cell_type": "code",
      "source": [],
      "metadata": {
        "id": "hXS_F524Pj7p"
      },
      "execution_count": null,
      "outputs": []
    }
  ]
}