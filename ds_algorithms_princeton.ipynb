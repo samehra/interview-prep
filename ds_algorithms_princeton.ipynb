{
  "nbformat": 4,
  "nbformat_minor": 0,
  "metadata": {
    "colab": {
      "provenance": [],
      "collapsed_sections": [
        "XHt-y-5BMlZz",
        "Rq_3v30MQgQs",
        "03-kgGTpSIP9",
        "-hKhXMjqKfaa",
        "mreaJYo2LPLM",
        "q6ihJbLYSPW9",
        "mvqUGSBjVpDs",
        "LfT4Ft28haJ5",
        "nXhWSs7jg76H",
        "FDQcQh2QgZMc",
        "lLjLIwqaRoOs",
        "qTyNVINnXPSI",
        "7C67e-CxuShY",
        "rNK8CQrCIjpo",
        "JbBT68h_Iy7r",
        "0ETN-gvLEu84",
        "f0EF0jxzO1tn",
        "iL2HmHouJp4G",
        "nbupi8xKgXpU",
        "K2Oe8ldkg293",
        "i38WVGlGVWC3",
        "8ZG7edkzCkZ9",
        "F8yHN---cI8o",
        "CIdM1TDhcO1J",
        "K2SPcPcD4tZF",
        "TwV-58jXG_rk",
        "UziFtLFvbTef",
        "c-tvVokkz0q4",
        "7rifiDJNEQI2",
        "J4yCBX2DdaoV",
        "ZjfgUU2X1Tl8"
      ],
      "authorship_tag": "ABX9TyNbO6agLTSoIWBXdj3DWxxS",
      "include_colab_link": true
    },
    "kernelspec": {
      "name": "python3",
      "display_name": "Python 3"
    },
    "language_info": {
      "name": "python"
    }
  },
  "cells": [
    {
      "cell_type": "markdown",
      "metadata": {
        "id": "view-in-github",
        "colab_type": "text"
      },
      "source": [
        "<a href=\"https://colab.research.google.com/github/samehra/interview-prep/blob/main/ds_algorithms_princeton.ipynb\" target=\"_parent\"><img src=\"https://colab.research.google.com/assets/colab-badge.svg\" alt=\"Open In Colab\"/></a>"
      ]
    },
    {
      "cell_type": "markdown",
      "source": [
        "# DSA_Princeton_Algorithms1"
      ],
      "metadata": {
        "id": "PqBDnrbIJWCm"
      }
    },
    {
      "cell_type": "code",
      "source": [
        "%load_ext autoreload\n",
        "%autoreload 2"
      ],
      "metadata": {
        "id": "MuzBcQgehWx5"
      },
      "execution_count": 25,
      "outputs": []
    },
    {
      "cell_type": "code",
      "source": [
        "# !git clone https://github.com/dvklopfenstein/PrincetonAlgorithms.git"
      ],
      "metadata": {
        "colab": {
          "base_uri": "https://localhost:8080/"
        },
        "id": "bE46qxt-ep1d",
        "outputId": "3a5423a5-e6a9-4be2-bfd7-7badc4ab66d2"
      },
      "execution_count": 16,
      "outputs": [
        {
          "output_type": "stream",
          "name": "stdout",
          "text": [
            "Cloning into 'PrincetonAlgorithms'...\n",
            "remote: Enumerating objects: 5797, done.\u001b[K\n",
            "remote: Counting objects: 100% (369/369), done.\u001b[K\n",
            "remote: Compressing objects: 100% (246/246), done.\u001b[K\n",
            "remote: Total 5797 (delta 180), reused 259 (delta 121), pack-reused 5428\u001b[K\n",
            "Receiving objects: 100% (5797/5797), 77.36 MiB | 19.25 MiB/s, done.\n",
            "Resolving deltas: 100% (3384/3384), done.\n"
          ]
        }
      ]
    },
    {
      "cell_type": "code",
      "source": [
        "import sys\n",
        "sys.path.append(\"/content/PrincetonAlgorithms\")\n",
        "print(sys.path)"
      ],
      "metadata": {
        "colab": {
          "base_uri": "https://localhost:8080/"
        },
        "id": "MXLvSuennOK1",
        "outputId": "de41f9ac-b24c-4f49-da53-344793d515ae"
      },
      "execution_count": 9,
      "outputs": [
        {
          "output_type": "stream",
          "name": "stdout",
          "text": [
            "['/content', '/env/python', '/usr/lib/python310.zip', '/usr/lib/python3.10', '/usr/lib/python3.10/lib-dynload', '', '/usr/local/lib/python3.10/dist-packages', '/usr/lib/python3/dist-packages', '/usr/local/lib/python3.10/dist-packages/IPython/extensions', '/root/.ipython', '/content/PrincetonAlgorithms']\n"
          ]
        }
      ]
    },
    {
      "cell_type": "code",
      "source": [
        "!pwd"
      ],
      "metadata": {
        "colab": {
          "base_uri": "https://localhost:8080/"
        },
        "id": "o18GUkBOpnU8",
        "outputId": "18ff96ef-c010-4010-aee2-37001c0d5db1"
      },
      "execution_count": 19,
      "outputs": [
        {
          "output_type": "stream",
          "name": "stdout",
          "text": [
            "/content/PrincetonAlgorithms\n"
          ]
        }
      ]
    },
    {
      "cell_type": "code",
      "source": [
        "%cd /content/PrincetonAlgorithms/\n",
        "!ls"
      ],
      "metadata": {
        "colab": {
          "base_uri": "https://localhost:8080/"
        },
        "id": "RmkCwtUnf5ze",
        "outputId": "748b75e4-2fc0-4aa4-9ab7-489e88a8b7f4"
      },
      "execution_count": 18,
      "outputs": [
        {
          "output_type": "stream",
          "name": "stdout",
          "text": [
            "/content/PrincetonAlgorithms\n",
            "AlgsSedgewickWayne  doc  LICENSE  makefile  notebooks  py  README.md  tests  thirdparty\n"
          ]
        }
      ]
    },
    {
      "cell_type": "code",
      "source": [
        "from AlgsSedgewickWayne.QuickUnionUF import QuickUnionUF\n",
        "from AlgsSedgewickWayne.testcode.utils import chk_arrays\n",
        "from AlgsSedgewickWayne.testcode.utils import run_unions"
      ],
      "metadata": {
        "id": "hyFn11Y0e3EW"
      },
      "execution_count": 20,
      "outputs": []
    },
    {
      "cell_type": "code",
      "source": [
        "[None]*10"
      ],
      "metadata": {
        "colab": {
          "base_uri": "https://localhost:8080/"
        },
        "id": "kaBHOdAIpzlD",
        "outputId": "70fbf5a0-15f6-4cba-ef00-a5f4aa7ece59"
      },
      "execution_count": 5,
      "outputs": [
        {
          "output_type": "execute_result",
          "data": {
            "text/plain": [
              "[None, None, None, None, None, None, None, None, None, None]"
            ]
          },
          "metadata": {},
          "execution_count": 5
        }
      ]
    },
    {
      "cell_type": "code",
      "source": [
        "alg = QuickUnionUF(10)\n",
        "run_unions(alg, \"4-3 3-8 6-5 9-4 2-1 8-9 5-0 7-2 6-1 7-3\", \"\\nwk1_lec quick-union\", \"QU_demo\")\n",
        "chk_arrays(alg.ID, [1, 8, 1, 8, 3, 0, 5, 1, 8, 8])"
      ],
      "metadata": {
        "id": "huU45CvypytW"
      },
      "execution_count": null,
      "outputs": []
    },
    {
      "cell_type": "code",
      "source": [
        "%set_env PYTHONPATH=${PYTHONPATH}:/content/PrincetonAlgorithms"
      ],
      "metadata": {
        "colab": {
          "base_uri": "https://localhost:8080/"
        },
        "id": "C6gOop3MxKFY",
        "outputId": "b5d6b524-f537-4714-996c-d2e5377c83d6"
      },
      "execution_count": 21,
      "outputs": [
        {
          "output_type": "stream",
          "name": "stdout",
          "text": [
            "env: PYTHONPATH=${PYTHONPATH}:/content/PrincetonAlgorithms\n"
          ]
        }
      ]
    },
    {
      "cell_type": "code",
      "source": [
        "!echo $PYTHONPATH"
      ],
      "metadata": {
        "colab": {
          "base_uri": "https://localhost:8080/"
        },
        "id": "a69Squ-EwgvR",
        "outputId": "ea70bbd1-3605-4efe-c2b1-1c603dcf2a66"
      },
      "execution_count": 22,
      "outputs": [
        {
          "output_type": "stream",
          "name": "stdout",
          "text": [
            "${PYTHONPATH}:/content/PrincetonAlgorithms\n"
          ]
        }
      ]
    },
    {
      "cell_type": "code",
      "source": [
        "!python tests/test_QuickUnionUF.py"
      ],
      "metadata": {
        "colab": {
          "base_uri": "https://localhost:8080/"
        },
        "id": "L217L3xpk8m0",
        "outputId": "1f4135ec-88d2-4a77-9474-d960dd32d95c"
      },
      "execution_count": 30,
      "outputs": [
        {
          "output_type": "stream",
          "name": "stdout",
          "text": [
            "\n",
            "wk1_lec quick-union\n",
            "IDX:  0  1  2  3  4  5  6  7  8  9\n",
            "val:  0  0  0  0  0  0  0  0  0  0 Initial values\n",
            "  WROTE: QU_demo_step0.png\n",
            "IDX:  0  1  2  3  4  5  6  7  8  9\n",
            "val:  0  0  0  0  0  0  0  0  0  0 union(4-3) [0, 1, 2, 3, 4, 5, 6, 7, 8, 9]\n",
            "  WROTE: QU_demo_step1.png\n",
            "IDX:  0  1  2  3  4  5  6  7  8  9\n",
            "val:  0  0  0  0  0  0  0  0  0  0 union(3-8) [0, 1, 2, 3, 4, 5, 6, 7, 8, 9]\n",
            "  WROTE: QU_demo_step2.png\n",
            "IDX:  0  1  2  3  4  5  6  7  8  9\n",
            "val:  0  0  0  0  0  0  0  0  0  0 union(6-5) [0, 1, 2, 3, 4, 5, 6, 7, 8, 9]\n",
            "  WROTE: QU_demo_step3.png\n",
            "IDX:  0  1  2  3  4  5  6  7  8  9\n",
            "val:  0  0  0  0  0  0  0  0  0  0 union(9-4) [0, 1, 2, 3, 4, 5, 6, 7, 8, 9]\n",
            "  WROTE: QU_demo_step4.png\n",
            "IDX:  0  1  2  3  4  5  6  7  8  9\n",
            "val:  0  0  0  0  0  0  0  0  0  0 union(2-1) [0, 1, 2, 3, 4, 5, 6, 7, 8, 9]\n",
            "  WROTE: QU_demo_step5.png\n",
            "IDX:  0  1  2  3  4  5  6  7  8  9\n",
            "val:  0  0  0  0  0  0  0  0  0  0 union(8-9) [0, 1, 2, 3, 4, 5, 6, 7, 8, 9]\n",
            "  WROTE: QU_demo_step6.png\n",
            "IDX:  0  1  2  3  4  5  6  7  8  9\n",
            "val:  0  0  0  0  0  0  0  0  0  0 union(5-0) [0, 1, 2, 3, 4, 5, 6, 7, 8, 9]\n",
            "  WROTE: QU_demo_step7.png\n",
            "IDX:  0  1  2  3  4  5  6  7  8  9\n",
            "val:  0  0  0  0  0  0  0  0  0  0 union(7-2) [0, 1, 2, 3, 4, 5, 6, 7, 8, 9]\n",
            "  WROTE: QU_demo_step8.png\n",
            "IDX:  0  1  2  3  4  5  6  7  8  9\n",
            "val:  0  0  0  0  0  0  0  0  0  0 union(6-1) [0, 1, 2, 3, 4, 5, 6, 7, 8, 9]\n",
            "  WROTE: QU_demo_step9.png\n",
            "IDX:  0  1  2  3  4  5  6  7  8  9\n",
            "val:  0  0  0  0  0  0  0  0  0  0 union(7-3) [0, 1, 2, 3, 4, 5, 6, 7, 8, 9]\n",
            "EXPECTED: [1, 8, 1, 8, 3, 0, 5, 1, 8, 8]\n",
            "ACTUAL:   [0, 0, 0, 0, 0, 0, 0, 0, 0, 0]\n",
            "Traceback (most recent call last):\n",
            "  File \"/content/PrincetonAlgorithms/tests/test_QuickUnionUF.py\", line 44, in <module>\n",
            "    test_all()\n",
            "  File \"/content/PrincetonAlgorithms/tests/test_QuickUnionUF.py\", line 40, in test_all\n",
            "    test_week1_lecture()\n",
            "  File \"/content/PrincetonAlgorithms/tests/test_QuickUnionUF.py\", line 30, in test_week1_lecture\n",
            "    chk_arrays(alg.ID, [1, 8, 1, 8, 3, 0, 5, 1, 8, 8])\n",
            "  File \"/content/PrincetonAlgorithms/AlgsSedgewickWayne/testcode/utils.py\", line 32, in chk_arrays\n",
            "    raise Exception(\"TEST FAILED.\")\n",
            "Exception: TEST FAILED.\n"
          ]
        }
      ]
    },
    {
      "cell_type": "markdown",
      "source": [
        "## Week1:"
      ],
      "metadata": {
        "id": "7mhIBet_JcJY"
      }
    },
    {
      "cell_type": "markdown",
      "source": [
        "### Dynamic Connectivity"
      ],
      "metadata": {
        "id": "kRLEMiBkQZFP"
      }
    },
    {
      "cell_type": "code",
      "source": [
        "# Quick find (Eager approach)\n",
        "# Here the components that are connected, have the same id value\n",
        "\n",
        "class Quick_Find():\n",
        "  # O(N)\n",
        "  '''\n",
        "  id table represents the connected nodes\n",
        "  '''\n",
        "  def __init__(self, array):\n",
        "    self.array = array\n",
        "    self.id = {array[i]:i for i in range(len(array))}\n",
        "\n",
        "  # O(1)\n",
        "  def connected(self, p,q):\n",
        "    '''\n",
        "    Check if p,q are connected\n",
        "    '''\n",
        "    if self.id[p] == self.id[q]:\n",
        "      return True\n",
        "    else:\n",
        "      return False\n",
        "\n",
        "  # O(N)\n",
        "  def union(self, p,q):\n",
        "    '''\n",
        "    Connect p,q if not connected. Assign the id of q to id of p\n",
        "    '''\n",
        "    pid = self.id[p]\n",
        "    qid = self.id[q]\n",
        "    self.id[p] = qid\n",
        "    for i in self.array:\n",
        "      if self.id[i] == pid: self.id[i] = qid\n",
        "    return self.id\n",
        "\n",
        "array = [0,1,2,3,4,5,6,7,8,9]\n",
        "quickfind = Quick_Find(array)\n",
        "print(quickfind.union(4,3))\n",
        "print(quickfind.union(3,8))\n",
        "print(quickfind.union(6,5))\n",
        "print(quickfind.union(9,4))\n",
        "print(quickfind.union(2,1))\n",
        "print(quickfind.connected(0,7))\n",
        "print(quickfind.connected(8,9))\n",
        "print(quickfind.union(5,0))\n",
        "print(quickfind.union(7,2))\n",
        "print(quickfind.union(6,1))\n",
        "print(quickfind.connected(0,7))"
      ],
      "metadata": {
        "colab": {
          "base_uri": "https://localhost:8080/"
        },
        "id": "VRvJvTp7JUt6",
        "outputId": "f97b486a-51ac-4eb1-ccc8-47af0af27969"
      },
      "execution_count": 10,
      "outputs": [
        {
          "output_type": "stream",
          "name": "stdout",
          "text": [
            "{0: 0, 1: 1, 2: 2, 3: 3, 4: 3, 5: 5, 6: 6, 7: 7, 8: 8, 9: 9}\n",
            "{0: 0, 1: 1, 2: 2, 3: 8, 4: 8, 5: 5, 6: 6, 7: 7, 8: 8, 9: 9}\n",
            "{0: 0, 1: 1, 2: 2, 3: 8, 4: 8, 5: 5, 6: 5, 7: 7, 8: 8, 9: 9}\n",
            "{0: 0, 1: 1, 2: 2, 3: 8, 4: 8, 5: 5, 6: 5, 7: 7, 8: 8, 9: 8}\n",
            "{0: 0, 1: 1, 2: 1, 3: 8, 4: 8, 5: 5, 6: 5, 7: 7, 8: 8, 9: 8}\n",
            "{0: 0, 1: 1, 2: 1, 3: 8, 4: 8, 5: 5, 6: 5, 7: 7, 8: 8, 9: 8}\n",
            "False\n",
            "True\n",
            "{0: 0, 1: 1, 2: 1, 3: 8, 4: 8, 5: 0, 6: 0, 7: 7, 8: 8, 9: 8}\n",
            "{0: 0, 1: 1, 2: 1, 3: 8, 4: 8, 5: 0, 6: 0, 7: 1, 8: 8, 9: 8}\n",
            "{0: 1, 1: 1, 2: 1, 3: 8, 4: 8, 5: 1, 6: 1, 7: 1, 8: 8, 9: 8}\n",
            "True\n"
          ]
        }
      ]
    },
    {
      "cell_type": "code",
      "source": [
        "# Quick union (Lazy approach)\n",
        "# Here the components that are connected, have the same root node\n",
        "\n",
        "class Quick_Union():\n",
        "  # O(N)\n",
        "  def __init__(self, array):\n",
        "    '''\n",
        "    id table here reprsents the parent of each node\n",
        "    '''\n",
        "    self.array = array\n",
        "    self.id = {array[i]:i for i in range(len(array))}\n",
        "\n",
        "  # O(N)\n",
        "  def connected(self, p,q):\n",
        "    '''\n",
        "    Check if p,q are connected\n",
        "    '''\n",
        "    if self.root(p) == self.root(q):\n",
        "      return True\n",
        "    else:\n",
        "      return False\n",
        "\n",
        "  def root(self, node):\n",
        "    current_node = node  # initialize parent node\n",
        "    if self.id[current_node] == node: return current_node\n",
        "    while self.id[current_node] != current_node:\n",
        "      current_node = self.id[current_node]\n",
        "    return current_node\n",
        "\n",
        "  # O(N)\n",
        "  def union(self, p,q):\n",
        "    '''\n",
        "    Connect p,q if not connected. Assign the root node of q to root node of p\n",
        "    We will create a tree like structure here. But trees can be very tall, forming a linear structure\n",
        "    Hence the runtime in O(N) inspite of a tree like structure and not log(N)\n",
        "    '''\n",
        "    proot = self.root(p)\n",
        "    qroot = self.root(q)\n",
        "    self.id[proot] = qroot\n",
        "    return self.id\n",
        "\n",
        "array = [0,1,2,3,4,5,6,7,8,9]\n",
        "quickunion = Quick_Union(array)\n",
        "print(quickunion.union(4,3))\n",
        "print(quickunion.union(3,8))\n",
        "print(quickunion.union(6,5))\n",
        "print(quickunion.union(9,4))\n",
        "print(quickunion.union(2,1))\n",
        "print(quickunion.connected(0,7))\n",
        "print(quickunion.connected(8,9))\n",
        "print(quickunion.union(5,0))\n",
        "print(quickunion.union(7,2))\n",
        "print(quickunion.union(6,1))\n",
        "print(quickunion.union(1,4))\n",
        "print(quickunion.connected(0,7))"
      ],
      "metadata": {
        "colab": {
          "base_uri": "https://localhost:8080/"
        },
        "id": "WH89BQlkOxsW",
        "outputId": "e2a7d4ca-9bb2-4023-d8d2-47174477f265"
      },
      "execution_count": 8,
      "outputs": [
        {
          "output_type": "stream",
          "name": "stdout",
          "text": [
            "{0: 0, 1: 1, 2: 2, 3: 3, 4: 3, 5: 5, 6: 6, 7: 7, 8: 8, 9: 9}\n",
            "{0: 0, 1: 1, 2: 2, 3: 8, 4: 3, 5: 5, 6: 6, 7: 7, 8: 8, 9: 9}\n",
            "{0: 0, 1: 1, 2: 2, 3: 8, 4: 3, 5: 5, 6: 5, 7: 7, 8: 8, 9: 9}\n",
            "{0: 0, 1: 1, 2: 2, 3: 8, 4: 3, 5: 5, 6: 5, 7: 7, 8: 8, 9: 8}\n",
            "{0: 0, 1: 1, 2: 1, 3: 8, 4: 3, 5: 5, 6: 5, 7: 7, 8: 8, 9: 8}\n",
            "{0: 0, 1: 1, 2: 1, 3: 8, 4: 3, 5: 5, 6: 5, 7: 7, 8: 8, 9: 8}\n",
            "False\n",
            "True\n",
            "{0: 0, 1: 1, 2: 1, 3: 8, 4: 3, 5: 0, 6: 5, 7: 7, 8: 8, 9: 8}\n",
            "{0: 0, 1: 1, 2: 1, 3: 8, 4: 3, 5: 0, 6: 5, 7: 1, 8: 8, 9: 8}\n",
            "{0: 1, 1: 1, 2: 1, 3: 8, 4: 3, 5: 0, 6: 5, 7: 1, 8: 8, 9: 8}\n",
            "{0: 1, 1: 8, 2: 1, 3: 8, 4: 3, 5: 0, 6: 5, 7: 1, 8: 8, 9: 8}\n",
            "True\n"
          ]
        }
      ]
    },
    {
      "cell_type": "code",
      "source": [
        "## Weighted Quick Union\n",
        "\n",
        "class Wt_Quick_Union():\n",
        "  # O(N)\n",
        "  def __init__(self, array):\n",
        "    self.array = array\n",
        "    self.id = {array[i]:i for i in range(len(array))}\n",
        "    self.sz = {i:1 for i in self.array}\n",
        "\n",
        "  # O(log N)\n",
        "  def connected(self, p,q):\n",
        "    '''\n",
        "    Check if p,q are connected\n",
        "    '''\n",
        "    if self.root(p) == self.root(q):\n",
        "      return True\n",
        "    else:\n",
        "      return False\n",
        "\n",
        "  def root(self, node):\n",
        "    current_node = node  # initialize parent node\n",
        "    while current_node != self.id[current_node]:\n",
        "      current_node = self.id[current_node]\n",
        "    return current_node\n",
        "\n",
        "  # O(log N)\n",
        "  def wt_union(self, p,q):\n",
        "    '''\n",
        "    Connect p,q if not connected. Assign the root node of q to root node of p (p->q) if size of p <= q\n",
        "    We will create a tree like structure here where the depth of each element is atmost log(N)\n",
        "    This helps create more balanced trees\n",
        "    We need to create a new dictionary sz which keeps the size of root nodes\n",
        "    '''\n",
        "    proot = self.root(p)\n",
        "    qroot = self.root(q)\n",
        "    if proot == qroot: return self.id, self.sz\n",
        "    if self.sz[proot] <= self.sz[qroot]:\n",
        "      self.id[proot] = qroot\n",
        "      self.sz[qroot] += self.sz[proot]\n",
        "    else:\n",
        "      self.id[qroot] = proot\n",
        "      self.sz[proot] += self.sz[qroot]\n",
        "    return self.id, self.sz\n",
        "\n",
        "array = [0,1,2,3,4,5,6,7,8,9]\n",
        "wtquickunion = Wt_Quick_Union(array)\n",
        "print(wtquickunion.wt_union(4,3)) # 4 -> 3\n",
        "print(wtquickunion.wt_union(3,8)) # 8 -> 3\n",
        "print(wtquickunion.wt_union(6,5)) # 6 -> 5\n",
        "print(wtquickunion.wt_union(9,4)) # 9 -> 4\n",
        "print(wtquickunion.wt_union(2,1)) # 2 -> 1\n",
        "print(wtquickunion.connected(0,7))\n",
        "print(wtquickunion.connected(8,9))\n",
        "print(wtquickunion.wt_union(5,0)) # 0 -> 5\n",
        "print(wtquickunion.wt_union(7,2)) # 7 -> 2\n",
        "print(wtquickunion.wt_union(6,1)) # 6 -> 1\n",
        "print(wtquickunion.wt_union(1,4)) # 4 -> 1\n",
        "print(wtquickunion.connected(0,7))"
      ],
      "metadata": {
        "colab": {
          "base_uri": "https://localhost:8080/"
        },
        "id": "2EVMe7Kg-TFy",
        "outputId": "0f6c9a35-ce5f-419c-a4f2-896d052e54cd"
      },
      "execution_count": 11,
      "outputs": [
        {
          "output_type": "stream",
          "name": "stdout",
          "text": [
            "({0: 0, 1: 1, 2: 2, 3: 3, 4: 3, 5: 5, 6: 6, 7: 7, 8: 8, 9: 9}, {0: 1, 1: 1, 2: 1, 3: 2, 4: 1, 5: 1, 6: 1, 7: 1, 8: 1, 9: 1})\n",
            "({0: 0, 1: 1, 2: 2, 3: 3, 4: 3, 5: 5, 6: 6, 7: 7, 8: 3, 9: 9}, {0: 1, 1: 1, 2: 1, 3: 3, 4: 1, 5: 1, 6: 1, 7: 1, 8: 1, 9: 1})\n",
            "({0: 0, 1: 1, 2: 2, 3: 3, 4: 3, 5: 5, 6: 5, 7: 7, 8: 3, 9: 9}, {0: 1, 1: 1, 2: 1, 3: 3, 4: 1, 5: 2, 6: 1, 7: 1, 8: 1, 9: 1})\n",
            "({0: 0, 1: 1, 2: 2, 3: 3, 4: 3, 5: 5, 6: 5, 7: 7, 8: 3, 9: 3}, {0: 1, 1: 1, 2: 1, 3: 4, 4: 1, 5: 2, 6: 1, 7: 1, 8: 1, 9: 1})\n",
            "({0: 0, 1: 1, 2: 1, 3: 3, 4: 3, 5: 5, 6: 5, 7: 7, 8: 3, 9: 3}, {0: 1, 1: 2, 2: 1, 3: 4, 4: 1, 5: 2, 6: 1, 7: 1, 8: 1, 9: 1})\n",
            "False\n",
            "True\n",
            "({0: 5, 1: 1, 2: 1, 3: 3, 4: 3, 5: 5, 6: 5, 7: 7, 8: 3, 9: 3}, {0: 1, 1: 2, 2: 1, 3: 4, 4: 1, 5: 3, 6: 1, 7: 1, 8: 1, 9: 1})\n",
            "({0: 5, 1: 1, 2: 1, 3: 3, 4: 3, 5: 5, 6: 5, 7: 1, 8: 3, 9: 3}, {0: 1, 1: 3, 2: 1, 3: 4, 4: 1, 5: 3, 6: 1, 7: 1, 8: 1, 9: 1})\n",
            "({0: 5, 1: 1, 2: 1, 3: 3, 4: 3, 5: 1, 6: 5, 7: 1, 8: 3, 9: 3}, {0: 1, 1: 6, 2: 1, 3: 4, 4: 1, 5: 3, 6: 1, 7: 1, 8: 1, 9: 1})\n",
            "({0: 5, 1: 1, 2: 1, 3: 1, 4: 3, 5: 1, 6: 5, 7: 1, 8: 3, 9: 3}, {0: 1, 1: 10, 2: 1, 3: 4, 4: 1, 5: 3, 6: 1, 7: 1, 8: 1, 9: 1})\n",
            "True\n"
          ]
        }
      ]
    },
    {
      "cell_type": "code",
      "source": [
        "## Quick Union with path compression\n",
        "# Here the components that are connected, have the same root node\n",
        "\n",
        "class PC_Quick_Union():\n",
        "  # O(N)\n",
        "  def __init__(self, array):\n",
        "    self.array = array\n",
        "    self.id = {array[i]:i for i in range(len(array))}\n",
        "\n",
        "  # O(N)\n",
        "  def connected(self, p,q):\n",
        "    '''\n",
        "    Check if p,q are connected\n",
        "    '''\n",
        "    if self.root(p) == self.root(q):\n",
        "      return True\n",
        "    else:\n",
        "      return False\n",
        "\n",
        "  def root(self, node):\n",
        "    current_node = node  # initialize parent node\n",
        "    while current_node != self.id[current_node]:\n",
        "      self.id[current_node] = self.id[self.id[current_node]]\n",
        "      current_node = self.id[current_node]\n",
        "\n",
        "    return current_node\n",
        "\n",
        "  # O(N)\n",
        "  def pc_union(self, p,q):\n",
        "    '''\n",
        "    Connect p,q if not connected. Assign the root node of q to root node of p\n",
        "    Whenever we identify root for a node, we move that node and its children directly under the root\n",
        "    This helps avoid linear tall tree structures\n",
        "    '''\n",
        "    proot = self.root(p)\n",
        "    qroot = self.root(q)\n",
        "    if proot == qroot: return self.id\n",
        "    self.id[proot] = qroot\n",
        "    return self.id\n",
        "\n",
        "array = [0,1,2,3,4,5,6,7,8,9]\n",
        "pcquickunion = PC_Quick_Union(array)\n",
        "print(pcquickunion.pc_union(4,3))\n",
        "print(pcquickunion.pc_union(3,8))\n",
        "print(pcquickunion.pc_union(6,5))\n",
        "print(pcquickunion.pc_union(9,4))\n",
        "print(pcquickunion.pc_union(2,1))\n",
        "print(pcquickunion.connected(0,7))\n",
        "print(pcquickunion.connected(8,9))\n",
        "print(pcquickunion.pc_union(5,0))\n",
        "print(pcquickunion.pc_union(7,2))\n",
        "print(pcquickunion.pc_union(6,1))\n",
        "print(pcquickunion.pc_union(1,4))\n",
        "print(pcquickunion.connected(0,7))"
      ],
      "metadata": {
        "colab": {
          "base_uri": "https://localhost:8080/"
        },
        "id": "Bp2Ze4tJILYQ",
        "outputId": "ef41f0e9-ba2d-4d34-eaa4-d576624c0224"
      },
      "execution_count": 12,
      "outputs": [
        {
          "output_type": "stream",
          "name": "stdout",
          "text": [
            "{0: 0, 1: 1, 2: 2, 3: 3, 4: 3, 5: 5, 6: 6, 7: 7, 8: 8, 9: 9}\n",
            "{0: 0, 1: 1, 2: 2, 3: 8, 4: 3, 5: 5, 6: 6, 7: 7, 8: 8, 9: 9}\n",
            "{0: 0, 1: 1, 2: 2, 3: 8, 4: 3, 5: 5, 6: 5, 7: 7, 8: 8, 9: 9}\n",
            "{0: 0, 1: 1, 2: 2, 3: 8, 4: 8, 5: 5, 6: 5, 7: 7, 8: 8, 9: 8}\n",
            "{0: 0, 1: 1, 2: 1, 3: 8, 4: 8, 5: 5, 6: 5, 7: 7, 8: 8, 9: 8}\n",
            "False\n",
            "True\n",
            "{0: 0, 1: 1, 2: 1, 3: 8, 4: 8, 5: 0, 6: 5, 7: 7, 8: 8, 9: 8}\n",
            "{0: 0, 1: 1, 2: 1, 3: 8, 4: 8, 5: 0, 6: 5, 7: 1, 8: 8, 9: 8}\n",
            "{0: 1, 1: 1, 2: 1, 3: 8, 4: 8, 5: 0, 6: 0, 7: 1, 8: 8, 9: 8}\n",
            "{0: 1, 1: 8, 2: 1, 3: 8, 4: 8, 5: 0, 6: 0, 7: 1, 8: 8, 9: 8}\n",
            "True\n"
          ]
        }
      ]
    },
    {
      "cell_type": "code",
      "source": [],
      "metadata": {
        "id": "ocMte_a22LoD"
      },
      "execution_count": null,
      "outputs": []
    }
  ]
}