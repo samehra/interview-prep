{
  "nbformat": 4,
  "nbformat_minor": 0,
  "metadata": {
    "colab": {
      "provenance": [],
      "collapsed_sections": [
        "XHt-y-5BMlZz",
        "Rq_3v30MQgQs",
        "03-kgGTpSIP9",
        "-hKhXMjqKfaa",
        "mreaJYo2LPLM",
        "q6ihJbLYSPW9",
        "mvqUGSBjVpDs",
        "LfT4Ft28haJ5",
        "nXhWSs7jg76H",
        "FDQcQh2QgZMc",
        "lLjLIwqaRoOs",
        "qTyNVINnXPSI",
        "7C67e-CxuShY",
        "rNK8CQrCIjpo",
        "JbBT68h_Iy7r",
        "0ETN-gvLEu84",
        "f0EF0jxzO1tn",
        "iL2HmHouJp4G",
        "nbupi8xKgXpU",
        "K2Oe8ldkg293",
        "i38WVGlGVWC3",
        "8ZG7edkzCkZ9",
        "F8yHN---cI8o",
        "CIdM1TDhcO1J",
        "K2SPcPcD4tZF",
        "TwV-58jXG_rk",
        "UziFtLFvbTef",
        "c-tvVokkz0q4",
        "7rifiDJNEQI2",
        "J4yCBX2DdaoV",
        "ZjfgUU2X1Tl8"
      ],
      "authorship_tag": "ABX9TyNTJxeSAG/cFWbOudhIbTNk",
      "include_colab_link": true
    },
    "kernelspec": {
      "name": "python3",
      "display_name": "Python 3"
    },
    "language_info": {
      "name": "python"
    }
  },
  "cells": [
    {
      "cell_type": "markdown",
      "metadata": {
        "id": "view-in-github",
        "colab_type": "text"
      },
      "source": [
        "<a href=\"https://colab.research.google.com/github/samehra/interview-prep/blob/main/ds_algorithms_princeton.ipynb\" target=\"_parent\"><img src=\"https://colab.research.google.com/assets/colab-badge.svg\" alt=\"Open In Colab\"/></a>"
      ]
    },
    {
      "cell_type": "markdown",
      "source": [
        "# DSA_Princeton_Algorithms1"
      ],
      "metadata": {
        "id": "PqBDnrbIJWCm"
      }
    },
    {
      "cell_type": "markdown",
      "source": [
        "## Week1:"
      ],
      "metadata": {
        "id": "7mhIBet_JcJY"
      }
    },
    {
      "cell_type": "markdown",
      "source": [
        "### Dynamic Connectivity"
      ],
      "metadata": {
        "id": "kRLEMiBkQZFP"
      }
    },
    {
      "cell_type": "code",
      "source": [
        "# Quick find (Eager approach)\n",
        "# Here the components that are connected, have the same id value\n",
        "\n",
        "class Quick_Find():\n",
        "\n",
        "  def __init__(self, array):\n",
        "    self.array = array\n",
        "    self.id = {array[i]:i for i in range(len(array))}\n",
        "\n",
        "  def connected(self, p,q):\n",
        "    '''\n",
        "    Check if p,q are connected\n",
        "    '''\n",
        "    if self.id[p] == self.id[q]:\n",
        "      return True\n",
        "    else:\n",
        "      return False\n",
        "\n",
        "  def union(self, p,q):\n",
        "    '''\n",
        "    Connect p,q if not connected. Assign the id of q to id of p\n",
        "    '''\n",
        "    pid = self.id[p]\n",
        "    qid = self.id[q]\n",
        "    self.id[p] = qid\n",
        "    for i in self.array:\n",
        "      if self.id[i] == pid: self.id[i] = qid\n",
        "    return self.id\n",
        "\n",
        "array = [0,1,2,3,4,5,6,7,8,9]\n",
        "quickfind = Quick_Find(array)\n",
        "quickfind.union(4,3)\n",
        "quickfind.union(3,8)\n",
        "# quickfind.union(6,5)\n",
        "# quickfind.union(9,4)\n",
        "# quickfind.union(2,1)\n",
        "# quickfind.union(4,3)\n",
        "# quickfind.connected(0,7)\n",
        "# quickfind.connected(8,9)\n",
        "# quickfind.union(5,0)\n",
        "# quickfind.union(7,2)\n",
        "# quickfind.union(6,1)\n",
        "# quickfind.connected(0,7)\n",
        "\n",
        "\n"
      ],
      "metadata": {
        "id": "VRvJvTp7JUt6",
        "outputId": "ff08a18a-70d6-4c95-f570-a6b5f91df412",
        "colab": {
          "base_uri": "https://localhost:8080/"
        }
      },
      "execution_count": 6,
      "outputs": [
        {
          "output_type": "execute_result",
          "data": {
            "text/plain": [
              "{0: 0, 1: 1, 2: 2, 3: 8, 4: 8, 5: 5, 6: 6, 7: 7, 8: 8, 9: 9}"
            ]
          },
          "metadata": {},
          "execution_count": 6
        }
      ]
    },
    {
      "cell_type": "code",
      "source": [],
      "metadata": {
        "id": "WH89BQlkOxsW"
      },
      "execution_count": null,
      "outputs": []
    }
  ]
}