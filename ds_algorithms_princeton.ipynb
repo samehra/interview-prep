{
  "nbformat": 4,
  "nbformat_minor": 0,
  "metadata": {
    "colab": {
      "provenance": [],
      "collapsed_sections": [
        "XHt-y-5BMlZz",
        "Rq_3v30MQgQs",
        "03-kgGTpSIP9",
        "-hKhXMjqKfaa",
        "mreaJYo2LPLM",
        "q6ihJbLYSPW9",
        "mvqUGSBjVpDs",
        "LfT4Ft28haJ5",
        "nXhWSs7jg76H",
        "FDQcQh2QgZMc",
        "lLjLIwqaRoOs",
        "qTyNVINnXPSI",
        "7C67e-CxuShY",
        "rNK8CQrCIjpo",
        "JbBT68h_Iy7r",
        "0ETN-gvLEu84",
        "f0EF0jxzO1tn",
        "iL2HmHouJp4G",
        "nbupi8xKgXpU",
        "K2Oe8ldkg293",
        "i38WVGlGVWC3",
        "8ZG7edkzCkZ9",
        "F8yHN---cI8o",
        "CIdM1TDhcO1J",
        "K2SPcPcD4tZF",
        "TwV-58jXG_rk",
        "UziFtLFvbTef",
        "c-tvVokkz0q4",
        "7rifiDJNEQI2",
        "J4yCBX2DdaoV",
        "ZjfgUU2X1Tl8"
      ],
      "authorship_tag": "ABX9TyOt6jJej8ilTUYHigWQgL16",
      "include_colab_link": true
    },
    "kernelspec": {
      "name": "python3",
      "display_name": "Python 3"
    },
    "language_info": {
      "name": "python"
    }
  },
  "cells": [
    {
      "cell_type": "markdown",
      "metadata": {
        "id": "view-in-github",
        "colab_type": "text"
      },
      "source": [
        "<a href=\"https://colab.research.google.com/github/samehra/interview-prep/blob/main/ds_algorithms_princeton.ipynb\" target=\"_parent\"><img src=\"https://colab.research.google.com/assets/colab-badge.svg\" alt=\"Open In Colab\"/></a>"
      ]
    },
    {
      "cell_type": "markdown",
      "source": [
        "# DSA_Princeton_Algorithms1"
      ],
      "metadata": {
        "id": "PqBDnrbIJWCm"
      }
    },
    {
      "cell_type": "code",
      "source": [
        "%load_ext autoreload\n",
        "%autoreload 2"
      ],
      "metadata": {
        "id": "MuzBcQgehWx5"
      },
      "execution_count": 1,
      "outputs": []
    },
    {
      "cell_type": "code",
      "source": [
        "from google.colab import drive\n",
        "drive.mount('/content/drive')"
      ],
      "metadata": {
        "colab": {
          "base_uri": "https://localhost:8080/"
        },
        "id": "xSU_LljapgJK",
        "outputId": "2cc5cfd8-e7c3-4a0b-f439-30dd5645a2cd"
      },
      "execution_count": 2,
      "outputs": [
        {
          "output_type": "stream",
          "name": "stdout",
          "text": [
            "Drive already mounted at /content/drive; to attempt to forcibly remount, call drive.mount(\"/content/drive\", force_remount=True).\n"
          ]
        }
      ]
    },
    {
      "cell_type": "code",
      "source": [
        "!git clone https://github.com/samehra/PrincetonAlgorithms.git"
      ],
      "metadata": {
        "colab": {
          "base_uri": "https://localhost:8080/"
        },
        "id": "bE46qxt-ep1d",
        "outputId": "efe17bf3-00cd-4fb0-a2fd-fede08d12d59"
      },
      "execution_count": 6,
      "outputs": [
        {
          "output_type": "stream",
          "name": "stdout",
          "text": [
            "Cloning into 'PrincetonAlgorithms'...\n",
            "remote: Enumerating objects: 5777, done.\u001b[K\n",
            "remote: Counting objects:   0% (1/370)\u001b[K\rremote: Counting objects:   1% (4/370)\u001b[K\rremote: Counting objects:   2% (8/370)\u001b[K\rremote: Counting objects:   3% (12/370)\u001b[K\rremote: Counting objects:   4% (15/370)\u001b[K\rremote: Counting objects:   5% (19/370)\u001b[K\rremote: Counting objects:   6% (23/370)\u001b[K\rremote: Counting objects:   7% (26/370)\u001b[K\rremote: Counting objects:   8% (30/370)\u001b[K\rremote: Counting objects:   9% (34/370)\u001b[K\rremote: Counting objects:  10% (37/370)\u001b[K\rremote: Counting objects:  11% (41/370)\u001b[K\rremote: Counting objects:  12% (45/370)\u001b[K\rremote: Counting objects:  13% (49/370)\u001b[K\rremote: Counting objects:  14% (52/370)\u001b[K\rremote: Counting objects:  15% (56/370)\u001b[K\rremote: Counting objects:  16% (60/370)\u001b[K\rremote: Counting objects:  17% (63/370)\u001b[K\rremote: Counting objects:  18% (67/370)\u001b[K\rremote: Counting objects:  19% (71/370)\u001b[K\rremote: Counting objects:  20% (74/370)\u001b[K\rremote: Counting objects:  21% (78/370)\u001b[K\rremote: Counting objects:  22% (82/370)\u001b[K\rremote: Counting objects:  23% (86/370)\u001b[K\rremote: Counting objects:  24% (89/370)\u001b[K\rremote: Counting objects:  25% (93/370)\u001b[K\rremote: Counting objects:  26% (97/370)\u001b[K\rremote: Counting objects:  27% (100/370)\u001b[K\rremote: Counting objects:  28% (104/370)\u001b[K\rremote: Counting objects:  29% (108/370)\u001b[K\rremote: Counting objects:  30% (111/370)\u001b[K\rremote: Counting objects:  31% (115/370)\u001b[K\rremote: Counting objects:  32% (119/370)\u001b[K\rremote: Counting objects:  33% (123/370)\u001b[K\rremote: Counting objects:  34% (126/370)\u001b[K\rremote: Counting objects:  35% (130/370)\u001b[K\rremote: Counting objects:  36% (134/370)\u001b[K\rremote: Counting objects:  37% (137/370)\u001b[K\rremote: Counting objects:  38% (141/370)\u001b[K\rremote: Counting objects:  39% (145/370)\u001b[K\rremote: Counting objects:  40% (148/370)\u001b[K\rremote: Counting objects:  41% (152/370)\u001b[K\rremote: Counting objects:  42% (156/370)\u001b[K\rremote: Counting objects:  43% (160/370)\u001b[K\rremote: Counting objects:  44% (163/370)\u001b[K\rremote: Counting objects:  45% (167/370)\u001b[K\rremote: Counting objects:  46% (171/370)\u001b[K\rremote: Counting objects:  47% (174/370)\u001b[K\rremote: Counting objects:  48% (178/370)\u001b[K\rremote: Counting objects:  49% (182/370)\u001b[K\rremote: Counting objects:  50% (185/370)\u001b[K\rremote: Counting objects:  51% (189/370)\u001b[K\rremote: Counting objects:  52% (193/370)\u001b[K\rremote: Counting objects:  53% (197/370)\u001b[K\rremote: Counting objects:  54% (200/370)\u001b[K\rremote: Counting objects:  55% (204/370)\u001b[K\rremote: Counting objects:  56% (208/370)\u001b[K\rremote: Counting objects:  57% (211/370)\u001b[K\rremote: Counting objects:  58% (215/370)\u001b[K\rremote: Counting objects:  59% (219/370)\u001b[K\rremote: Counting objects:  60% (222/370)\u001b[K\rremote: Counting objects:  61% (226/370)\u001b[K\rremote: Counting objects:  62% (230/370)\u001b[K\rremote: Counting objects:  63% (234/370)\u001b[K\rremote: Counting objects:  64% (237/370)\u001b[K\rremote: Counting objects:  65% (241/370)\u001b[K\rremote: Counting objects:  66% (245/370)\u001b[K\rremote: Counting objects:  67% (248/370)\u001b[K\rremote: Counting objects:  68% (252/370)\u001b[K\rremote: Counting objects:  69% (256/370)\u001b[K\rremote: Counting objects:  70% (259/370)\u001b[K\rremote: Counting objects:  71% (263/370)\u001b[K\rremote: Counting objects:  72% (267/370)\u001b[K\rremote: Counting objects:  73% (271/370)\u001b[K\rremote: Counting objects:  74% (274/370)\u001b[K\rremote: Counting objects:  75% (278/370)\u001b[K\rremote: Counting objects:  76% (282/370)\u001b[K\rremote: Counting objects:  77% (285/370)\u001b[K\rremote: Counting objects:  78% (289/370)\u001b[K\rremote: Counting objects:  79% (293/370)\u001b[K\rremote: Counting objects:  80% (296/370)\u001b[K\rremote: Counting objects:  81% (300/370)\u001b[K\rremote: Counting objects:  82% (304/370)\u001b[K\rremote: Counting objects:  83% (308/370)\u001b[K\rremote: Counting objects:  84% (311/370)\u001b[K\rremote: Counting objects:  85% (315/370)\u001b[K\rremote: Counting objects:  86% (319/370)\u001b[K\rremote: Counting objects:  87% (322/370)\u001b[K\rremote: Counting objects:  88% (326/370)\u001b[K\rremote: Counting objects:  89% (330/370)\u001b[K\rremote: Counting objects:  90% (333/370)\u001b[K\rremote: Counting objects:  91% (337/370)\u001b[K\rremote: Counting objects:  92% (341/370)\u001b[K\rremote: Counting objects:  93% (345/370)\u001b[K\rremote: Counting objects:  94% (348/370)\u001b[K\rremote: Counting objects:  95% (352/370)\u001b[K\rremote: Counting objects:  96% (356/370)\u001b[K\rremote: Counting objects:  97% (359/370)\u001b[K\rremote: Counting objects:  98% (363/370)\u001b[K\rremote: Counting objects:  99% (367/370)\u001b[K\rremote: Counting objects: 100% (370/370)\u001b[K\rremote: Counting objects: 100% (370/370), done.\u001b[K\n",
            "remote: Compressing objects: 100% (247/247), done.\u001b[K\n",
            "remote: Total 5777 (delta 180), reused 259 (delta 121), pack-reused 5407\u001b[K\n",
            "Receiving objects: 100% (5777/5777), 77.35 MiB | 16.16 MiB/s, done.\n",
            "Resolving deltas: 100% (3375/3375), done.\n"
          ]
        }
      ]
    },
    {
      "cell_type": "code",
      "source": [
        "import sys\n",
        "#sys.path.append(\"/content/drive/MyDrive/Imp Study Material/R/Algorithms_Princeton/PrincetonAlgorithms\")\n",
        "sys.path.append(\"/content/PrincetonAlgorithms\")\n",
        "print(sys.path)"
      ],
      "metadata": {
        "colab": {
          "base_uri": "https://localhost:8080/"
        },
        "id": "MXLvSuennOK1",
        "outputId": "6003ee71-a13d-40c5-ef0a-734bf20b8cce"
      },
      "execution_count": 9,
      "outputs": [
        {
          "output_type": "stream",
          "name": "stdout",
          "text": [
            "['/content', '/env/python', '/usr/lib/python310.zip', '/usr/lib/python3.10', '/usr/lib/python3.10/lib-dynload', '', '/usr/local/lib/python3.10/dist-packages', '/usr/lib/python3/dist-packages', '/usr/local/lib/python3.10/dist-packages/IPython/extensions', '/root/.ipython', '/content/drive/MyDrive/Imp Study Material/R/Algorithms_Princeton/PrincetonAlgorithms', '/content/PrincetonAlgorithms']\n"
          ]
        }
      ]
    },
    {
      "cell_type": "code",
      "source": [
        "!pwd"
      ],
      "metadata": {
        "colab": {
          "base_uri": "https://localhost:8080/"
        },
        "id": "o18GUkBOpnU8",
        "outputId": "c92c4d1d-dabb-4d58-89e7-15800e435751"
      },
      "execution_count": 10,
      "outputs": [
        {
          "output_type": "stream",
          "name": "stdout",
          "text": [
            "/content\n"
          ]
        }
      ]
    },
    {
      "cell_type": "code",
      "source": [
        "%cd /content/PrincetonAlgorithms/\n",
        "!ls"
      ],
      "metadata": {
        "colab": {
          "base_uri": "https://localhost:8080/"
        },
        "id": "RmkCwtUnf5ze",
        "outputId": "f90c38a9-0eb0-45bd-9b19-ae38bd93539d"
      },
      "execution_count": 11,
      "outputs": [
        {
          "output_type": "stream",
          "name": "stdout",
          "text": [
            "/content/PrincetonAlgorithms\n",
            "AlgsSedgewickWayne  doc  LICENSE  makefile  notebooks  py  README.md  tests  thirdparty\n"
          ]
        }
      ]
    },
    {
      "cell_type": "code",
      "source": [
        "from AlgsSedgewickWayne.QuickUnionUF import QuickUnionUF\n",
        "from AlgsSedgewickWayne.testcode.utils import chk_arrays\n",
        "from AlgsSedgewickWayne.testcode.utils import run_unions"
      ],
      "metadata": {
        "id": "hyFn11Y0e3EW"
      },
      "execution_count": 12,
      "outputs": []
    },
    {
      "cell_type": "code",
      "source": [
        "%set_env PYTHONPATH=${PYTHONPATH}:/content/PrincetonAlgorithms"
      ],
      "metadata": {
        "colab": {
          "base_uri": "https://localhost:8080/"
        },
        "id": "C6gOop3MxKFY",
        "outputId": "60d3c1e2-a9de-44ac-82e8-a25432076525"
      },
      "execution_count": 13,
      "outputs": [
        {
          "output_type": "stream",
          "name": "stdout",
          "text": [
            "env: PYTHONPATH=${PYTHONPATH}:/content/PrincetonAlgorithms\n"
          ]
        }
      ]
    },
    {
      "cell_type": "code",
      "source": [
        "!echo $PYTHONPATH"
      ],
      "metadata": {
        "colab": {
          "base_uri": "https://localhost:8080/"
        },
        "id": "a69Squ-EwgvR",
        "outputId": "19eda9f6-427d-479f-9a35-e1c697d6066d"
      },
      "execution_count": 14,
      "outputs": [
        {
          "output_type": "stream",
          "name": "stdout",
          "text": [
            "${PYTHONPATH}:/content/PrincetonAlgorithms\n"
          ]
        }
      ]
    },
    {
      "cell_type": "code",
      "source": [
        "!python tests/test_QuickUnionUF.py"
      ],
      "metadata": {
        "colab": {
          "base_uri": "https://localhost:8080/"
        },
        "id": "L217L3xpk8m0",
        "outputId": "de71a5f2-d808-43d2-89cd-c2f264bb46a8"
      },
      "execution_count": 15,
      "outputs": [
        {
          "output_type": "stream",
          "name": "stdout",
          "text": [
            "\n",
            "wk1_lec quick-union\n",
            "IDX:  0  1  2  3  4  5  6  7  8  9\n",
            "val:  0  1  2  3  4  5  6  7  8  9 Initial values\n",
            "  WROTE: QU_demo_step0.png\n",
            "IDX:  0  1  2  3  4  5  6  7  8  9\n",
            "val:  0  1  2  3  3  5  6  7  8  9 union(4-3) [0] [1] [2] [3, 4] [5] [6] [7] [8] [9]\n",
            "  WROTE: QU_demo_step1.png\n",
            "IDX:  0  1  2  3  4  5  6  7  8  9\n",
            "val:  0  1  2  8  3  5  6  7  8  9 union(3-8) [0] [1] [2] [8, 3, 4] [5] [6] [7] [9]\n",
            "  WROTE: QU_demo_step2.png\n",
            "IDX:  0  1  2  3  4  5  6  7  8  9\n",
            "val:  0  1  2  8  3  5  5  7  8  9 union(6-5) [0] [1] [2] [8, 3, 4] [5, 6] [7] [9]\n",
            "  WROTE: QU_demo_step3.png\n",
            "IDX:  0  1  2  3  4  5  6  7  8  9\n",
            "val:  0  1  2  8  3  5  5  7  8  8 union(9-4) [0] [1] [2] [8, 9, 3, 4] [5, 6] [7]\n",
            "  WROTE: QU_demo_step4.png\n",
            "IDX:  0  1  2  3  4  5  6  7  8  9\n",
            "val:  0  1  1  8  3  5  5  7  8  8 union(2-1) [0] [1, 2] [8, 9, 3, 4] [5, 6] [7]\n",
            "  WROTE: QU_demo_step5.png\n",
            "IDX:  0  1  2  3  4  5  6  7  8  9\n",
            "val:  0  1  1  8  3  5  5  7  8  8 union(8-9) [0] [1, 2] [8, 9, 3, 4] [5, 6] [7]\n",
            "  WROTE: QU_demo_step6.png\n",
            "IDX:  0  1  2  3  4  5  6  7  8  9\n",
            "val:  0  1  1  8  3  0  5  7  8  8 union(5-0) [0, 5, 6] [1, 2] [8, 9, 3, 4] [7]\n",
            "  WROTE: QU_demo_step7.png\n",
            "IDX:  0  1  2  3  4  5  6  7  8  9\n",
            "val:  0  1  1  8  3  0  5  1  8  8 union(7-2) [0, 5, 6] [1, 2, 7] [8, 9, 3, 4]\n",
            "  WROTE: QU_demo_step8.png\n",
            "IDX:  0  1  2  3  4  5  6  7  8  9\n",
            "val:  1  1  1  8  3  0  5  1  8  8 union(6-1) [0, 1, 2, 5, 6, 7] [8, 9, 3, 4]\n",
            "  WROTE: QU_demo_step9.png\n",
            "IDX:  0  1  2  3  4  5  6  7  8  9\n",
            "val:  1  8  1  8  3  0  5  1  8  8 union(7-3) [0, 1, 2, 3, 4, 5, 6, 7, 8, 9]\n",
            "\n",
            "test_week1_exercise_Q2\n",
            "IDX:  0  1  2  3  4  5  6  7  8  9\n",
            "val:  0  1  2  3  4  5  6  7  8  9 Initial values\n",
            "IDX:  0  1  2  3  4  5  6  7  8  9\n",
            "val:  0  2  2  3  4  5  6  7  8  9 union(1-2) [0] [1, 2] [3] [4] [5] [6] [7] [8] [9]\n",
            "IDX:  0  1  2  3  4  5  6  7  8  9\n",
            "val:  0  2  2  3  4  5  6  9  8  9 union(7-9) [0] [1, 2] [3] [4] [5] [6] [9, 7] [8]\n",
            "IDX:  0  1  2  3  4  5  6  7  8  9\n",
            "val:  4  2  2  3  4  5  6  9  8  9 union(0-4) [0, 4] [1, 2] [3] [5] [6] [9, 7] [8]\n",
            "IDX:  0  1  2  3  4  5  6  7  8  9\n",
            "val:  4  2  2  3  4  5  6  9  4  9 union(8-0) [0, 8, 4] [1, 2] [3] [5] [6] [9, 7]\n",
            "IDX:  0  1  2  3  4  5  6  7  8  9\n",
            "val:  4  2  2  3  6  5  6  9  4  9 union(4-6) [0, 8, 4, 6] [1, 2] [3] [5] [9, 7]\n",
            "IDX:  0  1  2  3  4  5  6  7  8  9\n",
            "val:  4  2  9  3  6  5  6  9  4  9 union(1-9) [0, 8, 4, 6] [1, 2, 9, 7] [3] [5]\n",
            "IDX:  0  1  2  3  4  5  6  7  8  9\n",
            "val:  4  2  9  6  6  5  6  9  4  9 union(3-4) [0, 3, 4, 6, 8] [1, 2, 9, 7] [5]\n",
            "IDX:  0  1  2  3  4  5  6  7  8  9\n",
            "val:  4  2  9  6  6  5  6  9  4  6 union(7-0) [0, 1, 2, 3, 4, 6, 7, 8, 9] [5]\n",
            "IDX:  0  1  2  3  4  5  6  7  8  9\n",
            "val:  4  2  9  6  6  5  5  9  4  6 union(0-5) [0, 1, 2, 3, 4, 5, 6, 7, 8, 9]\n"
          ]
        }
      ]
    },
    {
      "cell_type": "markdown",
      "source": [
        "## Week1:"
      ],
      "metadata": {
        "id": "7mhIBet_JcJY"
      }
    },
    {
      "cell_type": "markdown",
      "source": [
        "### Dynamic Connectivity"
      ],
      "metadata": {
        "id": "kRLEMiBkQZFP"
      }
    },
    {
      "cell_type": "code",
      "source": [
        "# Quick find (Eager approach)\n",
        "# Here the components that are connected, have the same id value\n",
        "\n",
        "class Quick_Find():\n",
        "  # O(N)\n",
        "  '''\n",
        "  id table represents the connected nodes\n",
        "  '''\n",
        "  def __init__(self, array):\n",
        "    self.array = array\n",
        "    self.id = {array[i]:i for i in range(len(array))}\n",
        "\n",
        "  # O(1)\n",
        "  def connected(self, p,q):\n",
        "    '''\n",
        "    Check if p,q are connected\n",
        "    '''\n",
        "    if self.id[p] == self.id[q]:\n",
        "      return True\n",
        "    else:\n",
        "      return False\n",
        "\n",
        "  # O(N)\n",
        "  def union(self, p,q):\n",
        "    '''\n",
        "    Connect p,q if not connected. Assign the id of q to id of p\n",
        "    '''\n",
        "    pid = self.id[p]\n",
        "    qid = self.id[q]\n",
        "    self.id[p] = qid\n",
        "    for i in self.array:\n",
        "      if self.id[i] == pid: self.id[i] = qid\n",
        "    return self.id\n",
        "\n",
        "array = [0,1,2,3,4,5,6,7,8,9]\n",
        "quickfind = Quick_Find(array)\n",
        "print(quickfind.union(4,3))\n",
        "print(quickfind.union(3,8))\n",
        "print(quickfind.union(6,5))\n",
        "print(quickfind.union(9,4))\n",
        "print(quickfind.union(2,1))\n",
        "print(quickfind.connected(0,7))\n",
        "print(quickfind.connected(8,9))\n",
        "print(quickfind.union(5,0))\n",
        "print(quickfind.union(7,2))\n",
        "print(quickfind.union(6,1))\n",
        "print(quickfind.connected(0,7))"
      ],
      "metadata": {
        "colab": {
          "base_uri": "https://localhost:8080/"
        },
        "id": "VRvJvTp7JUt6",
        "outputId": "f97b486a-51ac-4eb1-ccc8-47af0af27969"
      },
      "execution_count": 10,
      "outputs": [
        {
          "output_type": "stream",
          "name": "stdout",
          "text": [
            "{0: 0, 1: 1, 2: 2, 3: 3, 4: 3, 5: 5, 6: 6, 7: 7, 8: 8, 9: 9}\n",
            "{0: 0, 1: 1, 2: 2, 3: 8, 4: 8, 5: 5, 6: 6, 7: 7, 8: 8, 9: 9}\n",
            "{0: 0, 1: 1, 2: 2, 3: 8, 4: 8, 5: 5, 6: 5, 7: 7, 8: 8, 9: 9}\n",
            "{0: 0, 1: 1, 2: 2, 3: 8, 4: 8, 5: 5, 6: 5, 7: 7, 8: 8, 9: 8}\n",
            "{0: 0, 1: 1, 2: 1, 3: 8, 4: 8, 5: 5, 6: 5, 7: 7, 8: 8, 9: 8}\n",
            "{0: 0, 1: 1, 2: 1, 3: 8, 4: 8, 5: 5, 6: 5, 7: 7, 8: 8, 9: 8}\n",
            "False\n",
            "True\n",
            "{0: 0, 1: 1, 2: 1, 3: 8, 4: 8, 5: 0, 6: 0, 7: 7, 8: 8, 9: 8}\n",
            "{0: 0, 1: 1, 2: 1, 3: 8, 4: 8, 5: 0, 6: 0, 7: 1, 8: 8, 9: 8}\n",
            "{0: 1, 1: 1, 2: 1, 3: 8, 4: 8, 5: 1, 6: 1, 7: 1, 8: 8, 9: 8}\n",
            "True\n"
          ]
        }
      ]
    },
    {
      "cell_type": "code",
      "source": [
        "# Quick union (Lazy approach)\n",
        "# Here the components that are connected, have the same root node\n",
        "\n",
        "class Quick_Union():\n",
        "  # O(N)\n",
        "  def __init__(self, array):\n",
        "    '''\n",
        "    id table here reprsents the parent of each node\n",
        "    '''\n",
        "    self.array = array\n",
        "    self.id = {array[i]:i for i in range(len(array))}\n",
        "\n",
        "  # O(N)\n",
        "  def connected(self, p,q):\n",
        "    '''\n",
        "    Check if p,q are connected\n",
        "    '''\n",
        "    if self.root(p) == self.root(q):\n",
        "      return True\n",
        "    else:\n",
        "      return False\n",
        "\n",
        "  def root(self, node):\n",
        "    current_node = node  # initialize parent node\n",
        "    if self.id[current_node] == node: return current_node\n",
        "    while self.id[current_node] != current_node:\n",
        "      current_node = self.id[current_node]\n",
        "    return current_node\n",
        "\n",
        "  # O(N)\n",
        "  def union(self, p,q):\n",
        "    '''\n",
        "    Connect p,q if not connected. Assign the root node of q to root node of p\n",
        "    We will create a tree like structure here. But trees can be very tall, forming a linear structure\n",
        "    Hence the runtime in O(N) inspite of a tree like structure and not log(N)\n",
        "    '''\n",
        "    proot = self.root(p)\n",
        "    qroot = self.root(q)\n",
        "    self.id[proot] = qroot\n",
        "    return self.id\n",
        "\n",
        "array = [0,1,2,3,4,5,6,7,8,9]\n",
        "quickunion = Quick_Union(array)\n",
        "print(quickunion.union(4,3))\n",
        "print(quickunion.union(3,8))\n",
        "print(quickunion.union(6,5))\n",
        "print(quickunion.union(9,4))\n",
        "print(quickunion.union(2,1))\n",
        "print(quickunion.connected(0,7))\n",
        "print(quickunion.connected(8,9))\n",
        "print(quickunion.union(5,0))\n",
        "print(quickunion.union(7,2))\n",
        "print(quickunion.union(6,1))\n",
        "print(quickunion.union(1,4))\n",
        "print(quickunion.connected(0,7))"
      ],
      "metadata": {
        "colab": {
          "base_uri": "https://localhost:8080/"
        },
        "id": "WH89BQlkOxsW",
        "outputId": "e2a7d4ca-9bb2-4023-d8d2-47174477f265"
      },
      "execution_count": 8,
      "outputs": [
        {
          "output_type": "stream",
          "name": "stdout",
          "text": [
            "{0: 0, 1: 1, 2: 2, 3: 3, 4: 3, 5: 5, 6: 6, 7: 7, 8: 8, 9: 9}\n",
            "{0: 0, 1: 1, 2: 2, 3: 8, 4: 3, 5: 5, 6: 6, 7: 7, 8: 8, 9: 9}\n",
            "{0: 0, 1: 1, 2: 2, 3: 8, 4: 3, 5: 5, 6: 5, 7: 7, 8: 8, 9: 9}\n",
            "{0: 0, 1: 1, 2: 2, 3: 8, 4: 3, 5: 5, 6: 5, 7: 7, 8: 8, 9: 8}\n",
            "{0: 0, 1: 1, 2: 1, 3: 8, 4: 3, 5: 5, 6: 5, 7: 7, 8: 8, 9: 8}\n",
            "{0: 0, 1: 1, 2: 1, 3: 8, 4: 3, 5: 5, 6: 5, 7: 7, 8: 8, 9: 8}\n",
            "False\n",
            "True\n",
            "{0: 0, 1: 1, 2: 1, 3: 8, 4: 3, 5: 0, 6: 5, 7: 7, 8: 8, 9: 8}\n",
            "{0: 0, 1: 1, 2: 1, 3: 8, 4: 3, 5: 0, 6: 5, 7: 1, 8: 8, 9: 8}\n",
            "{0: 1, 1: 1, 2: 1, 3: 8, 4: 3, 5: 0, 6: 5, 7: 1, 8: 8, 9: 8}\n",
            "{0: 1, 1: 8, 2: 1, 3: 8, 4: 3, 5: 0, 6: 5, 7: 1, 8: 8, 9: 8}\n",
            "True\n"
          ]
        }
      ]
    },
    {
      "cell_type": "code",
      "source": [
        "## Weighted Quick Union\n",
        "\n",
        "class Wt_Quick_Union():\n",
        "  # O(N)\n",
        "  def __init__(self, array):\n",
        "    self.array = array\n",
        "    self.id = {array[i]:i for i in range(len(array))}\n",
        "    self.sz = {i:1 for i in self.array}\n",
        "\n",
        "  # O(log N)\n",
        "  def connected(self, p,q):\n",
        "    '''\n",
        "    Check if p,q are connected\n",
        "    '''\n",
        "    if self.root(p) == self.root(q):\n",
        "      return True\n",
        "    else:\n",
        "      return False\n",
        "\n",
        "  def root(self, node):\n",
        "    current_node = node  # initialize parent node\n",
        "    while current_node != self.id[current_node]:\n",
        "      current_node = self.id[current_node]\n",
        "    return current_node\n",
        "\n",
        "  # O(log N)\n",
        "  def wt_union(self, p,q):\n",
        "    '''\n",
        "    Connect p,q if not connected. Assign the root node of q to root node of p (p->q) if size of p <= q\n",
        "    We will create a tree like structure here where the depth of each element is atmost log(N)\n",
        "    This helps create more balanced trees\n",
        "    We need to create a new dictionary sz which keeps the size of root nodes\n",
        "    '''\n",
        "    proot = self.root(p)\n",
        "    qroot = self.root(q)\n",
        "    if proot == qroot: return self.id, self.sz\n",
        "    if self.sz[proot] <= self.sz[qroot]:\n",
        "      self.id[proot] = qroot\n",
        "      self.sz[qroot] += self.sz[proot]\n",
        "    else:\n",
        "      self.id[qroot] = proot\n",
        "      self.sz[proot] += self.sz[qroot]\n",
        "    return self.id, self.sz\n",
        "\n",
        "array = [0,1,2,3,4,5,6,7,8,9]\n",
        "wtquickunion = Wt_Quick_Union(array)\n",
        "print(wtquickunion.wt_union(4,3)) # 4 -> 3\n",
        "print(wtquickunion.wt_union(3,8)) # 8 -> 3\n",
        "print(wtquickunion.wt_union(6,5)) # 6 -> 5\n",
        "print(wtquickunion.wt_union(9,4)) # 9 -> 4\n",
        "print(wtquickunion.wt_union(2,1)) # 2 -> 1\n",
        "print(wtquickunion.connected(0,7))\n",
        "print(wtquickunion.connected(8,9))\n",
        "print(wtquickunion.wt_union(5,0)) # 0 -> 5\n",
        "print(wtquickunion.wt_union(7,2)) # 7 -> 2\n",
        "print(wtquickunion.wt_union(6,1)) # 6 -> 1\n",
        "print(wtquickunion.wt_union(1,4)) # 4 -> 1\n",
        "print(wtquickunion.connected(0,7))"
      ],
      "metadata": {
        "colab": {
          "base_uri": "https://localhost:8080/"
        },
        "id": "2EVMe7Kg-TFy",
        "outputId": "0f6c9a35-ce5f-419c-a4f2-896d052e54cd"
      },
      "execution_count": 11,
      "outputs": [
        {
          "output_type": "stream",
          "name": "stdout",
          "text": [
            "({0: 0, 1: 1, 2: 2, 3: 3, 4: 3, 5: 5, 6: 6, 7: 7, 8: 8, 9: 9}, {0: 1, 1: 1, 2: 1, 3: 2, 4: 1, 5: 1, 6: 1, 7: 1, 8: 1, 9: 1})\n",
            "({0: 0, 1: 1, 2: 2, 3: 3, 4: 3, 5: 5, 6: 6, 7: 7, 8: 3, 9: 9}, {0: 1, 1: 1, 2: 1, 3: 3, 4: 1, 5: 1, 6: 1, 7: 1, 8: 1, 9: 1})\n",
            "({0: 0, 1: 1, 2: 2, 3: 3, 4: 3, 5: 5, 6: 5, 7: 7, 8: 3, 9: 9}, {0: 1, 1: 1, 2: 1, 3: 3, 4: 1, 5: 2, 6: 1, 7: 1, 8: 1, 9: 1})\n",
            "({0: 0, 1: 1, 2: 2, 3: 3, 4: 3, 5: 5, 6: 5, 7: 7, 8: 3, 9: 3}, {0: 1, 1: 1, 2: 1, 3: 4, 4: 1, 5: 2, 6: 1, 7: 1, 8: 1, 9: 1})\n",
            "({0: 0, 1: 1, 2: 1, 3: 3, 4: 3, 5: 5, 6: 5, 7: 7, 8: 3, 9: 3}, {0: 1, 1: 2, 2: 1, 3: 4, 4: 1, 5: 2, 6: 1, 7: 1, 8: 1, 9: 1})\n",
            "False\n",
            "True\n",
            "({0: 5, 1: 1, 2: 1, 3: 3, 4: 3, 5: 5, 6: 5, 7: 7, 8: 3, 9: 3}, {0: 1, 1: 2, 2: 1, 3: 4, 4: 1, 5: 3, 6: 1, 7: 1, 8: 1, 9: 1})\n",
            "({0: 5, 1: 1, 2: 1, 3: 3, 4: 3, 5: 5, 6: 5, 7: 1, 8: 3, 9: 3}, {0: 1, 1: 3, 2: 1, 3: 4, 4: 1, 5: 3, 6: 1, 7: 1, 8: 1, 9: 1})\n",
            "({0: 5, 1: 1, 2: 1, 3: 3, 4: 3, 5: 1, 6: 5, 7: 1, 8: 3, 9: 3}, {0: 1, 1: 6, 2: 1, 3: 4, 4: 1, 5: 3, 6: 1, 7: 1, 8: 1, 9: 1})\n",
            "({0: 5, 1: 1, 2: 1, 3: 1, 4: 3, 5: 1, 6: 5, 7: 1, 8: 3, 9: 3}, {0: 1, 1: 10, 2: 1, 3: 4, 4: 1, 5: 3, 6: 1, 7: 1, 8: 1, 9: 1})\n",
            "True\n"
          ]
        }
      ]
    },
    {
      "cell_type": "code",
      "source": [
        "## Quick Union with path compression\n",
        "# Here the components that are connected, have the same root node\n",
        "\n",
        "class PC_Quick_Union():\n",
        "  # O(N)\n",
        "  def __init__(self, array):\n",
        "    self.array = array\n",
        "    self.id = {array[i]:i for i in range(len(array))}\n",
        "\n",
        "  # O(N)\n",
        "  def connected(self, p,q):\n",
        "    '''\n",
        "    Check if p,q are connected\n",
        "    '''\n",
        "    if self.root(p) == self.root(q):\n",
        "      return True\n",
        "    else:\n",
        "      return False\n",
        "\n",
        "  def root(self, node):\n",
        "    current_node = node  # initialize parent node\n",
        "    while current_node != self.id[current_node]:\n",
        "      self.id[current_node] = self.id[self.id[current_node]]\n",
        "      current_node = self.id[current_node]\n",
        "\n",
        "    return current_node\n",
        "\n",
        "  # O(N)\n",
        "  def pc_union(self, p,q):\n",
        "    '''\n",
        "    Connect p,q if not connected. Assign the root node of q to root node of p\n",
        "    Whenever we identify root for a node, we move that node and its children directly under the root\n",
        "    This helps avoid linear tall tree structures\n",
        "    '''\n",
        "    proot = self.root(p)\n",
        "    qroot = self.root(q)\n",
        "    if proot == qroot: return self.id\n",
        "    self.id[proot] = qroot\n",
        "    return self.id\n",
        "\n",
        "array = [0,1,2,3,4,5,6,7,8,9]\n",
        "pcquickunion = PC_Quick_Union(array)\n",
        "print(pcquickunion.pc_union(4,3))\n",
        "print(pcquickunion.pc_union(3,8))\n",
        "print(pcquickunion.pc_union(6,5))\n",
        "print(pcquickunion.pc_union(9,4))\n",
        "print(pcquickunion.pc_union(2,1))\n",
        "print(pcquickunion.connected(0,7))\n",
        "print(pcquickunion.connected(8,9))\n",
        "print(pcquickunion.pc_union(5,0))\n",
        "print(pcquickunion.pc_union(7,2))\n",
        "print(pcquickunion.pc_union(6,1))\n",
        "print(pcquickunion.pc_union(1,4))\n",
        "print(pcquickunion.connected(0,7))"
      ],
      "metadata": {
        "colab": {
          "base_uri": "https://localhost:8080/"
        },
        "id": "Bp2Ze4tJILYQ",
        "outputId": "ef41f0e9-ba2d-4d34-eaa4-d576624c0224"
      },
      "execution_count": 12,
      "outputs": [
        {
          "output_type": "stream",
          "name": "stdout",
          "text": [
            "{0: 0, 1: 1, 2: 2, 3: 3, 4: 3, 5: 5, 6: 6, 7: 7, 8: 8, 9: 9}\n",
            "{0: 0, 1: 1, 2: 2, 3: 8, 4: 3, 5: 5, 6: 6, 7: 7, 8: 8, 9: 9}\n",
            "{0: 0, 1: 1, 2: 2, 3: 8, 4: 3, 5: 5, 6: 5, 7: 7, 8: 8, 9: 9}\n",
            "{0: 0, 1: 1, 2: 2, 3: 8, 4: 8, 5: 5, 6: 5, 7: 7, 8: 8, 9: 8}\n",
            "{0: 0, 1: 1, 2: 1, 3: 8, 4: 8, 5: 5, 6: 5, 7: 7, 8: 8, 9: 8}\n",
            "False\n",
            "True\n",
            "{0: 0, 1: 1, 2: 1, 3: 8, 4: 8, 5: 0, 6: 5, 7: 7, 8: 8, 9: 8}\n",
            "{0: 0, 1: 1, 2: 1, 3: 8, 4: 8, 5: 0, 6: 5, 7: 1, 8: 8, 9: 8}\n",
            "{0: 1, 1: 1, 2: 1, 3: 8, 4: 8, 5: 0, 6: 0, 7: 1, 8: 8, 9: 8}\n",
            "{0: 1, 1: 8, 2: 1, 3: 8, 4: 8, 5: 0, 6: 0, 7: 1, 8: 8, 9: 8}\n",
            "True\n"
          ]
        }
      ]
    },
    {
      "cell_type": "code",
      "source": [],
      "metadata": {
        "id": "ocMte_a22LoD"
      },
      "execution_count": null,
      "outputs": []
    }
  ]
}