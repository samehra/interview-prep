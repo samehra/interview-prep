{
  "nbformat": 4,
  "nbformat_minor": 0,
  "metadata": {
    "colab": {
      "provenance": [],
      "collapsed_sections": [
        "XHt-y-5BMlZz",
        "Rq_3v30MQgQs",
        "03-kgGTpSIP9",
        "-hKhXMjqKfaa",
        "mreaJYo2LPLM",
        "q6ihJbLYSPW9",
        "mvqUGSBjVpDs",
        "LfT4Ft28haJ5",
        "nXhWSs7jg76H",
        "FDQcQh2QgZMc",
        "lLjLIwqaRoOs",
        "qTyNVINnXPSI",
        "7C67e-CxuShY",
        "rNK8CQrCIjpo",
        "JbBT68h_Iy7r",
        "0ETN-gvLEu84",
        "f0EF0jxzO1tn",
        "iL2HmHouJp4G",
        "nbupi8xKgXpU",
        "K2Oe8ldkg293",
        "i38WVGlGVWC3",
        "8ZG7edkzCkZ9",
        "F8yHN---cI8o",
        "CIdM1TDhcO1J",
        "K2SPcPcD4tZF",
        "TwV-58jXG_rk",
        "UziFtLFvbTef",
        "c-tvVokkz0q4",
        "7rifiDJNEQI2",
        "J4yCBX2DdaoV",
        "ZjfgUU2X1Tl8"
      ],
      "authorship_tag": "ABX9TyMiAbH77INrcb8etOA8L1t4",
      "include_colab_link": true
    },
    "kernelspec": {
      "name": "python3",
      "display_name": "Python 3"
    },
    "language_info": {
      "name": "python"
    }
  },
  "cells": [
    {
      "cell_type": "markdown",
      "metadata": {
        "id": "view-in-github",
        "colab_type": "text"
      },
      "source": [
        "<a href=\"https://colab.research.google.com/github/samehra/interview-prep/blob/main/ds_algorithms_princeton.ipynb\" target=\"_parent\"><img src=\"https://colab.research.google.com/assets/colab-badge.svg\" alt=\"Open In Colab\"/></a>"
      ]
    },
    {
      "cell_type": "markdown",
      "source": [
        "# DSA_Princeton_Algorithms1"
      ],
      "metadata": {
        "id": "PqBDnrbIJWCm"
      }
    },
    {
      "cell_type": "markdown",
      "source": [
        "## Week1:"
      ],
      "metadata": {
        "id": "7mhIBet_JcJY"
      }
    },
    {
      "cell_type": "markdown",
      "source": [
        "### Dynamic Connectivity"
      ],
      "metadata": {
        "id": "kRLEMiBkQZFP"
      }
    },
    {
      "cell_type": "code",
      "source": [
        "# Quick find (Eager approach)\n",
        "# Here the components that are connected, have the same id value\n",
        "\n",
        "class Quick_Find():\n",
        "\n",
        "  def __init__(self, array):\n",
        "    self.array = array\n",
        "    self.id = {array[i]:i for i in range(len(array))}\n",
        "\n",
        "  # O(1)\n",
        "  def connected(self, p,q):\n",
        "    '''\n",
        "    Check if p,q are connected\n",
        "    '''\n",
        "    if self.id[p] == self.id[q]:\n",
        "      return True\n",
        "    else:\n",
        "      return False\n",
        "\n",
        "  # O(N)\n",
        "  def union(self, p,q):\n",
        "    '''\n",
        "    Connect p,q if not connected. Assign the id of q to id of p\n",
        "    '''\n",
        "    pid = self.id[p]\n",
        "    qid = self.id[q]\n",
        "    self.id[p] = qid\n",
        "    for i in self.array:\n",
        "      if self.id[i] == pid: self.id[i] = qid\n",
        "    return self.id\n",
        "\n",
        "array = [0,1,2,3,4,5,6,7,8,9]\n",
        "quickfind = Quick_Find(array)\n",
        "print(quickfind.union(4,3))\n",
        "print(quickfind.union(3,8))\n",
        "print(quickfind.union(6,5))\n",
        "print(quickfind.union(9,4))\n",
        "print(quickfind.union(2,1))\n",
        "print(quickfind.union(4,3))\n",
        "print(quickfind.connected(0,7))\n",
        "print(quickfind.connected(8,9))\n",
        "print(quickfind.union(5,0))\n",
        "print(quickfind.union(7,2))\n",
        "print(quickfind.union(6,1))\n",
        "print(quickfind.connected(0,7))"
      ],
      "metadata": {
        "colab": {
          "base_uri": "https://localhost:8080/"
        },
        "id": "VRvJvTp7JUt6",
        "outputId": "f97b486a-51ac-4eb1-ccc8-47af0af27969"
      },
      "execution_count": 10,
      "outputs": [
        {
          "output_type": "stream",
          "name": "stdout",
          "text": [
            "{0: 0, 1: 1, 2: 2, 3: 3, 4: 3, 5: 5, 6: 6, 7: 7, 8: 8, 9: 9}\n",
            "{0: 0, 1: 1, 2: 2, 3: 8, 4: 8, 5: 5, 6: 6, 7: 7, 8: 8, 9: 9}\n",
            "{0: 0, 1: 1, 2: 2, 3: 8, 4: 8, 5: 5, 6: 5, 7: 7, 8: 8, 9: 9}\n",
            "{0: 0, 1: 1, 2: 2, 3: 8, 4: 8, 5: 5, 6: 5, 7: 7, 8: 8, 9: 8}\n",
            "{0: 0, 1: 1, 2: 1, 3: 8, 4: 8, 5: 5, 6: 5, 7: 7, 8: 8, 9: 8}\n",
            "{0: 0, 1: 1, 2: 1, 3: 8, 4: 8, 5: 5, 6: 5, 7: 7, 8: 8, 9: 8}\n",
            "False\n",
            "True\n",
            "{0: 0, 1: 1, 2: 1, 3: 8, 4: 8, 5: 0, 6: 0, 7: 7, 8: 8, 9: 8}\n",
            "{0: 0, 1: 1, 2: 1, 3: 8, 4: 8, 5: 0, 6: 0, 7: 1, 8: 8, 9: 8}\n",
            "{0: 1, 1: 1, 2: 1, 3: 8, 4: 8, 5: 1, 6: 1, 7: 1, 8: 8, 9: 8}\n",
            "True\n"
          ]
        }
      ]
    },
    {
      "cell_type": "code",
      "source": [
        "# Quick union (Lazy approach)\n",
        "# Here the components that are connected, have the same root node\n",
        "\n",
        "class Quick_Union():\n",
        "\n",
        "  def __init__(self, array):\n",
        "    self.array = array\n",
        "    self.id = {array[i]:i for i in range(len(array))}\n",
        "\n",
        "  # O(N)\n",
        "  def connected(self, p,q):\n",
        "    '''\n",
        "    Check if p,q are connected\n",
        "    '''\n",
        "    if self.root(p) == self.root(q):\n",
        "      return True\n",
        "    else:\n",
        "      return False\n",
        "\n",
        "  def root(self, node):\n",
        "    current_node = node  # initialize parent node\n",
        "    if self.id[current_node] == node: return current_node\n",
        "    while self.id[current_node] != current_node:\n",
        "      current_node = self.id[current_node]\n",
        "    return current_node\n",
        "\n",
        "  # O(N)\n",
        "  def union(self, p,q):\n",
        "    '''\n",
        "    Connect p,q if not connected. Assign the root node of q to root node of p\n",
        "    We will create a tree like structure here\n",
        "    '''\n",
        "    proot = self.root(p)\n",
        "    qroot = self.root(q)\n",
        "    self.id[proot] = qroot\n",
        "    return self.id\n",
        "\n",
        "array = [0,1,2,3,4,5,6,7,8,9]\n",
        "quickunion = Quick_Union(array)\n",
        "print(quickunion.union(4,3))\n",
        "print(quickunion.union(3,8))\n",
        "print(quickunion.union(6,5))\n",
        "print(quickunion.union(9,4))\n",
        "print(quickunion.union(2,1))\n",
        "print(quickunion.union(4,3))\n",
        "print(quickunion.connected(0,7))\n",
        "print(quickunion.connected(8,9))\n",
        "print(quickunion.union(5,0))\n",
        "print(quickunion.union(7,2))\n",
        "print(quickunion.union(6,1))\n",
        "print(quickunion.union(1,4))\n",
        "print(quickunion.connected(0,7))"
      ],
      "metadata": {
        "colab": {
          "base_uri": "https://localhost:8080/"
        },
        "id": "WH89BQlkOxsW",
        "outputId": "e2a7d4ca-9bb2-4023-d8d2-47174477f265"
      },
      "execution_count": 8,
      "outputs": [
        {
          "output_type": "stream",
          "name": "stdout",
          "text": [
            "{0: 0, 1: 1, 2: 2, 3: 3, 4: 3, 5: 5, 6: 6, 7: 7, 8: 8, 9: 9}\n",
            "{0: 0, 1: 1, 2: 2, 3: 8, 4: 3, 5: 5, 6: 6, 7: 7, 8: 8, 9: 9}\n",
            "{0: 0, 1: 1, 2: 2, 3: 8, 4: 3, 5: 5, 6: 5, 7: 7, 8: 8, 9: 9}\n",
            "{0: 0, 1: 1, 2: 2, 3: 8, 4: 3, 5: 5, 6: 5, 7: 7, 8: 8, 9: 8}\n",
            "{0: 0, 1: 1, 2: 1, 3: 8, 4: 3, 5: 5, 6: 5, 7: 7, 8: 8, 9: 8}\n",
            "{0: 0, 1: 1, 2: 1, 3: 8, 4: 3, 5: 5, 6: 5, 7: 7, 8: 8, 9: 8}\n",
            "False\n",
            "True\n",
            "{0: 0, 1: 1, 2: 1, 3: 8, 4: 3, 5: 0, 6: 5, 7: 7, 8: 8, 9: 8}\n",
            "{0: 0, 1: 1, 2: 1, 3: 8, 4: 3, 5: 0, 6: 5, 7: 1, 8: 8, 9: 8}\n",
            "{0: 1, 1: 1, 2: 1, 3: 8, 4: 3, 5: 0, 6: 5, 7: 1, 8: 8, 9: 8}\n",
            "{0: 1, 1: 8, 2: 1, 3: 8, 4: 3, 5: 0, 6: 5, 7: 1, 8: 8, 9: 8}\n",
            "True\n"
          ]
        }
      ]
    },
    {
      "cell_type": "code",
      "source": [],
      "metadata": {
        "id": "2EVMe7Kg-TFy"
      },
      "execution_count": null,
      "outputs": []
    }
  ]
}